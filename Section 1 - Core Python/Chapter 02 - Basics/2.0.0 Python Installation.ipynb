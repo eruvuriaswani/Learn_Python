{
 "cells": [
  {
   "cell_type": "markdown",
   "metadata": {
    "deletable": true,
    "editable": true
   },
   "source": [
    "# Setting Python on your machine\n",
    "\n",
    "----\n",
    "\n",
    "## Selecting Python Distributions\n",
    "\n",
    "If one wishes to have most of the packages pre-installed then can select any distribution from the below list.\n",
    "\n",
    "1. [Python.org](https://www.python.org/downloads/)\n",
    "2. [Anaconda](https://www.continuum.io/downloads)\n",
    "3. [Activestate](http://www.activestate.com/activepython/downloads)\n",
    "4. [python(x,y)](http://python-xy.github.io/)\n",
    "5. [WinPython](https://winpython.github.io/)\n",
    "6. [SciPy](https://www.scipy.org/)\n",
    "7. [Enthought Canopy](https://store.enthought.com/downloads/)"
   ]
  },
  {
   "cell_type": "markdown",
   "metadata": {
    "deletable": true,
    "editable": true
   },
   "source": [
    "## Python Environment Variables\n",
    "----- \n",
    "\n",
    "If python is installed from source then the following env variables will not be populated and can be updated manually. \n",
    "\n",
    "**S.No**|**Variable**|**Description**\n",
    ":-----:|-----|-----\n",
    "1|PYTHONPATH|It has a role similar to PATH. This variable tells the Python interpreter where to locate the module files imported into a program. It should include the Python source library directory and the directories containing Python source code. PYTHONPATH is sometimes preset by the Python installer.\n",
    "2|PYTHONSTARTUP|It contains the path of an initialization file containing Python source code. It is executed every time you start the interpreter. It is named as .pythonrc.py in Unix and it contains commands that load utilities or modify PYTHONPATH.\n",
    "3|PYTHONCASEOK|It is used in Windows to instruct Python to find the first case-insensitive match in an import statement. Set this variable to any value to activate it.\n",
    "4|PYTHONCASEOK|It is used in Windows to instruct Python to find the first case-insensitive match in an import statement. Set this variable to any value to activate it.\n",
    "5|PYTHONHOME|It is an alternative module search path. It is usually embedded in the PYTHONSTARTUP or PYTHONPATH directories to make switching module libraries easy."
   ]
  }
 ],
 "metadata": {
  "kernelspec": {
   "display_name": "Python 3",
   "language": "python",
   "name": "python3"
  },
  "language_info": {
   "codemirror_mode": {
    "name": "ipython",
    "version": 3
   },
   "file_extension": ".py",
   "mimetype": "text/x-python",
   "name": "python",
   "nbconvert_exporter": "python",
   "pygments_lexer": "ipython3",
   "version": "3.4.6"
  }
 },
 "nbformat": 4,
 "nbformat_minor": 2
}
