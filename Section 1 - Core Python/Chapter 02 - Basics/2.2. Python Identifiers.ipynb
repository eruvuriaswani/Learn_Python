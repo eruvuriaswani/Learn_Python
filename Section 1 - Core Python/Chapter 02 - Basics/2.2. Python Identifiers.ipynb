{
 "cells": [
  {
   "cell_type": "markdown",
   "metadata": {},
   "source": [
    "## Python Identifiers aka Variables\n",
    "----\n",
    "Variable is a name of the memory location where the data is stored and once it is stored, means a memory space is allocated for it in system. We can think of it as a labeled container that can store a **single value**. That single value can be of any data type.\n",
    "\n",
    "\n",
    "A variable is like a container in the computer’s memory where you can store a single value and can be used in program in-place of values to give more meaning to the program.\n",
    "\n",
    "for example `print(\"3.14159\")` does not provide much meaning to the code but the following code gives more meaning to the code\n",
    "\n",
    "### Storing Values in Variables:\n",
    "\n",
    "In python, declaration & assination of value to the variable is done at the same time. i.e. as soon as we assign a value to a non existing (in some cases existing also) variable, required memory location is assigned to it and appropriate data is populated in it.  "
   ]
  },
  {
   "cell_type": "code",
   "execution_count": 1,
   "metadata": {},
   "outputs": [
    {
     "name": "stdout",
     "output_type": "stream",
     "text": [
      "3.1417\n"
     ]
    }
   ],
   "source": [
    "pi = 3.1417\n",
    "print(pi)"
   ]
  },
  {
   "cell_type": "markdown",
   "metadata": {},
   "source": [
    "In the above example `pi` is the variable name and 3.1417 is the value associated with it."
   ]
  },
  {
   "cell_type": "markdown",
   "metadata": {},
   "source": [
    "#### Assignment Statements\n",
    "You’ll store values in variables with an assignment statement. An assignment statement consists of a variable name, an equal sign (called the assignment operator), and the value to be stored. If you enter the assignment statement spam = 42, then a variable named spam will have the integer value 42 stored in it.\n",
    "\n",
    "In Python, we do not need to declare variable explicitly. They are declared automatically when we assign any value.\n",
    "\n",
    "The assignment is done using the equal (`=`) operator.\n",
    "\n",
    "Eg:"
   ]
  },
  {
   "cell_type": "code",
   "execution_count": 2,
   "metadata": {
    "collapsed": true
   },
   "outputs": [],
   "source": [
    "x = 34 # A comment.\n",
    "y = \"!!! Say Cheese 2 times !!!\" # Another one.\n",
    "z = 3.45"
   ]
  },
  {
   "cell_type": "markdown",
   "metadata": {},
   "source": [
    "The pictorial representation of variables from above example\n",
    "<img src=\"files/variables_1.png\" width=\"500\">"
   ]
  },
  {
   "cell_type": "code",
   "execution_count": 2,
   "metadata": {},
   "outputs": [
    {
     "name": "stdout",
     "output_type": "stream",
     "text": [
      "34\n",
      "1448266448\n",
      "Mayank Johri\n",
      "2200310476464\n"
     ]
    }
   ],
   "source": [
    "x = 34\n",
    "print(x)\n",
    "print(id(x))\n",
    "x = \"Mayank Johri\"\n",
    "print(x)\n",
    "print(id(x))"
   ]
  },
  {
   "cell_type": "markdown",
   "metadata": {},
   "source": [
    "Pictorial Representation for above example\n",
    "<img src=\"files/variables_2.png\" width=\"500\">"
   ]
  },
  {
   "cell_type": "markdown",
   "metadata": {},
   "source": [
    "### Multiple Assignment:\n",
    "In multiple assignment, multiple variables are assigned values in a single line \n",
    "\n",
    "There are two ways multiple assignment can be done in python:\n",
    "\n",
    "1. Assigning single value to multiple variables:"
   ]
  },
  {
   "cell_type": "code",
   "execution_count": 3,
   "metadata": {},
   "outputs": [
    {
     "name": "stdout",
     "output_type": "stream",
     "text": [
      "1000\n",
      "1000\n",
      "1000\n",
      "2200310575376\n",
      "2200310575376\n",
      "2200310575376\n"
     ]
    }
   ],
   "source": [
    "x=y=z=1000  \n",
    "print(x)  \n",
    "print(y) \n",
    "print(z)  \n",
    "print(id(x))\n",
    "print(id(y))\n",
    "print(id(z))"
   ]
  },
  {
   "cell_type": "code",
   "execution_count": 4,
   "metadata": {},
   "outputs": [
    {
     "name": "stdout",
     "output_type": "stream",
     "text": [
      "1000\n",
      "1000\n",
      "1000\n",
      "2200309805008\n",
      "2200310575344\n",
      "2200309804784\n"
     ]
    }
   ],
   "source": [
    "x=1000\n",
    "y=1000\n",
    "z=1000  \n",
    "print(x)  \n",
    "print(y) \n",
    "print(z)  \n",
    "print(id(x))\n",
    "print(id(y))\n",
    "print(id(z))"
   ]
  },
  {
   "cell_type": "markdown",
   "metadata": {},
   "source": [
    "2.Assigning multiple values to multiple variables:"
   ]
  },
  {
   "cell_type": "code",
   "execution_count": 9,
   "metadata": {},
   "outputs": [
    {
     "name": "stdout",
     "output_type": "stream",
     "text": [
      "10\n",
      "20\n",
      "30\n",
      "1376831440\n",
      "1376831760\n",
      "1376832080\n"
     ]
    }
   ],
   "source": [
    "x, y, z = 10, 20, 30\n",
    "print(x)  \n",
    "print(y) \n",
    "print(z)  \n",
    "print(id(x))\n",
    "print(id(y))\n",
    "print(id(z))"
   ]
  },
  {
   "cell_type": "code",
   "execution_count": 11,
   "metadata": {},
   "outputs": [
    {
     "name": "stdout",
     "output_type": "stream",
     "text": [
      "10\n",
      "120\n",
      "10\n",
      "1376831440\n",
      "1376834960\n",
      "1376831440\n"
     ]
    }
   ],
   "source": [
    "x, y, z = 10, 120, 10\n",
    "print(x)  \n",
    "print(y) \n",
    "print(z)  \n",
    "print(id(x))\n",
    "print(id(y))\n",
    "print(id(z))"
   ]
  },
  {
   "cell_type": "markdown",
   "metadata": {},
   "source": [
    "### Variable Names & Naming Conventions\n",
    "\n",
    "There are a couple of naming conventions in use in Python:\n",
    "- lower_with_underscores: Uses only lower case letters and connects multiple words with underscores.\n",
    "- UPPER_WITH_UNDERSCORES: Uses only upper case letters and connects multiple words with underscores.\n",
    "- CapitalWords: Capitalize the beginning of each letter in a word; no underscores. With these conventions in mind, here are the naming conventions in use.\n",
    "\n",
    "* Variable Names: lower_with_underscores\n",
    "* Constants: UPPER_WITH_UNDERSCORES\n",
    "* Function Names: lower_with_underscores\n",
    "* Function Parameters: lower_with_underscores\n",
    "* Class Names: CapitalWords\n",
    "* Method Names: lower_with_underscores\n",
    "* Method Parameters and Variables: lower_with_underscores\n",
    "* Always use `self` as the first parameter to a method\n",
    "* To indicate privacy, precede name with a single underscore.\n"
   ]
  },
  {
   "cell_type": "code",
   "execution_count": null,
   "metadata": {
    "collapsed": true
   },
   "outputs": [],
   "source": [
    "pm_name = \"Narendra Modi\"\n",
    "cong_vp_name = \"Rahul Gandhi\"\n",
    "corrent_name_of_cong_wise_president = \"Rahul Gandhi\"\n",
    "correct_name_of_conf_president = \"\"\n",
    "cname = \"RG\""
   ]
  },
  {
   "cell_type": "markdown",
   "metadata": {},
   "source": [
    "Options can be used to override the default regular expression associated to each type. The table below lists the types, their associated options, and their default regular expressions."
   ]
  },
  {
   "cell_type": "markdown",
   "metadata": {},
   "source": [
    "|        Type       |         Default Expression        |\n",
    "|:-----------------:|:-----------------------------------------:|\n",
    "|      Argument     | [a-z\\_][a-z0-9\\_]                    |\n",
    "|     Attribute     | [a-z\\_][a-z0-9\\_]                    |\n",
    "|       Class       | [A-Z\\_][a-zA-Z0-9]                       |\n",
    "|      Constant     | (([A-Z\\_][A-Z0-9\\_]            |\n",
    "|      Function     | [a-z\\_][a-z0-9\\_]                    |\n",
    "|       Method      | [a-z\\_][a-z0-9\\_]                    |\n",
    "|       Module      | (([a-z\\_][a-z0-9\\_]), ([A-Z][a-zA-Z0-9])) |\n",
    "|      Variable     | [a-z\\_][a-z0-9\\_]                    |\n",
    "| Variable, inline1 | [A-Za-z\\_][A-Za-z0-9\\_]                   |"
   ]
  },
  {
   "cell_type": "code",
   "execution_count": 8,
   "metadata": {},
   "outputs": [
    {
     "ename": "SyntaxError",
     "evalue": "invalid syntax (<ipython-input-8-eb77aac23c5d>, line 8)",
     "output_type": "error",
     "traceback": [
      "\u001b[0;36m  File \u001b[0;32m\"<ipython-input-8-eb77aac23c5d>\"\u001b[0;36m, line \u001b[0;32m8\u001b[0m\n\u001b[0;31m    1This\u001b[0m\n\u001b[0m        ^\u001b[0m\n\u001b[0;31mSyntaxError\u001b[0m\u001b[0;31m:\u001b[0m invalid syntax\n"
     ]
    }
   ],
   "source": [
    "this_is_my_number \n",
    "THIS_IS_MY_NUMBER  \n",
    "ThisIsMyNumber\n",
    "this_is_number \n",
    "anotherVarible\n",
    "This1\n",
    "1This\n",
    "__sd__\n",
    "_sd"
   ]
  },
  {
   "cell_type": "raw",
   "metadata": {},
   "source": [
    "### Good Variable Name\n",
    "\n",
    "- Choose meaningful name instead of short name. roll_no is better than rn.\n",
    "- Maintain the length of a variable name. Roll_no_of_a_student is too long?\n",
    "- Be consistent; roll_no or RollNo\n",
    "- Begin a variable name with an underscore(_) character for a special case.\n"
   ]
  },
  {
   "cell_type": "markdown",
   "metadata": {},
   "source": [
    "## Exercises"
   ]
  },
  {
   "cell_type": "markdown",
   "metadata": {},
   "source": [
    "Q 1. Find the valid and in-valid variable names from the followings:\n",
    "\n",
    "* balance\n",
    "* current-balance \n",
    "* current balance \n",
    "* current_balance \n",
    "* 4account \n",
    "* _spam \n",
    "* 42 \n",
    "* SPAM \n",
    "* total_$um \n",
    "* account4 \n",
    "* 'hello'  "
   ]
  },
  {
   "cell_type": "code",
   "execution_count": 7,
   "metadata": {},
   "outputs": [
    {
     "ename": "SyntaxError",
     "evalue": "invalid syntax (<ipython-input-7-7486fd728ef6>, line 1)",
     "output_type": "error",
     "traceback": [
      "\u001b[0;36m  File \u001b[0;32m\"<ipython-input-7-7486fd728ef6>\"\u001b[0;36m, line \u001b[0;32m1\u001b[0m\n\u001b[0;31m    total_@um = \"test\"\u001b[0m\n\u001b[0m          ^\u001b[0m\n\u001b[0;31mSyntaxError\u001b[0m\u001b[0;31m:\u001b[0m invalid syntax\n"
     ]
    }
   ],
   "source": [
    "total_@um = \"test\""
   ]
  }
 ],
 "metadata": {
  "anaconda-cloud": {},
  "kernelspec": {
   "display_name": "Python 3",
   "language": "python",
   "name": "python3"
  },
  "language_info": {
   "codemirror_mode": {
    "name": "ipython",
    "version": 3
   },
   "file_extension": ".py",
   "mimetype": "text/x-python",
   "name": "python",
   "nbconvert_exporter": "python",
   "pygments_lexer": "ipython3",
   "version": "3.6.2"
  }
 },
 "nbformat": 4,
 "nbformat_minor": 1
}
