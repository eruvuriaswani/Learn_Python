{
 "cells": [
  {
   "cell_type": "markdown",
   "metadata": {
    "deletable": true,
    "editable": true
   },
   "source": [
    "## Maths Operators\n",
    "----\n",
    "\n",
    "Python supports most common maths operations. The table below lists maths operators supported.\n",
    "\n",
    "\n",
    "| Syntax \t| Math \t| Operation Name \t|\n",
    "|--------------\t|-------------------------------------------\t|------------------------------------------------------------------\t|\n",
    "| `a+b` \t| a+b \t| addition \t|\n",
    "| `a-b` \t| a-b \t| subtraction \t|\n",
    "| a*b \t|  a \\* b   | multiplication \t|\n",
    "| a/b \t|  a\\div b  | division (see note below) \t|\n",
    "| a//b \t|  a//b \t| floor division (e.g. 5//2=2) \t|\n",
    "| a%b \t|  a%b \t| modulo \t| \n",
    "| -a \t| -a | negation \t| \n",
    "| <    | a < b | less- than           | \n",
    "| >    | a > b  | greater- than        |\n",
    "| <=   | a <= b | less- than- equal    |\n",
    "| >=   | a >= b | greater- than- equal |\n",
    "| abs(a)| <code>&#124; a &#124;</code>\t| absolute value \t|\n",
    "| a**b \t| a**b \t| exponent \t|\n",
    "| math.sqrt(a) \t|  sqrt a  \t| square root \t|\n",
    "\n",
    "\n",
    "\n",
    "> **Note**:\n",
    "In order to use `math.sqrt()` function, you must explicitly load the math module by adding ```import math``` at the top of your file, where all the other modules import is defined."
   ]
  },
  {
   "cell_type": "code",
   "execution_count": null,
   "metadata": {
    "collapsed": false,
    "deletable": true,
    "editable": true
   },
   "outputs": [],
   "source": [
    "# Sample Code\n",
    "# Say Cheese\n",
    "x = 34 - 23 \n",
    "y = \"!!! Say\" \n",
    "z = 3.45\n",
    "x = x + 1\n",
    "y = y + \" Cheese !!!\"\n",
    "print(\"x = \" + str(x))\n",
    "print(y)\n",
    "print(\"Is x > z\", x > z ,\" and y is\", y, \"and x= \", x)\n",
    "print(\"x - z =\", x - z)\n",
    "print(\"-\"*30)"
   ]
  },
  {
   "cell_type": "code",
   "execution_count": 8,
   "metadata": {
    "collapsed": false,
    "deletable": true,
    "editable": true
   },
   "outputs": [
    {
     "name": "stdout",
     "output_type": "stream",
     "text": [
      "x = 12 and z = 3.45 : True\n",
      "x = 12 and z = 3.45 True\n",
      "12 3.45\n",
      "x % z = 1.6499999999999995\n",
      "x >= z True\n"
     ]
    }
   ],
   "source": [
    "t = x > z\n",
    "print(\"x = \" + str(x) + \" and z = \" + str(z) + \" : \" + str(t))\n",
    "print(\"x =\", x, \"and z =\", z, t)\n",
    "print(x,z)\n",
    "print(\"x % z =\", x % z )\n",
    "print(\"x >= z\", x >= z)"
   ]
  },
  {
   "cell_type": "code",
   "execution_count": 10,
   "metadata": {
    "collapsed": false,
    "deletable": true,
    "editable": true
   },
   "outputs": [
    {
     "name": "stdout",
     "output_type": "stream",
     "text": [
      "What is your mass in kilograms?111\n",
      "You weigh 17.442857142857143 stone.\n"
     ]
    }
   ],
   "source": [
    "mass_kg = int(input(\"What is your mass in kilograms?\" ))\n",
    "mass_stone = mass_kg * 2.2 / 14\n",
    "print(\"You weigh\", mass_stone, \"stone.\")"
   ]
  },
  {
   "cell_type": "markdown",
   "metadata": {
    "deletable": true,
    "editable": true
   },
   "source": [
    "## Order of Operations\n",
    "---\n",
    "Python uses the standard order of operations as taught in Algebra and Geometry classes. That, mathematical expressions are evaluated in the following order (memorized by many as PEMDAS or BODMAS).\n",
    "\n",
    "(Note that operations which share a table row are performed from left to right. That is, a division to the left of a multiplication, with no parentheses between them, is performed before the multiplication simply because it is to the left.)\n",
    "\n",
    "\n",
    "| Name \t| Syntax \t| Description \t| PEMDAS Mnemonic \t|\n",
    "|----------------------------\t|----------\t|----------------------------------------------------------------------------------------------------------------------------------------\t|-----------------\t|\n",
    "| Parentheses \t| ( ... ) \t| Before operating on anything else, Python must evaluate all parentheticals starting at the innermost level. (This includes functions.) \t| Please \t|\n",
    "| Exponents \t| \\** \t| As an exponent is simply short multiplication or division, it should be evaluated before them. \t| Excuse \t|\n",
    "| Multiplication and Division \t| * / // % \t| Again, multiplication is rapid addition and must, therefore, happen first. \t| My Dear \t|\n",
    "| Addition and Subtraction \t| + - \t| They should happen independent to one another and finally operated among eachother \t| Aunt Sally \t|"
   ]
  },
  {
   "cell_type": "markdown",
   "metadata": {
    "deletable": true,
    "editable": true
   },
   "source": [
    "## Formatting output\n",
    "---\n",
    "### round()\n"
   ]
  },
  {
   "cell_type": "code",
   "execution_count": 10,
   "metadata": {
    "collapsed": false,
    "deletable": true,
    "editable": true
   },
   "outputs": [
    {
     "name": "stdout",
     "output_type": "stream",
     "text": [
      "3.14\n"
     ]
    }
   ],
   "source": [
    "print (round(3.14159265, 2))"
   ]
  },
  {
   "cell_type": "markdown",
   "metadata": {
    "deletable": true,
    "editable": true
   },
   "source": [
    "## Exercises\n",
    "----\n",
    "* Calculate the are of the circle whose radius is provided\n",
    "* Calculate the number of diagonals within the polygon when sides are provided\n",
    "* Take the lengths of two sides of a right-angle triangle from the user and apply the Pythagorean Theorem to find the hypotenuse\n",
    "* Use Python to calculate \n",
    " - 2^{3^{4^{5}}} \n",
    " - (3+2)^{4}{7}\n",
    " - (3+2)%(2+10)*(10+2)\n",
    "* Use Python to calculate 11111111111111111111+22222222222222222222, but in one line of code with at most 15 characters. (Hint: each of those numbers is 20 digits long, so you have to find some other way to input those numbers)\n",
    "* Exactly one of the following expressions evaluates to \"cat\"; the other evaluates to \"dog\". Trace the logic to determine which one is which, then check your answer using Python."
   ]
  }
 ],
 "metadata": {
  "anaconda-cloud": {},
  "kernelspec": {
   "display_name": "Python 3",
   "language": "python",
   "name": "python3"
  },
  "language_info": {
   "codemirror_mode": {
    "name": "ipython",
    "version": 3
   },
   "file_extension": ".py",
   "mimetype": "text/x-python",
   "name": "python",
   "nbconvert_exporter": "python",
   "pygments_lexer": "ipython3",
   "version": "3.4.6"
  }
 },
 "nbformat": 4,
 "nbformat_minor": 0
}
