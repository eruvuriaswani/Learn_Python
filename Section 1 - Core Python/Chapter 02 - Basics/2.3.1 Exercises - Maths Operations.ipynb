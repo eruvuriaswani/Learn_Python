{
 "cells": [
  {
   "cell_type": "markdown",
   "metadata": {},
   "source": [
    "# Exercises - Maths Operations\n",
    "----\n",
    "## Create a program to \n",
    "* take the radius of a circle as inut and return the area of the circle\n",
    "* take the number of sides on a polygon and return the number of diagonals within the polygon.\n",
    "* take the lengths of two sides of a right-angle triangle from the user and apply the Pythagorean Theorem to find the hypotenuse.\n",
    "* calculate 2^{2^{2^{2}}}\n",
    "* calculate (3+2)^{4}{7}\n",
    "* calculate (x + y) * (x + y)\n",
    "* calculate 11111111111111111111+22222222222222222222\n",
    "* get an integer (n) and computes the value of n+nn+nnn+n0n-(nn/n)*(n%(n-5)). eg: 1+11+111+101 ....\n",
    "* get the volume of a sphere with radius n.\n",
    "* get the volume of a cone with height h and radius r.\n",
    "* get the area of a triangle when base and height is provided\n",
    "* compute the greatest common divisor (GCD) of two positive integers\n",
    "* compute the least common multiple (LCM) of two positive integers\n",
    "* compute the area of polygon when number of sides are provided and length of sides are provided\n",
    "* compute the distance between the points (x1, y1) and (x2, y2)\n",
    "* write a Python program to print '30+20=50', when x=30 and y=20."
   ]
  },
  {
   "cell_type": "code",
   "execution_count": 2,
   "metadata": {},
   "outputs": [
    {
     "name": "stdout",
     "output_type": "stream",
     "text": [
      "Enter the radius:2\n",
      "The area of the circle is 12.56cm**2\n"
     ]
    }
   ],
   "source": [
    "radius = int(input(\"Enter the radius:\"))\n",
    "Area = 3.14 * radius ** 2\n",
    "print(\"The area of the circle is \" + str(Area) + \"cm**2\")"
   ]
  },
  {
   "cell_type": "code",
   "execution_count": null,
   "metadata": {
    "collapsed": true
   },
   "outputs": [],
   "source": []
  }
 ],
 "metadata": {
  "kernelspec": {
   "display_name": "Python 3",
   "language": "python",
   "name": "python3"
  },
  "language_info": {
   "codemirror_mode": {
    "name": "ipython",
    "version": 3
   },
   "file_extension": ".py",
   "mimetype": "text/x-python",
   "name": "python",
   "nbconvert_exporter": "python",
   "pygments_lexer": "ipython3",
   "version": "3.4.6"
  }
 },
 "nbformat": 4,
 "nbformat_minor": 1
}
