{
 "cells": [
  {
   "cell_type": "markdown",
   "metadata": {
    "deletable": true,
    "editable": true
   },
   "source": [
    "# 2.6 Python Naming Conventions\n",
    "\n",
    "## General\n",
    "\n",
    "* Avoid using names that are too general or too wordy. Strike a good balance between the two.\n",
    "* Bad: data_structure, my_list, info_map, dictionary_for_the_purpose_of_storing_data_representing_word_definitions\n",
    "* Good: user_profile, menu_options, word_definitions\n",
    "* Don’t be a jackass and name things “O”, “l”, or “I”\n",
    "* When using CamelCase names, capitalize all letters of an abbreviation (e.g. HTTPServer, not HttpServer)\n",
    "\n",
    "## Packages\n",
    "\n",
    "* Package names should be all lower case\n",
    "* When multiple words are needed, an underscore should separate them\n",
    "* It is usually preferable to stick to 1 word names\n",
    "\n",
    "## Modules\n",
    "\n",
    "* Module names should be all lower case\n",
    "* When multiple words are needed, an underscore should separate them\n",
    "* It is usually preferable to stick to 1 word names\n",
    "\n",
    "## Classes\n",
    "\n",
    "* Class names should follow the UpperCaseCamelCase convention\n",
    "* Python’s built-in classes, however are typically lowercase words\n",
    "* Exception classes should end in “Error”\n",
    "\n",
    "## Global (module-level) Variables\n",
    "\n",
    "* Global variables should be all lowercase\n",
    "* Words in a global variable name should be separated by an underscore\n",
    "\n",
    "## Instance Variables\n",
    "\n",
    "* Instance variable names should be all lower case\n",
    "* Words in an instance variable name should be separated by an underscore\n",
    "* Non-public instance variables should begin with a single underscore\n",
    "* If an instance name needs to be mangled, two underscores may begin its name\n",
    "\n",
    "## Methods\n",
    "\n",
    "* Method names should be all lower case\n",
    "* Words in an method name should be separated by an underscore\n",
    "* Non-public method should begin with a single underscore\n",
    "* If a method name needs to be mangled, two underscores may begin its name\n",
    "\n",
    "## Method Arguments\n",
    "\n",
    "* Instance methods should have their first argument named ‘self’.\n",
    "* Class methods should have their first argument named ‘cls’\n",
    "\n",
    "## Functions\n",
    "\n",
    "* Function names should be all lower case\n",
    "* Words in a function name should be separated by an underscore\n",
    "\n",
    "## Constants\n",
    "\n",
    "* Constant names must be fully capitalized\n",
    "* Words in a constant name should be separated by an underscore"
   ]
  },
  {
   "cell_type": "markdown",
   "metadata": {
    "deletable": true,
    "editable": true
   },
   "source": [
    "## Meaning of underscores\n",
    "\n",
    "Single or double underscores at the beginning and/or at the end of names have special meanings in Python:\n",
    "\n",
    "* **`_single_leading_underscore`**: Weak “internal use” indicator. For example, from M import * does not import objects whose name starts with an underscore.\n",
    "\n",
    "* **`single_trailing_underscore_`**: Used by convention to avoid conflicts with Python keyword, e.g. class_ instead of class.\n",
    "\n",
    "* **`__double_leading_underscore`**: When naming a class attribute, invokes name mangling (inside class `FooBar, __boo becomes _FooBar__boo`)\n",
    "\n",
    "* **`__double_leading_and_trailing_underscore__`**: “Magic” objects or attributes that live in user-controlled namespaces. E.g. `__init__, __import__ or __file__`. Never invent such names; only use them as documented."
   ]
  }
 ],
 "metadata": {
  "kernelspec": {
   "display_name": "Python 3",
   "language": "python",
   "name": "python3"
  },
  "language_info": {
   "codemirror_mode": {
    "name": "ipython",
    "version": 3
   },
   "file_extension": ".py",
   "mimetype": "text/x-python",
   "name": "python",
   "nbconvert_exporter": "python",
   "pygments_lexer": "ipython3",
   "version": "3.6.0"
  }
 },
 "nbformat": 4,
 "nbformat_minor": 2
}
