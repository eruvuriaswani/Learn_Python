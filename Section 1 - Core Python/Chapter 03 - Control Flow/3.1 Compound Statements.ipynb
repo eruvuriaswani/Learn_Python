{
 "cells": [
  {
   "cell_type": "markdown",
   "metadata": {},
   "source": [
    "# Chapter 3: Compound statements\n",
    "_____________________________\n",
    "\n",
    "Compound statements contain one or groups of other statements; they affect or control the execution of those other statements in some way. \n",
    "\n",
    "In general, they span multiple lines, but can be also be listed in a single line.\n",
    "\n",
    "The `if`, `while` and `for` statements implement **traditional control flow constructs**, whereas `try` specifies **exception handlers and/or cleanup code** for a group of statements, while the `with` statement allows the execution of initialization and finalization code around a block of code. `Function` and `class` definitions are also **syntactically compound statements**.\n",
    "\n",
    "They consists of one or more *‘clauses’*. A *clause* consists of a 'header' and a ‘suite’. \n",
    "\n",
    "The 'clause' headers of a particular compound statement are all at the same indentation level. They should begins with an uniquely identifying keyword and should ends with a colon. \n",
    "\n",
    "'suite' is a group of statements controlled by a clause. It can be of one or more semicolon-separated simple statements on the same line as the header, following the header’s colon (one liner), or it can be one or more indented statements on subsequent lines. Only the latter form of a suite can contain nested compound statements; the following is illegal, mostly because it wouldn’t be clear to which if clause a following else clause would belong:\n",
    "\n",
    "## Traditional Control Flow Constructs\n",
    "---\n",
    "### `if` Statement\n",
    "\n",
    "The if statement is used for conditional execution similar to that in most common languages. If statement can be constructed in three format depending on developers need.\n",
    "\n",
    "- if\n",
    "- if .. else\n",
    "- if .. elif ..else\n",
    "\n",
    "#### `if`\n",
    "This format is used when specific operation needs to be performed if a specific condition is met. \n",
    "Syntax:\n",
    "```python\n",
    " if <condition>:\n",
    "        <code block>\n",
    "```\n",
    "\n",
    "\n",
    "Where:\n",
    "\n",
    "+ `<condition>`: sentence that can be evaluated as true or false.\n",
    "+ `<code block>`: sequence of command lines.\n",
    "+ The clauses `elif` and `else` are optional and  several `elifs` for the `if` may be used but only  one `else` at the end.\n",
    "+ Parentheses are only required to avoid ambiguity.\n",
    "Example:"
   ]
  },
  {
   "cell_type": "code",
   "execution_count": 3,
   "metadata": {},
   "outputs": [
    {
     "name": "stdout",
     "output_type": "stream",
     "text": [
      "Please enter the password:2\n"
     ]
    }
   ],
   "source": [
    "password = input(\"Please enter the password:\")\n",
    "if password == \"Simsim\":\n",
    "    print(\"Welcome to the cave\")"
   ]
  },
  {
   "cell_type": "code",
   "execution_count": 5,
   "metadata": {},
   "outputs": [
    {
     "name": "stdout",
     "output_type": "stream",
     "text": [
      "0\n"
     ]
    }
   ],
   "source": [
    "x = 10\n",
    "print(x % 2)"
   ]
  },
  {
   "cell_type": "code",
   "execution_count": 9,
   "metadata": {},
   "outputs": [
    {
     "name": "stdout",
     "output_type": "stream",
     "text": [
      "Hello\n",
      "Hello again\n",
      "Bye bye bye ...\n"
     ]
    }
   ],
   "source": [
    "x = 11\n",
    "if(x > 10):\n",
    "    print(\"Hello\")\n",
    "    if x > 10.999999999999:\n",
    "        print(\"Hello again\")\n",
    "        if x % 2 != 0:\n",
    "            print(\"Bye bye bye ...\")"
   ]
  },
  {
   "cell_type": "code",
   "execution_count": 14,
   "metadata": {},
   "outputs": [
    {
     "name": "stdout",
     "output_type": "stream",
     "text": [
      "Hello in x\n",
      "Hello in Z\n"
     ]
    }
   ],
   "source": [
    "x = 10\n",
    "# y = None\n",
    "z = \"111\"\n",
    "if x:\n",
    "    print(\"Hello in x\")\n",
    "\n",
    "if y:\n",
    "    print(\"Hello in Y\")\n",
    "\n",
    "if z:\n",
    "    print(\"Hello in Z\")"
   ]
  },
  {
   "cell_type": "markdown",
   "metadata": {},
   "source": [
    "### `if` ... `else` statement\n",
    "\n",
    "```python\n",
    "if <condition>:\n",
    "    <code block>\n",
    "else:\n",
    "    <code block>\n",
    "```\n",
    "Where:\n",
    "\n",
    "+ `<condition>`: sentence that can be evaluated as tru### `if` statement### `if` statemente or false.\n",
    "+ `<code block>`: sequence of command lines.\n",
    "+ The clauses `elif` and `else` are optional and  several `elifs` for the `if` may be used but only  one `else` at the end.\n",
    "+ Parentheses are only required to avoid ambiguity."
   ]
  },
  {
   "cell_type": "code",
   "execution_count": 17,
   "metadata": {},
   "outputs": [
    {
     "name": "stdout",
     "output_type": "stream",
     "text": [
      "Name is not mayank and its Anuja\n"
     ]
    }
   ],
   "source": [
    "x = \"Anuja\"\n",
    "\n",
    "if(x == \"mayank\"):\n",
    "    print(\"Name is mayank\")\n",
    "else:\n",
    "    print(\"Name is not mayank and its \"+ str(x))"
   ]
  },
  {
   "cell_type": "markdown",
   "metadata": {},
   "source": [
    "### `if` ...`elif` ... `else` statement\n",
    "\n",
    "```python\n",
    "if <condition>:\n",
    "    <code block>\n",
    "elif <condition>:\n",
    "    <code block>\n",
    "elif <condition>:\n",
    "    <code block>\n",
    "else:\n",
    "    <code block>\n",
    "```\n",
    "\n",
    "Where:\n",
    "\n",
    "+ `<condition>`: sentence that can be evaluated as true or false.\n",
    "+ `<code block>`: sequence of command lines.\n",
    "+ The clauses `elif` and `else` are optional and  several `elifs` for the `if` may be used but only  one `else` at the end.\n",
    "+ Parentheses are only required to avoid ambiguity."
   ]
  },
  {
   "cell_type": "code",
   "execution_count": 21,
   "metadata": {},
   "outputs": [
    {
     "name": "stdout",
     "output_type": "stream",
     "text": [
      "Its very HOT!, lets stay at home... \n",
      "and drink lemonade.\n"
     ]
    }
   ],
   "source": [
    "# temperature value used to test\n",
    "temp = 251\n",
    "\n",
    "if temp < 0:\n",
    "    print ('Freezing...')\n",
    "elif 0 <= temp <= 20:\n",
    "    print ('Cold')\n",
    "elif 21 <= temp <= 25:\n",
    "    print ('Room Temprature')\n",
    "elif 26 <= temp <= 35:\n",
    "    print ('Hot')\n",
    "else:\n",
    "    print ('Its very HOT!, lets stay at home... \\nand drink lemonade.')"
   ]
  },
  {
   "cell_type": "markdown",
   "metadata": {},
   "source": [
    "Imagine that in the above program, `23` is the temperature which was read by  some sensor or manually entered by the user and `Normal` is the response of the program.\n",
    "\n",
    "If the code block is composed of only one line, it can be written after the colon:\n",
    "\n",
    "    if temp < 0: print 'Freezing...'\n",
    "\n",
    "Since version 2.5, Python supports the expression:\n",
    "\n",
    "    <variable> = <value 1> if <condition> else <value 2>\n",
    "\n",
    "Where `<variable>` receives `<value 1>` if `<condition>` is true and `<value 2>`  otherwise."
   ]
  },
  {
   "cell_type": "markdown",
   "metadata": {},
   "source": [
    "> ... continue in next chapter"
   ]
  },
  {
   "cell_type": "code",
   "execution_count": 16,
   "metadata": {},
   "outputs": [
    {
     "name": "stdout",
     "output_type": "stream",
     "text": [
      "Hello \n",
      "------------------------------\n",
      "24\n"
     ]
    }
   ],
   "source": [
    "x = 20\n",
    "\n",
    "if x > 10: print (\"Hello \")\n",
    "\n",
    "print(\"-\"*30)\n",
    "\n",
    "val = 1 if x < 10 else 24\n",
    "print(val)\n"
   ]
  }
 ],
 "metadata": {
  "anaconda-cloud": {},
  "kernelspec": {
   "display_name": "Python 3",
   "language": "python",
   "name": "python3"
  },
  "language_info": {
   "codemirror_mode": {
    "name": "ipython",
    "version": 3
   },
   "file_extension": ".py",
   "mimetype": "text/x-python",
   "name": "python",
   "nbconvert_exporter": "python",
   "pygments_lexer": "ipython3",
   "version": "3.4.6"
  }
 },
 "nbformat": 4,
 "nbformat_minor": 1
}
