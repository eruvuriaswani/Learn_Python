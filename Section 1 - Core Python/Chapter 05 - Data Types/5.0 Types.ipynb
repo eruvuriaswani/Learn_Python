{
 "cells": [
  {
   "cell_type": "markdown",
   "metadata": {
    "deletable": true,
    "editable": true
   },
   "source": [
    "# Chapter 5: Variables and Data Types \n",
    "--------------------\n",
    "\n",
    "## Variables\n",
    "------\n",
    "\n",
    "**Variables** in the Python interpreter are created by assignment and destroyed by the garbage collector, when there are no more references to them.\n",
    "\n",
    "Variable names must start with a letter or underscore (`_`) and be followed by letters, digits or underscores. \n",
    "\n",
    "> Uppercase and lowercase letters are considered different. That means **Variables in Python are case sensitive just like C/C++ and Java, so myVar and myvar are different variables**.\n",
    "\n",
    "Python provides many pre-defined simple data types, such as:\n",
    "+ Numbers (integer, real, complex, boolean ... )\n",
    "+ Strings\n",
    "\n",
    "Python also provides many complex data types such as collections. The main ones are:\n",
    "+ List\n",
    "+ Tuple\n",
    "+ Dictionary\n",
    "\n",
    "In Python data type can be either mutable or immutable:\n",
    "+ **Mutable**: allow the contents of the variables to be changed.\n",
    "+ **Immutable**: do not allow the contents of variables to be changed.\n",
    "\n",
    "In Python, variable names are references that can be changed at execution time.\n",
    "\n",
    "The most common types and routines are implemented in the form of *builtins*, i.e. they are always available at runtime, without the need to import any library.\n",
    "\n",
    "## Numbers\n",
    "-------\n",
    "\n",
    "Python provides following numeric types as *builtins*:\n",
    "\n",
    "+ Integer (*int*): i = 1\n",
    "+ Floating Point real (*float*): f = 3.14\n",
    "+ Complex (*complex*): c = 3 + 4j\n",
    "\n",
    "In addition to the conventional integers, there are also long integers, whose dimensions are arbitrary and limited by the available memory. Conversions between integer and long are performed automatically. The builtin function `int()` can be used to convert other types to integer, including base changes.\n",
    "\n",
    "*Example*:"
   ]
  },
  {
   "cell_type": "code",
   "execution_count": 1,
   "metadata": {
    "collapsed": false,
    "deletable": true,
    "editable": true
   },
   "outputs": [
    {
     "name": "stdout",
     "output_type": "stream",
     "text": [
      "int(3.14) = 3\n",
      "int(3.64) = 3\n",
      "float(5) = 5.0\n",
      "5.0 / 2 + 3 =  5.5\n",
      "int('20', 8) = 16\n",
      "int('20', 16) = 32\n",
      "c = (3+4j)\n",
      "Real Part: 3.0\n",
      "Imaginary Part: 4.0\n",
      "Conjugate: (3-4j)\n"
     ]
    }
   ],
   "source": [
    "# Converting real to integer\n",
    "print ('int(3.14) =', int(3.14))\n",
    "print ('int(3.64) =', int(3.64))\n",
    "\n",
    "# Converting integer to real\n",
    "print ('float(5) =', float(5))\n",
    "\n",
    "# Calculation between integer and real results in real\n",
    "print ('5.0 / 2 + 3 = ', 5.0 / 2 + 3)\n",
    "\n",
    "# Integers in other base\n",
    "print (\"int('20', 8) =\", int('20', 8)) # base 8\n",
    "print (\"int('20', 16) =\", int('20', 16)) # base 16\n",
    "\n",
    "# Operations with complex numbers\n",
    "c = 3 + 4j\n",
    "print ('c =', c)\n",
    "\n",
    "print ('Real Part:', c.real)\n",
    "print ('Imaginary Part:', c.imag)\n",
    "print ('Conjugate:', c.conjugate())"
   ]
  },
  {
   "cell_type": "markdown",
   "metadata": {
    "deletable": true,
    "editable": true
   },
   "source": [
    "> NOTE: The real numbers can also be represented in scientific notation, for example: 1.2e22."
   ]
  },
  {
   "cell_type": "markdown",
   "metadata": {
    "deletable": true,
    "editable": true
   },
   "source": [
    "### Arithmetic Operations:\n",
    "\n",
    "Python has a number of defined operators for handling numbers through arithmetic calculations, logic operations (that test whether a condition is true or false) or bitwise processing (where the numbers are processed in binary form).\n",
    "\n",
    "#### Logical Operations:\n",
    "\n",
    "+ Less than (<)\n",
    "+ Greater than (>)\n",
    "+ Less than or equal to (<=)\n",
    "+ Greater than or equal to (>=)\n",
    "+ Equal to (==)\n",
    "+ Not equal to (!=)"
   ]
  },
  {
   "cell_type": "code",
   "execution_count": 3,
   "metadata": {
    "collapsed": false,
    "deletable": true,
    "editable": true
   },
   "outputs": [
    {
     "name": "stdout",
     "output_type": "stream",
     "text": [
      "Y wins\n"
     ]
    }
   ],
   "source": [
    "def lessThan(x, y):\n",
    "    if(x < y):\n",
    "        print(\"X wins\")\n",
    "    else:\n",
    "        print(\"Y wins\")\n",
    "\n",
    "lessThan(22, 4)"
   ]
  },
  {
   "cell_type": "code",
   "execution_count": 4,
   "metadata": {
    "collapsed": false,
    "deletable": true,
    "editable": true
   },
   "outputs": [
    {
     "name": "stdout",
     "output_type": "stream",
     "text": [
      "Y wins\n"
     ]
    }
   ],
   "source": [
    "def greaterThan(x, y):\n",
    "    if(x > y):\n",
    "        print(\"X wins\")\n",
    "    else:\n",
    "        print(\"Y wins\")\n",
    "\n",
    "greaterThan(2, 4)"
   ]
  },
  {
   "cell_type": "code",
   "execution_count": 6,
   "metadata": {
    "collapsed": false,
    "deletable": true,
    "editable": true
   },
   "outputs": [
    {
     "name": "stdout",
     "output_type": "stream",
     "text": [
      "X wins\n",
      "X wins\n",
      "Y wins\n"
     ]
    }
   ],
   "source": [
    "def less_than_or_equal_to(x, y):\n",
    "    if(x <= y):\n",
    "        print(\"X wins\")\n",
    "    else:\n",
    "        print(\"Y wins\")\n",
    "\n",
    "less_than_or_equal_to(2, 4)\n",
    "less_than_or_equal_to(24, 24)\n",
    "less_than_or_equal_to(24, 4)"
   ]
  },
  {
   "cell_type": "code",
   "execution_count": 7,
   "metadata": {
    "collapsed": false,
    "deletable": true,
    "editable": true
   },
   "outputs": [
    {
     "name": "stdout",
     "output_type": "stream",
     "text": [
      "Y wins\n",
      "X wins\n",
      "X wins\n"
     ]
    }
   ],
   "source": [
    "def greater_than_or_equal_to(x, y):\n",
    "    if(x >= y):\n",
    "        print(\"X wins\")\n",
    "    else:\n",
    "        print(\"Y wins\")\n",
    "\n",
    "greater_than_or_equal_to(2, 4)\n",
    "greater_than_or_equal_to(24, 24)\n",
    "greater_than_or_equal_to(24, 4)"
   ]
  },
  {
   "cell_type": "code",
   "execution_count": 8,
   "metadata": {
    "collapsed": false,
    "deletable": true,
    "editable": true
   },
   "outputs": [
    {
     "name": "stdout",
     "output_type": "stream",
     "text": [
      "X & Y are different\n",
      "X & Y are equal\n",
      "X & Y are different\n",
      "X & Y are equal\n"
     ]
    }
   ],
   "source": [
    "def equal_to(x, y):\n",
    "    if(x == y):\n",
    "        print(\"X & Y are equal\")\n",
    "    else:\n",
    "        print(\"X & Y are different\")\n",
    "\n",
    "equal_to(2, 4)\n",
    "equal_to(2.2, 2.2)\n",
    "equal_to(2+1j, 3+1j)\n",
    "equal_to(3+1j, 3+1j)"
   ]
  },
  {
   "cell_type": "code",
   "execution_count": 17,
   "metadata": {
    "collapsed": false,
    "deletable": true,
    "editable": true
   },
   "outputs": [
    {
     "name": "stdout",
     "output_type": "stream",
     "text": [
      "X & Y are not equal\n",
      "X & Y are equal\n",
      "X & Y are not equal\n",
      "X & Y are equal\n"
     ]
    }
   ],
   "source": [
    "def not_equal_to(x, y):\n",
    "    if(x != y):\n",
    "        print(\"X & Y are not equal\")\n",
    "    else:\n",
    "        print(\"X & Y are equal\")\n",
    "\n",
    "not_equal_to(2, 4)\n",
    "not_equal_to(2.2, 2.2)\n",
    "not_equal_to(2+1j, 3+1j)\n",
    "not_equal_to(3+1j, 3+1j)"
   ]
  },
  {
   "cell_type": "markdown",
   "metadata": {
    "deletable": true,
    "editable": true
   },
   "source": [
    "#### Bitwise Operations:\n",
    "\n",
    "+ Left Shift (<<)\n",
    "+ Right Shift (>>)\n",
    "+ And (&)\n",
    "+ Or (|)\n",
    "+ Exclusive Or (^)\n",
    "+ Inversion (~)\n",
    "\n",
    "During the operations, numbers are converted appropriately (eg. `(1.5+4j) + 3` gives `4.5+4j`).\n",
    "\n",
    "Besides operators, there are also some *builtin* features to handle numeric types: `abs()`, which returns the absolute value of the number, `oct()`, which converts to octal, `hex()`, which converts for hexadecimal, `pow()`, which raises a number by another and `round()`, which returns a real number with the specified rounding."
   ]
  },
  {
   "cell_type": "code",
   "execution_count": 1,
   "metadata": {
    "collapsed": false,
    "deletable": true,
    "editable": true
   },
   "outputs": [
    {
     "name": "stdout",
     "output_type": "stream",
     "text": [
      "x<<2 =  40\n",
      "x = 10\n",
      "x>>2 =  2\n",
      "x&y =  10\n",
      "x|y =  11\n",
      "x^y =  1\n",
      "x = 10\n",
      "~x =  -11\n",
      "~y =  -12\n"
     ]
    }
   ],
   "source": [
    "x = 10 #-> 1010 \n",
    "y = 11 #-> 1011\n",
    "\n",
    "\n",
    "1011\n",
    "OR\n",
    "0 0 | 0 \n",
    "0 1 | 1\n",
    "1 0 | 1\n",
    "1 1 | 1\n",
    "AND\n",
    "0 0 | 0\n",
    "0 1 | 0\n",
    "1 0 | 0\n",
    "1 1 | 1\n",
    "\n",
    "print(\"x<<2 = \", x<<2)\n",
    "print(\"x =\", x)\n",
    "print(\"x>>2 = \", x>>2)\n",
    "print(\"x&y = \", x&y)\n",
    "print(\"x|y = \", x|y)\n",
    "print(\"x^y = \", x^y)\n",
    "print(\"x =\", x)\n",
    "print(\"~x = \", ~x)\n",
    "print(\"~y = \", ~y)\n"
   ]
  },
  {
   "cell_type": "markdown",
   "metadata": {
    "deletable": true,
    "editable": true
   },
   "source": [
    "## String\n",
    "-----\n",
    "\n",
    "*Strings* are Python *builtins* datatype for handling text. They are **immutable** thus you can **not add, remove or change** any character in a *string*. To perform these operations, Python needs to create a new *string*.\n",
    "\n",
    ">> Since Python 3, strings are by default unicode string.\n",
    "\n",
    "Types:\n",
    "\n",
    "+ Standard String: `s = 'Chandu\\tNalluri'` # Chandu Nalluri\n",
    "+ Raw String: `a = r'Roshan\\tMusheer'` # Roshan\n",
    "+ Unicode String: `u = u'Björk'`\n",
    "\n",
    "> The standard *string* can be converted to *unicode* by using the function `unicode()`.\n",
    "\n",
    "String can be initialized using:\n",
    "\n",
    "+ With single or double quotes ('', \"\").\n",
    "+ On several consecutive lines, provided that it's between three single or double quotes (''' ''', \"\"\" \"\"\").\n",
    "+ Without expansion characters (example: `s = r '\\ n'`, where `s` will contain the characters `\\` and `n`).\n",
    "\n"
   ]
  },
  {
   "cell_type": "code",
   "execution_count": 4,
   "metadata": {
    "collapsed": false,
    "deletable": true,
    "editable": true
   },
   "outputs": [
    {
     "name": "stdout",
     "output_type": "stream",
     "text": [
      "Roshan\\tMusheer\n"
     ]
    }
   ],
   "source": [
    "a = r'Roshan\\tMusheer'\n",
    "print(a)"
   ]
  },
  {
   "cell_type": "code",
   "execution_count": 8,
   "metadata": {
    "collapsed": false,
    "deletable": true,
    "editable": true
   },
   "outputs": [
    {
     "name": "stdout",
     "output_type": "stream",
     "text": [
      "C:\n",
      "ew_data\technical_jargons\n",
      "C:\\new_data\\technical_jargons\n"
     ]
    }
   ],
   "source": [
    "path = \"C:\\new_data\\technical_jargons\"\n",
    "print(path)\n",
    "path = R\"C:\\new_data\\technical_jargons\"\n",
    "print(path)"
   ]
  },
  {
   "cell_type": "code",
   "execution_count": 3,
   "metadata": {
    "collapsed": false,
    "deletable": true,
    "editable": true
   },
   "outputs": [
    {
     "name": "stdout",
     "output_type": "stream",
     "text": [
      "Roshan\tMusheer\n"
     ]
    }
   ],
   "source": [
    "a = 'Roshan\\tMusheer'\n",
    "print(a)"
   ]
  },
  {
   "cell_type": "markdown",
   "metadata": {
    "deletable": true,
    "editable": true
   },
   "source": [
    "### String Operations:"
   ]
  },
  {
   "cell_type": "code",
   "execution_count": 16,
   "metadata": {
    "collapsed": false,
    "deletable": true,
    "editable": true
   },
   "outputs": [
    {
     "name": "stdout",
     "output_type": "stream",
     "text": [
      "The Camel ran away!\n",
      "Size of Camel => 5\n",
      "['__add__', '__class__', '__contains__', '__delattr__', '__dir__', '__doc__', '__eq__', '__format__', '__ge__', '__getattribute__', '__getitem__', '__getnewargs__', '__gt__', '__hash__', '__init__', '__init_subclass__', '__iter__', '__le__', '__len__', '__lt__', '__mod__', '__mul__', '__ne__', '__new__', '__reduce__', '__reduce_ex__', '__repr__', '__rmod__', '__rmul__', '__setattr__', '__sizeof__', '__str__', '__subclasshook__', 'capitalize', 'casefold', 'center', 'count', 'encode', 'endswith', 'expandtabs', 'find', 'format', 'format_map', 'index', 'isalnum', 'isalpha', 'isdecimal', 'isdigit', 'isidentifier', 'islower', 'isnumeric', 'isprintable', 'isspace', 'istitle', 'isupper', 'join', 'ljust', 'lower', 'lstrip', 'maketrans', 'partition', 'replace', 'rfind', 'rindex', 'rjust', 'rpartition', 'rsplit', 'rstrip', 'split', 'splitlines', 'startswith', 'strip', 'swapcase', 'title', 'translate', 'upper', 'zfill']\n",
      "Size of Camel => 5\n",
      "5\n"
     ]
    }
   ],
   "source": [
    "s = 'Camel'\n",
    "\n",
    "# Concatenation\n",
    "print ('The ' + s + ' ran away!')\n",
    "\n",
    "# Interpolation\n",
    "\"\"\"\n",
    "string interpolation (or variable interpolation, variable substitution, \n",
    "or variable expansion) is the process of evaluating a string literal \n",
    "containing one or more placeholders, yielding a result in which the \n",
    "placeholders are replaced with their corresponding values.\n",
    "\"\"\"\n",
    "print( 'Size of %s => %d' % (s, len(s)))\n",
    "print(dir(s))\n",
    "print( 'Size of %s => %d' % (s, s.__len__()))\n",
    "\n",
    "def size(strdata):\n",
    "    c = 0\n",
    "    for a in strdata:\n",
    "        c+=1\n",
    "    return c\n",
    "\n",
    "print(size(\"Anshu\"))"
   ]
  },
  {
   "cell_type": "code",
   "execution_count": 24,
   "metadata": {
    "collapsed": false,
    "deletable": true,
    "editable": true
   },
   "outputs": [
    {
     "name": "stdout",
     "output_type": "stream",
     "text": [
      "M,u,r,t,h,y,\b.\n",
      "~~~~~~~~~~~~~~~~~~~~~~~~~~~~~~~~~~~~~~~~~~~~~~~~~~~~~~~~~~~~~~~~~~~~~~~~~~~~~~~\n"
     ]
    }
   ],
   "source": [
    "# String processed as a sequence\n",
    "s = \"Murthy\"\n",
    "for ch in s: print(ch , end=',') # This \n",
    "# print(help(print))\n",
    "print(\"\\b.\")\n",
    "print(\"~\"*79)"
   ]
  },
  {
   "cell_type": "code",
   "execution_count": 25,
   "metadata": {
    "collapsed": false,
    "deletable": true,
    "editable": true
   },
   "outputs": [
    {
     "name": "stdout",
     "output_type": "stream",
     "text": [
      "MURTHY\n",
      "murthy\n",
      "~~~~~~~~~~~~~~~~~~~~~~~~~~~~~~~~~~~~~~~~~~~~~~~~~~~~~~~~~~~~~~~~~~~~~~~~~~~~~~~\n",
      "MurthyMurthyMurthy\n",
      "['__add__', '__class__', '__contains__', '__delattr__', '__dir__', '__doc__', '__eq__', '__format__', '__ge__', '__getattribute__', '__getitem__', '__getnewargs__', '__gt__', '__hash__', '__init__', '__init_subclass__', '__iter__', '__le__', '__len__', '__lt__', '__mod__', '__mul__', '__ne__', '__new__', '__reduce__', '__reduce_ex__', '__repr__', '__rmod__', '__rmul__', '__setattr__', '__sizeof__', '__str__', '__subclasshook__', 'capitalize', 'casefold', 'center', 'count', 'encode', 'endswith', 'expandtabs', 'find', 'format', 'format_map', 'index', 'isalnum', 'isalpha', 'isdecimal', 'isdigit', 'isidentifier', 'islower', 'isnumeric', 'isprintable', 'isspace', 'istitle', 'isupper', 'join', 'ljust', 'lower', 'lstrip', 'maketrans', 'partition', 'replace', 'rfind', 'rindex', 'rjust', 'rpartition', 'rsplit', 'rstrip', 'split', 'splitlines', 'startswith', 'strip', 'swapcase', 'title', 'translate', 'upper', 'zfill']\n"
     ]
    }
   ],
   "source": [
    "# Strings are objects\n",
    "if s.startswith('M'): print (s.upper())\n",
    "\n",
    "print(s.lower())\n",
    "print(\"~\"*79)\n",
    "\n",
    "# what will happen? \n",
    "print (3 * s) \n",
    "\n",
    "# print(dir(s))"
   ]
  },
  {
   "cell_type": "code",
   "execution_count": 26,
   "metadata": {
    "collapsed": false,
    "deletable": true,
    "editable": true
   },
   "outputs": [
    {
     "name": "stdout",
     "output_type": "stream",
     "text": [
      "   Murthy 5\n",
      "Murthy 5\n"
     ]
    },
    {
     "ename": "TypeError",
     "evalue": "must be str, not int",
     "output_type": "error",
     "traceback": [
      "\u001b[1;31m---------------------------------------------------------------------------\u001b[0m",
      "\u001b[1;31mTypeError\u001b[0m                                 Traceback (most recent call last)",
      "\u001b[1;32m<ipython-input-26-2f1f7b8c8aee>\u001b[0m in \u001b[0;36m<module>\u001b[1;34m()\u001b[0m\n\u001b[0;32m      3\u001b[0m \u001b[0mprint\u001b[0m\u001b[1;33m(\u001b[0m\u001b[0ms\u001b[0m \u001b[1;33m+\u001b[0m \u001b[0mstr\u001b[0m\u001b[1;33m(\u001b[0m\u001b[0mage\u001b[0m\u001b[1;33m)\u001b[0m\u001b[1;33m)\u001b[0m\u001b[1;33m\u001b[0m\u001b[0m\n\u001b[0;32m      4\u001b[0m \u001b[0mprint\u001b[0m\u001b[1;33m(\u001b[0m\u001b[0ms\u001b[0m\u001b[1;33m.\u001b[0m\u001b[0mstrip\u001b[0m\u001b[1;33m(\u001b[0m\u001b[1;33m)\u001b[0m\u001b[1;33m,\u001b[0m \u001b[0mage\u001b[0m\u001b[1;33m)\u001b[0m\u001b[1;33m\u001b[0m\u001b[0m\n\u001b[1;32m----> 5\u001b[1;33m \u001b[0mprint\u001b[0m\u001b[1;33m(\u001b[0m\u001b[0ms\u001b[0m \u001b[1;33m+\u001b[0m \u001b[0mage\u001b[0m\u001b[1;33m)\u001b[0m\u001b[1;33m\u001b[0m\u001b[0m\n\u001b[0m",
      "\u001b[1;31mTypeError\u001b[0m: must be str, not int"
     ]
    }
   ],
   "source": [
    "s = \"   Murthy \"\n",
    "age = 5\n",
    "print(s + str(age))\n",
    "print(s.strip(), age)\n",
    "print(s + age)"
   ]
  },
  {
   "cell_type": "code",
   "execution_count": 17,
   "metadata": {
    "collapsed": false,
    "deletable": true,
    "editable": true
   },
   "outputs": [
    {
     "name": "stdout",
     "output_type": "stream",
     "text": [
      "20\n",
      "12\n",
      "    Mayank Johri\n",
      "Mayank Johri    \n"
     ]
    }
   ],
   "source": [
    "st = \"    Mayank Johri    \"\n",
    "print(len(st))\n",
    "s = st.strip()\n",
    "print(len(s))\n",
    "print(st.rstrip())\n",
    "print(st.lstrip())"
   ]
  },
  {
   "cell_type": "code",
   "execution_count": 29,
   "metadata": {
    "collapsed": false,
    "deletable": true,
    "editable": true
   },
   "outputs": [
    {
     "name": "stdout",
     "output_type": "stream",
     "text": [
      "mon,tues,wed\n",
      ",\n",
      ",\n",
      "O,n, ,L,e,a,v,e\n"
     ]
    }
   ],
   "source": [
    "m = \"Stuti Saxena\"\n",
    "x = [\"mon\", \"tues\", \"wed\"]\n",
    "y = \",\"\n",
    "a = \"On Leave\"\n",
    "print(y.join(x)) # -> mon, tues, wed\n",
    "print(m.join(y)) \n",
    "print(a.join(y))\n",
    "print(y.join(a)) "
   ]
  },
  {
   "cell_type": "markdown",
   "metadata": {
    "deletable": true,
    "editable": true
   },
   "source": [
    "----\n",
    "> ??? Resolution: # Since they are single element array this a is not printed, similar to last element printed"
   ]
  },
  {
   "cell_type": "markdown",
   "metadata": {
    "deletable": true,
    "editable": true
   },
   "source": [
    "The operator `%` is used for string interpolation. The interpolation is more efficient in use of memory than the conventional concatenation.\n",
    "\n",
    "Symbols used in the interpolation:\n",
    "\n",
    "+ %s: *string*.\n",
    "+ %d: integer.\n",
    "+ %o: octal.\n",
    "+ %x: hexacimal.\n",
    "+ %f: real.\n",
    "+ %e: real exponential.\n",
    "+ %%: percent sign.\n",
    "\n",
    "Symbols can be used to display numbers in various formats.\n",
    "\n",
    "*Example*:"
   ]
  },
  {
   "cell_type": "code",
   "execution_count": 21,
   "metadata": {
    "collapsed": false,
    "deletable": true,
    "editable": true
   },
   "outputs": [
    {
     "name": "stdout",
     "output_type": "stream",
     "text": [
      "Now is 16:30.\n",
      "Percent: 5.3%, Exponencial:3.14e-03\n",
      "Decimal: 10, Octal: 12, Hexadecimal: a\n"
     ]
    }
   ],
   "source": [
    "# Zeros left\n",
    "print ('Now is %02d:%02d.' % (16, 30))\n",
    "\n",
    "# Real (The number after the decimal point specifies how many decimal digits )\n",
    "print ('Percent: %.1f%%, Exponencial:%.2e' % (5.333, 0.00314))\n",
    "\n",
    "# Octal and hexadecimal\n",
    "print ('Decimal: %d, Octal: %o, Hexadecimal: %x' % (10, 10, 10))"
   ]
  },
  {
   "cell_type": "markdown",
   "metadata": {
    "deletable": true,
    "editable": true
   },
   "source": [
    "### format\n",
    "In addition to interpolation operator `%`, the string method and function `format()` is available.\n",
    "\n",
    "> The function `format()` can be used only to format one piece of data each time.\n",
    "\n",
    "*Examples*:"
   ]
  },
  {
   "cell_type": "code",
   "execution_count": 33,
   "metadata": {
    "collapsed": false,
    "deletable": true,
    "editable": true
   },
   "outputs": [
    {
     "name": "stdout",
     "output_type": "stream",
     "text": [
      "Mayank is friend of Manish\n",
      "Mayank is reportee of Roshan Musheer\n",
      "Good Morning, it is 09:30\n",
      "{greeting}, it is {hour:02d}:{minute:02d}\n",
      "Pi = 3.142e+00\n",
      "Pi = 3.1e+00\n"
     ]
    }
   ],
   "source": [
    "peoples = [('Mayank', 'friend', 'Manish'),\n",
    "('Mayank', 'reportee', 'Roshan Musheer')]\n",
    "\n",
    "# Parameters are identified by order\n",
    "msg = '{0} is {1} of {2}'\n",
    "\n",
    "for name, function, friend in peoples:\n",
    "    print(msg.format(name, function, friend))\n",
    "\n",
    "# Parameters are identified by name\n",
    "msg = '{greeting}, it is {hour:02d}:{minute:02d}'\n",
    "\n",
    "print( msg.format(greeting='Good Morning', hour=9, minute=30))\n",
    "print(msg)\n",
    "# Builtin function format()\n",
    "print ('Pi =', format(3.14159, '.3e'))\n",
    "print ('Pi =', format(3.14159, '.1e'))"
   ]
  },
  {
   "cell_type": "markdown",
   "metadata": {
    "deletable": true,
    "editable": true
   },
   "source": [
    "## Slices\n",
    "\n",
    "*Slices* of *strings* can be obtained by adding indexes between brackets after a  *string*.\n",
    "\n",
    "![Slicing strings](files/bpyfd_diags4.png)\n",
    "\n",
    "### Python indexes:\n",
    "-------\n",
    "\n",
    "+ Start with zero.\n",
    "+ Count from the end if they are negative.\n",
    "+ Can be defined as sections, in the form `[start: end + 1: step]`. If not set the start, it will be considered as zero. If not set end + 1, it will be considered the size of the object. The step (between characters), if not set, is 1.\n",
    "\n",
    "> **!!! TIP !!!**: \n",
    "It is possible to invert *strings* by using a negative step:"
   ]
  },
  {
   "cell_type": "code",
   "execution_count": 1,
   "metadata": {
    "collapsed": false,
    "deletable": true,
    "editable": true
   },
   "outputs": [
    {
     "name": "stdout",
     "output_type": "stream",
     "text": [
      "Ma\n",
      "Ma\n",
      "irhoJ knayaM\n",
      "Mayank Jo\n",
      "dteepi\n",
      "eepi\n",
      "dte\n",
      "ipeetd\n",
      "mlmne\n",
      "ml\n"
     ]
    }
   ],
   "source": [
    "p = \"Mayank Johri\"\n",
    "print(p[0:2]) \n",
    "print(p[:2])\n",
    "print (p[::-1])\n",
    "print(p[:-3])\n",
    "print(\"implemented\"[::-2])\n",
    "print(\"implemented\"[-5::-2])\n",
    "print(\"implemented\"[:-7:-2])\n",
    "print(\"implemented\"[::2])\n",
    "print(\"implemented\"[1::2])\n",
    "print(\"implemented\"[1:4:2]) "
   ]
  },
  {
   "cell_type": "code",
   "execution_count": 16,
   "metadata": {
    "collapsed": false,
    "deletable": true,
    "editable": true
   },
   "outputs": [
    {
     "name": "stdout",
     "output_type": "stream",
     "text": [
      "ello\n",
      "o\n",
      "l\n",
      "el\n",
      "ol\n",
      "o\n"
     ]
    }
   ],
   "source": [
    "str1=\"hello\"\n",
    "print(str1[1:])\n",
    "print(str1[-1:])\n",
    "print(str1[-2:4])\n",
    "print(str1[-4:-2])\n",
    "print(str1[-1:2:-1])\n",
    "print(str1[4])\n",
    "# a b c d   "
   ]
  },
  {
   "cell_type": "markdown",
   "metadata": {
    "deletable": true,
    "editable": true
   },
   "source": [
    "-----\n",
    "> ?1 -> starts from i(**m**) and ends"
   ]
  },
  {
   "cell_type": "markdown",
   "metadata": {
    "deletable": true,
    "editable": true
   },
   "source": [
    "### `str` in-build module\n",
    "\n",
    "Strings implement all of the common sequence operations, along with the additional methods described below."
   ]
  },
  {
   "cell_type": "code",
   "execution_count": 3,
   "metadata": {
    "collapsed": false,
    "deletable": true,
    "editable": true
   },
   "outputs": [
    {
     "name": "stdout",
     "output_type": "stream",
     "text": [
      "Maya deploy, version: 0.0.3 \n",
      "                maya Deploy, version: 0.0.3                 \n",
      "****************maya Deploy, version: 0.0.3 ****************\n",
      "maya Deploy, version: 0.0.3 \n",
      "2\n",
      "2\n",
      "False\n",
      "False\n",
      "True\n",
      "-1\n",
      "6\n"
     ]
    }
   ],
   "source": [
    "myStr = \"maya Deploy, version: 0.0.3 \"\n",
    "\n",
    "print(myStr.capitalize())\n",
    "print(myStr.center(60))\n",
    "print(myStr.center(60, \"*\"))\n",
    "print(myStr.center(10, \"*\"))\n",
    "\n",
    "print(myStr.count('a'))\n",
    "print(myStr.count('e'))\n",
    "\n",
    "print(myStr.endswith('all'))\n",
    "\n",
    "print(myStr.endswith('.0.3'))\n",
    "print(myStr.endswith('.0.3 '))\n",
    "\n",
    "print(myStr.find(\"g\"))\n",
    "print(myStr.find(\"e\"))"
   ]
  },
  {
   "cell_type": "markdown",
   "metadata": {
    "deletable": true,
    "editable": true
   },
   "source": [
    "> **Note**: The find() method should be used only if you need to know the position of sub. To check if sub is a substring or not, use the in operator:"
   ]
  },
  {
   "cell_type": "markdown",
   "metadata": {
    "deletable": true,
    "editable": true
   },
   "source": [
    "checking: substring in main_string : returns true or false"
   ]
  },
  {
   "cell_type": "code",
   "execution_count": 6,
   "metadata": {
    "collapsed": false,
    "deletable": true,
    "editable": true
   },
   "outputs": [
    {
     "name": "stdout",
     "output_type": "stream",
     "text": [
      "True\n"
     ]
    }
   ],
   "source": [
    "print(\"m\" in myStr)"
   ]
  },
  {
   "cell_type": "code",
   "execution_count": 5,
   "metadata": {
    "collapsed": false,
    "deletable": true,
    "editable": true
   },
   "outputs": [
    {
     "name": "stdout",
     "output_type": "stream",
     "text": [
      "False\n"
     ]
    }
   ],
   "source": [
    "print(\"M\" in myStr)"
   ]
  },
  {
   "cell_type": "code",
   "execution_count": 34,
   "metadata": {
    "collapsed": false,
    "deletable": true,
    "editable": true
   },
   "outputs": [
    {
     "name": "stdout",
     "output_type": "stream",
     "text": [
      "True\n",
      "False\n"
     ]
    }
   ],
   "source": [
    "c = \"one\"\n",
    "print(c.isalpha())\n",
    "c = \"1\"\n",
    "print(c.isalpha())"
   ]
  },
  {
   "cell_type": "code",
   "execution_count": 39,
   "metadata": {
    "collapsed": false,
    "deletable": true,
    "editable": true
   },
   "outputs": [
    {
     "name": "stdout",
     "output_type": "stream",
     "text": [
      "੫\n",
      "True\n",
      "True\n",
      "10 -> True\n",
      "False\n",
      "False\n",
      "True\n",
      "False\n"
     ]
    }
   ],
   "source": [
    "superscripts = \"\\u00B2\"\n",
    "five = \"\\u0A6B\"\n",
    "#str.isdecimal() (Only Decimal Numbers)\n",
    "print(five)\n",
    "print(c.isdecimal())\n",
    "print(five.isdecimal())\n",
    "print(\"10 ->\", \"10\".isdecimal())\n",
    "print(\"10.001\".isdecimal())\n",
    "\n",
    "str = u\"this 2009\";  \n",
    "print(str.isdecimal())\n",
    "\n",
    "str = u\"23443434\";\n",
    "print(str.isdecimal())\n",
    "print(fractions.isdecimal())"
   ]
  },
  {
   "cell_type": "code",
   "execution_count": 42,
   "metadata": {
    "collapsed": false,
    "deletable": true,
    "editable": true
   },
   "outputs": [
    {
     "name": "stdout",
     "output_type": "stream",
     "text": [
      "¼\n",
      "True\n",
      "False\n",
      "True\n",
      "True\n",
      "False\n",
      "False\n"
     ]
    }
   ],
   "source": [
    "# str.isdigit() (Decimals, Subscripts, Superscripts)\n",
    "fractions = \"\\u00BC\"\n",
    "print(fractions)\n",
    "print(c.isdigit())\n",
    "print(fractions.isdigit())\n",
    "print(five.isdigit())\n",
    "\n",
    "print(\"10\".isdigit())\n",
    "str = u\"this 2009\";  \n",
    "print(str.isdigit())\n",
    "\n",
    "str = u\"23443.434\";\n",
    "print(str.isdigit())"
   ]
  },
  {
   "cell_type": "code",
   "execution_count": 29,
   "metadata": {
    "collapsed": false,
    "deletable": true,
    "editable": true
   },
   "outputs": [
    {
     "name": "stdout",
     "output_type": "stream",
     "text": [
      "²\n",
      "True\n",
      "False\n",
      "²²\n",
      "¼¼\n"
     ]
    }
   ],
   "source": [
    "print(superscripts)\n",
    "print(superscripts.isdigit())\n",
    "print(superscripts.isdecimal()) \n",
    "print(superscripts+superscripts)\n",
    "print(fractions+fractions)"
   ]
  },
  {
   "cell_type": "code",
   "execution_count": 30,
   "metadata": {
    "collapsed": false,
    "deletable": true,
    "editable": true
   },
   "outputs": [
    {
     "name": "stdout",
     "output_type": "stream",
     "text": [
      "¼\n",
      "True\n",
      "True\n"
     ]
    }
   ],
   "source": [
    "# str.isnumeric() (Digits, Fractions, Subscripts, Superscripts, Roman Numerals, Currency Numerators)\n",
    "print(fractions)\n",
    "print(fractions.isnumeric())\n",
    "print(five.isnumeric())"
   ]
  },
  {
   "cell_type": "code",
   "execution_count": null,
   "metadata": {
    "collapsed": true,
    "deletable": true,
    "editable": true
   },
   "outputs": [],
   "source": []
  },
  {
   "cell_type": "code",
   "execution_count": 31,
   "metadata": {
    "collapsed": false,
    "deletable": true,
    "editable": true
   },
   "outputs": [
    {
     "name": "stdout",
     "output_type": "stream",
     "text": [
      "False\n",
      "True\n",
      "True\n"
     ]
    }
   ],
   "source": [
    "print(myStr.isalnum())\n",
    "print(\"one\".isalnum())\n",
    "print(\"thirteen\".isalnum())"
   ]
  },
  {
   "cell_type": "markdown",
   "metadata": {
    "deletable": true,
    "editable": true
   },
   "source": [
    "### String Module\n",
    "-----\n",
    "\n",
    "Various functions for dealing with text are implemented in the module *string*."
   ]
  },
  {
   "cell_type": "code",
   "execution_count": 14,
   "metadata": {
    "collapsed": false,
    "deletable": true,
    "editable": true
   },
   "outputs": [
    {
     "name": "stdout",
     "output_type": "stream",
     "text": [
      "['ChainMap', 'Formatter', 'Template', '_TemplateMetaclass', '__builtins__', '__cached__', '__doc__', '__file__', '__loader__', '__name__', '__package__', '__spec__', '_re', '_string', 'ascii_letters', 'ascii_lowercase', 'ascii_uppercase', 'capwords', 'digits', 'hexdigits', 'octdigits', 'printable', 'punctuation', 'whitespace']\n",
      "abcdefghijklmnopqrstuvwxyzABCDEFGHIJKLMNOPQRSTUVWXYZ\n",
      "bcdefghijklmnopqrstuvwxyzABCDEFGHIJKLMNOPQRSTUVWXYZa\n",
      "str(object='') -> str\n",
      "str(bytes_or_buffer[, encoding[, errors]]) -> str\n",
      "\n",
      "Create a new string object from the given object. If encoding or\n",
      "errors is specified, then the object must expose a data buffer\n",
      "that will be decoded using the given encoding and error handler.\n",
      "Otherwise, returns the result of object.__str__() (if defined)\n",
      "or repr(object).\n",
      "encoding defaults to sys.getdefaultencoding().\n",
      "errors defaults to 'strict'.\n",
      "0123456789\n",
      "0123456789abcdefABCDEF\n",
      "no Python documentation found for '0123456789abcdefghijklmnopqrstuvwxyzABCDEFGHIJKLMNOPQRSTUVWXYZ!\"#$%&\\'()*+,-./:;<=>?@[\\\\]^_`{|}~'\n",
      "\n",
      "None\n"
     ]
    }
   ],
   "source": [
    "import string\n",
    "\n",
    "# the alphabet\n",
    "print(dir(string))\n",
    "a = string.ascii_letters\n",
    "print(a)\n",
    "# Shifting left the alphabet\n",
    "b = a[1:] + a[0]\n",
    "print(b)\n",
    "print(b.__doc__)\n",
    "print(string.digits)\n",
    "print(string.hexdigits)\n",
    "print(help(string.printable))"
   ]
  },
  {
   "cell_type": "markdown",
   "metadata": {
    "deletable": true,
    "editable": true
   },
   "source": [
    "#### Template\n",
    "\n",
    "The module also implements a type called *Template*, which is a model *string* that can be filled through a dictionary. Identifiers are initialized by a dollar sign ($) and may be surrounded by curly braces, to avoid confusion.\n",
    "\n",
    "Example:"
   ]
  },
  {
   "cell_type": "code",
   "execution_count": 3,
   "metadata": {
    "collapsed": false,
    "deletable": true,
    "editable": true
   },
   "outputs": [
    {
     "name": "stdout",
     "output_type": "stream",
     "text": [
      "Lack of electricity occurred in April 3, 2002 $what\n"
     ]
    }
   ],
   "source": [
    "import string\n",
    "\n",
    "# Creates a template string\n",
    "st = string.Template('$warning occurred in $when $$what')\n",
    "\n",
    "# Fills the model with a dictionary\n",
    "s = st.substitute({'warning': 'Lack of electricity',\n",
    "    'when': 'April 3, 2002'})\n",
    "\n",
    "# Shows:\n",
    "# Lack of electricity occurred in April 3, 2002\n",
    "print(s)"
   ]
  },
  {
   "cell_type": "code",
   "execution_count": 34,
   "metadata": {
    "collapsed": false,
    "deletable": true,
    "editable": true
   },
   "outputs": [
    {
     "name": "stdout",
     "output_type": "stream",
     "text": [
      "b'H\\xfcsker D\\xfc' => <class 'bytes'>\n",
      "'Hüsker Dü' => <class 'str'>\n"
     ]
    }
   ],
   "source": [
    "# Unicode String \n",
    "u = u'Hüsker Dü'\n",
    "# Convert to str\n",
    "s = u.encode('latin1')\n",
    "print (s, '=>', type(s))\n",
    "\n",
    "# String str\n",
    "s = 'Hüsker Dü'\n",
    "# u = s.decode('latin1')\n",
    "\n",
    "print (repr(u), '=>', type(u))"
   ]
  },
  {
   "cell_type": "markdown",
   "metadata": {
    "deletable": true,
    "editable": true
   },
   "source": [
    "To use both methods, it is necessary to pass as an argument the compliant coding. The most used are \"latin1\" \"utf8\".\n",
    "\n",
    "Lists\n",
    "------\n",
    "Lists are collections of heterogeneous objects, which can be of any type, including other lists.\n",
    "\n",
    "Lists in the Python are mutable and can be changed at any time. Lists can be sliced ​​in the same way as *strings*, but as the lists are mutable, it is possible to make assignments to the list items.\n",
    "\n",
    "Syntax:\n",
    "\n",
    "    list = [a, b, ..., z]\n",
    "\n",
    "Common operations with lists:"
   ]
  },
  {
   "cell_type": "code",
   "execution_count": 23,
   "metadata": {
    "collapsed": false,
    "deletable": true,
    "editable": true
   },
   "outputs": [
    {
     "name": "stdout",
     "output_type": "stream",
     "text": [
      "Apple, Mango, Grapes, Jackfruit, Apple, Banana, Grapes, [1, 'Orange'], ******************************\n",
      "['kiwi', 'Apple', 'Mango', 'Grapes', 'Jackfruit', 'Apple', 'Banana', 'Grapes', [1, 'Orange'], 'Camel']\n"
     ]
    }
   ],
   "source": [
    "fruits = ['Apple', 'Mango', 'Grapes', 'Jackfruit', \n",
    "          'Apple', 'Banana', 'Grapes', [1, \"Orange\"]]\n",
    "\n",
    "# processing the entire list\n",
    "for fruit in fruits:\n",
    "     print(fruit,  end=\", \")\n",
    "\n",
    "#\n",
    "print(\"*\"*30)\n",
    "\n",
    "\n",
    "fruits.insert(0, \"kiwi\")\n",
    "# help(fruits.insert)\n",
    "# Including\n",
    "fruits.append('Camel')\n",
    "print(fruits)\n"
   ]
  },
  {
   "cell_type": "code",
   "execution_count": 25,
   "metadata": {
    "collapsed": false,
    "deletable": true,
    "editable": true
   },
   "outputs": [
    {
     "name": "stdout",
     "output_type": "stream",
     "text": [
      "['kiwi', 'Apple', 'Mango', 'Grapes', 'Jackfruit', 'Apple', 'Banana', [1, 'Orange'], 'Camel']\n"
     ]
    }
   ],
   "source": [
    "\n",
    "# # # # Removing\n",
    "\n",
    "## Removing the second instance of Grapes\n",
    "x = 0\n",
    "y = 0\n",
    "for fruit in fruits:\n",
    "    if x == 1 and fruit == 'Grapes':\n",
    "#          del (fruits[y])\n",
    "        fruits.pop(y)\n",
    "    elif fruit == 'Grapes':\n",
    "        x = 1\n",
    "    y +=1\n",
    "    \n",
    "print(fruits)   "
   ]
  },
  {
   "cell_type": "code",
   "execution_count": 6,
   "metadata": {
    "collapsed": false,
    "deletable": true,
    "editable": true
   },
   "outputs": [
    {
     "name": "stdout",
     "output_type": "stream",
     "text": [
      "['Apple', 'Mango', 'Grapes', 'Jackfruit', 'Apple', 'Banana', [1, 'Orange']]\n"
     ]
    }
   ],
   "source": [
    "\n",
    "     \n",
    "\n",
    "\n",
    "\n",
    "\n",
    "# # # fruits.remove('Grapes')\n",
    "# # print(fruits)\n",
    "# # fruits.append(\"Grapes\")\n",
    "\n",
    "# while('Grapes' in fruits ):\n",
    "#     fruits.remove('Grapes')\n",
    "#     print(fruits)\n",
    "# # # # Ordering \n",
    "# # These will work on only homogeneous list and will fail for heterogeneous\n",
    "# fruits.sort()\n",
    "# print(fruits)\n",
    "\n",
    "# # # # Inverting\n",
    "# fruits.reverse()\n",
    "# print(fruits)\n",
    "\n",
    "# # # # prints with number order\n",
    "# for i, prog in enumerate(fruits):\n",
    "#     print( i + 1, '=>', prog)\n",
    "# print(len(fruits))\n",
    "# # # prints from de second item\n",
    "# print (fruits[1:])"
   ]
  },
  {
   "cell_type": "markdown",
   "metadata": {
    "deletable": true,
    "editable": true
   },
   "source": [
    "The function `enumerate()` returns a tuple of two elements in each iteration: a sequence number and an item from the corresponding sequence.\n",
    "\n",
    "The list has a `pop()` method that helps the implementation of queues and stacks:"
   ]
  },
  {
   "cell_type": "code",
   "execution_count": 30,
   "metadata": {
    "collapsed": false,
    "deletable": true,
    "editable": true
   },
   "outputs": [
    {
     "name": "stdout",
     "output_type": "stream",
     "text": [
      "list: ['A', 'B', 'C']\n",
      "Left A , remain 2 ['B', 'C']\n",
      "Left B , remain 1 ['C']\n",
      "Left C , remain 0 []\n",
      "list: ['G', 'D', 'E', 'F']\n",
      "Left F , remain 3\n",
      "Left E , remain 2\n",
      "Left D , remain 1\n",
      "Left G , remain 0\n"
     ]
    }
   ],
   "source": [
    "my_list = ['A', 'B', 'C']\n",
    "print ('list:', my_list)\n",
    "\n",
    "# # The empty list is evaluated as false\n",
    "while my_list:\n",
    "    # In queues, the first item is the first to go out\n",
    "    # pop(0) removes and returns the first item \n",
    "    print ('Left', my_list.pop(0), ', remain', len(my_list), my_list)\n",
    "\n",
    "my_list.append(\"G\")\n",
    "# # More items on the list\n",
    "my_list += ['D', 'E', 'F']\n",
    "print ('list:', my_list)\n",
    "\n",
    "while my_list:\n",
    "    # On stacks, the first item is the last to go out\n",
    "    # pop() removes and retorns the last item\n",
    "    print ('Left', my_list.pop(), ', remain', len(my_list))"
   ]
  },
  {
   "cell_type": "code",
   "execution_count": 39,
   "metadata": {
    "collapsed": false,
    "deletable": true,
    "editable": true
   },
   "outputs": [
    {
     "name": "stdout",
     "output_type": "stream",
     "text": [
      "['D', 'E', 'F', 'G', 'H']\n",
      "['__add__', '__class__', '__contains__', '__delattr__', '__delitem__', '__dir__', '__doc__', '__eq__', '__format__', '__ge__', '__getattribute__', '__getitem__', '__gt__', '__hash__', '__iadd__', '__imul__', '__init__', '__iter__', '__le__', '__len__', '__lt__', '__mul__', '__ne__', '__new__', '__reduce__', '__reduce_ex__', '__repr__', '__reversed__', '__rmul__', '__setattr__', '__setitem__', '__sizeof__', '__str__', '__subclasshook__', 'append', 'clear', 'copy', 'count', 'extend', 'index', 'insert', 'pop', 'remove', 'reverse', 'sort']\n",
      "********\n",
      "['__add__', '__class__', '__contains__', '__delattr__', '__dir__', '__doc__', '__eq__', '__format__', '__ge__', '__getattribute__', '__getitem__', '__getnewargs__', '__gt__', '__hash__', '__init__', '__iter__', '__le__', '__len__', '__lt__', '__mul__', '__ne__', '__new__', '__reduce__', '__reduce_ex__', '__repr__', '__rmul__', '__setattr__', '__sizeof__', '__str__', '__subclasshook__', 'count', 'index']\n"
     ]
    }
   ],
   "source": [
    "l = ['D', 'E', 'F', \"G\", \"H\"]\n",
    "print(l)\n",
    "k = ('D', \"E\", \"G\", \"H\")\n",
    "print(dir(l))\n",
    "print(\"*\"*8)\n",
    "print(dir(k))\n"
   ]
  },
  {
   "cell_type": "markdown",
   "metadata": {
    "deletable": true,
    "editable": true
   },
   "source": [
    "The sort (*sort*) and reversal (*reverse*) operations are performed in the list and do not create new lists.\n",
    "\n",
    "Tuples\n",
    "------\n",
    "Similar to lists, but immutable: it's not possible to append, delete or make assignments to the items.\n",
    "\n",
    "Syntax:\n",
    "\n",
    "    my_tuple = (a, b, ..., z)\n",
    "\n",
    "The parentheses are optional.\n",
    "\n",
    "Feature: a tuple with only one element is represented as:\n",
    "\n",
    "t1 = (1,)\n",
    "\n",
    "The tuple elements can be referenced the same way as the elements of a list:\n",
    "\n",
    "    first_element = tuple[0]\n",
    "\n",
    "Lists can be converted into tuples:\n",
    "\n",
    "    my_tuple = tuple(my_list)\n",
    "\n",
    "And tuples can be converted into lists:\n",
    "\n",
    "    my_list = list(my_tuple)\n",
    "\n",
    "While tuple can contain mutable elements, these elements can not undergo assignment, as this would change the reference to the object.\n",
    "\n",
    "Example (using the interactive mode):"
   ]
  },
  {
   "cell_type": "code",
   "execution_count": 66,
   "metadata": {
    "collapsed": false,
    "deletable": true,
    "editable": true
   },
   "outputs": [
    {
     "name": "stdout",
     "output_type": "stream",
     "text": [
      "([1, 2], 4)\n",
      " :: Error :: \n",
      "([[1, 2, 3], 2], 4)\n",
      "1\n",
      "2\n",
      "3\n",
      "4\n",
      "5\n",
      "1\n",
      "2\n",
      "3\n",
      "4\n",
      "5\n"
     ]
    }
   ],
   "source": [
    "t = ([1, 2], 4)\n",
    "print(t)\n",
    "print(\" :: Error :: \")\n",
    "\n",
    "# t[0] = 3\n",
    "# print(t)\n",
    "\n",
    "# t[0] = [1, 2, 3]\n",
    "# print(t)\n",
    "\n",
    "# t[0].append(3)\n",
    "# print(t)\n",
    "t[0][0] = [1, 2, 3]\n",
    "print(t)\n",
    "\n",
    "ta = (1, 2, 3, 4, 5)\n",
    "\n",
    "for a in ta:\n",
    "    print (a)\n",
    "        \n",
    "ta1 = [1, 2, 3, 4, 5]\n",
    "for a in ta1:\n",
    "    print(a)"
   ]
  },
  {
   "cell_type": "markdown",
   "metadata": {
    "deletable": true,
    "editable": true
   },
   "source": [
    "**NOTE**: Tuples are more efficient than conventional lists, as they consume less computing resources (memory) because they are simpler structures the same way *immutable* strings are in relation to *mutable* strings."
   ]
  },
  {
   "cell_type": "markdown",
   "metadata": {
    "deletable": true,
    "editable": true
   },
   "source": [
    "### Lists Versus Tuples\n",
    "\n",
    "Tuples are used to collect an immutable ordered list of elements. This means that to a tuple (**limitation**):\n",
    "\n",
    "- elements can't be added, thus There’s no append() or extend() method for tuples,\n",
    "- elements can't be removed, thus Tuples have no remove() or pop() method,\n",
    "\n",
    "So, if we have a constant set of values and only we will iterate through it than use a tuple instead of a list as It is faster & safer than working with lists, as the tuples contain “write-protect” data."
   ]
  },
  {
   "cell_type": "markdown",
   "metadata": {
    "deletable": true,
    "editable": true
   },
   "source": [
    "Other types of sequences\n",
    "--------------------------\n",
    "Also in the *builtins*, Python provides:\n",
    "\n",
    "+ *set*: mutable sequence univocal (without repetitions) unordered.\n",
    "+ *frozenset*: immutable sequence univocal unordered.\n",
    "\n",
    "Both types implement set operations, such as: union, intersection e difference.\n",
    "\n",
    "Example:"
   ]
  },
  {
   "cell_type": "code",
   "execution_count": 37,
   "metadata": {
    "collapsed": false,
    "deletable": true,
    "editable": true
   },
   "outputs": [
    {
     "name": "stdout",
     "output_type": "stream",
     "text": [
      "(1, 2, 3, 'Aasdf', [1, 3, 5])\n",
      "(1, 2, 3, 'Aasdf', [1, 'test', 5])\n",
      "(1, 2, 3, 'Aasdf', [1, 'test', 5, 'testing'])\n"
     ]
    },
    {
     "ename": "TypeError",
     "evalue": "'tuple' object does not support item assignment",
     "output_type": "error",
     "traceback": [
      "\u001b[0;31m---------------------------------------------------------------------------\u001b[0m",
      "\u001b[0;31mTypeError\u001b[0m                                 Traceback (most recent call last)",
      "\u001b[0;32m<ipython-input-37-e7c27041ba5e>\u001b[0m in \u001b[0;36m<module>\u001b[0;34m()\u001b[0m\n\u001b[1;32m      5\u001b[0m \u001b[0mtest\u001b[0m\u001b[0;34m[\u001b[0m\u001b[0;34m-\u001b[0m\u001b[0;36m1\u001b[0m\u001b[0;34m]\u001b[0m\u001b[0;34m.\u001b[0m\u001b[0mappend\u001b[0m\u001b[0;34m(\u001b[0m\u001b[0;34m\"testing\"\u001b[0m\u001b[0;34m)\u001b[0m\u001b[0;34m\u001b[0m\u001b[0m\n\u001b[1;32m      6\u001b[0m \u001b[0mprint\u001b[0m\u001b[0;34m(\u001b[0m\u001b[0mtest\u001b[0m\u001b[0;34m)\u001b[0m\u001b[0;34m\u001b[0m\u001b[0m\n\u001b[0;32m----> 7\u001b[0;31m \u001b[0mtest\u001b[0m\u001b[0;34m[\u001b[0m\u001b[0;34m-\u001b[0m\u001b[0;36m1\u001b[0m\u001b[0;34m]\u001b[0m \u001b[0;34m=\u001b[0m \u001b[0;34m\"\"\u001b[0m\u001b[0;34m\u001b[0m\u001b[0m\n\u001b[0m\u001b[1;32m      8\u001b[0m \u001b[0mprint\u001b[0m\u001b[0;34m(\u001b[0m\u001b[0mtest\u001b[0m\u001b[0;34m)\u001b[0m\u001b[0;34m\u001b[0m\u001b[0m\n",
      "\u001b[0;31mTypeError\u001b[0m: 'tuple' object does not support item assignment"
     ]
    }
   ],
   "source": [
    "test = (1, 2, 3, \"Aasdf\", [1, 3, 5])\n",
    "print(test)\n",
    "test[-1][1]= \"test\"  \n",
    "print(test)\n",
    "test[-1].append(\"testing\")\n",
    "print(test)\n",
    "test[-1] = \"\"\n",
    "print(test)"
   ]
  },
  {
   "cell_type": "code",
   "execution_count": 38,
   "metadata": {
    "collapsed": false,
    "deletable": true,
    "editable": true
   },
   "outputs": [
    {
     "name": "stdout",
     "output_type": "stream",
     "text": [
      "([1, 2], 4)\n",
      "<class 'list'>\n",
      "([1, [5], 5, 5], 4)\n"
     ]
    }
   ],
   "source": [
    "s1 = (1,2,3)\n",
    "# print(s1)\n",
    "# print(len(s1))\n",
    "# print(s1.append(4))\n",
    "s2 = ([1,2], 4)\n",
    "print(s2)\n",
    "\n",
    "# s2[0][1] = [5]\n",
    "x = s2[0]\n",
    "x[1] = [5]\n",
    "x.append(5)\n",
    "print(type(x))\n",
    "s2[0].append(5)\n",
    "# s2[0] = [6]\n",
    "print(s2)"
   ]
  },
  {
   "cell_type": "code",
   "execution_count": 39,
   "metadata": {
    "collapsed": false,
    "deletable": true,
    "editable": true
   },
   "outputs": [
    {
     "name": "stdout",
     "output_type": "stream",
     "text": [
      "((1, 2), (21, 22), (31, 31), (41, 42))\n",
      "2\n",
      "22\n",
      "21\n",
      "(1, 2)\n"
     ]
    }
   ],
   "source": [
    "s = ((1,2),(21,22),(31,31),(41,42))\n",
    "print(s)\n",
    "print(s[0][1])\n",
    "print(s[1][1])\n",
    "print(s[1][0])\n",
    "print(s[0])"
   ]
  },
  {
   "cell_type": "code",
   "execution_count": 40,
   "metadata": {
    "collapsed": false,
    "deletable": true,
    "editable": true
   },
   "outputs": [
    {
     "name": "stdout",
     "output_type": "stream",
     "text": [
      "s1: {0, 1, 2} \n",
      "s2: {8, 9, 10} \n",
      "s3: {8, 2, 4, 6}\n",
      "Union of s1 and s2: {0, 1, 2, 8, 9, 10}\n",
      "Union of s2 and s1: {0, 1, 2, 8, 9, 10}\n",
      "Difference with s3: {0, 1, 10, 9}\n",
      "Intersection with s3: {8, 2}\n",
      "s1 includes 1 and 2\n",
      "s1 and s2 have no common elements\n",
      "s2 includes all items from s4\n",
      "s2 and s3 have common elements\n"
     ]
    }
   ],
   "source": [
    "# Data sets\n",
    "s1 = set(range(3))\n",
    "s2 = set(range(10, 7, -1))\n",
    "s3 = set(range(2, 10, 2))\n",
    "s4 = [8, 9]\n",
    "\n",
    "# Shows the data\n",
    "print ('s1:', s1, '\\ns2:', s2, '\\ns3:', s3)\n",
    "\n",
    "# Union\n",
    "s1s2 = s1.union(s2)\n",
    "print ('Union of s1 and s2:', s1s2)\n",
    "s2s1 = s2.union(s1)\n",
    "print ('Union of s2 and s1:', s2s1)\n",
    "\n",
    "# Difference\n",
    "print ('Difference with s3:', s1s2.difference(s3))\n",
    "\n",
    "# Intersectiono\n",
    "print ('Intersection with s3:', s1s2.intersection(s3))\n",
    "\n",
    "# Tests if a set includes the other\n",
    "if s1.issuperset([1, 2]):\n",
    "    print ('s1 includes 1 and 2')\n",
    "\n",
    "# Tests if there is no common elements\n",
    "if s1.isdisjoint(s2):\n",
    "    print ('s1 and s2 have no common elements')\n",
    "\n",
    "# Tests if a set includes the other\n",
    "if s2.issuperset(s4):\n",
    "    print ('s2 includes all items from s4')\n",
    "else:\n",
    "    print(\"s2 does not include all items from s4\")\n",
    "\n",
    "# Tests if there is no common elements\n",
    "if s2.isdisjoint(s3):\n",
    "    print ('s2 and s3 have no common elements')\n",
    "else:\n",
    "    print(\"s2 and s3 have common elements\")"
   ]
  },
  {
   "cell_type": "markdown",
   "metadata": {
    "deletable": true,
    "editable": true
   },
   "source": [
    "When one list is converted to a *set*, the repetitions are discarded.\n",
    "\n",
    "In version 2.6, a *builtin* type for mutable characters list, called *bytearray* is also available.\n",
    "\n",
    "Dictionaries\n",
    "-----------\n",
    "A dictionary is a list of associations composed by a unique key and corresponding structures. Dictionaries are mutable, like lists.\n",
    "\n",
    "The key must be an immutable type, usually strings, but can also be tuples or numeric types. On the other hand the items of dictionaries can be either mutable or immutable. The Python dictionary provides no guarantee that the keys are ordered.\n",
    "\n",
    "Syntax:\n",
    "\n",
    "    dictionary = {'a': a, 'b': b, ..., 'z': z}\n",
    "\n",
    "Structure:\n",
    "\n",
    "![Structure of a dictionary](files/bpyfd_diags5.png)\n",
    "\n",
    "Example of a dictionary:\n",
    "\n",
    "    dic = {'name': 'Dabar', 'band': 'Honey'}\n",
    "\n",
    "Acessing elements:\n",
    "\n",
    "    print dic['name']\n",
    "\n",
    "Adding elements:\n",
    "\n",
    "    dic['value'] = '120'\n",
    "\n",
    "Removing one elemento from a dictionary:\n",
    "\n",
    "    del dic['value']\n",
    "\n",
    "Getting the items, keys and values:\n",
    "\n",
    "    items = dic.items()\n",
    "    keys = dic.keys()\n",
    "    values = dic.values()\n",
    "\n",
    "Examples with dictionaries:"
   ]
  },
  {
   "cell_type": "code",
   "execution_count": 68,
   "metadata": {
    "collapsed": false,
    "deletable": true,
    "editable": true
   },
   "outputs": [
    {
     "name": "stdout",
     "output_type": "stream",
     "text": [
      "{'name': 'Dabar New', 'band': 'Honey'}\n"
     ]
    }
   ],
   "source": [
    "dic = {'name': 'Dabar', 'name': 'Dabar New', 'band': 'Honey'}\n",
    "print(dic)"
   ]
  },
  {
   "cell_type": "code",
   "execution_count": 1,
   "metadata": {
    "collapsed": false,
    "deletable": true,
    "editable": true
   },
   "outputs": [
    {
     "name": "stdout",
     "output_type": "stream",
     "text": [
      "('ELP', ['Brain Salad Surgery'])\n",
      "('King Crimson', ['Red', 'Discipline'])\n",
      "('Yes', ['Close To The Edge', 'Fragile'])\n",
      "('Genesis', ['Foxtrot', 'The Nursery Crime'])\n",
      "ELP => ['Brain Salad Surgery']\n",
      "King Crimson => ['Red', 'Discipline']\n",
      "Yes => ['Close To The Edge', 'Fragile']\n",
      "Genesis => ['Foxtrot', 'The Nursery Crime']\n",
      "{'King Crimson': ['Red', 'Discipline'], 'Yes': ['Close To The Edge', 'Fragile'], 'Genesis': ['Foxtrot', 'The Nursery Crime']}\n"
     ]
    }
   ],
   "source": [
    "# Progs and their albums\n",
    "progs = {'Yes': ['Close To The Edge', 'Fragile'],\n",
    "    'Genesis': ['Foxtrot', 'The Nursery Crime'],\n",
    "    'ELP': ['Brain Salad Surgery']}\n",
    "\n",
    "# More progs\n",
    "progs['King Crimson'] = ['Red', 'Discipline']\n",
    "\n",
    "# items() returns a list of \n",
    "# tuples with key and value \n",
    "for albums in progs.items():\n",
    "    print(albums)\n",
    "\n",
    "# for prog, albums in progs.items():\n",
    "#     print(prog, '=>', albums)\n",
    "\n",
    "    \n",
    "# for prog, albums in progs.values():\n",
    "#     print(prog, '=>', albums)\n",
    "\n",
    "for prog in progs:\n",
    "    print(prog, \"=>\", progs[prog])\n",
    "    \n",
    "# If there is 'ELP', removes\n",
    "if 'ELP' in progs:\n",
    "    del progs['ELP']\n",
    "    \n",
    "print(progs)"
   ]
  },
  {
   "cell_type": "code",
   "execution_count": 5,
   "metadata": {
    "collapsed": false
   },
   "outputs": [
    {
     "name": "stdout",
     "output_type": "stream",
     "text": [
      "{'students_details': {'students': ['Mayank', 'Vishal', 'Rajeev']}, 'school': 'DMS'}\n"
     ]
    }
   ],
   "source": [
    "multid = {'school': 'DMS',\n",
    "          'students_details': {\n",
    "              \"students\": \n",
    "                  [\n",
    "                      \"Mayank\",\n",
    "                      \"Vishal\",\n",
    "                      \"Rajeev\"\n",
    "                  ]\n",
    "          }}\n",
    "print(multid)"
   ]
  },
  {
   "cell_type": "code",
   "execution_count": 8,
   "metadata": {
    "collapsed": false
   },
   "outputs": [
    {
     "name": "stdout",
     "output_type": "stream",
     "text": [
      "{'test': 'TESt value', 'meme': 'wewe'}\n",
      "test\n",
      "meme\n"
     ]
    }
   ],
   "source": [
    "dupli = {\n",
    "    \"meme\" : \"mjmj\",\n",
    "    \"test\" : \"TESt value\",\n",
    "    \"meme\" : \"wewe\"\n",
    "}\n",
    "\n",
    "print(dupli)\n",
    "for k in dupli:\n",
    "    print(k)"
   ]
  },
  {
   "cell_type": "code",
   "execution_count": 43,
   "metadata": {
    "collapsed": false,
    "deletable": true,
    "editable": true
   },
   "outputs": [
    {
     "name": "stdout",
     "output_type": "stream",
     "text": [
      "{(5, 4): 6, (3, 7): 3, (1, 0): 9, (4, 6): 5, (2, 9): 4}\n",
      "Complete matrix size: 72\n",
      "Sparse matrix size: 5\n"
     ]
    }
   ],
   "source": [
    "# Matrix in form of string\n",
    "matrix = '''0 0 0 0 0 0 0 0 0 0 0 0\n",
    "9 0 0 0 0 0 0 0 0 0 0 0\n",
    "0 0 0 0 0 0 0 0 0 4 0 0\n",
    "0 0 0 0 0 0 0 3 0 0 0 0\n",
    "0 0 0 0 0 0 5 0 0 0 0 0\n",
    "0 0 0 0 6 0 0 0 0 0 0 0'''\n",
    "\n",
    "mat = {}\n",
    "\n",
    "# split the matrix in lines\n",
    "for row, line in enumerate(matrix.splitlines()):\n",
    "\n",
    "    # Splits the line int cols\n",
    "    for col, column in enumerate(line.split()):\n",
    "\n",
    "        column = int(column)\n",
    "        # Places the column in the result,\n",
    "        # if it is differente from zero\n",
    "        if column:\n",
    "            mat[row, col] = column\n",
    "\n",
    "print (mat)\n",
    "# The counting starts with zero\n",
    "print ('Complete matrix size:', (row + 1) * (col + 1))\n",
    "print ('Sparse matrix size:', len(mat))"
   ]
  },
  {
   "cell_type": "markdown",
   "metadata": {
    "deletable": true,
    "editable": true
   },
   "source": [
    "The sparse matrix is a good solution for processing structures in which most of the items remain empty, like spreadsheets for example.\n",
    "\n",
    "True, False and Null\n",
    "------------------------\n",
    "In Python, the boolean type (*bool*) is a specialization of the integer type (*int*). The *True* value is equal to 1, while the *False* value is equal to zero.\n",
    "\n",
    "The following values ​​are considered false:\n",
    "\n",
    "+ `False`.\n",
    "+ `None` (null).\n",
    "+ `0` (zero).\n",
    "+ `''` (empty string).\n",
    "+ `[]` (empty list).\n",
    "+ `()` (empty tuple).\n",
    "+ `{}` (emtpy dicionary).\n",
    "+ Other structures with size equal zero.\n",
    "\n",
    "All other objects out of that list are considered true.\n",
    "\n",
    "The object *None*, which is of type *NoneType*, in Python represents the null and is evaluated as false by the interpreter.\n",
    "\n",
    "Boolean Operators\n",
    "--------------------\n",
    "With logical operators it is possible to build more complex conditions to control conditional jumps and loops.\n",
    "\n",
    "Boolean operators in Python are: *and*, *or* , *not* , *is* , *in*.\n",
    "\n",
    "+ `and`: returns a true value if and only if it receives two expressions that are true.\n",
    "+ `or` : returns a false value if and only if it receives two expressions that are false.\n",
    "+ `not` : returns false if it receives a true expression and vice versa.\n",
    "+ `is`: returns true if it receives two references to the same object false otherwise.\n",
    "+ `in` : returns true if you receive an item and a list and the item occur one or more times in the list false otherwise.\n",
    "\n",
    "The calculation of the resulting operation *and* is as follows: if the first expression is true, the result will be the second expression, otherwise it will be the first. \n",
    "\n",
    "As for the operator *or* if the first expression is false, the result will be the second expression, otherwise it will be the first. For other operators, the return will be of type bool (True or False).\n",
    "\n",
    "Examples:"
   ]
  },
  {
   "cell_type": "code",
   "execution_count": 44,
   "metadata": {
    "collapsed": false,
    "deletable": true,
    "editable": true
   },
   "outputs": [
    {
     "name": "stdout",
     "output_type": "stream",
     "text": [
      "0\n",
      "3\n",
      "3\n",
      "2\n",
      "True\n",
      "False\n",
      "True\n",
      "False\n"
     ]
    }
   ],
   "source": [
    "print (0 and 3) # Shows 0\n",
    "print (2 and 3 )# Shows 3\n",
    "\n",
    "print (0 or 3) # Shows 3\n",
    "print (2 or 3) # Shows 2\n",
    "\n",
    "print (not 0) # Shows True\n",
    "print (not 2) # Shows False\n",
    "print (2 in (2, 3)) # Shows True\n",
    "print (2 is 3) # Shows False"
   ]
  },
  {
   "cell_type": "markdown",
   "metadata": {
    "deletable": true,
    "editable": true
   },
   "source": [
    "Besides boolean operators, there are the functions `all()`, which returns true when all of the items in the sequence passed as parameters are true, and `any()`, which returns true if any item is true."
   ]
  },
  {
   "cell_type": "markdown",
   "metadata": {
    "deletable": true,
    "editable": true
   },
   "source": [
    "## Excercise \n",
    "1. What will be the output of the following code snippets?\n",
    "\n",
    "a. \n",
    "```python\n",
    "a=[1,2,3,4,5,6,7,8,9]\n",
    "print(a[::2])\n",
    "```\n",
    "b. \n",
    "```python\n",
    "a=[1,2,3,4,5,6,7,8,9]\n",
    "a[::2]=10,20,30,40,50,60\n",
    "print(a)\n",
    "```\n",
    "c.\n",
    "```python\n",
    "a=[1,2,3,4,5]\n",
    "print(a[3:0:-1])\n",
    "```\n",
    "d.\n",
    "```python\n",
    "arr = [[1, 2, 3, 4],\n",
    "       [4, 5, 6, 7],\n",
    "       [8, 9, 10, 11],\n",
    "       [12, 13, 14, 15]]\n",
    "for i in range(0, 4):\n",
    "    print(arr[i].pop())\n",
    "```\n",
    "e.\n",
    "```python\n",
    "arr = [1, 2, 3, 4, 5, 6]\n",
    "for i in range(1, 6):\n",
    "    arr[i - 1] = arr[i]\n",
    "for i in range(0, 6): \n",
    "    print(arr[i], end = \" \")\n",
    "```\n",
    "f. \n",
    "```python\n",
    "nums = set([1,1,2,3,3,3,4])\n",
    "print len(nums)\n",
    "```\n",
    "g.\n",
    "```python\n",
    "numbers = [1, 2, 3, 4]\n",
    "\n",
    "numbers.append([5,6,7,8])\n",
    "\n",
    "print len(numbers)\n",
    "```\n",
    "h.\n",
    "```python\n",
    "names1 = ['Amir', 'Barry', 'Chales', 'Dao']\n",
    "names2 = names1\n",
    "names3 = names1[:]\n",
    "\n",
    "names2[0] = 'Alice'\n",
    "names3[1] = 'Bob'\n",
    "\n",
    "sum = 0\n",
    "for ls in (names1, names2, names3):\n",
    "    if ls[0] == 'Alice':\n",
    "        sum += 1\n",
    "    if ls[1] == 'Bob':\n",
    "        sum += 10\n",
    "\n",
    "print(sum)\n",
    "```\n",
    "\n",
    "i.\n",
    "```python\n",
    "names1 = ['Amir', 'Barry', 'Chales', 'Dao']\n",
    "\n",
    "loc = names1.index(\"Edward\")\n",
    "\n",
    "print (loc)\n",
    "```\n",
    "\n",
    "j.\n",
    "```python\n",
    "list1 = [1, 2, 3, 4]\n",
    "list2 = [5, 6, 7, 8]\n",
    "\n",
    "print len(list1 + list2)\n",
    "```\n",
    "\n",
    "k.\n",
    "```python\n",
    "list1 = [1, 2, 3, 8, 4]\n",
    "list2 = [5, 6, 7, 8, 2]\n",
    "\n",
    "print len(set(list1 + list2))\n",
    "```\n",
    "\n",
    "2. Write a Python script to add key to a dictionary. \n",
    "> Sample Dictionary : {0: 10, 1: 20}\n",
    "> Expected Result : {0: 10, 1: 20, 2: 30}\n",
    "3. Write a Python script to concatenate following dictionaries to create a new one. \n",
    "> Sample Dictionary :\n",
    "> dic1={1:10, 2:20}\n",
    "> dic2={3:30, 4:40}\n",
    "> dic3={5:50,6:60}\n",
    "> Expected Result : {1: 10, 2: 20, 3: 30, 4: 40, 5: 50, 6: 60}\n",
    "4. Write a Python script to check if a given key already exists in a dictionary. \n",
    "5. Write a Python program to iterate over dictionaries using for loops. \n",
    "6. Write a Python script to generate and print a dictionary that contains number (between 1 and n) in the form (x, x*x). \n",
    "Sample Dictionary ( n = 5) :\n",
    "Expected Output : {1: 1, 2: 4, 3: 9, 4: 16, 5: 25}\n",
    "\n",
    "8. Write a Python script to merge two Python dictionaries. \n",
    "9. Write a Python script to sort (ascending and descending) a dictionary by value. \n",
    "10. Write a Python program to sum all the items in a dictionary. \n",
    "11. Write a Python program to multiply all the items in a dictionary. \n",
    "12. Write a Python program to remove a key from a dictionary. \n",
    "13. Write a Python program to map two lists into a dictionary. \n",
    "14. Write a Python program to sort a dictionary by key. \n",
    "15. Write a Python program to get the maximum and minimum value in a dictionary. \n",
    "16. ** TODO: Write a Python program to get a dictionary from an object's fields. ** \n",
    "17. Write a Python program to remove duplicates (in terms of value) from Dictionary. \n",
    "18. Write a Python program to check a dictionary is empty or not.\n"
   ]
  }
 ],
 "metadata": {
  "anaconda-cloud": {},
  "kernelspec": {
   "display_name": "Python 3",
   "language": "python",
   "name": "python3"
  },
  "language_info": {
   "codemirror_mode": {
    "name": "ipython",
    "version": 3
   },
   "file_extension": ".py",
   "mimetype": "text/x-python",
   "name": "python",
   "nbconvert_exporter": "python",
   "pygments_lexer": "ipython3",
   "version": "3.4.6"
  }
 },
 "nbformat": 4,
 "nbformat_minor": 1
}
