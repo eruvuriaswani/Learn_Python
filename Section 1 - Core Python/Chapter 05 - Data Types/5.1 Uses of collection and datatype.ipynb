{
 "cells": [
  {
   "cell_type": "markdown",
   "metadata": {},
   "source": [
    "# Chapter 5.1 - Usess of collection and datatype\n"
   ]
  },
  {
   "cell_type": "markdown",
   "metadata": {},
   "source": [
    "## Transform Lists into Other Data Structures\n",
    "### Convert A Python List To A String\n",
    "You convert a list to a string by using `''.join()`. This operation allows you to glue together all strings in your list together and return them as a string"
   ]
  },
  {
   "cell_type": "code",
   "execution_count": 1,
   "metadata": {},
   "outputs": [
    {
     "name": "stdout",
     "output_type": "stream",
     "text": [
      "OneTwoThree\n",
      "123\n"
     ]
    }
   ],
   "source": [
    "# List of Strings to a String\n",
    "listOfStrings = ['One', 'Two', 'Three']\n",
    "strOfStrings = ''.join(listOfStrings)\n",
    "print(strOfStrings)\n",
    "\n",
    "# List Of Integers to a String\n",
    "listOfNumbers = [1, 2, 3]\n",
    "strOfNumbers = ''.join(str(n) for n in listOfNumbers)\n",
    "print(strOfNumbers)"
   ]
  },
  {
   "cell_type": "markdown",
   "metadata": {},
   "source": [
    "### Convert A List To A Tuple\n",
    "You can change a list to a tuple in Python by using the tuple() function. Pass your list to this function and you will get a tuple back!\n",
    "\n",
    "**NOTE**: tuples are immutable thus can’t change them afterwards :("
   ]
  },
  {
   "cell_type": "code",
   "execution_count": null,
   "metadata": {
    "collapsed": true
   },
   "outputs": [],
   "source": []
  },
  {
   "cell_type": "markdown",
   "metadata": {},
   "source": [
    "### Convert Your List To A Set In Python\n",
    "a set is an unordered collection of unique items. That means not only means that any duplicates that you might have had in your original list will be lost once you convert it to a set, but also the order of the list elements.\n",
    "\n",
    "You can change a list into a set with the set() function. Just pass your list to it!"
   ]
  },
  {
   "cell_type": "code",
   "execution_count": null,
   "metadata": {
    "collapsed": true
   },
   "outputs": [],
   "source": []
  },
  {
   "cell_type": "markdown",
   "metadata": {},
   "source": [
    "### Convert Lists To A Dictionaries\n",
    "A dictionary works with keys and values, so the conversion from a list to a dictionary might be less straightforward.\n",
    "`helloWorld = ['hello','world','1','2']`\n",
    "\n",
    "You will need to make sure that `hello` and `world` and ‘1’ and ‘2’ are interpreted as key-value pairs. The way to do this is to select them with the slice notation and pass them to zip().\n",
    "\n",
    "zip() actually works like expected: it zips elements together. In this case, when you zip the helloWorld elements helloWorld[0::2] and helloWorld[1::2]"
   ]
  },
  {
   "cell_type": "code",
   "execution_count": 4,
   "metadata": {},
   "outputs": [
    {
     "name": "stdout",
     "output_type": "stream",
     "text": [
      "[('hello',), ('world',), ('1',), ('2',)]\n",
      "{'hello': 'world', '1': '2'}\n"
     ]
    }
   ],
   "source": [
    "helloWorld = ['hello','world','1','2']\n",
    "# print(list(zip(helloWorld)))\n",
    "\n",
    "helloWorldDictionary = dict(zip(helloWorld[0::2], helloWorld[1::2]))\n",
    "\n",
    "# Print out the result\n",
    "print(helloWorldDictionary)"
   ]
  },
  {
   "cell_type": "markdown",
   "metadata": {},
   "source": [
    "Note that the second element that is passed to the zip() function makes use of the step value to make sure that only the world and 2 elements are selected. Likewise, the first element uses the step value to select hello and 1.\n",
    "\n",
    "If your list is large, you will probably want to do something like this:"
   ]
  },
  {
   "cell_type": "code",
   "execution_count": 8,
   "metadata": {},
   "outputs": [
    {
     "name": "stdout",
     "output_type": "stream",
     "text": [
      "{}\n"
     ]
    }
   ],
   "source": [
    "a = [1, 2, 3, 4, 5]\n",
    "\n",
    "# Create a list iterator object\n",
    "i = iter(a)\n",
    "for k in i:\n",
    "    print(k)\n",
    "\n",
    "# Zip and create a dictionary\n",
    "print(dict(zip(i, i)))"
   ]
  },
  {
   "cell_type": "code",
   "execution_count": 11,
   "metadata": {},
   "outputs": [
    {
     "name": "stdout",
     "output_type": "stream",
     "text": [
      "[1, 2, 3, [4, 5]]\n",
      "[1, 2, 3, 4, 5]\n"
     ]
    }
   ],
   "source": [
    "## Difference Between The Python append() and extend() Methods?\n",
    "# Append [4,5] to `shortList`\n",
    "# This is your list\n",
    "shortList  = [1, 2, 3]\n",
    "longerList = [1, 2, 3]\n",
    "# Check whether it's iterable\n",
    "list.__iter__\n",
    "\n",
    "shortList.append([4, 5])\n",
    "\n",
    "# Use the `print()` method to show `shortList`\n",
    "print(shortList)\n",
    "\n",
    "# Extend `longerList` with [4,5]\n",
    "longerList.extend([4, 5])\n",
    "\n",
    "# Use the `print()` method to see `longerList`\n",
    "print(longerList)"
   ]
  },
  {
   "cell_type": "markdown",
   "metadata": {},
   "source": [
    "## Clone Or Copy A List in Python\n",
    "here are a lot of ways of cloning or copying a list:\n",
    "\n",
    "    You can slice your original list and store it into a new variable: newList = oldList[:]\n",
    "    You can use the built-in list() function: newList = list(oldList)\n",
    "    You can use the copy library:\n",
    "        With the copy() method: newList = copy.copy(oldList)\n",
    "        If your list contains objects and you want to copy those as well, you can use copy.deepcopy(): copy.deepcopy(oldList)\n"
   ]
  },
  {
   "cell_type": "code",
   "execution_count": 14,
   "metadata": {
    "collapsed": true
   },
   "outputs": [],
   "source": [
    "# Copy the grocery list by slicing and store it in the `newGroceries` variable\n",
    "groceries = [1, 2, 3, 4, 5, 6]\n",
    "newGroceries = groceries[:]\n",
    "# Copy the grocery list with the `list()` function and store it in a `groceriesForFriends` variable\n",
    "groceriesForFriends = list(groceries)\n",
    "# Import the copy library\n",
    "import copy as c\n",
    "# Create a `groceriesForFamily` variable and assign the copied grocery list to it\n",
    "groceriesForFamily = c.copy(groceries)\n",
    "# Use `deepcopy()` and assign the copied list to a `groceriesForKids` variable\n",
    "groceriesForKids = c.deepcopy(groceries)"
   ]
  }
 ],
 "metadata": {
  "kernelspec": {
   "display_name": "Python 3",
   "language": "python",
   "name": "python3"
  },
  "language_info": {
   "codemirror_mode": {
    "name": "ipython",
    "version": 3
   },
   "file_extension": ".py",
   "mimetype": "text/x-python",
   "name": "python",
   "nbconvert_exporter": "python",
   "pygments_lexer": "ipython3",
   "version": "3.4.6"
  }
 },
 "nbformat": 4,
 "nbformat_minor": 2
}
