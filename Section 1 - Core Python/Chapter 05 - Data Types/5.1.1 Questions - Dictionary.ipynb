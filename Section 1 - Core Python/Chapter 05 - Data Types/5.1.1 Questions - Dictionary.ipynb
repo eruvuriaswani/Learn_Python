{
 "cells": [
  {
   "cell_type": "markdown",
   "metadata": {},
   "source": [
    "# Questions - Dictionary\n",
    "---"
   ]
  },
  {
   "cell_type": "markdown",
   "metadata": {},
   "source": [
    "**Q: Which of the following statements create a dictionary?(multiple answers allowed)**\n",
    "\n",
    "1. d = {}\n",
    "2. d = {\"mayank\":40, \"janki mohan johri\":68}\n",
    "3. d = {40:\"mayank\", 45:\"janki mohan johri\"}\n",
    "4. d = (40:\"mayank\", 45:\"janki mohan johri\")"
   ]
  },
  {
   "cell_type": "markdown",
   "metadata": {},
   "source": [
    "**Q: What will be the output of the followings**"
   ]
  },
  {
   "cell_type": "code",
   "execution_count": 1,
   "metadata": {},
   "outputs": [
    {
     "name": "stdout",
     "output_type": "stream",
     "text": [
      "True\n"
     ]
    }
   ],
   "source": [
    "d = {\"johri\":40, \"mayank\":45}\n",
    "print(\"johri\" in d)"
   ]
  },
  {
   "cell_type": "code",
   "execution_count": 6,
   "metadata": {},
   "outputs": [
    {
     "name": "stdout",
     "output_type": "stream",
     "text": [
      "False\n"
     ]
    }
   ],
   "source": [
    "d1 = {\"johri\":40, \"mayank\":45}\n",
    "d2 = {\"johri\":466, \"mayank\":45}\n",
    "print(d1 == d2)"
   ]
  },
  {
   "cell_type": "code",
   "execution_count": 2,
   "metadata": {},
   "outputs": [
    {
     "name": "stdout",
     "output_type": "stream",
     "text": [
      "True\n"
     ]
    }
   ],
   "source": [
    "d1 = {\"johri\":40, \"mayank\":45}\n",
    "d2 = {\"johri\":466, \"mayank\":45}\n",
    "print(d1 != d2)"
   ]
  },
  {
   "cell_type": "code",
   "execution_count": 1,
   "metadata": {},
   "outputs": [
    {
     "ename": "TypeError",
     "evalue": "'<' not supported between instances of 'dict' and 'dict'",
     "output_type": "error",
     "traceback": [
      "\u001b[1;31m---------------------------------------------------------------------------\u001b[0m",
      "\u001b[1;31mTypeError\u001b[0m                                 Traceback (most recent call last)",
      "\u001b[1;32m<ipython-input-1-b27d0a647056>\u001b[0m in \u001b[0;36m<module>\u001b[1;34m()\u001b[0m\n\u001b[0;32m      1\u001b[0m \u001b[0md1\u001b[0m \u001b[1;33m=\u001b[0m \u001b[1;33m{\u001b[0m\u001b[1;34m\"johri\"\u001b[0m\u001b[1;33m:\u001b[0m\u001b[1;36m40\u001b[0m\u001b[1;33m,\u001b[0m \u001b[1;34m\"mayank\"\u001b[0m\u001b[1;33m:\u001b[0m\u001b[1;36m45\u001b[0m\u001b[1;33m}\u001b[0m\u001b[1;33m\u001b[0m\u001b[0m\n\u001b[0;32m      2\u001b[0m \u001b[0md2\u001b[0m \u001b[1;33m=\u001b[0m \u001b[1;33m{\u001b[0m\u001b[1;34m\"johri\"\u001b[0m\u001b[1;33m:\u001b[0m\u001b[1;36m466\u001b[0m\u001b[1;33m,\u001b[0m \u001b[1;34m\"mayank\"\u001b[0m\u001b[1;33m:\u001b[0m\u001b[1;36m45\u001b[0m\u001b[1;33m}\u001b[0m\u001b[1;33m\u001b[0m\u001b[0m\n\u001b[1;32m----> 3\u001b[1;33m \u001b[0mprint\u001b[0m\u001b[1;33m(\u001b[0m\u001b[0md1\u001b[0m \u001b[1;33m<\u001b[0m \u001b[0md2\u001b[0m\u001b[1;33m)\u001b[0m\u001b[1;33m\u001b[0m\u001b[0m\n\u001b[0m",
      "\u001b[1;31mTypeError\u001b[0m: '<' not supported between instances of 'dict' and 'dict'"
     ]
    }
   ],
   "source": [
    "d1 = {\"johri\":40, \"mayank\":45}\n",
    "d2 = {\"johri\":466, \"mayank\":45}\n",
    "print(d1 < d2)\n",
    "print(d1 > d2)"
   ]
  },
  {
   "cell_type": "code",
   "execution_count": 11,
   "metadata": {},
   "outputs": [
    {
     "name": "stdout",
     "output_type": "stream",
     "text": [
      "<class 'str'>\n",
      "<class 'str'>\n",
      "['johri', 'mayank']\n",
      "johri 40\n",
      "mayank 45\n"
     ]
    }
   ],
   "source": [
    "d = {\"johri\":40, \"mayank\":45}\n",
    "for a in d:\n",
    "    print(type(a))\n",
    "\n",
    "print(list(d))\n",
    "\n",
    "for a, b in d.items():\n",
    "    print(a, b)"
   ]
  }
 ],
 "metadata": {
  "kernelspec": {
   "display_name": "Python 3",
   "language": "python",
   "name": "python3"
  },
  "language_info": {
   "codemirror_mode": {
    "name": "ipython",
    "version": 3
   },
   "file_extension": ".py",
   "mimetype": "text/x-python",
   "name": "python",
   "nbconvert_exporter": "python",
   "pygments_lexer": "ipython3",
   "version": "3.6.2"
  }
 },
 "nbformat": 4,
 "nbformat_minor": 2
}
