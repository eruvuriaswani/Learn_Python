{
 "cells": [
  {
   "cell_type": "markdown",
   "metadata": {},
   "source": [
    "# Advance Data Types\n",
    "\n",
    "This section will cover the following advance topics in data types\n",
    "\n",
    "* Collections"
   ]
  },
  {
   "cell_type": "markdown",
   "metadata": {},
   "source": [
    "## Collections \n",
    "\n",
    "The collections module is a tresure trove of a built-in module that implements specialized container datatypes providing alternatives to Python’s general purpose built-in containers.\n",
    "This module implements specialized container datatypes providing alternatives to Python’s general purpose built-in containers, dict, list, set, and tuple.\n",
    "\n",
    "| Name | Description|\n",
    "|:-------------:|---------------|\n",
    "|namedtuple() |\tfactory function for creating tuple subclasses with named fields|\n",
    "|deque \t|list-like container with fast appends and pops on either end|\n",
    "|ChainMap \t|dict-like class for creating a single view of multiple mappings|\n",
    "|Counter |\tdict subclass for counting hashable objects|\n",
    "|OrderedDict |\tdict subclass that remembers the order entries were added|\n",
    "|defaultdict |\tdict subclass that calls a factory function to supply missing values|\n",
    "|UserDict |\twrapper around dictionary objects for easier dict subclassing|\n",
    "|UserList \t|wrapper around list objects for easier list subclassing|\n",
    "|UserString |\twrapper around string objects for easier string subclassing|"
   ]
  },
  {
   "cell_type": "markdown",
   "metadata": {},
   "source": [
    " ## ChainMap — Search Multiple Dictionaries"
   ]
  },
  {
   "cell_type": "markdown",
   "metadata": {},
   "source": [
    "The ChainMap class manages a list of dictionaries, and can be used to searche through them in the order they are added to find values for associated keys. \n",
    "\n",
    "It makes a good **\"context\" container**, as it can be visualised as a stack for which changes happen as soon as the stack grows, with these changes being discarded again as soon as the stack shrinks.\n",
    "\n",
    "Treat it as a view table in DB, where actual values are still stored in their respective table and we can still perform all the operation on them."
   ]
  },
  {
   "cell_type": "markdown",
   "metadata": {},
   "source": [
    "### Accessing Values\n",
    "\n",
    "The ChainMap supports the same API as a regular dictionary for accessing existing values."
   ]
  },
  {
   "cell_type": "code",
   "execution_count": 4,
   "metadata": {},
   "outputs": [
    {
     "name": "stdout",
     "output_type": "stream",
     "text": [
      "Individual Values\n",
      "a = A\n",
      "b = B\n",
      "c = C\n",
      "--------------------\n",
      "<class 'collections.abc.KeysView'>\n",
      "Keys = ['b', 'a', 'c']\n",
      "Values = ['B', 'A', 'C']\n",
      "--------------------\n",
      "Items:\n",
      "b = B\n",
      "a = A\n",
      "c = C\n",
      "--------------------\n",
      "\"d\" in m: False\n"
     ]
    }
   ],
   "source": [
    "import collections\n",
    "# from collections import ChainMap\n",
    "\n",
    "a = {'a': 'A', 'c': 'C'}\n",
    "b = {'b': 'B', 'c': 'D'}\n",
    "\n",
    "m = collections.ChainMap(a, b)\n",
    "\n",
    "print('Individual Values')\n",
    "print('a = {}'.format(m['a']))\n",
    "print('b = {}'.format(m['b']))\n",
    "print('c = {}'.format(m['c']))\n",
    "print(\"-\"*20)\n",
    "\n",
    "print(type(m.keys()))\n",
    "print('Keys = {}'.format(list(m.keys())))\n",
    "print('Values = {}'.format(list(m.values())))\n",
    "print(\"-\"*20)\n",
    "\n",
    "print('Items:')\n",
    "for k, v in m.items():\n",
    "    print('{} = {}'.format(k, v))\n",
    "print(\"-\"*20)\n",
    "\n",
    "print('\"d\" in m: {}'.format(('d' in m)))"
   ]
  },
  {
   "cell_type": "code",
   "execution_count": 9,
   "metadata": {},
   "outputs": [
    {
     "name": "stdout",
     "output_type": "stream",
     "text": [
      "['b', 'a', 'c', 'B', 'A', 'C']\n"
     ]
    }
   ],
   "source": [
    "a = {'a': 'A', 'c': 'C'}\n",
    "b = {'b': 'B', 'c': 'D'}\n",
    "\n",
    "m = collections.ChainMap(a, b)\n",
    "\n",
    "lst = []\n",
    "\n",
    "for v in m.keys():\n",
    "    lst.append(v)\n",
    "\n",
    "for v in m.values():\n",
    "    lst.append(v)\n",
    "\n",
    "print(lst)"
   ]
  },
  {
   "cell_type": "markdown",
   "metadata": {},
   "source": [
    "The child mappings are searched in the order they are passed to the constructor, so the value reported for the key 'c' comes from the a dictionary."
   ]
  },
  {
   "cell_type": "markdown",
   "metadata": {},
   "source": [
    "### Reordering\n",
    "\n",
    "The ChainMap stores the list of mappings over which it searches in a list in its maps attribute. This list is mutable, so it is possible to add new mappings directly or to change the order of the elements to control lookup and update behavior."
   ]
  },
  {
   "cell_type": "code",
   "execution_count": 12,
   "metadata": {},
   "outputs": [
    {
     "name": "stdout",
     "output_type": "stream",
     "text": [
      "[{'a': '1', 'c': '3'}, {'b': '2', 'c': '33'}]\n",
      "c = 3\n",
      "\n",
      "[{'b': '2', 'c': '33'}, {'a': '1', 'c': '3'}]\n",
      "c = 33\n"
     ]
    }
   ],
   "source": [
    "import collections\n",
    "\n",
    "a = {'a': '1', 'c': '3'}\n",
    "b = {'b': '2', 'c': '33'}\n",
    "\n",
    "cm = collections.ChainMap(a, b)\n",
    "\n",
    "print(cm.maps)\n",
    "print('c = {}\\n'.format(cm['c']))\n",
    "# reverse the list\n",
    "cm.maps = list(reversed(cm.maps)) # m = collections.ChainMap(b, a)\n",
    "\n",
    "print(cm.maps)\n",
    "print('c = {}'.format(cm['c']))"
   ]
  },
  {
   "cell_type": "markdown",
   "metadata": {},
   "source": [
    "When the list of mappings is reversed, the value associated with 'c' changes."
   ]
  },
  {
   "cell_type": "markdown",
   "metadata": {},
   "source": [
    "### Updating Values\n",
    "\n",
    "A ChainMap does not cache the values in the child mappings. Thus, if their contents are modified, the results are reflected when the ChainMap is accessed."
   ]
  },
  {
   "cell_type": "code",
   "execution_count": 13,
   "metadata": {},
   "outputs": [
    {
     "name": "stdout",
     "output_type": "stream",
     "text": [
      "Before: 3\n",
      "After : 3.3\n"
     ]
    }
   ],
   "source": [
    "import collections\n",
    "\n",
    "a = {'a': '1', 'c': '3'}\n",
    "b = {'b': '2', 'c': '33'}\n",
    "\n",
    "m = collections.ChainMap(a, b)\n",
    "print('Before: {}'.format(m['c']))\n",
    "a['c'] = '3.3'\n",
    "print('After : {}'.format(m['c']))"
   ]
  },
  {
   "cell_type": "code",
   "execution_count": 19,
   "metadata": {},
   "outputs": [
    {
     "name": "stdout",
     "output_type": "stream",
     "text": [
      "[{'b': '2', 'c': '33'}, {'a': '1', 'c': '3'}]\n",
      "Before: 33\n",
      "After : 33\n"
     ]
    }
   ],
   "source": [
    "import collections\n",
    "\n",
    "a = {'a': '1', 'c': '3'}\n",
    "b = {'b': '2', 'c': '33'}\n",
    "\n",
    "cm = collections.ChainMap(b, a)\n",
    "print(cm.maps)\n",
    "print('Before: {}'.format(cm['c']))\n",
    "a['c'] = '3.3'\n",
    "print('After : {}'.format(cm['c']))"
   ]
  },
  {
   "cell_type": "markdown",
   "metadata": {},
   "source": [
    "Changing the values associated with existing keys and adding new elements works the same way.\n",
    "\n",
    "It is also possible to set values through the ChainMap directly, although only the first mapping in the chain is actually modified."
   ]
  },
  {
   "cell_type": "code",
   "execution_count": 20,
   "metadata": {},
   "outputs": [
    {
     "name": "stdout",
     "output_type": "stream",
     "text": [
      "Before: 3\n",
      "After : 3.3\n",
      "3.3\n",
      "33\n"
     ]
    }
   ],
   "source": [
    "import collections\n",
    "\n",
    "a = {'a': '1', 'c': '3'}\n",
    "b = {'b': '2', 'c': '33'}\n",
    "\n",
    "cm = collections.ChainMap(a, b)\n",
    "print('Before: {}'.format(cm['c']))\n",
    "cm['c'] = '3.3'\n",
    "print('After : {}'.format(cm['c']))\n",
    "print(a['c'])\n",
    "print(b['c'])"
   ]
  },
  {
   "cell_type": "code",
   "execution_count": 21,
   "metadata": {},
   "outputs": [
    {
     "name": "stdout",
     "output_type": "stream",
     "text": [
      "Before: 33\n",
      "After : 3.3\n",
      "3\n",
      "3.3\n"
     ]
    }
   ],
   "source": [
    "import collections\n",
    "\n",
    "a = {'a': '1', 'c': '3'}\n",
    "b = {'b': '2', 'c': '33'}\n",
    "\n",
    "cm = collections.ChainMap(b, a)\n",
    "print('Before: {}'.format(cm['c']))\n",
    "cm['c'] = '3.3'\n",
    "print('After : {}'.format(cm['c']))\n",
    "print(a['c'])\n",
    "print(b['c'])"
   ]
  },
  {
   "cell_type": "code",
   "execution_count": 25,
   "metadata": {},
   "outputs": [
    {
     "name": "stdout",
     "output_type": "stream",
     "text": [
      "Before: 3\n",
      "After : 3\n",
      "[{'a': '1', 'c': '3', 'd': '3.3'}, {'b': '2', 'c': '33'}]\n",
      "{'a': '1', 'c': '3', 'd': '3.3'}\n",
      "{'b': '2', 'c': '33'}\n"
     ]
    }
   ],
   "source": [
    "import collections\n",
    "\n",
    "a = {'a': '1', 'c': '3'}\n",
    "b = {'b': '2', 'c': '33'}\n",
    "\n",
    "cm = collections.ChainMap(a, b)\n",
    "print('Before: {}'.format(cm['c']))\n",
    "cm['d'] = '3.3'\n",
    "print('After : {}'.format(cm['c']))\n",
    "print(cm.maps)\n",
    "print(a)\n",
    "print(b)"
   ]
  },
  {
   "cell_type": "markdown",
   "metadata": {},
   "source": [
    "When the new value is stored using m, the a mapping is updated."
   ]
  },
  {
   "cell_type": "markdown",
   "metadata": {},
   "source": [
    "ChainMap provides a convenience method for creating a new instance with one extra mapping at the front of the maps list to make it easy to avoid modifying the existing underlying data structures.\n",
    "\n",
    "This stacking behavior is what makes it convenient to use ChainMap instances as template or application contexts. Specifically, it is easy to add or update values in one iteration, then discard the changes for the next iteration."
   ]
  },
  {
   "cell_type": "code",
   "execution_count": 50,
   "metadata": {},
   "outputs": [
    {
     "name": "stdout",
     "output_type": "stream",
     "text": [
      "m1 before: ChainMap({'a': '1', 'c': '3'}, {'b': '2', 'c': '33'})\n",
      "m2 before: ChainMap({}, {'a': '1', 'c': '3'}, {'b': '2', 'c': '33'})\n",
      "m1 after: ChainMap({'a': '1', 'c': '3'}, {'b': '2', 'c': '33'})\n",
      "m2 after: ChainMap({'c': '3.3'}, {'a': '1', 'c': '3'}, {'b': '2', 'c': '33'})\n"
     ]
    }
   ],
   "source": [
    "import collections\n",
    "\n",
    "\n",
    "a = {'a': '1', 'c': '3'}\n",
    "b = {'b': '2', 'c': '33'}\n",
    "\n",
    "m1 = collections.ChainMap(a, b)\n",
    "m2 = m1.new_child()\n",
    "\n",
    "print('m1 before:', m1)\n",
    "print('m2 before:', m2)\n",
    "\n",
    "m2['c'] = '3.3'\n",
    "\n",
    "print('m1 after:', m1)\n",
    "print('m2 after:', m2)"
   ]
  },
  {
   "cell_type": "markdown",
   "metadata": {},
   "source": [
    "For situations where the new context is known or built in advance, it is also possible to pass a mapping to new_child()."
   ]
  },
  {
   "cell_type": "code",
   "execution_count": 51,
   "metadata": {},
   "outputs": [
    {
     "name": "stdout",
     "output_type": "stream",
     "text": [
      "m1[\"c\"] = 3\n",
      "m2[\"c\"] = 333\n",
      "ChainMap({'c': '333'}, {'a': '1', 'c': '3'}, {'b': '2', 'c': '33'})\n",
      "ChainMap({'c': '333'}, {'a': '1', 'c': '3'}, {'b': '2', 'c': '33'})\n"
     ]
    }
   ],
   "source": [
    "import collections\n",
    "\n",
    "\n",
    "a = {'a': '1', 'c': '3'}\n",
    "b = {'b': '2', 'c': '33'}\n",
    "c = {'c': '333'}\n",
    "\n",
    "m1 = collections.ChainMap(a, b)\n",
    "m2 = m1.new_child(c)\n",
    "\n",
    "print('m1[\"c\"] = {}'.format(m1['c']))\n",
    "print('m2[\"c\"] = {}'.format(m2['c']))\n",
    "print(m2)\n",
    "\n",
    "#This is the equivalent of\n",
    "m2_1 = collections.ChainMap(c, *m1.maps)\n",
    "print(m2_1)"
   ]
  },
  {
   "cell_type": "markdown",
   "metadata": {},
   "source": [
    "### Counter\n",
    "\n",
    "*Counter* is a *dict* subclass which helps count the hashable objects. It stores elements as dictionary keys and the counts of the objects as value. In other words , It is a container that keeps track of how many times equivalent values are present.\n",
    "\n",
    "**For example:**"
   ]
  },
  {
   "cell_type": "code",
   "execution_count": 33,
   "metadata": {},
   "outputs": [
    {
     "data": {
      "text/plain": [
       "[('the', 1150),\n",
       " ('and', 983),\n",
       " ('to', 772),\n",
       " ('of', 672),\n",
       " ('i', 638),\n",
       " ('you', 556),\n",
       " ('a', 550),\n",
       " ('my', 516),\n",
       " ('in', 450),\n",
       " ('it', 419)]"
      ]
     },
     "execution_count": 33,
     "metadata": {},
     "output_type": "execute_result"
    }
   ],
   "source": [
    "# Tally occurrences of words in a list\n",
    "from collections import Counter\n",
    "\n",
    "cnt = Counter()\n",
    "for word in ['red', 'blue', 'red', 'green', 'blue', 'blue']:\n",
    "    cnt[word] += 1\n",
    "\n",
    "Counter({'blue': 3, 'red': 2, 'green': 1})\n",
    "\n",
    "# Find the ten most common words in Hamlet\n",
    "import re\n",
    "words = re.findall(r'\\w+', open('hamlet.txt').read().lower())\n",
    "Counter(words).most_common(10)"
   ]
  },
  {
   "cell_type": "markdown",
   "metadata": {},
   "source": [
    "Where as Counter can be used:"
   ]
  },
  {
   "cell_type": "markdown",
   "metadata": {},
   "source": [
    "#### Counter() with lists"
   ]
  },
  {
   "cell_type": "code",
   "execution_count": 38,
   "metadata": {},
   "outputs": [
    {
     "name": "stdout",
     "output_type": "stream",
     "text": [
      "Counter({44: 4, 23: 3, 1: 2, 4: 1, 55: 1, 555: 1, 32: 1, 56: 1, 64: 1, 2: 1})\n",
      "[(44, 4), (23, 3), (1, 2), (4, 1)]\n"
     ]
    }
   ],
   "source": [
    "l = [1 ,23 , 23, 44, 4, 44, 55, 555, 44, 32, 23, 44, 56, 64, 2, 1]\n",
    "\n",
    "lstCounter = Counter(l)\n",
    "print(lstCounter)\n",
    "print(lstCounter.most_common(4))"
   ]
  },
  {
   "cell_type": "markdown",
   "metadata": {},
   "source": [
    "#### Counter with Strings"
   ]
  },
  {
   "cell_type": "code",
   "execution_count": 41,
   "metadata": {},
   "outputs": [
    {
     "data": {
      "text/plain": [
       "[('module', 2), ('a', 2), ('built-in', 2)]"
      ]
     },
     "execution_count": 41,
     "metadata": {},
     "output_type": "execute_result"
    }
   ],
   "source": [
    "sentance = \"The collections module is a tresure trove of a built-in module that implements \" + \\\n",
    "           \"specialized container datatypes providing alternatives to Python’s general purpose \" + \\\n",
    "           \"built-in containers.\"\n",
    "\n",
    "wordList = sentance.split(\" \")\n",
    "Counter(wordList).most_common(3)"
   ]
  },
  {
   "cell_type": "markdown",
   "metadata": {},
   "source": [
    "#### Counter methods"
   ]
  },
  {
   "cell_type": "code",
   "execution_count": 42,
   "metadata": {},
   "outputs": [
    {
     "name": "stdout",
     "output_type": "stream",
     "text": [
      "[('module', 2), ('a', 2), ('built-in', 2), ('The', 1)]\n",
      "dict_items([('The', 1), ('collections', 1), ('module', 2), ('is', 1), ('a', 2), ('tresure', 1), ('trove', 1), ('of', 1), ('built-in', 2), ('that', 1), ('implements', 1), ('specialized', 1), ('container', 1), ('datatypes', 1), ('providing', 1), ('alternatives', 1), ('to', 1), ('Python’s', 1), ('general', 1), ('purpose', 1), ('containers.', 1)])\n"
     ]
    }
   ],
   "source": [
    "# find the most common words\n",
    "\n",
    "# Methods with Counter()\n",
    "c = Counter(wordList)\n",
    "print(c.most_common(4))\n",
    "print(c.items())"
   ]
  },
  {
   "cell_type": "markdown",
   "metadata": {},
   "source": [
    "### Default dict \n",
    "The standard dictionary includes the method `setdefault()` for retrieving a value and establishing a default if the value does not exist. By contrast, defaultdict lets the caller specify the default up front when the container is initialized."
   ]
  },
  {
   "cell_type": "code",
   "execution_count": 48,
   "metadata": {},
   "outputs": [
    {
     "name": "stdout",
     "output_type": "stream",
     "text": [
      "{'a': 1, 'b': 2}\n",
      "1\n"
     ]
    },
    {
     "ename": "KeyError",
     "evalue": "'d'",
     "output_type": "error",
     "traceback": [
      "\u001b[1;31m---------------------------------------------------------------------------\u001b[0m",
      "\u001b[1;31mKeyError\u001b[0m                                  Traceback (most recent call last)",
      "\u001b[1;32m<ipython-input-48-f78105e82f88>\u001b[0m in \u001b[0;36m<module>\u001b[1;34m()\u001b[0m\n\u001b[0;32m      2\u001b[0m \u001b[0mprint\u001b[0m\u001b[1;33m(\u001b[0m\u001b[0md\u001b[0m\u001b[1;33m)\u001b[0m\u001b[1;33m\u001b[0m\u001b[0m\n\u001b[0;32m      3\u001b[0m \u001b[0mprint\u001b[0m\u001b[1;33m(\u001b[0m\u001b[0md\u001b[0m\u001b[1;33m[\u001b[0m\u001b[1;34m'a'\u001b[0m\u001b[1;33m]\u001b[0m\u001b[1;33m)\u001b[0m\u001b[1;33m\u001b[0m\u001b[0m\n\u001b[1;32m----> 4\u001b[1;33m \u001b[0mprint\u001b[0m\u001b[1;33m(\u001b[0m\u001b[0md\u001b[0m\u001b[1;33m[\u001b[0m\u001b[1;34m'd'\u001b[0m\u001b[1;33m]\u001b[0m\u001b[1;33m)\u001b[0m\u001b[1;33m\u001b[0m\u001b[0m\n\u001b[0m",
      "\u001b[1;31mKeyError\u001b[0m: 'd'"
     ]
    }
   ],
   "source": [
    "d = {\"a\": 1, \"b\": 2}\n",
    "print(d)\n",
    "print(d['a'])\n",
    "print(d['d'])"
   ]
  },
  {
   "cell_type": "code",
   "execution_count": 57,
   "metadata": {},
   "outputs": [
    {
     "name": "stdout",
     "output_type": "stream",
     "text": [
      "<class 'str'>\n",
      "defaultdict(<class 'object'>, {})\n",
      "<object object at 0x000002DB01A77310>\n",
      "defaultdict(<class 'object'>, {'one': <object object at 0x000002DB01A77310>})\n",
      "defaultdict(<class 'object'>, {'one': <object object at 0x000002DB01A77310>, 'Two': 2})\n",
      "one\n",
      "<object object at 0x000002DB01A77310>\n",
      "Two\n",
      "2\n"
     ]
    }
   ],
   "source": [
    "from collections import defaultdict\n",
    "\n",
    "dd  = defaultdict(object)\n",
    "print(dd)\n",
    "print(dd['one'])\n",
    "print(dd)\n",
    "dd['Two'] = 2\n",
    "print(dd)\n",
    "for d in dd:\n",
    "    print(d)\n",
    "    print(dd[d])"
   ]
  },
  {
   "cell_type": "code",
   "execution_count": 53,
   "metadata": {},
   "outputs": [
    {
     "name": "stdout",
     "output_type": "stream",
     "text": [
      "Help on class defaultdict in module collections:\n",
      "\n",
      "class defaultdict(builtins.dict)\n",
      " |  defaultdict(default_factory[, ...]) --> dict with default factory\n",
      " |  \n",
      " |  The default factory is called without arguments to produce\n",
      " |  a new value when a key is not present, in __getitem__ only.\n",
      " |  A defaultdict compares equal to a dict with the same items.\n",
      " |  All remaining arguments are treated the same as if they were\n",
      " |  passed to the dict constructor, including keyword arguments.\n",
      " |  \n",
      " |  Method resolution order:\n",
      " |      defaultdict\n",
      " |      builtins.dict\n",
      " |      builtins.object\n",
      " |  \n",
      " |  Methods defined here:\n",
      " |  \n",
      " |  __copy__(...)\n",
      " |      D.copy() -> a shallow copy of D.\n",
      " |  \n",
      " |  __getattribute__(self, name, /)\n",
      " |      Return getattr(self, name).\n",
      " |  \n",
      " |  __init__(self, /, *args, **kwargs)\n",
      " |      Initialize self.  See help(type(self)) for accurate signature.\n",
      " |  \n",
      " |  __missing__(...)\n",
      " |      __missing__(key) # Called by __getitem__ for missing key; pseudo-code:\n",
      " |      if self.default_factory is None: raise KeyError((key,))\n",
      " |      self[key] = value = self.default_factory()\n",
      " |      return value\n",
      " |  \n",
      " |  __reduce__(...)\n",
      " |      Return state information for pickling.\n",
      " |  \n",
      " |  __repr__(self, /)\n",
      " |      Return repr(self).\n",
      " |  \n",
      " |  copy(...)\n",
      " |      D.copy() -> a shallow copy of D.\n",
      " |  \n",
      " |  ----------------------------------------------------------------------\n",
      " |  Data descriptors defined here:\n",
      " |  \n",
      " |  default_factory\n",
      " |      Factory for default value called by __missing__().\n",
      " |  \n",
      " |  ----------------------------------------------------------------------\n",
      " |  Methods inherited from builtins.dict:\n",
      " |  \n",
      " |  __contains__(self, key, /)\n",
      " |      True if D has a key k, else False.\n",
      " |  \n",
      " |  __delitem__(self, key, /)\n",
      " |      Delete self[key].\n",
      " |  \n",
      " |  __eq__(self, value, /)\n",
      " |      Return self==value.\n",
      " |  \n",
      " |  __ge__(self, value, /)\n",
      " |      Return self>=value.\n",
      " |  \n",
      " |  __getitem__(...)\n",
      " |      x.__getitem__(y) <==> x[y]\n",
      " |  \n",
      " |  __gt__(self, value, /)\n",
      " |      Return self>value.\n",
      " |  \n",
      " |  __iter__(self, /)\n",
      " |      Implement iter(self).\n",
      " |  \n",
      " |  __le__(self, value, /)\n",
      " |      Return self<=value.\n",
      " |  \n",
      " |  __len__(self, /)\n",
      " |      Return len(self).\n",
      " |  \n",
      " |  __lt__(self, value, /)\n",
      " |      Return self<value.\n",
      " |  \n",
      " |  __ne__(self, value, /)\n",
      " |      Return self!=value.\n",
      " |  \n",
      " |  __new__(*args, **kwargs) from builtins.type\n",
      " |      Create and return a new object.  See help(type) for accurate signature.\n",
      " |  \n",
      " |  __setitem__(self, key, value, /)\n",
      " |      Set self[key] to value.\n",
      " |  \n",
      " |  __sizeof__(...)\n",
      " |      D.__sizeof__() -> size of D in memory, in bytes\n",
      " |  \n",
      " |  clear(...)\n",
      " |      D.clear() -> None.  Remove all items from D.\n",
      " |  \n",
      " |  fromkeys(iterable, value=None, /) from builtins.type\n",
      " |      Returns a new dict with keys from iterable and values equal to value.\n",
      " |  \n",
      " |  get(...)\n",
      " |      D.get(k[,d]) -> D[k] if k in D, else d.  d defaults to None.\n",
      " |  \n",
      " |  items(...)\n",
      " |      D.items() -> a set-like object providing a view on D's items\n",
      " |  \n",
      " |  keys(...)\n",
      " |      D.keys() -> a set-like object providing a view on D's keys\n",
      " |  \n",
      " |  pop(...)\n",
      " |      D.pop(k[,d]) -> v, remove specified key and return the corresponding value.\n",
      " |      If key is not found, d is returned if given, otherwise KeyError is raised\n",
      " |  \n",
      " |  popitem(...)\n",
      " |      D.popitem() -> (k, v), remove and return some (key, value) pair as a\n",
      " |      2-tuple; but raise KeyError if D is empty.\n",
      " |  \n",
      " |  setdefault(...)\n",
      " |      D.setdefault(k[,d]) -> D.get(k,d), also set D[k]=d if k not in D\n",
      " |  \n",
      " |  update(...)\n",
      " |      D.update([E, ]**F) -> None.  Update D from dict/iterable E and F.\n",
      " |      If E is present and has a .keys() method, then does:  for k in E: D[k] = E[k]\n",
      " |      If E is present and lacks a .keys() method, then does:  for k, v in E: D[k] = v\n",
      " |      In either case, this is followed by: for k in F:  D[k] = F[k]\n",
      " |  \n",
      " |  values(...)\n",
      " |      D.values() -> an object providing a view on D's values\n",
      " |  \n",
      " |  ----------------------------------------------------------------------\n",
      " |  Data and other attributes inherited from builtins.dict:\n",
      " |  \n",
      " |  __hash__ = None\n",
      "\n"
     ]
    }
   ],
   "source": [
    "help(defaultdict)"
   ]
  },
  {
   "cell_type": "code",
   "execution_count": 58,
   "metadata": {},
   "outputs": [
    {
     "ename": "TypeError",
     "evalue": "first argument must be callable or None",
     "output_type": "error",
     "traceback": [
      "\u001b[1;31m---------------------------------------------------------------------------\u001b[0m",
      "\u001b[1;31mTypeError\u001b[0m                                 Traceback (most recent call last)",
      "\u001b[1;32m<ipython-input-58-845758bcfd69>\u001b[0m in \u001b[0;36m<module>\u001b[1;34m()\u001b[0m\n\u001b[0;32m      1\u001b[0m \u001b[1;31m# Initializing with default value\u001b[0m\u001b[1;33m\u001b[0m\u001b[1;33m\u001b[0m\u001b[0m\n\u001b[0;32m      2\u001b[0m \u001b[1;33m\u001b[0m\u001b[0m\n\u001b[1;32m----> 3\u001b[1;33m \u001b[0mdd\u001b[0m \u001b[1;33m=\u001b[0m \u001b[0mdefaultdict\u001b[0m\u001b[1;33m(\u001b[0m\u001b[1;36m1\u001b[0m\u001b[1;33m)\u001b[0m\u001b[1;33m\u001b[0m\u001b[0m\n\u001b[0m\u001b[0;32m      4\u001b[0m \u001b[0mprint\u001b[0m\u001b[1;33m(\u001b[0m\u001b[0mdd\u001b[0m\u001b[1;33m)\u001b[0m\u001b[1;33m\u001b[0m\u001b[0m\n\u001b[0;32m      5\u001b[0m \u001b[0mprint\u001b[0m\u001b[1;33m(\u001b[0m\u001b[0mdd\u001b[0m\u001b[1;33m[\u001b[0m\u001b[1;34m'one'\u001b[0m\u001b[1;33m]\u001b[0m\u001b[1;33m)\u001b[0m\u001b[1;33m\u001b[0m\u001b[0m\n",
      "\u001b[1;31mTypeError\u001b[0m: first argument must be callable or None"
     ]
    }
   ],
   "source": [
    "# Initializing with default value\n",
    "\n",
    "dd = defaultdict(1)\n",
    "print(dd)\n",
    "print(dd['one'])\n",
    "print(dd)\n",
    "dd['Two'] = 2\n",
    "print(dd)\n",
    "\n",
    "for d in dd:\n",
    "    print(d)\n",
    "    print(dd[d])\n"
   ]
  },
  {
   "cell_type": "code",
   "execution_count": 63,
   "metadata": {},
   "outputs": [
    {
     "name": "stdout",
     "output_type": "stream",
     "text": [
      "d: defaultdict(<function default_factory at 0x000002DB032A4F28>, {'india': 'new delhi'})\n",
      "india => new delhi\n",
      "bar => default value\n",
      "defaultdict(<function default_factory at 0x000002DB032A4F28>, {'india': 'new delhi', 'bar': 'default value'})\n"
     ]
    }
   ],
   "source": [
    "# Using factory function\n",
    "import collections\n",
    "\n",
    "def default_factory():\n",
    "    return 'default value'\n",
    "\n",
    "d = collections.defaultdict(default_factory, india='new delhi')\n",
    "print('d:', d)\n",
    "print('india =>', d['india'])\n",
    "print('bar =>', d['bar'])\n",
    "print(d)"
   ]
  },
  {
   "cell_type": "code",
   "execution_count": 70,
   "metadata": {},
   "outputs": [
    {
     "name": "stdout",
     "output_type": "stream",
     "text": [
      "d: defaultdict(<function default_factory at 0x000002DB030A1620>, {'india': 'new delhi', 'karnataka': 'Bangaluru'})\n",
      "india => new delhi\n",
      "MP => Bhopal\n",
      "defaultdict(<function default_factory at 0x000002DB030A1620>, {'india': 'new delhi', 'karnataka': 'Bangaluru', 'MP': 'Bhopal'})\n"
     ]
    }
   ],
   "source": [
    "# Using factory function\n",
    "import collections\n",
    "\n",
    "def default_factory():\n",
    "    return 'Bhopal'\n",
    "\n",
    "d = collections.defaultdict(default_factory, \n",
    "                            {\"india\": 'new delhi', \n",
    "                             \"karnataka\":\"Bangaluru\"})\n",
    "print('d:', d)\n",
    "print('india =>', d['india'])\n",
    "print('MP =>', d['MP'])\n",
    "print(d)"
   ]
  },
  {
   "cell_type": "code",
   "execution_count": 61,
   "metadata": {},
   "outputs": [
    {
     "ename": "TypeError",
     "evalue": "first argument must be callable or None",
     "output_type": "error",
     "traceback": [
      "\u001b[1;31m---------------------------------------------------------------------------\u001b[0m",
      "\u001b[1;31mTypeError\u001b[0m                                 Traceback (most recent call last)",
      "\u001b[1;32m<ipython-input-61-488d8cb20dbf>\u001b[0m in \u001b[0;36m<module>\u001b[1;34m()\u001b[0m\n\u001b[0;32m      5\u001b[0m     \u001b[1;32mreturn\u001b[0m \u001b[1;34m'default value'\u001b[0m\u001b[1;33m\u001b[0m\u001b[0m\n\u001b[0;32m      6\u001b[0m \u001b[1;33m\u001b[0m\u001b[0m\n\u001b[1;32m----> 7\u001b[1;33m \u001b[0md\u001b[0m \u001b[1;33m=\u001b[0m \u001b[0mcollections\u001b[0m\u001b[1;33m.\u001b[0m\u001b[0mdefaultdict\u001b[0m\u001b[1;33m(\u001b[0m\u001b[0mdefault_factory\u001b[0m\u001b[1;33m(\u001b[0m\u001b[1;33m)\u001b[0m\u001b[1;33m,\u001b[0m \u001b[0mfoo\u001b[0m\u001b[1;33m=\u001b[0m\u001b[1;34m'bar'\u001b[0m\u001b[1;33m)\u001b[0m\u001b[1;33m\u001b[0m\u001b[0m\n\u001b[0m\u001b[0;32m      8\u001b[0m \u001b[0mprint\u001b[0m\u001b[1;33m(\u001b[0m\u001b[1;34m'd:'\u001b[0m\u001b[1;33m,\u001b[0m \u001b[0md\u001b[0m\u001b[1;33m)\u001b[0m\u001b[1;33m\u001b[0m\u001b[0m\n\u001b[0;32m      9\u001b[0m \u001b[0mprint\u001b[0m\u001b[1;33m(\u001b[0m\u001b[1;34m'foo =>'\u001b[0m\u001b[1;33m,\u001b[0m \u001b[0md\u001b[0m\u001b[1;33m[\u001b[0m\u001b[1;34m'foo'\u001b[0m\u001b[1;33m]\u001b[0m\u001b[1;33m)\u001b[0m\u001b[1;33m\u001b[0m\u001b[0m\n",
      "\u001b[1;31mTypeError\u001b[0m: first argument must be callable or None"
     ]
    }
   ],
   "source": [
    "# Using factory function\n",
    "\n",
    "# ---------------------------------------------------\n",
    "# TODO:  How can i pass value to the default function\n",
    "# ---------------------------------------------------\n",
    "import collections\n",
    "\n",
    "def default_factory():\n",
    "    return 'default value'\n",
    "\n",
    "d = collections.defaultdict(default_factory, foo='bar')\n",
    "print('d:', d)\n",
    "print('foo =>', d['foo'])\n",
    "print('bar =>', d['bar'])"
   ]
  },
  {
   "cell_type": "code",
   "execution_count": null,
   "metadata": {
    "collapsed": true
   },
   "outputs": [],
   "source": [
    "# Using list as the default_factory, it is easy to group a sequence of key-value pairs into a dictionary of lists:\n",
    "\n",
    "from collections import defaultdict\n",
    "\n",
    "countryList = [(\"India\", \"New Delhi\"), (\"Iceland\", \"Reykjavik\"), \n",
    "               (\"Indonesia\", \"Jakarta\"), (\"Ireland\", \"Dublin\"), \n",
    "               (\"Israel\", \"Jerusalem\"), (\"Italy\", \"Rome\")]\n",
    "d = defaultdict(list)\n",
    "for country, capital in countryList:\n",
    "    d[country].append(capital)\n",
    "\n",
    "print(d.items())"
   ]
  },
  {
   "cell_type": "code",
   "execution_count": 72,
   "metadata": {},
   "outputs": [
    {
     "name": "stdout",
     "output_type": "stream",
     "text": [
      "defaultdict(<class 'int'>, {})\n",
      "dict_items([('V', 1), ('a', 4), ('n', 1), ('d', 1), ('e', 1), (' ', 1), ('M', 1), ('t', 1), ('r', 1), ('m', 1)])\n",
      "0\n"
     ]
    }
   ],
   "source": [
    "# Setting the default_factory to int makes the defaultdict useful for counting\n",
    "quote = 'Vande Mataram'\n",
    "dd = defaultdict(int)\n",
    "print(dd)\n",
    "for chars in quote:\n",
    "    dd[chars] += 1\n",
    "    \n",
    "print(dd.items())\n",
    "print(dd['T'])"
   ]
  },
  {
   "cell_type": "markdown",
   "metadata": {
    "collapsed": true
   },
   "source": [
    "## deque — Double-Ended Queue\n",
    "---\n",
    "A double-ended queue, or deque, supports adding and removing elements from either end of the queue. The more commonly used stacks and queues are degenerate forms of deques, where the inputs and outputs are restricted to a single end."
   ]
  },
  {
   "cell_type": "code",
   "execution_count": 94,
   "metadata": {},
   "outputs": [
    {
     "name": "stdout",
     "output_type": "stream",
     "text": [
      "Deque: deque(['V', 'a', 'n', 'd', 'e', ' ', 'M', 'a', 't', 'a', 'r', 'a', 'm'])\n",
      "Length: 13\n",
      "Left end: V\n",
      "Right end: m\n",
      "remove(e): deque(['V', 'a', 'n', 'd', ' ', 'M', 'a', 't', 'a', 'r', 'a', 'm'])\n"
     ]
    }
   ],
   "source": [
    "import collections\n",
    "\n",
    "d = collections.deque('Vande Mataram')\n",
    "print('Deque:', d)\n",
    "print('Length:', len(d))\n",
    "print('Left end:', d[0])\n",
    "print('Right end:', d[-1])\n",
    "\n",
    "d.remove('e')\n",
    "print('remove(e):', d)"
   ]
  },
  {
   "cell_type": "markdown",
   "metadata": {},
   "source": [
    "### Adding "
   ]
  },
  {
   "cell_type": "code",
   "execution_count": 83,
   "metadata": {},
   "outputs": [
    {
     "name": "stdout",
     "output_type": "stream",
     "text": [
      "extend    : deque(['V', 'a', 'n', 'd', 'e'])\n",
      "append    : deque(['V', 'a', 'n', 'd', 'e', ' ', 'M', 'a', 't', 'a', 'r', 'a', 'm', ' ', '!', '!', '!'])\n",
      "append    : deque([' ', '*', '!', '#', ' ', 'V', 'a', 'n', 'd', 'e', ' ', 'M', 'a', 't', 'a', 'r', 'a', 'm', ' ', '!', '!', '!'])\n",
      "extendleft: deque([5, 4, 3, 2, 1, 0])\n",
      "appendleft: deque([6, 5, 4, 3, 2, 1, 0])\n"
     ]
    }
   ],
   "source": [
    "import collections\n",
    "\n",
    "# Add to the right\n",
    "d1 = collections.deque()\n",
    "d1.extend('Vande')\n",
    "print('extend    :', d1)\n",
    "\n",
    "for a in \" Mataram\":\n",
    "    d1.append(a)\n",
    "    \n",
    "d1.extend(\" !!!\")  \n",
    "print('append    :', d1)\n",
    "d1.extendleft(\" #!* \")  \n",
    "print('append    :', d1)\n",
    "\n",
    "# Add to the left\n",
    "d2 = collections.deque()\n",
    "d2.extendleft(range(6))\n",
    "print('extendleft:', d2)\n",
    "d2.appendleft(6)\n",
    "print('appendleft:', d2)"
   ]
  },
  {
   "cell_type": "markdown",
   "metadata": {},
   "source": [
    "### Consuming"
   ]
  },
  {
   "cell_type": "code",
   "execution_count": null,
   "metadata": {
    "collapsed": true
   },
   "outputs": [],
   "source": []
  },
  {
   "cell_type": "markdown",
   "metadata": {},
   "source": [
    "### OrderedDict\n",
    "It is a dictionary subclass that remembers the order in which its contents are added.\n",
    "\n",
    "Lets start with a normal dictionary:"
   ]
  },
  {
   "cell_type": "code",
   "execution_count": 86,
   "metadata": {},
   "outputs": [
    {
     "name": "stdout",
     "output_type": "stream",
     "text": [
      "{'apple': 10, 'grapes': 120, 'mango': 200, 'kiwi': 2000, 'leeche': 20}\n",
      "apple\n",
      "grapes\n",
      "mango\n",
      "kiwi\n",
      "leeche\n"
     ]
    }
   ],
   "source": [
    "fruitsCount = {}\n",
    "fruitsCount[\"apple\"] = 10\n",
    "fruitsCount[\"grapes\"] = 120\n",
    "fruitsCount[\"mango\"] = 200\n",
    "fruitsCount[\"kiwi\"] = 2000\n",
    "fruitsCount[\"leeche\"] = 20\n",
    "print(fruitsCount)\n",
    "for fruit in fruitsCount:\n",
    "    print(fruit)"
   ]
  },
  {
   "cell_type": "code",
   "execution_count": 88,
   "metadata": {},
   "outputs": [
    {
     "name": "stdout",
     "output_type": "stream",
     "text": [
      "OrderedDict([('apple', 10), ('grapes', 120), ('mango', 200), ('kiwi', 2000), ('leeche', 20)])\n",
      "apple\n",
      "grapes\n",
      "mango\n",
      "kiwi\n",
      "leeche\n"
     ]
    }
   ],
   "source": [
    "# Now lets try this with OrderedDict\n",
    "\n",
    "from collections import OrderedDict as OD\n",
    "\n",
    "fruitsCount = OD()\n",
    "fruitsCount[\"apple\"] = 10\n",
    "fruitsCount[\"grapes\"] = 120\n",
    "fruitsCount[\"mango\"] = 200\n",
    "fruitsCount[\"kiwi\"] = 2000\n",
    "fruitsCount[\"leeche\"] = 20\n",
    "print(fruitsCount)\n",
    "for fruit in fruitsCount:\n",
    "    print(fruit)"
   ]
  },
  {
   "cell_type": "markdown",
   "metadata": {},
   "source": [
    "## namedtuple\n",
    "\n",
    "Named tuples helps to have meaning of each position in a tuple and allow us to code with better readability and self-documenting code. You can use them in any place where you are using tuples. In the example we will create a namedtuple to show hold information for points."
   ]
  },
  {
   "cell_type": "code",
   "execution_count": 95,
   "metadata": {},
   "outputs": [
    {
     "name": "stdout",
     "output_type": "stream",
     "text": [
      "India(x=10, y=20, z=30)\n",
      "60\n",
      "10\n",
      "20\n"
     ]
    }
   ],
   "source": [
    "from collections import namedtuple\n",
    "\n",
    "Point = namedtuple(\"India\", ['x', 'y', \"z\"])  # Defining the namedtuple\n",
    "p = Point(10, y=20, z = 30)  # Creating an object\n",
    "print(p)\n",
    "print(p.x + p.y + p.z)\n",
    "p[0] + p[1]  # Accessing the values in normal way\n",
    "x, y, z  = p     # Unpacking the tuple\n",
    "print(x)\n",
    "\n",
    "print(y)"
   ]
  },
  {
   "cell_type": "markdown",
   "metadata": {},
   "source": [
    "** More Details:**\n",
    "* https://docs.python.org/3/library/collections.html, \n",
    "* http://alexmarandon.com/articles/python_collections_tips/, \n",
    "* http://pymbook.readthedocs.io/en/latest/collections.html"
   ]
  },
  {
   "cell_type": "markdown",
   "metadata": {},
   "source": [
    "## Practice Questions\n",
    "\n",
    "* Write a function lensort to sort a list of strings based on length.\n",
    "* Write a program to count frequency of characters in a given file. Can you use character frequency to tell whether the given file is a Python program file, C program file or a text file?\n",
    "* Write a program similar to 'tail'\n",
    "* write a program similar to \"wc\""
   ]
  }
 ],
 "metadata": {
  "kernelspec": {
   "display_name": "Python 3",
   "language": "python",
   "name": "python3"
  },
  "language_info": {
   "codemirror_mode": {
    "name": "ipython",
    "version": 2
   },
   "file_extension": ".py",
   "mimetype": "text/x-python",
   "name": "python",
   "nbconvert_exporter": "python",
   "pygments_lexer": "ipython2",
   "version": "2.7.12"
  }
 },
 "nbformat": 4,
 "nbformat_minor": 1
}
