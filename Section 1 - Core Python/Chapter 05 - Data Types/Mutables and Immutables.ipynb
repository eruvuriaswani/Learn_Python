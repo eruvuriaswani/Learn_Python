{
 "cells": [
  {
   "cell_type": "markdown",
   "metadata": {
    "deletable": true,
    "editable": true
   },
   "source": [
    "# Mutables and Immutables"
   ]
  },
  {
   "cell_type": "markdown",
   "metadata": {
    "deletable": true,
    "editable": true
   },
   "source": [
    "A general explanation from the \"Data Model\" chapter(http://docs.python.org/reference/datamodel.html#objects-values-and-types) in the Python Language Reference\":\n",
    "\n",
    "> \"The value of some objects can change. Objects whose value can change are said to be mutable; objects whose value is unchangeable once they are created are called immutable.\n",
    "\n",
    "> (The value of an immutable container object that contains a reference to a mutable object can change when the latter’s value is changed; however the container is still considered immutable, because the collection of objects it contains cannot be changed. So, immutability is not strictly the same as having an unchangeable value, it is more subtle.)\n",
    "\n",
    "An object’s mutability is determined by its type; for instance, numbers, strings and tuples are immutable, while dictionaries and lists are mutable."
   ]
  },
  {
   "cell_type": "markdown",
   "metadata": {
    "deletable": true,
    "editable": true
   },
   "source": [
    "Common immutable type:\n",
    "\n",
    "* numbers: int(), float(), complex()\n",
    "* immutable sequences: str(), tuple(), frozenset(), bytes()\n",
    "\n",
    "Common mutable type (almost everything else):\n",
    "\n",
    "* mutable sequences: list(), bytearray()\n",
    "* set type: set()\n",
    "* mapping type: dict()\n",
    "* classes, class instances\n",
    "..."
   ]
  },
  {
   "cell_type": "code",
   "execution_count": 2,
   "metadata": {
    "collapsed": false,
    "deletable": true,
    "editable": true
   },
   "outputs": [
    {
     "name": "stdout",
     "output_type": "stream",
     "text": [
      "140291830112200\n",
      "[1, 2, 4, 5]\n",
      "140291830112200\n",
      "[1, 2, 3, 5]\n"
     ]
    }
   ],
   "source": [
    "ls = [1,2,4,5]\n",
    "\n",
    "print(id(ls))\n",
    "print(ls)\n",
    "ls[2]=3\n",
    "print(id(ls))\n",
    "print(ls)"
   ]
  },
  {
   "cell_type": "markdown",
   "metadata": {},
   "source": [
    "> Although, immutable elements can not be updated, but mutable elements inside immutables can update themself as shown in the example below."
   ]
  },
  {
   "cell_type": "code",
   "execution_count": 9,
   "metadata": {
    "collapsed": false,
    "deletable": true,
    "editable": true
   },
   "outputs": [
    {
     "name": "stdout",
     "output_type": "stream",
     "text": [
      "(1, 2, 3, 4, [2, 2, 2])\n",
      "139845075278048\n",
      "(1, 2, 3, 4, [2, 2, 4])\n",
      "139845075278048\n"
     ]
    }
   ],
   "source": [
    "tp =(1,2,3,4,[2,2,2])\n",
    "print(tp)\n",
    "print(id(tp))\n",
    "tp[4][2]=4\n",
    "print(tp)\n",
    "print(id(tp))"
   ]
  },
  {
   "cell_type": "code",
   "execution_count": 10,
   "metadata": {
    "collapsed": false,
    "deletable": true,
    "editable": true
   },
   "outputs": [
    {
     "name": "stdout",
     "output_type": "stream",
     "text": [
      "['__add__', '__class__', '__contains__', '__delattr__', '__dir__', '__doc__', '__eq__', '__format__', '__ge__', '__getattribute__', '__getitem__', '__getnewargs__', '__gt__', '__hash__', '__init__', '__iter__', '__le__', '__len__', '__lt__', '__mul__', '__ne__', '__new__', '__reduce__', '__reduce_ex__', '__repr__', '__rmul__', '__setattr__', '__sizeof__', '__str__', '__subclasshook__', 'count', 'index']\n"
     ]
    }
   ],
   "source": [
    "print(dir(tp))"
   ]
  }
 ],
 "metadata": {
  "kernelspec": {
   "display_name": "Python 3",
   "language": "python",
   "name": "python3"
  },
  "language_info": {
   "codemirror_mode": {
    "name": "ipython",
    "version": 3
   },
   "file_extension": ".py",
   "mimetype": "text/x-python",
   "name": "python",
   "nbconvert_exporter": "python",
   "pygments_lexer": "ipython3",
   "version": "3.4.6"
  }
 },
 "nbformat": 4,
 "nbformat_minor": 2
}
