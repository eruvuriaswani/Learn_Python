{
 "cells": [
  {
   "cell_type": "markdown",
   "metadata": {},
   "source": [
    "Chapter 6: Functions\n",
    "=============================\n",
    "_____________________________\n",
    "Functions are blocks of code identified by a name, which can receive predetermined parameters.\n",
    "\n",
    "In Python, functions:\n",
    "\n",
    "+ Can return objects or not.\n",
    "+ Accept *Doc Strings*.\n",
    "+ Accept optional parameters (with *defaults* ). If no parameter is passed, it will be equal to the *default* defined in the function.\n",
    "+ Accepts parameters to be passed by name. In this case, the order in which the parameters were passed does not matter.\n",
    "+ Have their own namespace (local scope), and therefore may obscure definitions of global scope.\n",
    "+ Can have their properties changed (usually by decorators).\n",
    "\n",
    "*Doc Strings* are strings that are attached to a Python structure. In functions, *Doc strings* are placed within the body of the function, usually at the beginning. The goal of *Doc Strings* is to be used as documentation for this structure.\n",
    "\n",
    "Syntax:\n",
    "\n",
    "    def func(parameter1, parameter2=default_value):\n",
    "        \"\"\"\n",
    "        Doc String\n",
    "        \"\"\"\n",
    "        <code block>\n",
    "        return value\n",
    "\n",
    "The parameters with *default* value must be declared after the ones without *default* value."
   ]
  },
  {
   "cell_type": "markdown",
   "metadata": {},
   "source": [
    "Example (factorial without recursion):"
   ]
  },
  {
   "cell_type": "code",
   "execution_count": 1,
   "metadata": {},
   "outputs": [
    {
     "name": "stdout",
     "output_type": "stream",
     "text": [
      "1 -> 1\n",
      "2 -> 2\n",
      "3 -> 6\n",
      "4 -> 24\n",
      "5 -> 120\n"
     ]
    }
   ],
   "source": [
    "def fatorial(n):#{\n",
    "    n = n if n > 1 else 1\n",
    "    j = 1\n",
    "    for i in range(1, n + 1):\n",
    "        j = j * i\n",
    "    return j\n",
    "    #}\n",
    "\n",
    "# Testing...\n",
    "for i in range(1, 6):\n",
    "    print (i, '->', fatorial(i))"
   ]
  },
  {
   "cell_type": "markdown",
   "metadata": {},
   "source": [
    "*Example (factorial with recursion)*:"
   ]
  },
  {
   "cell_type": "code",
   "execution_count": 2,
   "metadata": {},
   "outputs": [
    {
     "name": "stdout",
     "output_type": "stream",
     "text": [
      "120\n"
     ]
    }
   ],
   "source": [
    "def factorial(num):\n",
    "    \"\"\"Fatorial implemented with recursion.\"\"\"\n",
    "    if num <= 1:\n",
    "        return 1\n",
    "    else:\n",
    "        return(num * factorial(num - 1))\n",
    "\n",
    "# Testing factorial()\n",
    "print (factorial(5))\n",
    "\n",
    "# 5 * (4 * (3 * (2) * (1))"
   ]
  },
  {
   "cell_type": "markdown",
   "metadata": {},
   "source": [
    "Example (Fibonacci series with recursion):"
   ]
  },
  {
   "cell_type": "code",
   "execution_count": 5,
   "metadata": {},
   "outputs": [
    {
     "name": "stdout",
     "output_type": "stream",
     "text": [
      "1 => 1\n",
      "2 => 2\n",
      "3 => 3\n",
      "4 => 5\n",
      "5 => 8\n"
     ]
    }
   ],
   "source": [
    "def fib(n):\n",
    "    \"\"\"Fibonacci:\n",
    "    fib(n) = fib(n - 1) + fib(n - 2) se n > 1\n",
    "    fib(n) = 1 se n <= 1\n",
    "    \"\"\"\n",
    "    if n > 1:\n",
    "        return fib(n - 1) + fib(n - 2)\n",
    "    else:\n",
    "        return 1\n",
    "\n",
    "# Show Fibonacci from 1 to 5\n",
    "for i in [1, 2, 3, 4, 5]:\n",
    "    print (i, '=>', fib(i))"
   ]
  },
  {
   "cell_type": "markdown",
   "metadata": {},
   "source": [
    "Example (Fibonacci series without recursion):"
   ]
  },
  {
   "cell_type": "code",
   "execution_count": 1,
   "metadata": {},
   "outputs": [
    {
     "name": "stdout",
     "output_type": "stream",
     "text": [
      "1 => 1\n",
      "2 => 2\n",
      "3 => 3\n",
      "4 => 5\n",
      "5 => 8\n"
     ]
    }
   ],
   "source": [
    "def fib(n):    \n",
    "    # the first two values\n",
    "    l = [1, 1]\n",
    "    \n",
    "    # Calculating the others\n",
    "    for i in range(2, n + 1):\n",
    "        l.append(l[i -1] + l[i - 2])\n",
    "        \n",
    "    return l[n]\n",
    "\n",
    "# Show Fibonacci from 1 to 5\n",
    "for i in [1, 2, 3, 4, 5]:\n",
    "    print (i, '=>', fib(i))"
   ]
  },
  {
   "cell_type": "code",
   "execution_count": 3,
   "metadata": {},
   "outputs": [
    {
     "name": "stdout",
     "output_type": "stream",
     "text": [
      "1 2\n",
      "3\n",
      "2 1\n"
     ]
    },
    {
     "data": {
      "text/plain": [
       "3"
      ]
     },
     "execution_count": 3,
     "metadata": {},
     "output_type": "execute_result"
    }
   ],
   "source": [
    "def test(a, b):\n",
    "    print(a, b)\n",
    "    return a + b\n",
    "    \n",
    "print(test(1,2))\n",
    "test(b=1, a=2)\n"
   ]
  },
  {
   "cell_type": "code",
   "execution_count": null,
   "metadata": {
    "collapsed": true
   },
   "outputs": [],
   "source": [
    "def test_new(a, b, c):\n",
    "    pass"
   ]
  },
  {
   "cell_type": "code",
   "execution_count": 8,
   "metadata": {},
   "outputs": [
    {
     "name": "stdout",
     "output_type": "stream",
     "text": [
      "2 5\n",
      "4\n",
      "<class 'int'>\n",
      "25\n",
      "<class 'int'>\n"
     ]
    }
   ],
   "source": [
    "def test(a, b):\n",
    "    print(a, b)\n",
    "    return a*a, b*b\n",
    "\n",
    "x, a = test(2 , 5)\n",
    "\n",
    "print(x)\n",
    "print(type(x))\n",
    "print(a)\n",
    "print(type(a))\n"
   ]
  },
  {
   "cell_type": "code",
   "execution_count": 2,
   "metadata": {},
   "outputs": [
    {
     "name": "stdout",
     "output_type": "stream",
     "text": [
      "2 5\n",
      "4\n",
      "<class 'int'>\n",
      "25\n",
      "<class 'int'>\n"
     ]
    }
   ],
   "source": [
    "def test(a, b):\n",
    "    print(a, b)\n",
    "    return a*a, b*b, a*b\n",
    "\n",
    "x, a, c = test(2 , 5)\n",
    "\n",
    "print(x)\n",
    "print(type(x))\n",
    "print(a)\n",
    "print(type(a))"
   ]
  },
  {
   "cell_type": "code",
   "execution_count": 13,
   "metadata": {},
   "outputs": [
    {
     "name": "stdout",
     "output_type": "stream",
     "text": [
      "2 5\n",
      "(4, 25, 'asdf')\n",
      "<class 'tuple'>\n"
     ]
    }
   ],
   "source": [
    "def test(a, b):\n",
    "    print(a, b)\n",
    "    return a*a, b*b, \"asdf\"\n",
    "\n",
    "x = test(2 , 5)\n",
    "\n",
    "print(x)\n",
    "print(type(x))"
   ]
  },
  {
   "cell_type": "code",
   "execution_count": 12,
   "metadata": {},
   "outputs": [
    {
     "name": "stdout",
     "output_type": "stream",
     "text": [
      "2 5\n",
      "(2, 5)\n",
      "10 1000\n",
      "(10, 1000)\n"
     ]
    }
   ],
   "source": [
    "def test(a=100, b=1000):\n",
    "    print(a, b)\n",
    "    return a, b\n",
    "\n",
    "x = test(2, 5)\n",
    "print(x)\n",
    "print(test(10))"
   ]
  },
  {
   "cell_type": "code",
   "execution_count": 14,
   "metadata": {},
   "outputs": [
    {
     "name": "stdout",
     "output_type": "stream",
     "text": [
      "100 10\n",
      "(100, 10)\n"
     ]
    }
   ],
   "source": [
    "def test(a=100, b=1000):\n",
    "    print(a, b)\n",
    "    return a, b\n",
    "\n",
    "print(test(b=10))"
   ]
  },
  {
   "cell_type": "code",
   "execution_count": 3,
   "metadata": {},
   "outputs": [
    {
     "name": "stdout",
     "output_type": "stream",
     "text": [
      "10 2 100 5\n",
      "(10, 2, 100, 5)\n",
      "1 2 3 4\n",
      "(1, 2, 3, 4)\n",
      "10 2 100 1000\n",
      "(10, 2, 100, 1000)\n"
     ]
    }
   ],
   "source": [
    "def test(d, c, a=100, b=1000):\n",
    "    print(d, c, a, b)\n",
    "    return d, c, a, b\n",
    "\n",
    "x = test(c=2, d=10, b=5)\n",
    "print(x)\n",
    "x = test(1, 2, 3, 4)\n",
    "print(x)\n",
    "print(test(10, 2))"
   ]
  },
  {
   "cell_type": "code",
   "execution_count": 4,
   "metadata": {},
   "outputs": [
    {
     "ename": "SyntaxError",
     "evalue": "non-default argument follows default argument (<ipython-input-4-af75e4a84a27>, line 1)",
     "output_type": "error",
     "traceback": [
      "\u001b[1;36m  File \u001b[1;32m\"<ipython-input-4-af75e4a84a27>\"\u001b[1;36m, line \u001b[1;32m1\u001b[0m\n\u001b[1;33m    def test(d, a=100, c, b=1000):\u001b[0m\n\u001b[1;37m            ^\u001b[0m\n\u001b[1;31mSyntaxError\u001b[0m\u001b[1;31m:\u001b[0m non-default argument follows default argument\n"
     ]
    }
   ],
   "source": [
    "def test(d, a=100, c, b=1000):\n",
    "    print(d, c, a, b)\n",
    "    return d, c, a, b\n",
    "\n",
    "x = test(c=2, d=10, b=5)\n",
    "print(x)\n",
    "x = test(1, 2, 3, 4)\n",
    "print(x)\n",
    "print(test(10, 2))"
   ]
  },
  {
   "cell_type": "markdown",
   "metadata": {},
   "source": [
    "Example (RGB conversion):"
   ]
  },
  {
   "cell_type": "code",
   "execution_count": 7,
   "metadata": {},
   "outputs": [
    {
     "name": "stdout",
     "output_type": "stream",
     "text": [
      "#c8c8ff\n",
      "#ffc8c8\n",
      "(200, 200, 255)\n"
     ]
    }
   ],
   "source": [
    "def rgb_html(r=0, g=0, b=0):\n",
    "    \"\"\"Converts R, G, B to #RRGGBB\"\"\"\n",
    "\n",
    "    return '#%02x%02x%02x' % (r, g, b)\n",
    "\n",
    "def html_rgb(color='#000000'):\n",
    "    \"\"\"Converts #RRGGBB em R, G, B\"\"\"\n",
    "\n",
    "    if color.startswith('#'): color = color[1:]\n",
    "\n",
    "    r = int(color[:2], 16)\n",
    "    g = int(color[2:4], 16)\n",
    "    b = int(color[4:], 16)\n",
    "\n",
    "    return r, g, b # a sequence\n",
    "\n",
    "print (rgb_html(200, 200, 255))\n",
    "print (rgb_html(b=200, g=200, r=255)) # what's happened? \n",
    "print (html_rgb('#c8c8ff'))"
   ]
  },
  {
   "cell_type": "markdown",
   "metadata": {},
   "source": [
    "Observations:\n",
    "\n",
    "+ The  arguments with default value must come last, after the non-default arguments.\n",
    "+ The default value for a parameter is calculated when the function is defined.\n",
    "+ The arguments passed without an identifier are received by the function in the form of a list.\n",
    "+ The arguments passed to the function with an identifier are received in the form of a dictionary.\n",
    "+ The parameters passed to the function with an identifier should come at the end of the parameter list.\n",
    "\n",
    "Example of how to get all parameters:"
   ]
  },
  {
   "cell_type": "code",
   "execution_count": 8,
   "metadata": {},
   "outputs": [
    {
     "name": "stdout",
     "output_type": "stream",
     "text": [
      "('weigh', 10)\n",
      "{'unit': 'k'}\n"
     ]
    }
   ],
   "source": [
    "# *args - arguments without name (list)\n",
    "# **kargs - arguments with name (ditcionary)\n",
    "\n",
    "def func(*args, **kargs):\n",
    "    print (args)\n",
    "    print (kargs)\n",
    "\n",
    "func('weigh', 10, unit='k')"
   ]
  },
  {
   "cell_type": "markdown",
   "metadata": {},
   "source": [
    "In the example, `kargs` will receive the named arguments and `args` will receive the others.\n",
    "\n",
    "The interpreter has some *builtin* functions defined, including `sorted()`, which orders sequences, and `cmp()`, which makes comparisons between two arguments and returns -1 if the first element is greater, 0 (zero) if they are equal, or 1 if the latter is higher. This function is used by the routine of ordering, a behavior that can be modified.\n",
    "\n",
    "Example:"
   ]
  },
  {
   "cell_type": "code",
   "execution_count": 9,
   "metadata": {},
   "outputs": [
    {
     "name": "stdout",
     "output_type": "stream",
     "text": [
      "List: [(4, 3), (5, 1), (7, 2), (9, 0)]\n"
     ]
    }
   ],
   "source": [
    "data = [(4, 3), (5, 1), (7, 2), (9, 0)]\n",
    "\n",
    "# Comparing by the last element\n",
    "def _cmp(x, y):\n",
    "    return cmp(x[-1], y[-1])\n",
    "\n",
    "print ('List:', data)\n",
    "\n"
   ]
  },
  {
   "cell_type": "markdown",
   "metadata": {},
   "source": [
    "Python also has a *builtin* function `eval()`, which evaluates code (source or object) and returns the value.\n",
    "\n",
    "Example:"
   ]
  },
  {
   "cell_type": "code",
   "execution_count": 1,
   "metadata": {},
   "outputs": [
    {
     "name": "stdout",
     "output_type": "stream",
     "text": [
      "9.3\n"
     ]
    }
   ],
   "source": [
    "print (eval('12. / 2 + 3.3'))"
   ]
  },
  {
   "cell_type": "code",
   "execution_count": 23,
   "metadata": {},
   "outputs": [
    {
     "name": "stdout",
     "output_type": "stream",
     "text": [
      "mayank\n",
      "janki mohan johri\n"
     ]
    }
   ],
   "source": [
    "def listing(lst):\n",
    "    for l in lst:\n",
    "        print(l)\n",
    "       \n",
    "d = {\"mayank\":40, \"janki mohan johri\":68}\n",
    "listing(d)"
   ]
  }
 ],
 "metadata": {
  "kernelspec": {
   "display_name": "Python 3",
   "language": "python",
   "name": "python3"
  },
  "language_info": {
   "codemirror_mode": {
    "name": "ipython",
    "version": 3
   },
   "file_extension": ".py",
   "mimetype": "text/x-python",
   "name": "python",
   "nbconvert_exporter": "python",
   "pygments_lexer": "ipython3",
   "version": "3.6.2"
  }
 },
 "nbformat": 4,
 "nbformat_minor": 1
}
