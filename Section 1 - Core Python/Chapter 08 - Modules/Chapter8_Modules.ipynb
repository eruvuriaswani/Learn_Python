{
 "cells": [
  {
   "cell_type": "markdown",
   "metadata": {
    "deletable": true,
    "editable": true
   },
   "source": [
    "Chapter 8: Modules\n",
    "=============================\n",
    "\n",
    "A module is a file containing Python definitions and statements.\n",
    "\n",
    "Modules are python files which can be imported into a program. They can contain any Python structure and **run when imported**. They are compiled when first imported and stored in a file (with the extension \".pyc\" or \".pyo\"), have their own *namespaces*  and support *Doc Strings*. They are **singleton** objects (only one instance is loaded into memory, which is available globally for the program, thus only once they are executed)\n",
    "\n",
    "> The module’s name (as a string) is available as the value of the global variable **\\__name\\__**."
   ]
  },
  {
   "cell_type": "markdown",
   "metadata": {
    "deletable": true,
    "editable": true
   },
   "source": [
    "![Modules](files/bpyfd_diags6.png)\n",
    "\n",
    "The modules are located by the interpreter through the list of folders `PYTHONPATH` (sys.path), which usually includes the current directory first.\n",
    "\n",
    "The modules are loaded with the `import` statement. Thus, when using a module structure, it is necessary to identify the module. This is called absolute import.\n",
    "\n",
    "> If it is necessary to run the module again during the execution of the application, it will have to be loaded again with the `reload()` function."
   ]
  },
  {
   "cell_type": "code",
   "execution_count": 1,
   "metadata": {
    "collapsed": false,
    "deletable": true,
    "editable": true
   },
   "outputs": [
    {
     "name": "stdout",
     "output_type": "stream",
     "text": [
      "<class 'str'>\n"
     ]
    }
   ],
   "source": [
    "import os\n",
    "print(type(os.name))"
   ]
  },
  {
   "cell_type": "markdown",
   "metadata": {
    "deletable": true,
    "editable": true
   },
   "source": [
    "## The from...import Statement"
   ]
  },
  {
   "cell_type": "markdown",
   "metadata": {
    "deletable": true,
    "editable": true
   },
   "source": [
    "Python allows to import specific portions of the module instead of whole module by using ```from ... import``` statement.\n",
    "\n",
    "The format of it is as follows"
   ]
  },
  {
   "cell_type": "code",
   "execution_count": null,
   "metadata": {
    "collapsed": true,
    "deletable": true,
    "editable": true
   },
   "outputs": [],
   "source": [
    "from <module> import <attribute/submodule(s)>"
   ]
  },
  {
   "cell_type": "code",
   "execution_count": 2,
   "metadata": {
    "collapsed": false,
    "deletable": true,
    "editable": true
   },
   "outputs": [
    {
     "name": "stdout",
     "output_type": "stream",
     "text": [
      "<class 'str'>\n"
     ]
    }
   ],
   "source": [
    "from os import name\n",
    "print (type(name))"
   ]
  },
  {
   "cell_type": "code",
   "execution_count": 3,
   "metadata": {
    "collapsed": true,
    "deletable": true,
    "editable": true
   },
   "outputs": [],
   "source": [
    "from os import environ, linesep"
   ]
  },
  {
   "cell_type": "markdown",
   "metadata": {
    "deletable": true,
    "editable": true
   },
   "source": [
    "> **NOTE**: To avoid problems such as variable obfuscation, the absolute import is considered a better programming practice than the relative import."
   ]
  },
  {
   "cell_type": "markdown",
   "metadata": {
    "deletable": true,
    "editable": true
   },
   "source": [
    "## The from ... import * Statement"
   ]
  },
  {
   "cell_type": "markdown",
   "metadata": {
    "deletable": true,
    "editable": true
   },
   "source": [
    "This variant can be used to import all names that a module defines"
   ]
  },
  {
   "cell_type": "code",
   "execution_count": 6,
   "metadata": {
    "collapsed": false,
    "deletable": true,
    "editable": true
   },
   "outputs": [
    {
     "name": "stdout",
     "output_type": "stream",
     "text": [
      "posix\n"
     ]
    }
   ],
   "source": [
    "from os import *\n",
    "\n",
    "print(name)"
   ]
  },
  {
   "cell_type": "markdown",
   "metadata": {
    "deletable": true,
    "editable": true
   },
   "source": [
    "Example of user defined module:"
   ]
  },
  {
   "cell_type": "code",
   "execution_count": 5,
   "metadata": {
    "collapsed": true,
    "deletable": true,
    "editable": true
   },
   "outputs": [],
   "source": [
    "# File calc.py\n",
    "\n",
    "# Function defined in module\n",
    "def average(list): return float(sum(list)) / len(list)"
   ]
  },
  {
   "cell_type": "markdown",
   "metadata": {
    "deletable": true,
    "editable": true
   },
   "source": [
    "Example of module usage:"
   ]
  },
  {
   "cell_type": "code",
   "execution_count": 6,
   "metadata": {
    "collapsed": false,
    "deletable": true,
    "editable": true
   },
   "outputs": [
    {
     "name": "stdout",
     "output_type": "stream",
     "text": [
      "38.5\n"
     ]
    }
   ],
   "source": [
    "# Imports calc module\n",
    "import calc\n",
    "\n",
    "l = [23, 54, 31, 77, 12, 34]\n",
    "\n",
    "# Calls the function defined in calc\n",
    "print (calc.average(l))"
   ]
  },
  {
   "cell_type": "markdown",
   "metadata": {
    "deletable": true,
    "editable": true
   },
   "source": [
    "The main module of a program has the variable `__name__` equals to `__main__`, thus it is possible to test if the main module:"
   ]
  },
  {
   "cell_type": "code",
   "execution_count": 7,
   "metadata": {
    "collapsed": true,
    "deletable": true,
    "editable": true
   },
   "outputs": [],
   "source": [
    "if __name__ == \"__main__\":\n",
    "    # Code here will only be run \n",
    "    # if it is the main module\n",
    "    # and not when it is imported by another program\n",
    "    pass"
   ]
  },
  {
   "cell_type": "markdown",
   "metadata": {
    "deletable": true,
    "editable": true
   },
   "source": [
    "That way it is easy to turn a program into a module.\n",
    "\n",
    "Another module example:"
   ]
  },
  {
   "cell_type": "code",
   "execution_count": 7,
   "metadata": {
    "collapsed": true,
    "deletable": true,
    "editable": true
   },
   "outputs": [],
   "source": [
    "\"\"\"\n",
    "modutils => utility routines for modules\n",
    "\"\"\"\n",
    "\n",
    "import os.path\n",
    "import sys\n",
    "import glob\n",
    "\n",
    "def find(txt):\n",
    "    \"\"\"find modules with name containing the parameter.\"\"\"\n",
    "\n",
    "    resp = []\n",
    "\n",
    "    for path in sys.path:\n",
    "        mods = glob.glob('%s/*.py' % path)\n",
    "\n",
    "        for mod in mods:\n",
    "            if txt in os.path.basename(mod):\n",
    "                resp.append(mod)\n",
    "\n",
    "    return resp"
   ]
  },
  {
   "cell_type": "markdown",
   "metadata": {
    "deletable": true,
    "editable": true
   },
   "source": [
    "Example module use:"
   ]
  },
  {
   "cell_type": "code",
   "execution_count": 9,
   "metadata": {
    "collapsed": false,
    "deletable": true,
    "editable": true
   },
   "outputs": [
    {
     "name": "stdout",
     "output_type": "stream",
     "text": [
      "Valid attributes of module:  ['__builtins__', '__cached__', '__doc__', '__file__', '__loader__', '__name__', '__package__', '__spec__', 'find', 'glob', 'os', 'sys']\n",
      "/home/mayank/apps/python/lib/python3.5/os.py: (36.103515625 kbytes, Fri Oct 21 10:14:28 2016)\n",
      "/home/mayank/apps/python/lib/python3.5/posixpath.py: (14.5322265625 kbytes, Fri Oct 21 10:14:28 2016)\n",
      "/home/mayank/apps/python/lib/python3.5/_osx_support.py: (18.66015625 kbytes, Fri Oct 21 10:14:27 2016)\n",
      "/home/mayank/apps/python/lib/python3.5/site-packages/test_pycosat.py: (8.650390625 kbytes, Wed Dec  4 11:22:39 2013)\n",
      "/home/mayank/apps/python/lib/python3.5/site-packages/ecos.py: (2.3349609375 kbytes, Thu Sep 10 21:02:58 2015)\n"
     ]
    }
   ],
   "source": [
    "from os.path import getsize, getmtime\n",
    "from time import localtime, asctime\n",
    "\n",
    "import modutils\n",
    "\n",
    "mods = modutils.find('os')\n",
    "print(\"Valid attributes of module: \", dir(modutils))\n",
    "for mod in mods:\n",
    "    tm = asctime(localtime(getmtime(mod)))\n",
    "    kb = getsize(mod) / 1024\n",
    "    print ('{0}: ({1} kbytes, {2})'.format(mod, kb, tm))"
   ]
  },
  {
   "cell_type": "markdown",
   "metadata": {
    "deletable": true,
    "editable": true
   },
   "source": [
    "> _TIP_: Splitting programs into modules makes it easy to reuse and locate faults in the code."
   ]
  },
  {
   "cell_type": "markdown",
   "metadata": {
    "deletable": true,
    "editable": true
   },
   "source": [
    "## The Module Search Path\n"
   ]
  },
  {
   "cell_type": "markdown",
   "metadata": {
    "deletable": true,
    "editable": true
   },
   "source": [
    "When a module is requested to be imported, the interpreter first searches for a built-in module with that name. If not found, it then searches for a file named <module_name>.py in a list of directories given by the variable sys.path. sys.path is initialized from these locations:\n",
    "\n",
    "The directory containing the input script (or the current directory when no file is specified).\n",
    "PYTHONPATH (a list of directory names, with the same syntax as the shell variable PATH).\n",
    "The installation-dependent default."
   ]
  },
  {
   "cell_type": "markdown",
   "metadata": {
    "deletable": true,
    "editable": true
   },
   "source": [
    "## Packages\n",
    "\n",
    "> NOTE: To be discussed after classes "
   ]
  },
  {
   "cell_type": "markdown",
   "metadata": {
    "deletable": true,
    "editable": true
   },
   "source": [
    "Packages are a way of structuring Python’s module namespace by using “dotted module names”. For example, the module name A.B designates a submodule named B in a package named A. Just like the use of modules saves the authors of different modules from having to worry about each other’s global variable names, the use of dotted module names saves the authors of multi-module packages like NumPy or the Python Imaging Library from having to worry about each other’s module names.\n",
    "\n",
    "Suppose you want to design a collection of modules (a “package”) for the uniform handling of sound files and sound data. There are many different sound file formats (usually recognized by their extension, for example: .wav, .aiff, .au), so you may need to create and maintain a growing collection of modules for the conversion between the various file formats. There are also many different operations you might want to perform on sound data (such as mixing, adding echo, applying an equalizer function, creating an artificial stereo effect), so in addition you will be writing a never-ending stream of modules to perform these operations. Here’s a possible structure for your package (expressed in terms of a hierarchical filesystem):"
   ]
  },
  {
   "cell_type": "markdown",
   "metadata": {
    "deletable": true,
    "editable": true
   },
   "source": [
    "Package `maya_util` structure\n",
    "\n",
    "```\n",
    "./maya_util:\n",
    "__init__.py  db  json  misc.py\n",
    "\n",
    "./maya_util/db:\n",
    "__init__.py  read.py  write.py\n",
    "\n",
    "./maya_util/json:\n",
    "__init__.py  read.py  write.py\n",
    "```"
   ]
  },
  {
   "cell_type": "markdown",
   "metadata": {
    "deletable": true,
    "editable": true
   },
   "source": [
    "The `__init__.py` files are required to make Python treat the directories as containing packages; this is done to prevent directories with a common name, such as string, from unintentionally hiding valid modules that occur later on the module search path. In the simplest case, `__init__.py` can just be an empty file, but it can also execute initialization code for the package or set the `__all__` variable, described later."
   ]
  },
  {
   "cell_type": "markdown",
   "metadata": {
    "deletable": true,
    "editable": true
   },
   "source": [
    "Users of the package can import individual modules from the package, for example:"
   ]
  },
  {
   "cell_type": "code",
   "execution_count": null,
   "metadata": {
    "collapsed": true,
    "deletable": true,
    "editable": true
   },
   "outputs": [],
   "source": [
    "import maya_util.db"
   ]
  }
 ],
 "metadata": {
  "kernelspec": {
   "display_name": "Python 3",
   "language": "python",
   "name": "python3"
  },
  "language_info": {
   "codemirror_mode": {
    "name": "ipython",
    "version": 3
   },
   "file_extension": ".py",
   "mimetype": "text/x-python",
   "name": "python",
   "nbconvert_exporter": "python",
   "pygments_lexer": "ipython3",
   "version": "3.4.6"
  }
 },
 "nbformat": 4,
 "nbformat_minor": 1
}
