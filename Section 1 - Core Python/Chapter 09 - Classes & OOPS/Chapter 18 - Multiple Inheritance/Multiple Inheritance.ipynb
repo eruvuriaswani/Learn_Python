{
 "cells": [
  {
   "cell_type": "markdown",
   "metadata": {},
   "source": [
    "# Multiple Inheritance\n",
    "---\n",
    "Multiple inheritance is possible in Python unlike other programming languages. A class can be derived from more than one base classes. The syntax for multiple inheritance is similar to single inheritance."
   ]
  },
  {
   "cell_type": "code",
   "execution_count": 1,
   "metadata": {
    "collapsed": true
   },
   "outputs": [],
   "source": [
    "class Base1:\n",
    "    pass\n",
    "\n",
    "class Base2:\n",
    "    pass\n",
    "\n",
    "class MultiDerived(Base1, Base2):\n",
    "    pass"
   ]
  },
  {
   "cell_type": "code",
   "execution_count": 7,
   "metadata": {},
   "outputs": [
    {
     "name": "stdout",
     "output_type": "stream",
     "text": [
      "Please check the result of test()\n",
      "in Base1 -> test\n",
      "in Base2 -> test\n",
      "in Base1 -> test\n"
     ]
    }
   ],
   "source": [
    "class Base1:\n",
    "    def test(self):\n",
    "        print(\"in Base1 -> test\")\n",
    "\n",
    "class Base2:\n",
    "    def test(self):\n",
    "        print(\"in Base2 -> test\")\n",
    "\n",
    "class MultiDerived(Base1, Base2):\n",
    "    def test2(self):\n",
    "        super().test()\n",
    "        Base2.test(Base2)\n",
    "\n",
    "#     def __init__(self):\n",
    "#         print(\"Hello MultiDerived\")\n",
    "\n",
    "class MultiDerived2(Base2, Base1):\n",
    "    def test2(self):\n",
    "        super().test()\n",
    "        Base2.test(Base2)\n",
    "\n",
    "print(\"Please check the result of test()\")\n",
    "\n",
    "# d = Base2()\n",
    "# print(type(d))\n",
    "md = MultiDerived()\n",
    "md.test2()\n",
    "md.test()\n",
    "# print(type(md))\n",
    "\n",
    "# md2 = MultiDerived2\n",
    "# md2.test(md2)"
   ]
  },
  {
   "cell_type": "markdown",
   "metadata": {},
   "source": [
    "## Multilevel Inheritance\n",
    "---\n",
    "we can inherit to from a derived class also. This is called as multilevel inheritance. Multilevel inheritance can be of any depth in Python. An example with corresponding visualization is given below."
   ]
  },
  {
   "cell_type": "code",
   "execution_count": null,
   "metadata": {
    "collapsed": true
   },
   "outputs": [],
   "source": [
    "class Base:\n",
    "    pass\n",
    "\n",
    "class Derived1(Base):\n",
    "    pass\n",
    "\n",
    "class Derived2(Derived1):\n",
    "    pass"
   ]
  },
  {
   "cell_type": "markdown",
   "metadata": {},
   "source": [
    "In the multiple inheritance scenario, any specified attribute is searched first in the current class. If not found, the search continues into parent classes in depth-first, left-right fashion without searching same class twice"
   ]
  },
  {
   "cell_type": "code",
   "execution_count": 5,
   "metadata": {},
   "outputs": [
    {
     "name": "stdout",
     "output_type": "stream",
     "text": [
      "In Derived1 test\n",
      "In Base test\n",
      "in Derived2 test2\n"
     ]
    },
    {
     "ename": "TypeError",
     "evalue": "test_alone() missing 1 required positional argument: 'val'",
     "output_type": "error",
     "traceback": [
      "\u001b[1;31m---------------------------------------------------------------------------\u001b[0m",
      "\u001b[1;31mTypeError\u001b[0m                                 Traceback (most recent call last)",
      "\u001b[1;32m<ipython-input-5-94cf95e50635>\u001b[0m in \u001b[0;36m<module>\u001b[1;34m()\u001b[0m\n\u001b[0;32m     24\u001b[0m \u001b[0mobj\u001b[0m\u001b[1;33m.\u001b[0m\u001b[0mtest\u001b[0m\u001b[1;33m(\u001b[0m\u001b[1;33m)\u001b[0m\u001b[1;33m\u001b[0m\u001b[0m\n\u001b[0;32m     25\u001b[0m \u001b[0mobj\u001b[0m\u001b[1;33m.\u001b[0m\u001b[0mtest2\u001b[0m\u001b[1;33m(\u001b[0m\u001b[1;33m)\u001b[0m\u001b[1;33m\u001b[0m\u001b[0m\n\u001b[1;32m---> 26\u001b[1;33m \u001b[0mobj\u001b[0m\u001b[1;33m.\u001b[0m\u001b[0mtest_alone\u001b[0m\u001b[1;33m(\u001b[0m\u001b[1;33m)\u001b[0m\u001b[1;33m\u001b[0m\u001b[0m\n\u001b[0m\u001b[0;32m     27\u001b[0m \u001b[0mBase\u001b[0m\u001b[1;33m.\u001b[0m\u001b[0mtest\u001b[0m\u001b[1;33m(\u001b[0m\u001b[0mBase\u001b[0m\u001b[1;33m)\u001b[0m\u001b[1;33m\u001b[0m\u001b[0m\n",
      "\u001b[1;31mTypeError\u001b[0m: test_alone() missing 1 required positional argument: 'val'"
     ]
    }
   ],
   "source": [
    "class Base:\n",
    "    def test(self):\n",
    "        print(\"In Base test\")\n",
    "        \n",
    "    def test_alone(self):\n",
    "        print(\"In Base test: test_alone\")\n",
    "\n",
    "class Derived1(Base):\n",
    "    def test(self):\n",
    "        print(\"In Derived1 test\")\n",
    "        super().test()\n",
    "\n",
    "    def test_alone(self, val):\n",
    "        print(\"In Derived1 test: test_alone \", val)\n",
    "\n",
    "#     def test_alone(self):\n",
    "#         print(\"In Base test: test_alone\")\n",
    "\n",
    "class Derived2(Derived1):\n",
    "    def test2(self):\n",
    "        print(\"in Derived2 test2\")\n",
    "        \n",
    "obj = Derived2()\n",
    "obj.test()\n",
    "obj.test2()\n",
    "obj.test_alone()\n",
    "Base.test(Base)"
   ]
  },
  {
   "cell_type": "code",
   "execution_count": 6,
   "metadata": {},
   "outputs": [
    {
     "name": "stdout",
     "output_type": "stream",
     "text": [
      "In Derived1 test\n",
      "In Base test\n",
      "in Derived2 test2\n",
      "In Base test: test_alone\n",
      "In Base test\n"
     ]
    }
   ],
   "source": [
    "class Base:\n",
    "    def test(self):\n",
    "        print(\"In Base test\")\n",
    "        \n",
    "    def test_alone(self):\n",
    "        print(\"In Base test: test_alone\")\n",
    "\n",
    "class Derived1(Base):\n",
    "    def test(self):\n",
    "        print(\"In Derived1 test\")\n",
    "        super().test()\n",
    "\n",
    "    def test_alone(self, val):\n",
    "        print(\"In Derived1 test: test_alone \", val)\n",
    "\n",
    "    def test_alone(self):\n",
    "        print(\"In Base test: test_alone\")\n",
    "\n",
    "class Derived2(Derived1):\n",
    "    def test2(self):\n",
    "        print(\"in Derived2 test2\")\n",
    "        \n",
    "obj = Derived2()\n",
    "obj.test()\n",
    "obj.test2()\n",
    "obj.test_alone()\n",
    "Base.test(Base)"
   ]
  },
  {
   "cell_type": "code",
   "execution_count": 10,
   "metadata": {},
   "outputs": [
    {
     "name": "stdout",
     "output_type": "stream",
     "text": [
      "In Derived1 test\n"
     ]
    }
   ],
   "source": [
    "class Base():\n",
    "    def test(self):\n",
    "        print(\"In Base test\")\n",
    "\n",
    "class Derived1(Base):\n",
    "    def test(self):\n",
    "        print(\"In Derived1 test\")\n",
    "\n",
    "class Derived3(Derived1):\n",
    "    pass\n",
    "\n",
    "d = Derived3()\n",
    "d.test()"
   ]
  },
  {
   "cell_type": "code",
   "execution_count": 27,
   "metadata": {},
   "outputs": [
    {
     "name": "stdout",
     "output_type": "stream",
     "text": [
      "In Derived1 test, Golu\n"
     ]
    }
   ],
   "source": [
    "class Base():\n",
    "    def test(self):\n",
    "        print(\"In Base test\")\n",
    "\n",
    "class Derived1(Base):\n",
    "    def test(self):\n",
    "        print(\"In Derived1 test\", end=\", \")\n",
    "        return \"Golu\"\n",
    "\n",
    "class Derived3(Derived1):\n",
    "    pass\n",
    "\n",
    "d = Derived3()\n",
    "print(d.test())"
   ]
  },
  {
   "cell_type": "code",
   "execution_count": 39,
   "metadata": {},
   "outputs": [
    {
     "name": "stdout",
     "output_type": "stream",
     "text": [
      "In Derived1 test\n",
      "In Derived1 test\n"
     ]
    }
   ],
   "source": [
    "#### Explicitly calling function\n",
    "\n",
    "class Base:\n",
    "    def test(self):\n",
    "        print(\"In Base test\")\n",
    "\n",
    "class Derived1(Base):\n",
    "    def test(self):\n",
    "        print(\"In Derived1 test\")\n",
    "\n",
    "class Derived2(Derived1):\n",
    "    pass\n",
    "\n",
    "obj = Derived2\n",
    "obj.test(obj)\n",
    "\n",
    "Derived2.test(Derived2)"
   ]
  },
  {
   "cell_type": "code",
   "execution_count": 41,
   "metadata": {},
   "outputs": [
    {
     "name": "stdout",
     "output_type": "stream",
     "text": [
      "In Derived1 test\n",
      "<class 'type'>\n",
      "In Derived1 test\n",
      "<class 'type'>\n"
     ]
    }
   ],
   "source": [
    "#### Explicitly calling function\n",
    "\n",
    "class Base:\n",
    "    def test(self):\n",
    "        print(\"In Base test\")\n",
    "\n",
    "class Derived1(Base):\n",
    "    def test(self):\n",
    "        print(\"In Derived1 test\")\n",
    "        print(type(self))\n",
    "\n",
    "class Derived2(Derived1):\n",
    "    pass\n",
    "\n",
    "obj = Derived2\n",
    "obj.test(obj)\n",
    "\n",
    "Derived2.test(Derived2)"
   ]
  },
  {
   "cell_type": "code",
   "execution_count": 61,
   "metadata": {},
   "outputs": [
    {
     "name": "stdout",
     "output_type": "stream",
     "text": [
      "In Derived1 test\n",
      "<class '__main__.Derived2'>\n",
      "In Derived1 test\n",
      "<class 'type'>\n"
     ]
    }
   ],
   "source": [
    "#### Explicitly calling function\n",
    "\n",
    "class Base:\n",
    "    def test(self):\n",
    "        print(\"In Base test\")\n",
    "\n",
    "class Derived1(Base):\n",
    "    def test(self):\n",
    "        print(\"In Derived1 test\")\n",
    "        print(type(self))\n",
    "\n",
    "class Derived2(Derived1):\n",
    "    pass\n",
    "\n",
    "\n",
    "obj = Derived2()\n",
    "obj.test()\n",
    "\n",
    "Derived2.test(Derived2)"
   ]
  },
  {
   "cell_type": "code",
   "execution_count": null,
   "metadata": {
    "collapsed": true
   },
   "outputs": [],
   "source": []
  }
 ],
 "metadata": {
  "kernelspec": {
   "display_name": "Python 3",
   "language": "python",
   "name": "python3"
  },
  "language_info": {
   "codemirror_mode": {
    "name": "ipython",
    "version": 3
   },
   "file_extension": ".py",
   "mimetype": "text/x-python",
   "name": "python",
   "nbconvert_exporter": "python",
   "pygments_lexer": "ipython3",
   "version": "3.6.2"
  }
 },
 "nbformat": 4,
 "nbformat_minor": 1
}
