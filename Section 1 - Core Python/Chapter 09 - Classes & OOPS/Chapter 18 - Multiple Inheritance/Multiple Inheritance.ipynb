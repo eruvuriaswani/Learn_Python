{
 "cells": [
  {
   "cell_type": "markdown",
   "metadata": {},
   "source": [
    "# Multiple Inheritance\n",
    "---\n",
    "Multiple inheritance is possible in Python unlike other programming languages. A class can be derived from more than one base classes. The syntax for multiple inheritance is similar to single inheritance."
   ]
  },
  {
   "cell_type": "code",
   "execution_count": 1,
   "metadata": {
    "collapsed": true
   },
   "outputs": [],
   "source": [
    "class Base1:\n",
    "    pass\n",
    "\n",
    "class Base2:\n",
    "    pass\n",
    "\n",
    "class MultiDerived(Base1, Base2):\n",
    "    pass"
   ]
  },
  {
   "cell_type": "code",
   "execution_count": 7,
   "metadata": {},
   "outputs": [
    {
     "name": "stdout",
     "output_type": "stream",
     "text": [
      "Please check the result of test()\n",
      "in Base1 -> test\n",
      "in Base2 -> test\n",
      "in Base1 -> test\n"
     ]
    }
   ],
   "source": [
    "class Base1:\n",
    "    def test(self):\n",
    "        print(\"in Base1 -> test\")\n",
    "\n",
    "class Base2:\n",
    "    def test(self):\n",
    "        print(\"in Base2 -> test\")\n",
    "\n",
    "class MultiDerived(Base1, Base2):\n",
    "    def test2(self):\n",
    "        super().test()\n",
    "        Base2.test(Base2)\n",
    "\n",
    "#     def __init__(self):\n",
    "#         print(\"Hello MultiDerived\")\n",
    "\n",
    "class MultiDerived2(Base2, Base1):\n",
    "    def test2(self):\n",
    "        super().test()\n",
    "        Base2.test(Base2)\n",
    "\n",
    "print(\"Please check the result of test()\")\n",
    "\n",
    "# d = Base2()\n",
    "# print(type(d))\n",
    "md = MultiDerived()\n",
    "md.test2()\n",
    "md.test()\n",
    "# print(type(md))\n",
    "\n",
    "# md2 = MultiDerived2\n",
    "# md2.test(md2)"
   ]
  },
  {
   "cell_type": "markdown",
   "metadata": {},
   "source": [
    "## Multilevel Inheritance\n",
    "---\n",
    "we can inherit to from a derived class also. This is called as multilevel inheritance. Multilevel inheritance can be of any depth in Python. An example with corresponding visualization is given below."
   ]
  },
  {
   "cell_type": "code",
   "execution_count": null,
   "metadata": {
    "collapsed": true
   },
   "outputs": [],
   "source": [
    "class Base:\n",
    "    pass\n",
    "\n",
    "class Derived1(Base):\n",
    "    pass\n",
    "\n",
    "class Derived2(Derived1):\n",
    "    pass"
   ]
  },
  {
   "cell_type": "markdown",
   "metadata": {},
   "source": [
    "In the multiple inheritance scenario, any specified attribute is searched first in the current class. If not found, the search continues into parent classes in depth-first, left-right fashion without searching same class twice"
   ]
  },
  {
   "cell_type": "code",
   "execution_count": 16,
   "metadata": {},
   "outputs": [
    {
     "name": "stdout",
     "output_type": "stream",
     "text": [
      "In Derived1 test\n",
      "In Base test\n",
      "in Derived2 test2\n",
      "In Base test\n"
     ]
    }
   ],
   "source": [
    "class Base:\n",
    "    def test(self):\n",
    "        print(\"In Base test\")\n",
    "\n",
    "class Derived1(Base):\n",
    "    def test(self):\n",
    "        print(\"In Derived1 test\")\n",
    "        super().test()\n",
    "\n",
    "class Derived2(Derived1):\n",
    "    def test2(self):\n",
    "        print(\"in Derived2 test2\")\n",
    "        \n",
    "        \n",
    "        \n",
    "\n",
    "obj = Derived2()\n",
    "obj.test()\n",
    "obj.test2()\n",
    "Base.test(Base)"
   ]
  },
  {
   "cell_type": "code",
   "execution_count": 28,
   "metadata": {},
   "outputs": [
    {
     "name": "stdout",
     "output_type": "stream",
     "text": [
      "In Derived1 test\n",
      "None\n",
      "Help on built-in function print in module builtins:\n",
      "\n",
      "print(...)\n",
      "    print(value, ..., sep=' ', end='\\n', file=sys.stdout, flush=False)\n",
      "    \n",
      "    Prints the values to a stream, or to sys.stdout by default.\n",
      "    Optional keyword arguments:\n",
      "    file:  a file-like object (stream); defaults to the current sys.stdout.\n",
      "    sep:   string inserted between values, default a space.\n",
      "    end:   string appended after the last value, default a newline.\n",
      "    flush: whether to forcibly flush the stream.\n",
      "\n",
      "['__call__', '__class__', '__delattr__', '__dir__', '__doc__', '__eq__', '__format__', '__ge__', '__getattribute__', '__gt__', '__hash__', '__init__', '__le__', '__lt__', '__module__', '__name__', '__ne__', '__new__', '__qualname__', '__reduce__', '__reduce_ex__', '__repr__', '__self__', '__setattr__', '__sizeof__', '__str__', '__subclasshook__', '__text_signature__']\n"
     ]
    }
   ],
   "source": [
    "class Base():\n",
    "    def test(self):\n",
    "        print(\"In Base test\")\n",
    "\n",
    "class Derived1(Base):\n",
    "    def test(self):\n",
    "        print(\"In Derived1 test\")\n",
    "\n",
    "class Derived3(Derived1):\n",
    "    pass\n",
    "\n",
    "d = Derived3()\n",
    "print(d.test())\n",
    "help(print)\n",
    "print(dir(print))"
   ]
  },
  {
   "cell_type": "code",
   "execution_count": 27,
   "metadata": {},
   "outputs": [
    {
     "name": "stdout",
     "output_type": "stream",
     "text": [
      "In Derived1 test, Golu\n"
     ]
    }
   ],
   "source": [
    "class Base():\n",
    "    def test(self):\n",
    "        print(\"In Base test\")\n",
    "\n",
    "class Derived1(Base):\n",
    "    def test(self):\n",
    "        print(\"In Derived1 test\", end=\", \")\n",
    "        return \"Golu\"\n",
    "\n",
    "class Derived3(Derived1):\n",
    "    pass\n",
    "\n",
    "d = Derived3()\n",
    "print(d.test())"
   ]
  },
  {
   "cell_type": "code",
   "execution_count": 39,
   "metadata": {},
   "outputs": [
    {
     "name": "stdout",
     "output_type": "stream",
     "text": [
      "In Derived1 test\n",
      "In Derived1 test\n"
     ]
    }
   ],
   "source": [
    "#### Explicitly calling function\n",
    "\n",
    "class Base:\n",
    "    def test(self):\n",
    "        print(\"In Base test\")\n",
    "\n",
    "class Derived1(Base):\n",
    "    def test(self):\n",
    "        print(\"In Derived1 test\")\n",
    "\n",
    "class Derived2(Derived1):\n",
    "    pass\n",
    "\n",
    "obj = Derived2\n",
    "obj.test(obj)\n",
    "\n",
    "Derived2.test(Derived2)"
   ]
  },
  {
   "cell_type": "code",
   "execution_count": 41,
   "metadata": {},
   "outputs": [
    {
     "name": "stdout",
     "output_type": "stream",
     "text": [
      "In Derived1 test\n",
      "<class 'type'>\n",
      "In Derived1 test\n",
      "<class 'type'>\n"
     ]
    }
   ],
   "source": [
    "#### Explicitly calling function\n",
    "\n",
    "class Base:\n",
    "    def test(self):\n",
    "        print(\"In Base test\")\n",
    "\n",
    "class Derived1(Base):\n",
    "    def test(self):\n",
    "        print(\"In Derived1 test\")\n",
    "        print(type(self))\n",
    "\n",
    "class Derived2(Derived1):\n",
    "    pass\n",
    "\n",
    "obj = Derived2\n",
    "obj.test(obj)\n",
    "\n",
    "Derived2.test(Derived2)"
   ]
  },
  {
   "cell_type": "code",
   "execution_count": 61,
   "metadata": {},
   "outputs": [
    {
     "name": "stdout",
     "output_type": "stream",
     "text": [
      "In Derived1 test\n",
      "<class '__main__.Derived2'>\n",
      "In Derived1 test\n",
      "<class 'type'>\n"
     ]
    }
   ],
   "source": [
    "#### Explicitly calling function\n",
    "\n",
    "class Base:\n",
    "    def test(self):\n",
    "        print(\"In Base test\")\n",
    "\n",
    "class Derived1(Base):\n",
    "    def test(self):\n",
    "        print(\"In Derived1 test\")\n",
    "        print(type(self))\n",
    "\n",
    "class Derived2(Derived1):\n",
    "    pass\n",
    "\n",
    "\n",
    "obj = Derived2()\n",
    "obj.test()\n",
    "\n",
    "Derived2.test(Derived2)"
   ]
  },
  {
   "cell_type": "code",
   "execution_count": null,
   "metadata": {
    "collapsed": true
   },
   "outputs": [],
   "source": []
  }
 ],
 "metadata": {
  "kernelspec": {
   "display_name": "Python 3",
   "language": "python",
   "name": "python3"
  },
  "language_info": {
   "codemirror_mode": {
    "name": "ipython",
    "version": 3
   },
   "file_extension": ".py",
   "mimetype": "text/x-python",
   "name": "python",
   "nbconvert_exporter": "python",
   "pygments_lexer": "ipython3",
   "version": "3.4.6"
  }
 },
 "nbformat": 4,
 "nbformat_minor": 1
}
