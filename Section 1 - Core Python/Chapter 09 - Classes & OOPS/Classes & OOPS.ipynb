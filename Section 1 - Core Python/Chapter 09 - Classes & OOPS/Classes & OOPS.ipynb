{
 "cells": [
  {
   "cell_type": "markdown",
   "metadata": {},
   "source": [
    "# Modules, Classes, and Objects & OOPS\n",
    "----\n",
    "Python is something called an “object- oriented programming language.” What this means is\n",
    "there’s a construct in Python called a class that lets you structure your software in a particular\n",
    "way. Using classes, you can add consistency to your programs so that they can be used in a cleaner\n",
    "way, or at least that’s the theory.\n",
    "\n",
    "Classes and objects are the two main aspects of object oriented programming. A class creates a new type where objects are instances of the class. An analogy is that you can have variables of type i n t which translates to saying that variables that store integers are variables which are instances (objects) of the int class."
   ]
  },
  {
   "cell_type": "markdown",
   "metadata": {},
   "source": [
    "Objects can store data using ordinary variables that belong to the object. Variables that\n",
    "belong to an object or class are referred to as fields. Objects can also have functionality by\n",
    "using functions that belong to a class. Such functions are called methods of the class. This\n",
    "terminology is important because it helps us to differentiate between functions and\n",
    "variables which are independent and those which belong to a class or object. Collectively,\n",
    "the fields and methods can be referred to as the attributes of that class.\n",
    "\n",
    "Fields are of two types - they can belong to each instance/object of the class or they can\n",
    "belong to the class itself. They are called instance variables and class variables\n",
    "respectively.\n",
    "\n",
    "A class is created using the ***`class`*** keyword. The fields and methods of the class are listed\n",
    "in an indented block."
   ]
  },
  {
   "cell_type": "markdown",
   "metadata": {},
   "source": [
    "## The self\n",
    "\n",
    "Class methods have only one specific difference from ordinary functions - they must have an extra first name that has to be added to the beginning of the parameter list, but you do not give a value for this parameter when you call the method, Python will provide it. This particular variable refers to the object itself, and by convention, it is given the name ***`self`***."
   ]
  },
  {
   "cell_type": "markdown",
   "metadata": {},
   "source": [
    "## Classes\n",
    "---\n",
    "A class is merely a container for static data members or function declarations, called a class's attributes. Classes provide something which can be considered a blueprint for creating \"real\" objects, called class instances. Functions which are part of classes are called ***`methods`***.\n",
    "\n",
    "The simplest class possible is shown in the following example."
   ]
  },
  {
   "cell_type": "code",
   "execution_count": 5,
   "metadata": {
    "collapsed": true
   },
   "outputs": [],
   "source": [
    "# Declare a Class\n",
    "class class_name:\n",
    "    pass\n",
    "\n",
    "\n",
    "\n",
    "\n",
    "class Class_name(base_classes_if_any):\n",
    "    \"optional documentation string\"\n",
    "\n",
    "    static_member_declarations = 1\n",
    "    \n",
    "    def method_declarations(self):\n",
    "        pass"
   ]
  },
  {
   "cell_type": "code",
   "execution_count": 1,
   "metadata": {},
   "outputs": [
    {
     "name": "stdout",
     "output_type": "stream",
     "text": [
      "<class '__main__.First'>\n",
      "<class 'type'>\n",
      "<class 'type'>\n"
     ]
    }
   ],
   "source": [
    "# first.py\n",
    "\n",
    "class First:\n",
    "   pass\n",
    "\n",
    "fr = First()\n",
    "print (type(fr))\n",
    "print (type(First))\n",
    "print(type(int))"
   ]
  },
  {
   "cell_type": "code",
   "execution_count": 14,
   "metadata": {},
   "outputs": [
    {
     "ename": "AttributeError",
     "evalue": "'Second' object has no attribute 'fullname'",
     "output_type": "error",
     "traceback": [
      "\u001b[0;31m---------------------------------------------------------------------------\u001b[0m",
      "\u001b[0;31mAttributeError\u001b[0m                            Traceback (most recent call last)",
      "\u001b[0;32m<ipython-input-14-54b0f1fa535d>\u001b[0m in \u001b[0;36m<module>\u001b[0;34m()\u001b[0m\n\u001b[1;32m      9\u001b[0m \u001b[0;34m\u001b[0m\u001b[0m\n\u001b[1;32m     10\u001b[0m \u001b[0msec\u001b[0m \u001b[0;34m=\u001b[0m \u001b[0mSecond\u001b[0m\u001b[0;34m(\u001b[0m\u001b[0;34m)\u001b[0m\u001b[0;34m\u001b[0m\u001b[0m\n\u001b[0;32m---> 11\u001b[0;31m \u001b[0mprint\u001b[0m\u001b[0;34m(\u001b[0m\u001b[0msec\u001b[0m\u001b[0;34m.\u001b[0m\u001b[0mget_name\u001b[0m\u001b[0;34m(\u001b[0m\u001b[0;34m)\u001b[0m\u001b[0;34m)\u001b[0m\u001b[0;34m\u001b[0m\u001b[0m\n\u001b[0m",
      "\u001b[0;32m<ipython-input-14-54b0f1fa535d>\u001b[0m in \u001b[0;36mget_name\u001b[0;34m(self)\u001b[0m\n\u001b[1;32m      6\u001b[0m \u001b[0;34m\u001b[0m\u001b[0m\n\u001b[1;32m      7\u001b[0m     \u001b[0;32mdef\u001b[0m \u001b[0mget_name\u001b[0m\u001b[0;34m(\u001b[0m\u001b[0mself\u001b[0m\u001b[0;34m)\u001b[0m\u001b[0;34m:\u001b[0m\u001b[0;34m\u001b[0m\u001b[0m\n\u001b[0;32m----> 8\u001b[0;31m         \u001b[0;32mreturn\u001b[0m \u001b[0mself\u001b[0m\u001b[0;34m.\u001b[0m\u001b[0mfullname\u001b[0m\u001b[0;34m\u001b[0m\u001b[0m\n\u001b[0m\u001b[1;32m      9\u001b[0m \u001b[0;34m\u001b[0m\u001b[0m\n\u001b[1;32m     10\u001b[0m \u001b[0msec\u001b[0m \u001b[0;34m=\u001b[0m \u001b[0mSecond\u001b[0m\u001b[0;34m(\u001b[0m\u001b[0;34m)\u001b[0m\u001b[0;34m\u001b[0m\u001b[0m\n",
      "\u001b[0;31mAttributeError\u001b[0m: 'Second' object has no attribute 'fullname'"
     ]
    }
   ],
   "source": [
    "# first.py\n",
    "# Class with it's methods  \n",
    "\n",
    "class Second:\n",
    "    def set_name(self, name):\n",
    "        self.fullname = name\n",
    "        \n",
    "    def get_name(self):\n",
    "        return self.fullname\n",
    "\n",
    "sec = Second()\n",
    "print(sec.get_name())"
   ]
  },
  {
   "cell_type": "code",
   "execution_count": 16,
   "metadata": {},
   "outputs": [
    {
     "name": "stdout",
     "output_type": "stream",
     "text": [
      "Manish\n"
     ]
    }
   ],
   "source": [
    "# first.py\n",
    "\n",
    "class Second:\n",
    "    def set_name(self, name):\n",
    "        self.fullname = name\n",
    "        \n",
    "    def get_name(self):\n",
    "        return self.fullname\n",
    "\n",
    "sec = Second()\n",
    "sec.set_name(\"Manish\")\n",
    "print(sec.get_name())"
   ]
  },
  {
   "cell_type": "code",
   "execution_count": 1,
   "metadata": {},
   "outputs": [
    {
     "name": "stdout",
     "output_type": "stream",
     "text": [
      "['__class__', '__delattr__', '__dict__', '__dir__', '__doc__', '__eq__', '__format__', '__ge__', '__getattribute__', '__gt__', '__hash__', '__init__', '__init_subclass__', '__le__', '__lt__', '__module__', '__ne__', '__new__', '__reduce__', '__reduce_ex__', '__repr__', '__setattr__', '__sizeof__', '__str__', '__subclasshook__', '__weakref__', 'get_name', 'set_name']\n",
      "^^^^^^^^^^^^^^^^^^^^\n",
      "Manish\n"
     ]
    },
    {
     "ename": "AttributeError",
     "evalue": "'Second' object has no attribute 'fullname'",
     "output_type": "error",
     "traceback": [
      "\u001b[1;31m---------------------------------------------------------------------------\u001b[0m",
      "\u001b[1;31mAttributeError\u001b[0m                            Traceback (most recent call last)",
      "\u001b[1;32m<ipython-input-1-82f0f300d350>\u001b[0m in \u001b[0;36m<module>\u001b[1;34m()\u001b[0m\n\u001b[0;32m     14\u001b[0m \u001b[0msec\u001b[0m\u001b[1;33m.\u001b[0m\u001b[0mset_name\u001b[0m\u001b[1;33m(\u001b[0m\u001b[1;34m\"Manish\"\u001b[0m\u001b[1;33m)\u001b[0m\u001b[1;33m\u001b[0m\u001b[0m\n\u001b[0;32m     15\u001b[0m \u001b[0mprint\u001b[0m\u001b[1;33m(\u001b[0m\u001b[0msec\u001b[0m\u001b[1;33m.\u001b[0m\u001b[0mget_name\u001b[0m\u001b[1;33m(\u001b[0m\u001b[1;33m)\u001b[0m\u001b[1;33m)\u001b[0m\u001b[1;33m\u001b[0m\u001b[0m\n\u001b[1;32m---> 16\u001b[1;33m \u001b[0mprint\u001b[0m\u001b[1;33m(\u001b[0m\u001b[0msec2\u001b[0m\u001b[1;33m.\u001b[0m\u001b[0mget_name\u001b[0m\u001b[1;33m(\u001b[0m\u001b[1;33m)\u001b[0m\u001b[1;33m)\u001b[0m\u001b[1;33m\u001b[0m\u001b[0m\n\u001b[0m",
      "\u001b[1;32m<ipython-input-1-82f0f300d350>\u001b[0m in \u001b[0;36mget_name\u001b[1;34m(self)\u001b[0m\n\u001b[0;32m      6\u001b[0m \u001b[1;33m\u001b[0m\u001b[0m\n\u001b[0;32m      7\u001b[0m     \u001b[1;32mdef\u001b[0m \u001b[0mget_name\u001b[0m\u001b[1;33m(\u001b[0m\u001b[0mself\u001b[0m\u001b[1;33m)\u001b[0m\u001b[1;33m:\u001b[0m\u001b[1;33m\u001b[0m\u001b[0m\n\u001b[1;32m----> 8\u001b[1;33m         \u001b[1;32mreturn\u001b[0m \u001b[0mself\u001b[0m\u001b[1;33m.\u001b[0m\u001b[0mfullname\u001b[0m\u001b[1;33m\u001b[0m\u001b[0m\n\u001b[0m\u001b[0;32m      9\u001b[0m \u001b[1;33m\u001b[0m\u001b[0m\n\u001b[0;32m     10\u001b[0m \u001b[0msec\u001b[0m \u001b[1;33m=\u001b[0m \u001b[0mSecond\u001b[0m\u001b[1;33m(\u001b[0m\u001b[1;33m)\u001b[0m\u001b[1;33m\u001b[0m\u001b[0m\n",
      "\u001b[1;31mAttributeError\u001b[0m: 'Second' object has no attribute 'fullname'"
     ]
    }
   ],
   "source": [
    "# first.py\n",
    "\n",
    "class Second:\n",
    "    def set_name(self, name):\n",
    "        self.fullname = name\n",
    "        \n",
    "    def get_name(self):\n",
    "        return self.fullname\n",
    "\n",
    "sec = Second()\n",
    "sec2 = Second()\n",
    "print(dir(sec))\n",
    "print(\"^\"*20)\n",
    "sec.set_name(\"Manish\")\n",
    "print(sec.get_name())\n",
    "print(sec2.get_name())"
   ]
  },
  {
   "cell_type": "code",
   "execution_count": 3,
   "metadata": {},
   "outputs": [
    {
     "name": "stdout",
     "output_type": "stream",
     "text": [
      "Arya\n",
      "35\n"
     ]
    }
   ],
   "source": [
    "# first.py\n",
    "\n",
    "class Second:\n",
    "    def __init__(self, name, age=35):\n",
    "        self.name(name)\n",
    "        self.age = age\n",
    "        \n",
    "    def name(self, name):\n",
    "        self.name = name\n",
    "        \n",
    "    def get_name(self):\n",
    "        return self.name\n",
    "\n",
    "sec = Second(\"Arya\")\n",
    "print(sec.get_name())\n",
    "print(sec.age)"
   ]
  },
  {
   "cell_type": "code",
   "execution_count": 30,
   "metadata": {},
   "outputs": [
    {
     "name": "stdout",
     "output_type": "stream",
     "text": [
      "['__class__', '__delattr__', '__dict__', '__dir__', '__doc__', '__eq__', '__format__', '__ge__', '__getattribute__', '__gt__', '__hash__', '__init__', '__le__', '__lt__', '__module__', '__ne__', '__new__', '__reduce__', '__reduce_ex__', '__repr__', '__setattr__', '__sizeof__', '__str__', '__subclasshook__', '__weakref__', 'age', 'fullname', 'get_name', 'name']\n",
      "Mayank Johri\n",
      "139708518948016\n",
      "139708518948016\n"
     ]
    }
   ],
   "source": [
    "# first.py\n",
    "\n",
    "class Second:\n",
    "    fullname = \"Mayank Johri\"\n",
    "    age = 33\n",
    "        \n",
    "    def name(self, name):\n",
    "        self.fullname = name\n",
    "        \n",
    "    def get_name(self):\n",
    "        return self.fullname\n",
    "\n",
    "sec = Second()\n",
    "print(dir(sec))\n",
    "print(sec.get_name())\n",
    "print(id(sec.fullname))\n",
    "sec2 = Second()\n",
    "print(id(sec2.fullname))\n"
   ]
  },
  {
   "cell_type": "code",
   "execution_count": 35,
   "metadata": {},
   "outputs": [
    {
     "name": "stdout",
     "output_type": "stream",
     "text": [
      "['__class__', '__delattr__', '__dict__', '__dir__', '__doc__', '__eq__', '__format__', '__ge__', '__getattribute__', '__gt__', '__hash__', '__init__', '__le__', '__lt__', '__module__', '__ne__', '__new__', '__reduce__', '__reduce_ex__', '__repr__', '__setattr__', '__sizeof__', '__str__', '__subclasshook__', '__weakref__', 'age', 'fullname', 'get_name', 'name']\n",
      "Mayank Johri\n",
      "139708519011632\n",
      "139708519011632\n",
      "139708519010232\n",
      "139708519011632\n",
      "Mayank Johri\n",
      "139708519010232\n",
      "139708519010232\n",
      "139708519010232\n"
     ]
    }
   ],
   "source": [
    "# first.py\n",
    "\n",
    "class Second:\n",
    "    fullname = \"Mayank Johri\"\n",
    "    age = 33\n",
    "        \n",
    "    def name(self, name):\n",
    "        self.fullname = name\n",
    "        \n",
    "    def get_name(self):\n",
    "        return self.fullname\n",
    "\n",
    "sec = Second()\n",
    "print(dir(sec))\n",
    "print(sec.get_name())\n",
    "print(id(sec.fullname))\n",
    "sec2 = Second()\n",
    "print(id(sec2.fullname))\n",
    "sec2.name(\"Roshan\")\n",
    "print(id(sec2.fullname))\n",
    "print(id(sec.fullname))\n",
    "print(sec.fullname)\n",
    "sec.name(\"Roshan\")\n",
    "print(id(sec2.fullname))\n",
    "print(id(sec.fullname))\n",
    "name = \"Roshan\"\n",
    "print(id(name))"
   ]
  },
  {
   "cell_type": "code",
   "execution_count": 7,
   "metadata": {},
   "outputs": [
    {
     "name": "stdout",
     "output_type": "stream",
     "text": [
      "Your name is:  Arya\n",
      "None\n",
      "Your name is:  John Doe\n",
      "0.1\n",
      "0.1\n",
      "10\n"
     ]
    },
    {
     "ename": "AttributeError",
     "evalue": "'FooClass' object has no attribute '__version'",
     "output_type": "error",
     "traceback": [
      "\u001b[1;31m---------------------------------------------------------------------------\u001b[0m",
      "\u001b[1;31mAttributeError\u001b[0m                            Traceback (most recent call last)",
      "\u001b[1;32m<ipython-input-7-a48b916b6c18>\u001b[0m in \u001b[0;36m<module>\u001b[1;34m()\u001b[0m\n\u001b[0;32m     39\u001b[0m \u001b[0mprint\u001b[0m\u001b[1;33m(\u001b[0m\u001b[0mfoo\u001b[0m\u001b[1;33m.\u001b[0m\u001b[0mver\u001b[0m\u001b[1;33m)\u001b[0m\u001b[1;33m\u001b[0m\u001b[0m\n\u001b[0;32m     40\u001b[0m \u001b[0mfoo\u001b[0m\u001b[1;33m.\u001b[0m\u001b[0msetVersion\u001b[0m\u001b[1;33m(\u001b[0m\u001b[1;36m10\u001b[0m\u001b[1;33m)\u001b[0m\u001b[1;33m\u001b[0m\u001b[0m\n\u001b[1;32m---> 41\u001b[1;33m \u001b[0mprint\u001b[0m\u001b[1;33m(\u001b[0m\u001b[0mfoo\u001b[0m\u001b[1;33m.\u001b[0m\u001b[0m__version\u001b[0m\u001b[1;33m)\u001b[0m\u001b[1;33m\u001b[0m\u001b[0m\n\u001b[0m\u001b[0;32m     42\u001b[0m \u001b[1;31m# print(FooClass.__version)\u001b[0m\u001b[1;33m\u001b[0m\u001b[1;33m\u001b[0m\u001b[0m\n",
      "\u001b[1;31mAttributeError\u001b[0m: 'FooClass' object has no attribute '__version'"
     ]
    }
   ],
   "source": [
    "# Example\n",
    "class FooClass:\n",
    "    \"\"\"my very first class: FooClass\"\"\"\n",
    "    __version = 0.11 # class (data) attribute\n",
    "    ver = 0.1\n",
    "    \n",
    "    def __init__(self, nm='John Doe'):\n",
    "        'constructor'\n",
    "        self.name = nm # class instance (data) attribute\n",
    "#         print ('Created a class instance for: ', self.name)\n",
    "    \n",
    "    def showName(self):\n",
    "        'display instance attribute and class name'\n",
    "        print ('Your name is: ', self.name)\n",
    "#         print( 'My name is: ', self.__class__ )# full class name\n",
    "\n",
    "    def showVersion(self):\n",
    "        'display class(static) attribute'\n",
    "        print( self.__version )# references FooClass.version\n",
    "    \n",
    "    def showVer(self):\n",
    "        'display class(static) attribute'\n",
    "        print( self.ver )# references FooClass.version \n",
    "    \n",
    "    def setVersion(self, ver):\n",
    "        'display class(static) attribute'\n",
    "        self.__version = ver\n",
    "        print( self.__version )# references FooClass.version  \n",
    "\n",
    "# Create Class Instances\n",
    "foo = FooClass()\n",
    "arya = FooClass(\"Arya\")\n",
    "print(arya.showName())\n",
    "\n",
    "# Calling class methods\n",
    "foo.showName()\n",
    "# print(foo.showName())\n",
    "foo.showVer()\n",
    "print(foo.ver)\n",
    "foo.setVersion(10)\n",
    "print(foo.__version)\n",
    "# print(FooClass.__version)"
   ]
  },
  {
   "cell_type": "code",
   "execution_count": 8,
   "metadata": {},
   "outputs": [
    {
     "name": "stdout",
     "output_type": "stream",
     "text": [
      "Created a class instance for:  John Doe\n",
      "Created a class instance for:  Arya Doe\n",
      "Created a class instance for:  John Gupta\n",
      "Your name is:  Arya Doe\n",
      "My name is:  <class '__main__.User'>\n",
      "None\n"
     ]
    }
   ],
   "source": [
    "# Example\n",
    "class User:\n",
    "    \"\"\"my very first class: FooClass\"\"\"\n",
    "    __version = 0.11 # class (data) attribute\n",
    "    ver = 0.1\n",
    "    \n",
    "    def __init__(self, firstname='John', surname=\"Doe\"):\n",
    "        'constructor'\n",
    "        self.name = firstname + \" \" + surname \n",
    "        print ('Created a class instance for: ', self.name)\n",
    "    \n",
    "    def showName(self):\n",
    "        'display instance attribute and class name'\n",
    "        print ('Your name is: ', self.name)\n",
    "        print( 'My name is: ', self.__class__ )# full class name\n",
    "\n",
    "    def showVersion(self):\n",
    "        'display class(static) attribute'\n",
    "        print( self.__version )# references FooClass.version\n",
    "    \n",
    "    def showVer(self):\n",
    "        'display class(static) attribute'\n",
    "        print( self.ver )# references FooClass.version \n",
    "    \n",
    "    def setVersion(self, ver):\n",
    "        'display class(static) attribute'\n",
    "        self.__version = ver\n",
    "        print( self.__version )# references FooClass.version  \n",
    "\n",
    "# Create Class Instances\n",
    "user = User()\n",
    "arya = User(\"Arya\")\n",
    "gupta = User(surname=\"Gupta\")\n",
    "print(arya.showName())"
   ]
  },
  {
   "cell_type": "code",
   "execution_count": 11,
   "metadata": {},
   "outputs": [
    {
     "name": "stdout",
     "output_type": "stream",
     "text": [
      "Created a class instance for:  Manish Gupta\n",
      "Your name is:  Arya\n",
      "None\n"
     ]
    }
   ],
   "source": [
    "# Example\n",
    "class User:\n",
    "    \"\"\"my very first class: FooClass\"\"\"\n",
    "    __version = 0.11 # class (data) attribute\n",
    "    ver = 0.1\n",
    "    \n",
    "    def __init__(self, firstname, surname):\n",
    "        'constructor'\n",
    "        self.name = firstname + \" \" + surname \n",
    "        print ('Created a class instance for: ', self.name)\n",
    "    \n",
    "    # full class name\n",
    "    def showName(self):\n",
    "        'display instance attribute and class name'\n",
    "        print ('Your name is: ', self.name)\n",
    "        print( 'My name is: ', self.__class__ )\n",
    "\n",
    "    def showVersion(self):\n",
    "        'display class(static) attribute'\n",
    "        print( self.__version )# references FooClass.version\n",
    "    \n",
    "    def showVer(self):\n",
    "        'display class(static) attribute'\n",
    "        print( self.ver )# references FooClass.version \n",
    "    \n",
    "    def setVersion(self, ver):\n",
    "        'display class(static) attribute'\n",
    "        self.__version = ver\n",
    "        print( self.__version )# references FooClass.version  \n",
    "\n",
    "# Create Class Instances\n",
    "# user = User()\n",
    "# arya = User(\"Arya\")\n",
    "# gupta = User(surname=\"Gupta\")\n",
    "gupta = User(surname=\"Gupta\", firstname=\"Manish\")\n",
    "print(arya.showName())"
   ]
  },
  {
   "cell_type": "code",
   "execution_count": 19,
   "metadata": {},
   "outputs": [
    {
     "name": "stdout",
     "output_type": "stream",
     "text": [
      "10.0\n",
      "11.0\n",
      "111\n",
      "1000\n"
     ]
    }
   ],
   "source": [
    "class PrivateVariables():\n",
    "    __version = 1.0\n",
    "    _vers = 11.0\n",
    "    ver = 10.0\n",
    "    \n",
    "    def show__version(self):\n",
    "        print(self.__version)\n",
    "    \n",
    "    def show_vers(self):\n",
    "        print(self._vers)\n",
    "\n",
    "pv = PrivateVariables()\n",
    "print(pv.ver)\n",
    "print(pv._vers)\n",
    "# print(pv.__version)\n",
    "\n",
    "pv.ver = 111\n",
    "print(pv.ver)\n",
    "pv._vers = 1000\n",
    "print(pv._vers) # Convension only "
   ]
  },
  {
   "cell_type": "markdown",
   "metadata": {},
   "source": [
    "## attributes\n",
    "In Python, attribute everything is contained inside an object. In Python there is no real distinction between plain data and functions, being both objects.\n",
    "\n",
    "The following example represents a book with a title and an author. It also provides a `get_entry()` method which returns a string representation of the book."
   ]
  },
  {
   "cell_type": "code",
   "execution_count": 13,
   "metadata": {
    "collapsed": true
   },
   "outputs": [],
   "source": [
    "class Book:\n",
    "    def __init__(self, title, author):\n",
    "        self.title = title\n",
    "        self.author = author\n",
    "\n",
    "    def get_entry(self):\n",
    "        return \"{0} by {1}\".format(self.title, self.author)"
   ]
  },
  {
   "cell_type": "markdown",
   "metadata": {},
   "source": [
    "Every instance of this class will contain three attributes, namely `title, author`, and `get_entry`, in addition to the standard attributes provided by the object ancestor."
   ]
  },
  {
   "cell_type": "code",
   "execution_count": 14,
   "metadata": {},
   "outputs": [
    {
     "name": "stdout",
     "output_type": "stream",
     "text": [
      "Akme\n",
      "Lets Go\n",
      "Lets Go by Mayank\n"
     ]
    }
   ],
   "source": [
    "b = Book(title=\"Akme\", author=\"Mayank\")\n",
    "print(b.title)\n",
    "b.title = \"Lets Go\"\n",
    "print(b.title)\n",
    "print(b.get_entry())\n",
    "data = b.get_entry\n",
    "# print(data)\n",
    "# print(data())\n",
    "# print(type(b.__dict__))\n",
    "# print(b.__dict__)\n",
    "# print(b.nonExistAttribute())"
   ]
  },
  {
   "cell_type": "code",
   "execution_count": 12,
   "metadata": {},
   "outputs": [
    {
     "name": "stdout",
     "output_type": "stream",
     "text": [
      "Lets Go by Mayank\n"
     ]
    }
   ],
   "source": [
    "def testtest(func):\n",
    "    print(func())\n",
    "\n",
    "testtest(data)"
   ]
  },
  {
   "cell_type": "markdown",
   "metadata": {},
   "source": [
    "Instead of using the normal statements to access attributes, you can use the following functions −\n",
    "\n",
    "getattr\n",
    ": to access the attribute of the object\n",
    "\n",
    "The getattr(obj, name[, default]) \n",
    ": to access the attribute of object.\n",
    "    \n",
    "The hasattr(obj,name) \n",
    ": to check if an attribute exists or not.\n",
    "\n",
    "The setattr(obj,name,value) \n",
    "    : to set an attribute. If attribute does not exist, then it would be created.\n",
    "\n",
    "The delattr(obj, name)\n",
    "    : to delete an attribute."
   ]
  },
  {
   "cell_type": "markdown",
   "metadata": {},
   "source": [
    "## Properties\n",
    "Sometimes you want to have an attribute whose value comes from other attributes or, in general, which value shall be computed at the moment. The standard way to deal with this situation is to create a method, called getter, just like I did with get_entry().\n",
    "\n",
    "In Python you can \"mask\" the method, aliasing it with a data attribute, which in this case is called __***`property`***__."
   ]
  },
  {
   "cell_type": "code",
   "execution_count": 23,
   "metadata": {},
   "outputs": [
    {
     "name": "stdout",
     "output_type": "stream",
     "text": [
      "Pawn of Prophecy by David Eddings\n"
     ]
    }
   ],
   "source": [
    "class Book(object):\n",
    "    def __init__(self, title, author):\n",
    "        self.title = title\n",
    "        self.author = author\n",
    "\n",
    "    def get_entry(self):\n",
    "        return \"{0} by {1}\".format(self.title, self.author)\n",
    "\n",
    "    entry = property(get_entry)\n",
    "\n",
    "b = Book(title=\"Pawn of Prophecy\", author=\"David Eddings\")\n",
    "print(b.entry)"
   ]
  },
  {
   "cell_type": "markdown",
   "metadata": {},
   "source": [
    "Properties allow to specify also a write method (a setter), that is automatically called when you try to change the value of the property itself."
   ]
  },
  {
   "cell_type": "markdown",
   "metadata": {
    "collapsed": true
   },
   "source": [
    "> NOTE: \n",
    "\n",
    ">    Don't Worry to much about properties, we have entire chapter dedicated for it. "
   ]
  },
  {
   "cell_type": "code",
   "execution_count": 45,
   "metadata": {},
   "outputs": [
    {
     "name": "stdout",
     "output_type": "stream",
     "text": [
      "shaeelww\n"
     ]
    }
   ],
   "source": [
    "class Petrol():\n",
    "    def __init__(self, name):\n",
    "        self.name = name\n",
    "    \n",
    "    def getname(self, x=\"ww\"):\n",
    "        return self.name + x\n",
    "    \n",
    "    def setname(self, x=\"ww\"):\n",
    "        self.name = y\n",
    "        return self.name\n",
    "        \n",
    "    na = property(getname, setname)\n",
    "    \n",
    "p = Petrol(\"shaeel\")\n",
    "print(p.na)\n",
    "# x = (p.na = \"parez\"))\n",
    "# print(x)\n",
    "# print(p.name)"
   ]
  },
  {
   "cell_type": "code",
   "execution_count": 46,
   "metadata": {},
   "outputs": [
    {
     "name": "stdout",
     "output_type": "stream",
     "text": [
      "Mayank\n"
     ]
    }
   ],
   "source": [
    "class TestSetter():\n",
    "    def setter(self, name):\n",
    "        self.name = name\n",
    "    myname = property(fset=setter)\n",
    "    \n",
    "ts = TestSetter()\n",
    "\n",
    "ts.myname = \"Mayank\"\n",
    "print(ts.name)"
   ]
  },
  {
   "cell_type": "code",
   "execution_count": 44,
   "metadata": {},
   "outputs": [
    {
     "name": "stdout",
     "output_type": "stream",
     "text": [
      "Help on class property in module builtins:\n",
      "\n",
      "class property(object)\n",
      " |  property(fget=None, fset=None, fdel=None, doc=None) -> property attribute\n",
      " |  \n",
      " |  fget is a function to be used for getting an attribute value, and likewise\n",
      " |  fset is a function for setting, and fdel a function for del'ing, an\n",
      " |  attribute.  Typical use is to define a managed attribute x:\n",
      " |  \n",
      " |  class C(object):\n",
      " |      def getx(self): return self._x\n",
      " |      def setx(self, value): self._x = value\n",
      " |      def delx(self): del self._x\n",
      " |      x = property(getx, setx, delx, \"I'm the 'x' property.\")\n",
      " |  \n",
      " |  Decorators make defining new properties or modifying existing ones easy:\n",
      " |  \n",
      " |  class C(object):\n",
      " |      @property\n",
      " |      def x(self):\n",
      " |          \"I am the 'x' property.\"\n",
      " |          return self._x\n",
      " |      @x.setter\n",
      " |      def x(self, value):\n",
      " |          self._x = value\n",
      " |      @x.deleter\n",
      " |      def x(self):\n",
      " |          del self._x\n",
      " |  \n",
      " |  Methods defined here:\n",
      " |  \n",
      " |  __delete__(self, instance, /)\n",
      " |      Delete an attribute of instance.\n",
      " |  \n",
      " |  __get__(self, instance, owner, /)\n",
      " |      Return an attribute of instance, which is of type owner.\n",
      " |  \n",
      " |  __getattribute__(self, name, /)\n",
      " |      Return getattr(self, name).\n",
      " |  \n",
      " |  __init__(self, /, *args, **kwargs)\n",
      " |      Initialize self.  See help(type(self)) for accurate signature.\n",
      " |  \n",
      " |  __new__(*args, **kwargs) from builtins.type\n",
      " |      Create and return a new object.  See help(type) for accurate signature.\n",
      " |  \n",
      " |  __set__(self, instance, value, /)\n",
      " |      Set an attribute of instance to value.\n",
      " |  \n",
      " |  deleter(...)\n",
      " |      Descriptor to change the deleter on a property.\n",
      " |  \n",
      " |  getter(...)\n",
      " |      Descriptor to change the getter on a property.\n",
      " |  \n",
      " |  setter(...)\n",
      " |      Descriptor to change the setter on a property.\n",
      " |  \n",
      " |  ----------------------------------------------------------------------\n",
      " |  Data descriptors defined here:\n",
      " |  \n",
      " |  __isabstractmethod__\n",
      " |  \n",
      " |  fdel\n",
      " |  \n",
      " |  fget\n",
      " |  \n",
      " |  fset\n",
      "\n",
      "None\n"
     ]
    }
   ],
   "source": [
    "print(help(property))"
   ]
  },
  {
   "cell_type": "code",
   "execution_count": 28,
   "metadata": {},
   "outputs": [
    {
     "name": "stdout",
     "output_type": "stream",
     "text": [
      "5\n"
     ]
    }
   ],
   "source": [
    "class A:\n",
    "    def get_x(self, neg=False):\n",
    "        return -5 if neg else 5\n",
    "    x = property(get_x)\n",
    "    \n",
    "a = A()\n",
    "print(a.x)"
   ]
  },
  {
   "cell_type": "code",
   "execution_count": 15,
   "metadata": {},
   "outputs": [
    {
     "name": "stdout",
     "output_type": "stream",
     "text": [
      "_get_entry\n",
      "Step in C by Mayank Johri\n",
      "********************\n",
      "_get_entry\n",
      "Lets learn C by Mayank Johri\n",
      "********************\n",
      "********************\n",
      "_get_entry\n",
      "Explore Go by Mayank Johri\n",
      "Sorry attribure do not exist\n",
      "None\n"
     ]
    }
   ],
   "source": [
    "class Book(object):\n",
    "    def __init__(self, title, author):\n",
    "        self.__title = title\n",
    "        self.__author = author\n",
    "\n",
    "    def _get_entry(self):\n",
    "        print(\"_get_entry\")\n",
    "        return \"{0} by {1}\".format(self.__title, self.__author)\n",
    "\n",
    "    def _set_entry(self, value):\n",
    "        if \" by \" not in value:\n",
    "            raise ValueError(\"Entries shall be formatted as '<title> by <author>'\")\n",
    "        self.__title, self.__author = value.split(\" by \")\n",
    "    \n",
    "    entry = property(_get_entry, _set_entry)\n",
    "\n",
    "    def __getattr__(self, attr):\n",
    "        print(\"Sorry attribure do not exist\")\n",
    "        return None\n",
    "\n",
    "\n",
    "b = Book(title=\"Step in C\", author=\"Mayank Johri\")\n",
    "print(b.entry)\n",
    "b.entry = \"Lets learn C by Mayank Johri\"\n",
    "print(\"*\"*20)\n",
    "print(b.entry)\n",
    "print(\"*\"*20)\n",
    "b.entry = \"Explore Go by Mayank Johri\"\n",
    "print(\"*\"*20)\n",
    "print(b.entry)\n",
    "b.nonExistAttribute"
   ]
  },
  {
   "cell_type": "code",
   "execution_count": null,
   "metadata": {
    "collapsed": true
   },
   "outputs": [],
   "source": []
  }
 ],
 "metadata": {
  "anaconda-cloud": {},
  "kernelspec": {
   "display_name": "Python 3",
   "language": "python",
   "name": "python3"
  },
  "language_info": {
   "codemirror_mode": {
    "name": "ipython",
    "version": 3
   },
   "file_extension": ".py",
   "mimetype": "text/x-python",
   "name": "python",
   "nbconvert_exporter": "python",
   "pygments_lexer": "ipython3",
   "version": "3.6.2"
  }
 },
 "nbformat": 4,
 "nbformat_minor": 1
}
