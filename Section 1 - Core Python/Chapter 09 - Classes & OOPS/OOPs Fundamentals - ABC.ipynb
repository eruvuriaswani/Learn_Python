{
 "cells": [
  {
   "cell_type": "markdown",
   "metadata": {},
   "source": [
    "# ABC\n",
    "----\n",
    "Abstract base classes are a form of interface checking more strict than individual hasattr() checks for particular methods. By defining an abstract base class, you can define a common API for a set of subclasses. This capability is especially useful in situations where a third-party is going to provide implementations, such as with plugins to an application, but can also aid you when working on a large team or with a large code-base where keeping all classes in your head at the same time is difficult or not possible."
   ]
  },
  {
   "cell_type": "markdown",
   "metadata": {},
   "source": [
    "## How ABCs Work\n"
   ]
  },
  {
   "cell_type": "code",
   "execution_count": 38,
   "metadata": {
    "collapsed": false
   },
   "outputs": [
    {
     "name": "stdout",
     "output_type": "stream",
     "text": [
      "Subclass: True\n",
      "Instance: True\n",
      "Instance: True\n",
      "human eyes\n"
     ]
    }
   ],
   "source": [
    "from abc import ABCMeta, abstractmethod\n",
    "\n",
    "\n",
    "class Mammal(metaclass=ABCMeta):\n",
    "## version 2.x ##     __metaclass__=ABCMeta\n",
    "    \n",
    "    @abstractmethod\n",
    "    def eyes(self, val):\n",
    "        pass\n",
    "\n",
    "#     @abstractmethod\n",
    "#     def hand(self):\n",
    "#         pass\n",
    "    \n",
    "    def hair(self):\n",
    "        print(\"hair\")\n",
    "    \n",
    "    def neocortex(self):\n",
    "        \"\"\"a part of the cerebral cortex concerned with sight and hearing in mammals, \n",
    "        regarded as the most recently evolved part of the cortex.\"\"\"\n",
    "        print(\"neocortex\")\n",
    "    \n",
    "class Human(Mammal):\n",
    "    def eyes(self, val):\n",
    "        print(\"human eyes\")\n",
    "\n",
    "print ('Subclass:', issubclass(Human, Mammal))\n",
    "print ('Instance:', isinstance(Human(), Mammal))\n",
    "c = Human()\n",
    "print ('Instance:', isinstance(c, Mammal))\n",
    "c.eyes(\"red\")"
   ]
  },
  {
   "cell_type": "markdown",
   "metadata": {},
   "source": [
    "** NOTE ** \n",
    "\n",
    "* **issubclass**: Return true if class is a subclass (direct, indirect or virtual) of classinfo. A class is considered a subclass of itself. classinfo may be a tuple of class objects, in which case every entry in classinfo will be checked. In any other case, a TypeError exception is raised.\n",
    "\n",
    "* **isinstance**: Return true if the object argument is an instance of the classinfo argument, or of a (direct, indirect or virtual) subclass thereof. Also return true if classinfo is a type object (new-style class) and object is an object of that type or of a (direct, indirect or virtual) subclass thereof. If object is not a class instance or an object of the given type, the function always returns false. If classinfo is a tuple of class or type objects (or recursively, other such tuples), return true if object is an instance of any of the classes or types. If classinfo is not a class, type, or tuple of classes, types, and such tuples, a TypeError exception is raised."
   ]
  },
  {
   "cell_type": "markdown",
   "metadata": {},
   "source": [
    "## Registering the child class\n",
    "------------"
   ]
  },
  {
   "cell_type": "code",
   "execution_count": 40,
   "metadata": {
    "collapsed": false
   },
   "outputs": [
    {
     "name": "stdout",
     "output_type": "stream",
     "text": [
      "Subclass: True\n",
      "Instance: True\n",
      "Instance: True\n",
      "human eyes:  Hazel\n"
     ]
    }
   ],
   "source": [
    "from abc import ABCMeta, abstractmethod\n",
    "\n",
    "\n",
    "class Mammal(metaclass=ABCMeta):\n",
    "    \n",
    "    @abstractmethod\n",
    "    def eyes(self, val):\n",
    "        raise NotImplementedError()\n",
    "\n",
    "    def hair(self):\n",
    "        print(\"hair\")\n",
    "    \n",
    "    def neocortex(self):\n",
    "        \"\"\"a part of the cerebral cortex concerned with sight and hearing in mammals, \n",
    "        regarded as the most recently evolved part of the cortex.\"\"\"\n",
    "        print(\"neocortex\")\n",
    "    \n",
    "class Human:\n",
    "    def eyes(self, val):\n",
    "        print(\"human eyes: \", val)\n",
    "\n",
    "Mammal.register(Human)\n",
    "print ('Subclass:', issubclass(Human, Mammal))\n",
    "print ('Instance:', isinstance(Human(), Mammal))\n",
    "c = Human()\n",
    "print ('Instance:', isinstance(c, Mammal))\n",
    "c.eyes(\"Hazel\")"
   ]
  },
  {
   "cell_type": "code",
   "execution_count": null,
   "metadata": {
    "collapsed": false
   },
   "outputs": [],
   "source": []
  },
  {
   "cell_type": "markdown",
   "metadata": {},
   "source": [
    "## Implementation Through Subclassing\n",
    "----"
   ]
  },
  {
   "cell_type": "code",
   "execution_count": 41,
   "metadata": {
    "collapsed": false
   },
   "outputs": [
    {
     "name": "stdout",
     "output_type": "stream",
     "text": [
      "Subclass: True\n",
      "Instance: True\n",
      "Instance: True\n",
      "human eyes\n"
     ]
    }
   ],
   "source": [
    "from abc import ABCMeta, abstractmethod\n",
    "\n",
    "\n",
    "class Mammal(metaclass=ABCMeta):\n",
    "## version 2.x ##     __metaclass__=ABCMeta\n",
    "    \n",
    "    @abstractmethod\n",
    "    def eyes(self, val):\n",
    "        raise NotImplementedError()\n",
    "\n",
    "#     @abstractmethod\n",
    "#     def hand(self):\n",
    "#         raise NotImplementedError()\n",
    "    \n",
    "    def hair(self):\n",
    "        print(\"hair\")\n",
    "    \n",
    "    def neocortex(self):\n",
    "        \"\"\"a part of the cerebral cortex concerned with sight and hearing in mammals, \n",
    "        regarded as the most recently evolved part of the cortex.\"\"\"\n",
    "        print(\"neocortex\")\n",
    "    \n",
    "class Human(Mammal):\n",
    "    def eyes(self, val):\n",
    "        print(\"human eyes\")\n",
    "\n",
    "print ('Subclass:', issubclass(Human, Mammal))\n",
    "print ('Instance:', isinstance(Human(), Mammal))\n",
    "c = Human()\n",
    "print ('Instance:', isinstance(c, Mammal))\n",
    "c.eyes(\"Gray\")"
   ]
  },
  {
   "cell_type": "markdown",
   "metadata": {},
   "source": [
    "### Abstract Method Continued"
   ]
  },
  {
   "cell_type": "code",
   "execution_count": 43,
   "metadata": {
    "collapsed": false
   },
   "outputs": [
    {
     "name": "stdout",
     "output_type": "stream",
     "text": [
      "Subclass: True\n",
      "Instance: True\n",
      "Instance: True\n",
      "Eyes color : Green\n",
      "human eyes\n"
     ]
    }
   ],
   "source": [
    "from abc import ABCMeta, abstractmethod\n",
    "\n",
    "\n",
    "class Mammal(metaclass=ABCMeta):\n",
    "## version 2.x ##     __metaclass__=ABCMeta\n",
    "    \n",
    "    @abstractmethod\n",
    "    def eyes(self,color):\n",
    "        print(\"Eyes color : \" + color)\n",
    "\n",
    "    def hair(self):\n",
    "        print(\"hair\")\n",
    "    \n",
    "    def neocortex(self):\n",
    "        \"\"\"a part of the cerebral cortex concerned with sight and hearing in mammals, \n",
    "        regarded as the most recently evolved part of the cortex.\"\"\"\n",
    "        print(\"neocortex\")\n",
    "    \n",
    "class Human(Mammal):\n",
    "    def eyes(self, val):\n",
    "        super(Human, self).eyes(val)\n",
    "        print(\"human eyes\")\n",
    "\n",
    "print ('Subclass:', issubclass(Human, Mammal))\n",
    "print ('Instance:', isinstance(Human(), Mammal))\n",
    "c = Human()\n",
    "print ('Instance:', isinstance(c, Mammal))\n",
    "c.eyes(\"Green\")"
   ]
  },
  {
   "cell_type": "markdown",
   "metadata": {},
   "source": [
    "## Abstract Properties\n",
    "----\n",
    "If your API specification includes attributes in addition to methods, you can require the attributes in concrete classes by defining them with @abstractproperty"
   ]
  },
  {
   "cell_type": "code",
   "execution_count": 7,
   "metadata": {
    "collapsed": false
   },
   "outputs": [
    {
     "name": "stdout",
     "output_type": "stream",
     "text": [
      "ERROR: Can't instantiate abstract class Base with abstract methods value\n",
      "Implementation.value: concrete property\n"
     ]
    }
   ],
   "source": [
    "import abc\n",
    "\n",
    "class Base(metaclass=ABCMeta):\n",
    "    \n",
    "    @abc.abstractproperty\n",
    "    def value(self):\n",
    "        return 'Should never get here'\n",
    "\n",
    "\n",
    "class Implementation(Base):\n",
    "    @property\n",
    "    def value(self):\n",
    "        return 'concrete property'\n",
    "\n",
    "if __name__ == '__main__':\n",
    "    try:\n",
    "        b = Base()\n",
    "        print ('Base.value:', b.value)\n",
    "    except Exception as err:\n",
    "        print ('ERROR:', str(err))\n",
    "\n",
    "    i = Implementation()\n",
    "    print ('Implementation.value:', i.value)"
   ]
  },
  {
   "cell_type": "code",
   "execution_count": 10,
   "metadata": {
    "collapsed": false
   },
   "outputs": [
    {
     "name": "stdout",
     "output_type": "stream",
     "text": [
      "Implementation.value: Default value\n",
      "Changed value: New value\n"
     ]
    }
   ],
   "source": [
    "import abc\n",
    "\n",
    "class Base(metaclass=abc.ABCMeta):\n",
    "    \n",
    "    @abc.abstractproperty\n",
    "    def value(self):\n",
    "        return 'Should never see this'\n",
    "    \n",
    "    @value.setter\n",
    "    def value(self, newvalue):\n",
    "        return\n",
    "\n",
    "\n",
    "class Implementation(Base):\n",
    "    \n",
    "    _value = 'Default value'\n",
    "    \n",
    "    @property\n",
    "    def value(self):\n",
    "        return self._value\n",
    "\n",
    "    @value.setter\n",
    "    def value(self, newvalue):\n",
    "        self._value = newvalue\n",
    "\n",
    "\n",
    "i = Implementation()\n",
    "print ('Implementation.value:', i.value)\n",
    "\n",
    "i.value = 'New value'\n",
    "print ('Changed value:', i.value)"
   ]
  },
  {
   "cell_type": "markdown",
   "metadata": {},
   "source": [
    "#### NOTE #####\n",
    "For Python 2, that means assigning it to the __metaclass__ attribute on the class:\n",
    "```python\n",
    "class CVIterator(object):\n",
    "    __metaclass__ = ABCMeta\n",
    "\n",
    "    def __init__(self):\n",
    "        self.n = None # the value of n is obtained in the fit method\n",
    "```\n",
    "In Python 3, you'd use the metaclass=... syntax when defining the class:\n",
    "```python\n",
    "class CVIterator(metaclass=ABCMeta):\n",
    "    def __init__(self):\n",
    "        self.n = None # the value of n is obtained in the fit method\n",
    "```"
   ]
  },
  {
   "cell_type": "markdown",
   "metadata": {
    "collapsed": true
   },
   "source": [
    "### The __metaclass__ attribute\n",
    "\n",
    "The __metaclass__ attribute was introduced to give the programmer some control over the semantics of the class statement"
   ]
  }
 ],
 "metadata": {
  "anaconda-cloud": {},
  "kernelspec": {
   "display_name": "Python 3",
   "language": "python",
   "name": "python3"
  },
  "language_info": {
   "codemirror_mode": {
    "name": "ipython",
    "version": 3
   },
   "file_extension": ".py",
   "mimetype": "text/x-python",
   "name": "python",
   "nbconvert_exporter": "python",
   "pygments_lexer": "ipython3",
   "version": "3.6.0"
  }
 },
 "nbformat": 4,
 "nbformat_minor": 0
}
