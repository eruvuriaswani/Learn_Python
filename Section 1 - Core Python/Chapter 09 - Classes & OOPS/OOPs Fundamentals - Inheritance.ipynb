{
 "cells": [
  {
   "cell_type": "markdown",
   "metadata": {},
   "source": [
    "# OOPS Fundamentals \n",
    "----\n",
    "## What is Inheritance?\n",
    "\n",
    "Inheritance is used to indicate that one class will get most or all of its features from a parent class. This happens implicitly whenever you write class Foo(Bar), which says \"Make a class Foo that inherits from Bar.\" When you do this, the language makes any action that you do on instances of Foo also work as if they were done to an instance of Bar. Doing this lets you put common functionality in the Bar class, then specialize that functionality in the Foo class as needed.\n",
    "\n",
    "When you are doing this kind of specialization, there are three ways that the parent and child classes can interact:\n",
    "\n",
    "* Actions on the child imply an action on the parent.\n",
    "* Actions on the child override the action on the parent.\n",
    "* Actions on the child alter the action on the parent.\n",
    "\n",
    "Also to note:\n",
    "\n",
    "- **Implicit Inheritance**: when you define a function in the parent, but not in the child. \n",
    "- **Override Explicitly**: when you define a function in the parent, but not in the child. "
   ]
  },
  {
   "cell_type": "code",
   "execution_count": 3,
   "metadata": {
    "collapsed": false
   },
   "outputs": [
    {
     "name": "stdout",
     "output_type": "stream",
     "text": [
      "PARENT implicit()\n",
      "PARENT implicit()\n",
      "PARENT override()\n",
      "CHILD override()\n",
      "PARENT altered()\n",
      "CHILD, BEFORE PARENT altered()\n",
      "PARENT altered()\n",
      "CHILD, AFTER PARENT altered()\n"
     ]
    }
   ],
   "source": [
    "class Parent():\n",
    "\n",
    "    def override(self):\n",
    "        print( \"PARENT override()\")\n",
    "\n",
    "    def implicit(self):\n",
    "        print (\"PARENT implicit()\")\n",
    "\n",
    "    def altered(self):\n",
    "        print (\"PARENT altered()\")\n",
    "\n",
    "class Child(Parent):\n",
    "\n",
    "    def override(self):\n",
    "        print (\"CHILD override()\")\n",
    "\n",
    "    def altered(self):\n",
    "        p = super(Child, self)\n",
    "        print (\"CHILD, BEFORE PARENT altered()\")\n",
    "        p.altered()\n",
    "        print (\"CHILD, AFTER PARENT altered()\")\n",
    "\n",
    "dad = Parent()\n",
    "child = Child()\n",
    "\n",
    "dad.implicit()\n",
    "child.implicit()\n",
    "\n",
    "dad.override()\n",
    "child.override()\n",
    "\n",
    "dad.altered()\n",
    "child.altered()"
   ]
  },
  {
   "cell_type": "markdown",
   "metadata": {},
   "source": [
    "## The Reason for super()\n",
    "\n",
    "This should seem like common sense, but then we get into trouble with a thing called multiple inheritance. Multiple inheritance is when you define a class that inherits from one or more classes, like this:\n",
    "```python\n",
    "class SuperFun(Child, BadStuff):\n",
    "    pass```\n",
    "\n",
    "This is like saying, \"Make a class named SuperFun that inherits from the classes Child and BadStuff at the same time.\"\n",
    "\n",
    "In this case, whenever you have implicit actions on any SuperFun instance, Python has to look-up the possible function in the class hierarchy for both Child and BadStuff, but it needs to do this in a consistent order. To do this Python uses \"method resolution order\" (MRO) and an algorithm called C3 to get it straight.\n",
    "\n",
    "Because the MRO is complex and a well-defined algorithm is used, Python can't leave it to you to get the MRO right. Instead, Python gives you the super() function, which handles all of this for you in the places that you need the altering type of actions as I did in Child.altered. With super() you don't have to worry about getting this right, and Python will find the right function for you.\n",
    "\n",
    "### Using super() with __init__\n",
    "The most common use of super() is actually in __init__ functions in base classes. This is usually the only place where you need to do some things in a child, then complete the initialization in the parent. Here's a quick example of doing that in the Child:\n",
    "\n",
    "```python\n",
    "class Child(Parent):\n",
    "\n",
    "    def __init__(self, stuff):\n",
    "        self.stuff = stuff\n",
    "        super(Child, self).__init__()\n",
    "```\n",
    "This is pretty much the same as the Child.altered example above, except I'm setting some variables in the __init__ before having the Parent initialize with its Parent.__init__."
   ]
  },
  {
   "cell_type": "code",
   "execution_count": 2,
   "metadata": {
    "collapsed": true
   },
   "outputs": [],
   "source": [
    "class Child(Parent):\n",
    "\n",
    "    def __init__(self, stuff):\n",
    "        self.stuff = stuff\n",
    "        super(Child, self).__init__()"
   ]
  }
 ],
 "metadata": {
  "anaconda-cloud": {},
  "kernelspec": {
   "display_name": "Python 3",
   "language": "python",
   "name": "python3"
  },
  "language_info": {
   "codemirror_mode": {
    "name": "ipython",
    "version": 3
   },
   "file_extension": ".py",
   "mimetype": "text/x-python",
   "name": "python",
   "nbconvert_exporter": "python",
   "pygments_lexer": "ipython3",
   "version": "3.6.0"
  }
 },
 "nbformat": 4,
 "nbformat_minor": 1
}
