{
 "cells": [
  {
   "cell_type": "markdown",
   "metadata": {},
   "source": [
    "# The inner class\n",
    "---\n",
    "An inner class or nested class is a defined entirely within the body of another class  Let us do an example:"
   ]
  },
  {
   "cell_type": "code",
   "execution_count": 11,
   "metadata": {},
   "outputs": [
    {
     "name": "stdout",
     "output_type": "stream",
     "text": [
      "Guido\n",
      "talking...\n",
      "talking...\n",
      "writing\n"
     ]
    }
   ],
   "source": [
    "class Human:\n",
    "\n",
    "    def __init__(self):\n",
    "        self.name = 'Guido'\n",
    "        self.head = self.Head()\n",
    "#         self.hand = self.Hand()\n",
    "\n",
    "    class Head:\n",
    "        def talk(self):\n",
    "            return 'talking...'\n",
    "    \n",
    "    class Hand:\n",
    "        def writing(self):\n",
    "            print(Human.Head.talk(self))\n",
    "            return \"writing\"\n",
    "\n",
    "guido = Human()\n",
    "print (guido.name)\n",
    "print (guido.head.talk())\n",
    "# Bad example misusing the methods\n",
    "print (guido.Hand.writing(guido))"
   ]
  },
  {
   "cell_type": "code",
   "execution_count": null,
   "metadata": {
    "collapsed": true
   },
   "outputs": [],
   "source": []
  }
 ],
 "metadata": {
  "kernelspec": {
   "display_name": "Python 3",
   "language": "python",
   "name": "python3"
  },
  "language_info": {
   "codemirror_mode": {
    "name": "ipython",
    "version": 3
   },
   "file_extension": ".py",
   "mimetype": "text/x-python",
   "name": "python",
   "nbconvert_exporter": "python",
   "pygments_lexer": "ipython3",
   "version": "3.6.1"
  }
 },
 "nbformat": 4,
 "nbformat_minor": 1
}
