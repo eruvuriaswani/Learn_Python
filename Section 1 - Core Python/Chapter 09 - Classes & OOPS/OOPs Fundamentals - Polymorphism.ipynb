{
 "cells": [
  {
   "cell_type": "markdown",
   "metadata": {},
   "source": [
    "# Polymorphism\n",
    "---\n",
    "The polymorphism is the process of using an operator or function in different ways for different data input. In practical terms, polymorphism means that if class B inherits from class A, it doesn’t have to inherit everything about class A; it can do some of the things that class A does differently. (source: wikipedia)"
   ]
  },
  {
   "cell_type": "code",
   "execution_count": 3,
   "metadata": {},
   "outputs": [
    {
     "name": "stdout",
     "output_type": "stream",
     "text": [
      "Meow!\n",
      "1\n",
      "Woof!\n",
      "1\n"
     ]
    }
   ],
   "source": [
    "class Animal:\n",
    "    def __init__(self, name=''):\n",
    "        self.name = name\n",
    "\n",
    "    def talk(self):\n",
    "        pass\n",
    "    \n",
    "    def getHeadCount(self):\n",
    "        return 1\n",
    "\n",
    "class Cat(Animal):\n",
    "   def talk(self):\n",
    "      print (\"Meow!\")\n",
    "\n",
    "\n",
    "class Dog(Animal):\n",
    "   def talk(self):\n",
    "      print (\"Woof!\")\n",
    "\n",
    "\n",
    "a = Animal()\n",
    "a.talk()\n",
    "\n",
    "cat = Cat(\"Missy\")\n",
    "cat.talk()\n",
    "print(cat.getHeadCount())\n",
    "\n",
    "dog = Dog(\"Rocky\")\n",
    "dog.talk()\n",
    "print(dog.getHeadCount())"
   ]
  },
  {
   "cell_type": "code",
   "execution_count": null,
   "metadata": {
    "collapsed": true
   },
   "outputs": [],
   "source": [
    "class Gaddi():\n",
    "    \n",
    "    def engine_capacity(self):\n",
    "        pass\n",
    "    \n",
    "    def get_engine_type(self):\n",
    "        pass\n",
    "    \n",
    "class Zen_car(Gaddi):\n",
    "    def engine_capacity(self)\n",
    "        reuturn \"200 cc\"\n",
    "    \n",
    "    def get_engine_type(self):\n",
    "        return \"petrol\"\n",
    "\n",
    "class i10(Gaddi):\n",
    "    def engine_capacity(self):\n",
    "        return \"222 cc\"\n",
    "\n"
   ]
  }
 ],
 "metadata": {
  "anaconda-cloud": {},
  "kernelspec": {
   "display_name": "Python 3",
   "language": "python",
   "name": "python3"
  },
  "language_info": {
   "codemirror_mode": {
    "name": "ipython",
    "version": 3
   },
   "file_extension": ".py",
   "mimetype": "text/x-python",
   "name": "python",
   "nbconvert_exporter": "python",
   "pygments_lexer": "ipython3",
   "version": "3.4.6"
  }
 },
 "nbformat": 4,
 "nbformat_minor": 1
}
