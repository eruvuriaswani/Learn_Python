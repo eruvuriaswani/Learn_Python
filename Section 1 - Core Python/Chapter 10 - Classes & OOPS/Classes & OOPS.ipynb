{
 "cells": [
  {
   "cell_type": "markdown",
   "metadata": {
    "deletable": true,
    "editable": true
   },
   "source": [
    "# Modules, Classes, and Objects & OOPS\n",
    "----\n",
    "Python is something called an “object- oriented programming language.” What this means is\n",
    "there’s a construct in Python called a class that lets you structure your software in a particular\n",
    "way. Using classes, you can add consistency to your programs so that they can be used in a cleaner\n",
    "way, or at least that’s the theory.\n",
    "\n",
    "Classes and objects are the two main aspects of object oriented programming. A class creates a new type where objects are instances of the class. An analogy is that you can have variables of type i n t which translates to saying that variables that store integers are variables which are instances (objects) of the int class."
   ]
  },
  {
   "cell_type": "markdown",
   "metadata": {
    "deletable": true,
    "editable": true
   },
   "source": [
    "Objects can store data using ordinary variables that belong to the object. Variables that\n",
    "belong to an object or class are referred to as fields. Objects can also have functionality by\n",
    "using functions that belong to a class. Such functions are called methods of the class. This\n",
    "terminology is important because it helps us to differentiate between functions and\n",
    "variables which are independent and those which belong to a class or object. Collectively,\n",
    "the fields and methods can be referred to as the attributes of that class.\n",
    "\n",
    "Fields are of two types - they can belong to each instance/object of the class or they can\n",
    "belong to the class itself. They are called instance variables and class variables\n",
    "respectively.\n",
    "\n",
    "A class is created using the ***`class`*** keyword. The fields and methods of the class are listed\n",
    "in an indented block."
   ]
  },
  {
   "cell_type": "markdown",
   "metadata": {
    "deletable": true,
    "editable": true
   },
   "source": [
    "## The self\n",
    "\n",
    "Class methods have only one specific difference from ordinary functions - they must have an extra first name that has to be added to the beginning of the parameter list, but you do not give a value for this parameter when you call the method, Python will provide it. This particular variable refers to the object itself, and by convention, it is given the name ***`self`***."
   ]
  },
  {
   "cell_type": "markdown",
   "metadata": {},
   "source": [
    "## Classes\n",
    "---\n",
    "A class is merely a container for static data members or function declarations, called a class's attributes. Classes provide something which can be considered a blueprint for creating \"real\" objects, called class instances. Functions which are part of classes are called ***`methods`***.\n",
    "\n",
    "The simplest class possible is shown in the following example."
   ]
  },
  {
   "cell_type": "code",
   "execution_count": 5,
   "metadata": {
    "collapsed": false
   },
   "outputs": [],
   "source": [
    "# Declare a Class\n",
    "class base_classes_if_any:\n",
    "    pass\n",
    "\n",
    "class Class_name(base_classes_if_any):\n",
    "    \"optional documentation string\"\n",
    "\n",
    "    static_member_declarations = 1\n",
    "    \n",
    "    def method_declarations():\n",
    "        pass"
   ]
  },
  {
   "cell_type": "code",
   "execution_count": 2,
   "metadata": {
    "collapsed": false,
    "deletable": true,
    "editable": true
   },
   "outputs": [
    {
     "name": "stdout",
     "output_type": "stream",
     "text": [
      "<class '__main__.First'>\n",
      "<class 'type'>\n"
     ]
    }
   ],
   "source": [
    "# first.py\n",
    "\n",
    "class First:\n",
    "   pass\n",
    "\n",
    "fr = First()\n",
    "print (type(fr))\n",
    "print (type(First))"
   ]
  },
  {
   "cell_type": "code",
   "execution_count": 14,
   "metadata": {
    "collapsed": false,
    "deletable": true,
    "editable": true
   },
   "outputs": [
    {
     "name": "stdout",
     "output_type": "stream",
     "text": [
      "Created a class instance for:  John Doe\n",
      "Your name is:  John Doe\n",
      "My name is:  <class '__main__.FooClass'>\n",
      "0.1\n",
      "0.1\n",
      "10\n"
     ]
    }
   ],
   "source": [
    "# Example\n",
    "class FooClass:\n",
    "    \"\"\"my very first class: FooClass\"\"\"\n",
    "    __version = 0.11 # class (data) attribute\n",
    "    ver = 0.1\n",
    "    \n",
    "    def __init__(self, nm='John Doe'):\n",
    "        'constructor'\n",
    "        self.name = nm # class instance (data) attribute\n",
    "        print ('Created a class instance for: ', self.name)\n",
    "    \n",
    "    def showName(self):\n",
    "        'display instance attribute and class name'\n",
    "        print ('Your name is: ', self.name)\n",
    "        print( 'My name is: ', self.__class__ )# full class name\n",
    "\n",
    "    def showVersion(self):\n",
    "        'display class(static) attribute'\n",
    "        print( self.__version )# references FooClass.version\n",
    "    \n",
    "    def showVer(self):\n",
    "        'display class(static) attribute'\n",
    "        print( self.ver )# references FooClass.version \n",
    "    \n",
    "    def setVersion(self, ver):\n",
    "        'display class(static) attribute'\n",
    "        self.__version = ver\n",
    "        print( self.__version )# references FooClass.version  \n",
    "\n",
    "# Create Class Instances\n",
    "foo = FooClass()\n",
    "\n",
    "# Calling class methods\n",
    "foo.showName()\n",
    "# print(foo.showName())\n",
    "foo.showVer()\n",
    "print(foo.ver)\n",
    "foo.setVersion(10)\n",
    "# print(foo.__version)\n",
    "# print(FooClass.__version)"
   ]
  },
  {
   "cell_type": "code",
   "execution_count": 19,
   "metadata": {
    "collapsed": false,
    "deletable": true,
    "editable": true
   },
   "outputs": [
    {
     "name": "stdout",
     "output_type": "stream",
     "text": [
      "10.0\n",
      "11.0\n",
      "111\n",
      "1000\n"
     ]
    }
   ],
   "source": [
    "class PrivateVariables():\n",
    "    __version = 1.0\n",
    "    _vers = 11.0\n",
    "    ver = 10.0\n",
    "    \n",
    "    def show__version(self):\n",
    "        print(self.__version)\n",
    "    \n",
    "    def show_vers(self):\n",
    "        print(self._vers)\n",
    "\n",
    "pv = PrivateVariables()\n",
    "print(pv.ver)\n",
    "print(pv._vers)\n",
    "# print(pv.__version)\n",
    "\n",
    "pv.ver = 111\n",
    "print(pv.ver)\n",
    "pv._vers = 1000\n",
    "print(pv._vers) # Convension only "
   ]
  },
  {
   "cell_type": "markdown",
   "metadata": {
    "deletable": true,
    "editable": true
   },
   "source": [
    "## attributes\n",
    "In Python, attribute everything is contained inside an object. In Python there is no real distinction between plain data and functions, being both objects.\n",
    "\n",
    "The following example represents a book with a title and an author. It also provides a `get_entry()` method which returns a string representation of the book."
   ]
  },
  {
   "cell_type": "code",
   "execution_count": 21,
   "metadata": {
    "collapsed": true,
    "deletable": true,
    "editable": true
   },
   "outputs": [],
   "source": [
    "class Book:\n",
    "    def __init__(self, title, author):\n",
    "        self.title = title\n",
    "        self.author = author\n",
    "\n",
    "    def get_entry(self):\n",
    "        return \"{0} by {1}\".format(self.title, self.author)"
   ]
  },
  {
   "cell_type": "markdown",
   "metadata": {
    "deletable": true,
    "editable": true
   },
   "source": [
    "Every instance of this class will contain three attributes, namely `title, author`, and `get_entry`, in addition to the standard attributes provided by the object ancestor."
   ]
  },
  {
   "cell_type": "code",
   "execution_count": 22,
   "metadata": {
    "collapsed": false,
    "deletable": true,
    "editable": true
   },
   "outputs": [
    {
     "name": "stdout",
     "output_type": "stream",
     "text": [
      "Akme\n",
      "Akme Book\n",
      "Akme Book by Mayank\n",
      "<bound method Book.get_entry of <__main__.Book object at 0x000002A1F87BD978>>\n",
      "<class 'dict'>\n",
      "{'title': 'Akme Book', 'author': 'Mayank'}\n"
     ]
    },
    {
     "ename": "AttributeError",
     "evalue": "'Book' object has no attribute 'nonExistAttribute'",
     "output_type": "error",
     "traceback": [
      "\u001b[1;31m---------------------------------------------------------------------------\u001b[0m",
      "\u001b[1;31mAttributeError\u001b[0m                            Traceback (most recent call last)",
      "\u001b[1;32m<ipython-input-22-a72461a43e6b>\u001b[0m in \u001b[0;36m<module>\u001b[1;34m()\u001b[0m\n\u001b[0;32m      7\u001b[0m \u001b[0mprint\u001b[0m\u001b[1;33m(\u001b[0m\u001b[0mtype\u001b[0m\u001b[1;33m(\u001b[0m\u001b[0mb\u001b[0m\u001b[1;33m.\u001b[0m\u001b[0m__dict__\u001b[0m\u001b[1;33m)\u001b[0m\u001b[1;33m)\u001b[0m\u001b[1;33m\u001b[0m\u001b[0m\n\u001b[0;32m      8\u001b[0m \u001b[0mprint\u001b[0m\u001b[1;33m(\u001b[0m\u001b[0mb\u001b[0m\u001b[1;33m.\u001b[0m\u001b[0m__dict__\u001b[0m\u001b[1;33m)\u001b[0m\u001b[1;33m\u001b[0m\u001b[0m\n\u001b[1;32m----> 9\u001b[1;33m \u001b[0mprint\u001b[0m\u001b[1;33m(\u001b[0m\u001b[0mb\u001b[0m\u001b[1;33m.\u001b[0m\u001b[0mnonExistAttribute\u001b[0m\u001b[1;33m(\u001b[0m\u001b[1;33m)\u001b[0m\u001b[1;33m)\u001b[0m\u001b[1;33m\u001b[0m\u001b[0m\n\u001b[0m",
      "\u001b[1;31mAttributeError\u001b[0m: 'Book' object has no attribute 'nonExistAttribute'"
     ]
    }
   ],
   "source": [
    "b = Book(title=\"Akme\", author=\"Mayank\")\n",
    "print(b.title)\n",
    "b.title = \"Akme Book\"\n",
    "print(b.title)\n",
    "print(b.get_entry())\n",
    "print(b.get_entry)\n",
    "print(type(b.__dict__))\n",
    "print(b.__dict__)\n",
    "print(b.nonExistAttribute())"
   ]
  },
  {
   "cell_type": "markdown",
   "metadata": {
    "deletable": true,
    "editable": true
   },
   "source": [
    "Instead of using the normal statements to access attributes, you can use the following functions −\n",
    "\n",
    "getattr\n",
    ": to access the attribute of the object\n",
    "\n",
    "The getattr(obj, name[, default]) \n",
    ": to access the attribute of object.\n",
    "    \n",
    "The hasattr(obj,name) \n",
    ": to check if an attribute exists or not.\n",
    "\n",
    "The setattr(obj,name,value) \n",
    "    : to set an attribute. If attribute does not exist, then it would be created.\n",
    "\n",
    "The delattr(obj, name)\n",
    "    : to delete an attribute."
   ]
  },
  {
   "cell_type": "markdown",
   "metadata": {
    "deletable": true,
    "editable": true
   },
   "source": [
    "## Properties\n",
    "Sometimes you want to have an attribute which value comes from other attributes or, in general, which value shall be computed at the moment. The standard way to deal with this situation is to create a method, called getter, just like I did with get_entry().\n",
    "\n",
    "In Python you can \"mask\" the method, aliasing it with a data attribute, which in this case is called __***`property`***__."
   ]
  },
  {
   "cell_type": "code",
   "execution_count": 23,
   "metadata": {
    "collapsed": false,
    "deletable": true,
    "editable": true
   },
   "outputs": [
    {
     "name": "stdout",
     "output_type": "stream",
     "text": [
      "Pawn of Prophecy by David Eddings\n"
     ]
    }
   ],
   "source": [
    "class Book(object):\n",
    "    def __init__(self, title, author):\n",
    "        self.title = title\n",
    "        self.author = author\n",
    "\n",
    "    def get_entry(self):\n",
    "        return \"{0} by {1}\".format(self.title, self.author)\n",
    "\n",
    "    entry = property(get_entry)\n",
    "\n",
    "b = Book(title=\"Pawn of Prophecy\", author=\"David Eddings\")\n",
    "print(b.entry)"
   ]
  },
  {
   "cell_type": "markdown",
   "metadata": {
    "deletable": true,
    "editable": true
   },
   "source": [
    "Properties allow to specify also a write method (a setter), that is automatically called when you try to change the value of the property itself."
   ]
  },
  {
   "cell_type": "code",
   "execution_count": 35,
   "metadata": {
    "collapsed": false,
    "deletable": true,
    "editable": true
   },
   "outputs": [
    {
     "name": "stdout",
     "output_type": "stream",
     "text": [
      "_get_entry\n",
      "Step in C by Mayank Johri\n",
      "********************\n",
      "_get_entry\n",
      "Lets learn C by Mayank Johri\n",
      "********************\n",
      "********************\n",
      "_get_entry\n",
      "Explore Go by Mayank Johri\n",
      "Sorry attribure do not exist\n",
      "None\n"
     ]
    }
   ],
   "source": [
    "class Book(object):\n",
    "    def __init__(self, title, author):\n",
    "        self.__title = title\n",
    "        self.__author = author\n",
    "\n",
    "    def _get_entry(self):\n",
    "        print(\"_get_entry\")\n",
    "        return \"{0} by {1}\".format(self.__title, self.__author)\n",
    "\n",
    "    def _set_entry(self, value):\n",
    "        if \" by \" not in value:\n",
    "            raise ValueError(\"Entries shall be formatted as '<title> by <author>'\")\n",
    "        self.__title, self.__author = value.split(\" by \")\n",
    "    \n",
    "    entry = property(_get_entry, _set_entry)\n",
    "\n",
    "    def __getattr__(self, attr):\n",
    "        print(\"Sorry attribure do not exist\")\n",
    "        return None\n",
    "\n",
    "\n",
    "b = Book(title=\"Step in C\", author=\"Mayank Johri\")\n",
    "print(b.entry)\n",
    "b.entry = \"Lets learn C by Mayank Johri\"\n",
    "print(\"*\"*20)\n",
    "print(b.entry)\n",
    "print(\"*\"*20)\n",
    "b.entry = \"Explore Go by Mayank Johri\"\n",
    "print(\"*\"*20)\n",
    "print(b.entry)\n",
    "print(b.nonExistAttribute)"
   ]
  },
  {
   "cell_type": "markdown",
   "metadata": {
    "collapsed": true,
    "deletable": true,
    "editable": true
   },
   "source": [
    "> NOTE: \n",
    "\n",
    ">    Don't Worry to much about properties, we have entire chapter dedicated for it. "
   ]
  }
 ],
 "metadata": {
  "anaconda-cloud": {},
  "kernelspec": {
   "display_name": "Python 2",
   "language": "python",
   "name": "python2"
  },
  "language_info": {
   "codemirror_mode": {
    "name": "ipython",
    "version": 2
   },
   "file_extension": ".py",
   "mimetype": "text/x-python",
   "name": "python",
   "nbconvert_exporter": "python",
   "pygments_lexer": "ipython2",
   "version": "2.7.12"
  }
 },
 "nbformat": 4,
 "nbformat_minor": 1
}
