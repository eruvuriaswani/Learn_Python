{
 "cells": [
  {
   "cell_type": "markdown",
   "metadata": {
    "deletable": true,
    "editable": true,
    "nbpresent": {
     "id": "7c5caee9-7d2c-42bd-9a83-ee44531bb576"
    },
    "slideshow": {
     "slide_type": "slide"
    }
   },
   "source": [
    "Chapter 15: Generators\n",
    "=============================\n",
    "_____________________________\n",
    "The functions generally follow the conventional process flow, return values ​​and quit. Generators work similarly, but remember the state of the processing between calls, staying in memory and returning the next item expected when activated.\n",
    "\n",
    "The generators have several advantages over conventional functions:\n",
    "\n",
    "+ *Lazy Evaluation*: generators are only processed when it is really needed, saving processing resources. \n",
    "+ They reduce the need to create lists.\n",
    "+ They allow to work with unlimited sequences of elements.\n",
    "\n",
    "Generators are usually called through a *for* loop. The  syntax is similar to the traditional function, just the *yield* instruction substitutes *return*. In each new iteraction, *yield* returns the next value.\n",
    "\n",
    "Exemple:"
   ]
  },
  {
   "cell_type": "code",
   "execution_count": 2,
   "metadata": {
    "collapsed": false,
    "deletable": true,
    "editable": true,
    "nbpresent": {
     "id": "c6ca2aad-4102-43c4-bda5-a060474c8001"
    },
    "slideshow": {
     "slide_type": "fragment"
    }
   },
   "outputs": [
    {
     "name": "stdout",
     "output_type": "stream",
     "text": [
      "0\n",
      "dada\n",
      "2\n",
      "dada\n",
      "4\n",
      "dada\n",
      "6\n",
      "dada\n",
      "8\n",
      "dada\n",
      "10\n",
      "dada\n",
      "12\n",
      "dada\n",
      "14\n",
      "dada\n",
      "16\n",
      "dada\n",
      "18\n",
      "dada\n",
      "20\n",
      "dada\n"
     ]
    }
   ],
   "source": [
    "def gen_pares():\n",
    "    \"\"\"\n",
    "    Generates even numbers from 0 to 20\n",
    "    \"\"\"\n",
    "    i = 0\n",
    "\n",
    "    while i <= 20:\n",
    "        yield i\n",
    "        print(\"dada\")\n",
    "        i += 2\n",
    "\n",
    "# Shows each number and goes to the next\n",
    "for n in gen_pares():\n",
    "    print (n)"
   ]
  },
  {
   "cell_type": "markdown",
   "metadata": {
    "deletable": true,
    "editable": true,
    "nbpresent": {
     "id": "9f09a586-4e4a-4ac0-b7ff-8c65fb8f57fc"
    }
   },
   "source": [
    "Another example:"
   ]
  },
  {
   "cell_type": "code",
   "execution_count": 1,
   "metadata": {
    "collapsed": false,
    "deletable": true,
    "editable": true,
    "nbpresent": {
     "id": "5ba80ed2-5c02-4ae6-bb42-4f18e38820bf"
    }
   },
   "outputs": [
    {
     "name": "stdout",
     "output_type": "stream",
     "text": [
      "C:\\apps\\PeaZip\\copying.txt\n",
      "C:\\apps\\PeaZip\\peazip.exe\n",
      "C:\\apps\\PeaZip\\peazip.url\n",
      "C:\\apps\\PeaZip\\peazip_help.pdf\n",
      "C:\\apps\\PeaZip\\readme_Win64.txt\n",
      "C:\\apps\\PeaZip\\res\\7z\\7z.dll\n",
      "C:\\apps\\PeaZip\\res\\7z\\7z.exe\n",
      "C:\\apps\\PeaZip\\res\\7z\\7z.sfx\n",
      "C:\\apps\\PeaZip\\res\\7z\\7zCon.sfx\n",
      "C:\\apps\\PeaZip\\res\\7z\\7zS2.sfx\n",
      "C:\\apps\\PeaZip\\res\\7z\\7zS2con.sfx\n",
      "C:\\apps\\PeaZip\\res\\7z\\7zSD.sfx\n",
      "C:\\apps\\PeaZip\\res\\7z\\License.txt\n",
      "C:\\apps\\PeaZip\\res\\7z\\note.txt\n",
      "C:\\apps\\PeaZip\\res\\altconf.txt\n",
      "C:\\apps\\PeaZip\\res\\arc\\arc-tiny.linux.sfx\n",
      "C:\\apps\\PeaZip\\res\\arc\\arc-tiny.sfx\n",
      "C:\\apps\\PeaZip\\res\\arc\\Arc.exe\n",
      "C:\\apps\\PeaZip\\res\\arc\\arc.groups\n",
      "C:\\apps\\PeaZip\\res\\arc\\arc.ini\n",
      "C:\\apps\\PeaZip\\res\\arc\\empty.arc\n",
      "C:\\apps\\PeaZip\\res\\arc\\facompress.dll\n",
      "C:\\apps\\PeaZip\\res\\arc\\facompress_mt.dll\n",
      "C:\\apps\\PeaZip\\res\\arc\\freearc-installer.sfx\n",
      "C:\\apps\\PeaZip\\res\\arc\\freearc-tiny.sfx\n",
      "C:\\apps\\PeaZip\\res\\arc\\freearc.sfx\n",
      "C:\\apps\\PeaZip\\res\\arc\\note.txt\n",
      "C:\\apps\\PeaZip\\res\\empty.fnd\n",
      "C:\\apps\\PeaZip\\res\\icons\\PeaZip.ico\n",
      "C:\\apps\\PeaZip\\res\\icons\\PeaZip_7z.ico\n",
      "C:\\apps\\PeaZip\\res\\icons\\PeaZip_block.ico\n",
      "C:\\apps\\PeaZip\\res\\icons\\PeaZip_cd.ico\n",
      "C:\\apps\\PeaZip\\res\\icons\\PeaZip_package.ico\n",
      "C:\\apps\\PeaZip\\res\\icons\\PeaZip_rar.ico\n",
      "C:\\apps\\PeaZip\\res\\icons\\peazip_seven.icl\n",
      "C:\\apps\\PeaZip\\res\\icons\\PeaZip_zip.ico\n",
      "C:\\apps\\PeaZip\\res\\lang\\ar.txt\n",
      "C:\\apps\\PeaZip\\res\\lang\\bg.txt\n",
      "C:\\apps\\PeaZip\\res\\lang\\by-cr.txt\n",
      "C:\\apps\\PeaZip\\res\\lang\\by-lt.txt\n",
      "C:\\apps\\PeaZip\\res\\lang\\chs.txt\n",
      "C:\\apps\\PeaZip\\res\\lang\\cht.txt\n",
      "C:\\apps\\PeaZip\\res\\lang\\cz.txt\n",
      "C:\\apps\\PeaZip\\res\\lang\\de-uml-alt.txt\n",
      "C:\\apps\\PeaZip\\res\\lang\\de-uml.txt\n",
      "C:\\apps\\PeaZip\\res\\lang\\default.txt\n",
      "C:\\apps\\PeaZip\\res\\lang\\en-gb.txt\n",
      "C:\\apps\\PeaZip\\res\\lang\\en.txt\n",
      "C:\\apps\\PeaZip\\res\\lang\\es-es.txt\n",
      "C:\\apps\\PeaZip\\res\\lang\\es-la.txt\n",
      "C:\\apps\\PeaZip\\res\\lang\\eu.txt\n",
      "C:\\apps\\PeaZip\\res\\lang\\fi.txt\n",
      "C:\\apps\\PeaZip\\res\\lang\\fr.txt\n",
      "C:\\apps\\PeaZip\\res\\lang\\gl.txt\n",
      "C:\\apps\\PeaZip\\res\\lang\\gr.txt\n",
      "C:\\apps\\PeaZip\\res\\lang\\hu.txt\n",
      "C:\\apps\\PeaZip\\res\\lang\\it.txt\n",
      "C:\\apps\\PeaZip\\res\\lang\\ja.txt\n",
      "C:\\apps\\PeaZip\\res\\lang\\ko.txt\n",
      "C:\\apps\\PeaZip\\res\\lang\\nl.txt\n",
      "C:\\apps\\PeaZip\\res\\lang\\no.txt\n",
      "C:\\apps\\PeaZip\\res\\lang\\pl.txt\n",
      "C:\\apps\\PeaZip\\res\\lang\\pt-br.txt\n",
      "C:\\apps\\PeaZip\\res\\lang\\pt-pt.txt\n",
      "C:\\apps\\PeaZip\\res\\lang\\ro.txt\n",
      "C:\\apps\\PeaZip\\res\\lang\\ru.txt\n",
      "C:\\apps\\PeaZip\\res\\lang\\si.txt\n",
      "C:\\apps\\PeaZip\\res\\lang\\sk.txt\n",
      "C:\\apps\\PeaZip\\res\\lang\\sv.txt\n",
      "C:\\apps\\PeaZip\\res\\lang\\tj.txt\n",
      "C:\\apps\\PeaZip\\res\\lang\\tr.txt\n",
      "C:\\apps\\PeaZip\\res\\lang\\uk.txt\n",
      "C:\\apps\\PeaZip\\res\\lang\\uz.txt\n",
      "C:\\apps\\PeaZip\\res\\lang\\vn.txt\n",
      "C:\\apps\\PeaZip\\res\\lang-wincontext\\bg.reg\n",
      "C:\\apps\\PeaZip\\res\\lang-wincontext\\by-cr.reg\n",
      "C:\\apps\\PeaZip\\res\\lang-wincontext\\by-lt.reg\n",
      "C:\\apps\\PeaZip\\res\\lang-wincontext\\chs.reg\n",
      "C:\\apps\\PeaZip\\res\\lang-wincontext\\cht.reg\n",
      "C:\\apps\\PeaZip\\res\\lang-wincontext\\cz.reg\n",
      "C:\\apps\\PeaZip\\res\\lang-wincontext\\de.reg\n",
      "C:\\apps\\PeaZip\\res\\lang-wincontext\\default.reg\n",
      "C:\\apps\\PeaZip\\res\\lang-wincontext\\en.reg\n",
      "C:\\apps\\PeaZip\\res\\lang-wincontext\\es-es.reg\n",
      "C:\\apps\\PeaZip\\res\\lang-wincontext\\eu.reg\n",
      "C:\\apps\\PeaZip\\res\\lang-wincontext\\fi.reg\n",
      "C:\\apps\\PeaZip\\res\\lang-wincontext\\fr.reg\n",
      "C:\\apps\\PeaZip\\res\\lang-wincontext\\fr_alt.reg\n",
      "C:\\apps\\PeaZip\\res\\lang-wincontext\\hu.reg\n",
      "C:\\apps\\PeaZip\\res\\lang-wincontext\\it.reg\n",
      "C:\\apps\\PeaZip\\res\\lang-wincontext\\nl.reg\n",
      "C:\\apps\\PeaZip\\res\\lang-wincontext\\pl.reg\n",
      "C:\\apps\\PeaZip\\res\\lang-wincontext\\pt-br.reg\n",
      "C:\\apps\\PeaZip\\res\\lang-wincontext\\pt-pt.reg\n",
      "C:\\apps\\PeaZip\\res\\lang-wincontext\\ru.reg\n",
      "C:\\apps\\PeaZip\\res\\lang-wincontext\\sv.reg\n",
      "C:\\apps\\PeaZip\\res\\lang-wincontext\\tr.reg\n",
      "C:\\apps\\PeaZip\\res\\lang-wincontext\\uk.reg\n",
      "C:\\apps\\PeaZip\\res\\lpaq\\lpaq8.exe\n",
      "C:\\apps\\PeaZip\\res\\lpaq\\note.txt\n",
      "C:\\apps\\PeaZip\\res\\paq\\note.txt\n",
      "C:\\apps\\PeaZip\\res\\paq\\paq8o.exe\n",
      "C:\\apps\\PeaZip\\res\\pea.exe\n",
      "C:\\apps\\PeaZip\\res\\pealauncher.exe\n",
      "C:\\apps\\PeaZip\\res\\peazip-configuration.exe\n",
      "C:\\apps\\PeaZip\\res\\peazip-reset.bat\n",
      "C:\\apps\\PeaZip\\res\\quad\\bcm.exe\n",
      "C:\\apps\\PeaZip\\res\\quad\\README.TXT\n",
      "C:\\apps\\PeaZip\\res\\themes\\classic.theme.7z\n",
      "C:\\apps\\PeaZip\\res\\themes\\experience.theme.7z\n",
      "C:\\apps\\PeaZip\\res\\themes\\firecrystal.theme.7z\n",
      "C:\\apps\\PeaZip\\res\\themes\\nographic-embedded\\fm-theme.bmp\n",
      "C:\\apps\\PeaZip\\res\\themes\\nographic-embedded\\note.readme\n",
      "C:\\apps\\PeaZip\\res\\themes\\seven.theme.7z\n",
      "C:\\apps\\PeaZip\\res\\themes\\ten-embedded\\fm-theme.bmp\n",
      "C:\\apps\\PeaZip\\res\\themes\\ten-embedded\\note.readme\n",
      "C:\\apps\\PeaZip\\res\\themes\\ten-legacy.theme.7z\n",
      "C:\\apps\\PeaZip\\res\\themes\\ten.theme.7z\n",
      "C:\\apps\\PeaZip\\res\\upx\\note.txt\n",
      "C:\\apps\\PeaZip\\res\\upx\\strip.exe\n",
      "C:\\apps\\PeaZip\\res\\upx\\upx.exe\n",
      "C:\\apps\\PeaZip\\res\\zpaq\\note.txt\n",
      "C:\\apps\\PeaZip\\res\\zpaq\\readme.txt\n",
      "C:\\apps\\PeaZip\\res\\zpaq\\zpaq.exe\n",
      "C:\\apps\\PeaZip\\SendTo.7z\n",
      "C:\\apps\\PeaZip\\unins000.dat\n",
      "C:\\apps\\PeaZip\\unins000.exe\n"
     ]
    }
   ],
   "source": [
    "import os\n",
    "\n",
    "# Finds files recursively\n",
    "def find(path='.'):\n",
    "    for item in os.listdir(path):\n",
    "        fn = os.path.normpath(os.path.join(path, item))\n",
    "\n",
    "        if os.path.isdir(fn):\n",
    "            for f in find(fn):\n",
    "                yield f\n",
    "        else:\n",
    "            yield fn\n",
    "\n",
    "# At each interaction, the generator yeld a new file name\n",
    "for fn in find(r\"/home/mayank/code\"):\n",
    "    print (fn)"
   ]
  },
  {
   "cell_type": "code",
   "execution_count": 5,
   "metadata": {
    "collapsed": false,
    "deletable": true,
    "editable": true,
    "nbpresent": {
     "id": "234cc323-a367-44d3-831b-861b0c1c72ca"
    }
   },
   "outputs": [
    {
     "name": "stdout",
     "output_type": "stream",
     "text": [
      "1\n",
      "1\n",
      "2\n",
      "3\n",
      "5\n",
      "8\n",
      "13\n",
      "21\n",
      "34\n",
      "55\n",
      "89\n",
      "144\n",
      "233\n",
      "377\n",
      "610\n",
      "987\n",
      "1597\n",
      "2584\n",
      "4181\n",
      "6765\n",
      "10946\n",
      "Calculation stopped\n"
     ]
    }
   ],
   "source": [
    "import time\n",
    "import sys\n",
    "\n",
    "def fib():\n",
    "   a, b = 0, 1\n",
    "   while True:\n",
    "      yield b\n",
    "      a, b = b, a + b\n",
    "\n",
    "\n",
    "iter = fib()\n",
    "\n",
    "try:\n",
    "   for i in iter:\n",
    "      print( i),\n",
    "      time.sleep(1)\n",
    "      sys.stdout.flush()\n",
    "except KeyboardInterrupt: \n",
    "   print( \"Calculation stopped\")"
   ]
  }
 ],
 "metadata": {
  "anaconda-cloud": {},
  "celltoolbar": "Slideshow",
  "kernelspec": {
   "display_name": "Python 3",
   "language": "python",
   "name": "python3"
  },
  "language_info": {
   "codemirror_mode": {
    "name": "ipython",
    "version": 3
   },
   "file_extension": ".py",
   "mimetype": "text/x-python",
   "name": "python",
   "nbconvert_exporter": "python",
   "pygments_lexer": "ipython3",
   "version": "3.4.6"
  },
  "nbpresent": {
   "slides": {
    "0f14d72c-61b2-43d4-8e85-f5f714b5bd5b": {
     "id": "0f14d72c-61b2-43d4-8e85-f5f714b5bd5b",
     "prev": null,
     "regions": {
      "28f15ac9-2995-4951-8814-85de9e7aeb57": {
       "attrs": {
        "height": 0.8,
        "width": 0.8,
        "x": 0.1,
        "y": 0.1
       },
       "content": {
        "cell": "7c5caee9-7d2c-42bd-9a83-ee44531bb576",
        "part": "whole"
       },
       "id": "28f15ac9-2995-4951-8814-85de9e7aeb57"
      }
     }
    },
    "495868e6-6aef-448e-84e7-f74dd4d67e78": {
     "id": "495868e6-6aef-448e-84e7-f74dd4d67e78",
     "prev": "e02a8ceb-d07f-4a1c-a907-4571d2cb6366",
     "regions": {
      "3705d750-6336-4606-8965-203e348ea4a5": {
       "attrs": {
        "height": 0.8,
        "width": 0.8,
        "x": 0.1,
        "y": 0.1
       },
       "content": {
        "cell": "5ba80ed2-5c02-4ae6-bb42-4f18e38820bf",
        "part": "whole"
       },
       "id": "3705d750-6336-4606-8965-203e348ea4a5"
      }
     }
    },
    "4c41d27b-0553-4aa6-8bfd-373be7c22a46": {
     "id": "4c41d27b-0553-4aa6-8bfd-373be7c22a46",
     "prev": "495868e6-6aef-448e-84e7-f74dd4d67e78",
     "regions": {}
    },
    "8030de7a-a87f-45ea-85aa-b889ec6d0361": {
     "id": "8030de7a-a87f-45ea-85aa-b889ec6d0361",
     "prev": "0f14d72c-61b2-43d4-8e85-f5f714b5bd5b",
     "regions": {
      "1e0d23c4-b279-4d64-ba7e-802f59127e19": {
       "attrs": {
        "height": 0.8,
        "width": 0.8,
        "x": 0.1,
        "y": 0.1
       },
       "content": {
        "cell": "c6ca2aad-4102-43c4-bda5-a060474c8001",
        "part": "whole"
       },
       "id": "1e0d23c4-b279-4d64-ba7e-802f59127e19"
      }
     }
    },
    "b2bee408-eb0c-4c69-a5e0-9e1e4765b46f": {
     "id": "b2bee408-eb0c-4c69-a5e0-9e1e4765b46f",
     "prev": "4c41d27b-0553-4aa6-8bfd-373be7c22a46",
     "regions": {
      "3dbeb2aa-02e6-41fa-b7b8-eb1d1a111b6d": {
       "attrs": {
        "height": 0.8,
        "width": 0.8,
        "x": 0.1,
        "y": 0.1
       },
       "content": {
        "cell": "234cc323-a367-44d3-831b-861b0c1c72ca",
        "part": "whole"
       },
       "id": "3dbeb2aa-02e6-41fa-b7b8-eb1d1a111b6d"
      }
     }
    },
    "e02a8ceb-d07f-4a1c-a907-4571d2cb6366": {
     "id": "e02a8ceb-d07f-4a1c-a907-4571d2cb6366",
     "prev": "8030de7a-a87f-45ea-85aa-b889ec6d0361",
     "regions": {
      "43cbe341-4f3d-45d5-8311-d68b20d48fac": {
       "attrs": {
        "height": 0.8,
        "width": 0.8,
        "x": 0.1,
        "y": 0.1
       },
       "content": {
        "cell": "9f09a586-4e4a-4ac0-b7ff-8c65fb8f57fc",
        "part": "whole"
       },
       "id": "43cbe341-4f3d-45d5-8311-d68b20d48fac"
      }
     }
    }
   },
   "themes": {}
  }
 },
 "nbformat": 4,
 "nbformat_minor": 0
}
