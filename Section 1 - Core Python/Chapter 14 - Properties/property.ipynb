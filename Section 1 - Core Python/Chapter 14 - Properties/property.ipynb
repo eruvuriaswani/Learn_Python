{
 "cells": [
  {
   "cell_type": "markdown",
   "metadata": {},
   "source": [
    "# property \n",
    "-----\n",
    "Python has a great concept called property, which makes the life of an object oriented programmer much simpler. Before defining and going into details of what a property in Python is, let us first build an intuition on why it would be needed in the first place."
   ]
  },
  {
   "cell_type": "code",
   "execution_count": 4,
   "metadata": {},
   "outputs": [
    {
     "name": "stdout",
     "output_type": "stream",
     "text": [
      "1220\n"
     ]
    }
   ],
   "source": [
    "CONST = 10 # some constant\n",
    "class Weather_balloon():\n",
    "    temp = 222\n",
    "    \n",
    "    def convert_temp_to_f(self):\n",
    "        return self.temp * CONST\n",
    "    \n",
    "w = Weather_balloon()\n",
    "w.temp = 122\n",
    "print(w.convert_temp_to_f())"
   ]
  },
  {
   "cell_type": "code",
   "execution_count": 11,
   "metadata": {},
   "outputs": [
    {
     "name": "stdout",
     "output_type": "stream",
     "text": [
      "10\n",
      "314.0\n",
      "10\n",
      "222\n"
     ]
    }
   ],
   "source": [
    "class Circle():\n",
    "    area = None\n",
    "    radius = None\n",
    "\n",
    "    def __init__(self, radius):\n",
    "        self.radius = radius\n",
    "        self.area = 3.14*radius*radius\n",
    "        \n",
    "c = Circle(10)\n",
    "print(c.radius)\n",
    "\n",
    "print(c.area)\n",
    "c.area=222\n",
    "\n",
    "print(c.radius)\n",
    "print(c.area)"
   ]
  },
  {
   "cell_type": "code",
   "execution_count": 18,
   "metadata": {},
   "outputs": [
    {
     "name": "stdout",
     "output_type": "stream",
     "text": [
      "10\n",
      "314.0\n",
      "222\n",
      "154751.76\n"
     ]
    }
   ],
   "source": [
    "class Circle():\n",
    "    _area = None\n",
    "    _radius = None\n",
    "    \n",
    "    def __init__(self, radius):\n",
    "        self.set_radius(radius)\n",
    "        \n",
    "    def get_radius(self):\n",
    "        return self._radius\n",
    "    \n",
    "    def set_radius(self, radius):\n",
    "        self._radius = radius\n",
    "        self._area = 3.14*radius*radius\n",
    "\n",
    "    radius = property(get_radius, set_radius)\n",
    "        \n",
    "c = Circle(10)\n",
    "print(c.radius)\n",
    "\n",
    "print(c._area)\n",
    "c.radius=222\n",
    "\n",
    "print(c.radius)\n",
    "print(c._area)"
   ]
  },
  {
   "cell_type": "code",
   "execution_count": 31,
   "metadata": {},
   "outputs": [
    {
     "name": "stdout",
     "output_type": "stream",
     "text": [
      "10\n",
      "314.0\n",
      "222\n",
      "154751.76\n",
      "125.28154021658304\n",
      "154751\n"
     ]
    }
   ],
   "source": [
    "import math\n",
    "\n",
    "class Circle():\n",
    "    _area = None\n",
    "    _radius = None\n",
    "    \n",
    "    def __init__(self, radius):\n",
    "        self.set_radius(radius)\n",
    "        \n",
    "    def get_radius(self):\n",
    "        return self._radius\n",
    "    \n",
    "    def set_radius(self, radius):\n",
    "        self._radius = radius\n",
    "        self._area = 3.14*radius*radius\n",
    "\n",
    "    radius = property(get_radius, set_radius)\n",
    "    \n",
    "    @property\n",
    "    def area(self):\n",
    "        return self._area\n",
    "    \n",
    "    @area.setter\n",
    "    def area(self, area):\n",
    "        self._area = area\n",
    "        self._radius = math.sqrt(self._area)/3.14\n",
    "        \n",
    "        \n",
    "c = Circle(10)\n",
    "print(c.radius)\n",
    "\n",
    "print(c._area)\n",
    "c.radius=222\n",
    "\n",
    "print(c.radius)\n",
    "print(c._area)\n",
    "\n",
    "c.area=154751\n",
    "\n",
    "print(c.radius)\n",
    "print(c._area)"
   ]
  },
  {
   "cell_type": "code",
   "execution_count": 22,
   "metadata": {},
   "outputs": [
    {
     "ename": "NameError",
     "evalue": "name 'Maths' is not defined",
     "output_type": "error",
     "traceback": [
      "\u001b[0;31m---------------------------------------------------------------------------\u001b[0m",
      "\u001b[0;31mNameError\u001b[0m                                 Traceback (most recent call last)",
      "\u001b[0;32m<ipython-input-22-4d142499d5a7>\u001b[0m in \u001b[0;36m<module>\u001b[0;34m()\u001b[0m\n\u001b[0;32m----> 1\u001b[0;31m \u001b[0mhelp\u001b[0m\u001b[0;34m(\u001b[0m\u001b[0mMaths\u001b[0m\u001b[0;34m)\u001b[0m\u001b[0;34m\u001b[0m\u001b[0m\n\u001b[0m",
      "\u001b[0;31mNameError\u001b[0m: name 'Maths' is not defined"
     ]
    }
   ],
   "source": []
  },
  {
   "cell_type": "code",
   "execution_count": 10,
   "metadata": {
    "collapsed": true
   },
   "outputs": [],
   "source": [
    "class Celsius:\n",
    "    def __init__(self, temperature = 0):\n",
    "        self.temperature = temperature\n",
    "\n",
    "    def to_fahrenheit(self):\n",
    "        return (self.temperature * 1.8) + 32"
   ]
  },
  {
   "cell_type": "code",
   "execution_count": 14,
   "metadata": {},
   "outputs": [
    {
     "name": "stdout",
     "output_type": "stream",
     "text": [
      "37\n",
      "98.60000000000001\n"
     ]
    }
   ],
   "source": [
    "man = Celsius()\n",
    "# set temperature\n",
    "man.temperature = 37\n",
    "\n",
    "# get temperature\n",
    "print(man.temperature)\n",
    "\n",
    "\n",
    "# get degrees Fahrenheit\n",
    "print(man.to_fahrenheit())\n",
    "##### print(Celsius.temperature)"
   ]
  },
  {
   "cell_type": "code",
   "execution_count": 12,
   "metadata": {},
   "outputs": [
    {
     "name": "stdout",
     "output_type": "stream",
     "text": [
      "1722795568 1722795568\n",
      "1722792432 1722792368\n",
      "0\n",
      "~~~~~~\n",
      "100\n"
     ]
    }
   ],
   "source": [
    "##############\n",
    "### Riddle ###\n",
    "##############\n",
    "class MyClass(): \n",
    "    x = 0\n",
    "    y = 100\n",
    "\n",
    "a = MyClass()\n",
    "b = MyClass()\n",
    "\n",
    "a.x = 2\n",
    "print(id(a.y), id(b.y))\n",
    "print(id(a.x), id(b.x))\n",
    "print(b.x)\n",
    "\n",
    "MyClass.x = 4\n",
    "print(a.x)\n",
    "print(b.x)\n",
    "\n",
    "MyClass.x = 7\n",
    "print(a.x)\n",
    "print(b.x)\n",
    "print(\"~~~~~~\")\n",
    "b.x = MyClass.y\n",
    "MyClass.x = 4\n",
    "print(b.x)"
   ]
  },
  {
   "cell_type": "markdown",
   "metadata": {},
   "source": [
    "## Class with Getter and Setter"
   ]
  },
  {
   "cell_type": "code",
   "execution_count": 16,
   "metadata": {
    "collapsed": true
   },
   "outputs": [],
   "source": [
    "class Celsius:\n",
    "    def __init__(self, temperature = 0):\n",
    "        self.set_temperature(temperature)\n",
    "\n",
    "    def to_fahrenheit(self):\n",
    "        return (self.get_temperature() * 1.8) + 32\n",
    "\n",
    "    # new update\n",
    "    def get_temperature(self):\n",
    "        return self._temperature\n",
    "\n",
    "    def set_temperature(self, value):\n",
    "        if value < -273:\n",
    "            raise ValueError(\"Temperature below -273 is not possible\")\n",
    "        self._temperature = value"
   ]
  },
  {
   "cell_type": "markdown",
   "metadata": {},
   "source": [
    "We can see above that new methods get_temperature() and set_temperature() were defined and furthermore, temperature was replaced with \\_temperature. An underscore (\\_) at the beginning is used to denote private variables in Python."
   ]
  },
  {
   "cell_type": "markdown",
   "metadata": {},
   "source": [
    "## Python Way - Property\n",
    "----\n",
    "The pythonic way to deal with the above problem is to use property. Here is how we could have achieved it."
   ]
  },
  {
   "cell_type": "code",
   "execution_count": 15,
   "metadata": {
    "collapsed": true
   },
   "outputs": [],
   "source": [
    "class Celsius:\n",
    "    def __init__(self, temperature = 0):\n",
    "        self.temperature = temperature\n",
    "\n",
    "    def to_fahrenheit(self):\n",
    "        return (self.temperature * 1.8) + 32\n",
    "\n",
    "    def get_temperature(self):\n",
    "        print(\"Getting value\")\n",
    "        return self._temperature\n",
    "\n",
    "    def set_temperature(self, value):\n",
    "        if value < -273:\n",
    "            raise ValueError(\"Temperature below -273 is not possible\")\n",
    "        print(\"Setting value\")\n",
    "        self._temperature = value\n",
    "\n",
    "    temperature = property(get_temperature, set_temperature)"
   ]
  },
  {
   "cell_type": "code",
   "execution_count": 32,
   "metadata": {},
   "outputs": [
    {
     "name": "stdout",
     "output_type": "stream",
     "text": [
      "Setting value\n",
      "Getting value\n",
      "137\n",
      "278.6\n"
     ]
    }
   ],
   "source": [
    "man = Celsius()\n",
    "# set temperature\n",
    "man.temperature = 137\n",
    "\n",
    "# get temperature\n",
    "print(man.temperature)\n",
    "\n",
    "# get degrees Fahrenheit\n",
    "print(man.to_fahrenheit())\n",
    "##### print(Celsius.temperature)"
   ]
  },
  {
   "cell_type": "markdown",
   "metadata": {},
   "source": [
    "## Deep in Property"
   ]
  },
  {
   "cell_type": "code",
   "execution_count": 17,
   "metadata": {},
   "outputs": [
    {
     "ename": "NameError",
     "evalue": "name 'get_temperature' is not defined",
     "output_type": "error",
     "traceback": [
      "\u001b[0;31m---------------------------------------------------------------------------\u001b[0m",
      "\u001b[0;31mNameError\u001b[0m                                 Traceback (most recent call last)",
      "\u001b[0;32m<ipython-input-17-586c28105eea>\u001b[0m in \u001b[0;36m<module>\u001b[0;34m()\u001b[0m\n\u001b[1;32m      1\u001b[0m \u001b[1;31m### Method 1\u001b[0m\u001b[1;33m\u001b[0m\u001b[1;33m\u001b[0m\u001b[0m\n\u001b[0;32m----> 2\u001b[0;31m \u001b[0mtemperature\u001b[0m \u001b[1;33m=\u001b[0m \u001b[0mproperty\u001b[0m\u001b[1;33m(\u001b[0m\u001b[0mget_temperature\u001b[0m\u001b[1;33m,\u001b[0m \u001b[0mset_temperature\u001b[0m\u001b[1;33m)\u001b[0m\u001b[1;33m\u001b[0m\u001b[0m\n\u001b[0m\u001b[1;32m      3\u001b[0m \u001b[1;33m\u001b[0m\u001b[0m\n",
      "\u001b[0;31mNameError\u001b[0m: name 'get_temperature' is not defined"
     ]
    }
   ],
   "source": [
    "### Method 1\n",
    "temperature = property(get_temperature, set_temperature)"
   ]
  },
  {
   "cell_type": "code",
   "execution_count": null,
   "metadata": {
    "collapsed": true
   },
   "outputs": [],
   "source": [
    "### Method 2\n",
    "# make empty property\n",
    "temperature = property()\n",
    "# assign getter\n",
    "temperature = temperature.getter(get_temperature)\n",
    "# assign setter\n",
    "temperature = temperature.setter(set_temperature)"
   ]
  },
  {
   "cell_type": "code",
   "execution_count": 26,
   "metadata": {},
   "outputs": [
    {
     "name": "stdout",
     "output_type": "stream",
     "text": [
      "Setting value\n",
      "Getting value\n",
      "100\n"
     ]
    }
   ],
   "source": [
    "### Method 3\n",
    "class Celsius:\n",
    "    def __init__(self, temperature = 0):\n",
    "        self._temperature = temperature\n",
    "\n",
    "    def to_fahrenheit(self):\n",
    "        return (self._temperature * 1.8) + 32\n",
    "\n",
    "    @property\n",
    "    def temperature(self):\n",
    "        print(\"Getting value\")\n",
    "        return self._temperature\n",
    "\n",
    "    @temperature.setter\n",
    "    def temperature(self, value):\n",
    "        if value < -273:\n",
    "            raise ValueError(\"Temperature below -273 is not possible\")\n",
    "        print(\"Setting value\")\n",
    "        self._temperature = value\n",
    "\n",
    "        \n",
    "\n",
    "celc = Celsius()\n",
    "celc.temperature = 100\n",
    "print(celc.temperature)\n",
    "# del(celc.temperature) # Need to explicitly define a deleter\n",
    "# print(celc.temperature)\n"
   ]
  },
  {
   "cell_type": "markdown",
   "metadata": {},
   "source": [
    "Another example to "
   ]
  },
  {
   "cell_type": "code",
   "execution_count": 15,
   "metadata": {},
   "outputs": [
    {
     "name": "stdout",
     "output_type": "stream",
     "text": [
      "Setting value\n",
      "Getting value\n",
      "100\n",
      "deleting the property\n",
      "Getting value\n"
     ]
    },
    {
     "ename": "AttributeError",
     "evalue": "'Celsius' object has no attribute '_temperature'",
     "output_type": "error",
     "traceback": [
      "\u001b[0;31m---------------------------------------------------------------------------\u001b[0m",
      "\u001b[0;31mAttributeError\u001b[0m                            Traceback (most recent call last)",
      "\u001b[0;32m<ipython-input-15-7c6f209207cd>\u001b[0m in \u001b[0;36m<module>\u001b[0;34m()\u001b[0m\n\u001b[1;32m     29\u001b[0m \u001b[0mprint\u001b[0m\u001b[1;33m(\u001b[0m\u001b[0mcelc\u001b[0m\u001b[1;33m.\u001b[0m\u001b[0mtemperature\u001b[0m\u001b[1;33m)\u001b[0m\u001b[1;33m\u001b[0m\u001b[0m\n\u001b[1;32m     30\u001b[0m \u001b[1;32mdel\u001b[0m\u001b[1;33m(\u001b[0m\u001b[0mcelc\u001b[0m\u001b[1;33m.\u001b[0m\u001b[0mtemperature\u001b[0m\u001b[1;33m)\u001b[0m\u001b[1;33m\u001b[0m\u001b[0m\n\u001b[0;32m---> 31\u001b[0;31m \u001b[0mprint\u001b[0m\u001b[1;33m(\u001b[0m\u001b[0mcelc\u001b[0m\u001b[1;33m.\u001b[0m\u001b[0mtemperature\u001b[0m\u001b[1;33m)\u001b[0m \u001b[1;31m# This property is no longer valid thus will error out\u001b[0m\u001b[1;33m\u001b[0m\u001b[0m\n\u001b[0m",
      "\u001b[0;32m<ipython-input-15-7c6f209207cd>\u001b[0m in \u001b[0;36mtemperature\u001b[0;34m(self)\u001b[0m\n\u001b[1;32m     10\u001b[0m     \u001b[1;32mdef\u001b[0m \u001b[0mtemperature\u001b[0m\u001b[1;33m(\u001b[0m\u001b[0mself\u001b[0m\u001b[1;33m)\u001b[0m\u001b[1;33m:\u001b[0m\u001b[1;33m\u001b[0m\u001b[0m\n\u001b[1;32m     11\u001b[0m         \u001b[0mprint\u001b[0m\u001b[1;33m(\u001b[0m\u001b[1;34m\"Getting value\"\u001b[0m\u001b[1;33m)\u001b[0m\u001b[1;33m\u001b[0m\u001b[0m\n\u001b[0;32m---> 12\u001b[0;31m         \u001b[1;32mreturn\u001b[0m \u001b[0mself\u001b[0m\u001b[1;33m.\u001b[0m\u001b[0m_temperature\u001b[0m\u001b[1;33m\u001b[0m\u001b[0m\n\u001b[0m\u001b[1;32m     13\u001b[0m \u001b[1;33m\u001b[0m\u001b[0m\n\u001b[1;32m     14\u001b[0m     \u001b[1;33m@\u001b[0m\u001b[0mtemperature\u001b[0m\u001b[1;33m.\u001b[0m\u001b[0msetter\u001b[0m\u001b[1;33m\u001b[0m\u001b[0m\n",
      "\u001b[0;31mAttributeError\u001b[0m: 'Celsius' object has no attribute '_temperature'"
     ]
    }
   ],
   "source": [
    "### Method 3\n",
    "class Celsius:\n",
    "    def __init__(self, temperature = 0):\n",
    "        self._temperature = temperature\n",
    "\n",
    "    def to_fahrenheit(self):\n",
    "        return (self._temperature * 1.8) + 32\n",
    "\n",
    "    @property\n",
    "    def temperature(self):\n",
    "        print(\"Getting value\")\n",
    "        return self._temperature\n",
    "\n",
    "    @temperature.setter\n",
    "    def temperature(self, value):\n",
    "        if value < -273:\n",
    "            raise ValueError(\"Temperature below -273 is not possible\")\n",
    "        print(\"Setting value\")\n",
    "        self._temperature = value\n",
    "        \n",
    "    @temperature.deleter\n",
    "    def temperature(self):\n",
    "        print(\"deleting the property\")\n",
    "        del(self._temperature)\n",
    "        \n",
    "\n",
    "celc = Celsius()\n",
    "celc.temperature = 100\n",
    "print(celc.temperature)\n",
    "del(celc.temperature)\n",
    "print(celc.temperature) # This property is no longer valid thus will error out\n"
   ]
  }
 ],
 "metadata": {
  "kernelspec": {
   "display_name": "Python 3",
   "language": "python",
   "name": "python3"
  },
  "language_info": {
   "codemirror_mode": {
    "name": "ipython",
    "version": 3
   },
   "file_extension": ".py",
   "mimetype": "text/x-python",
   "name": "python",
   "nbconvert_exporter": "python",
   "pygments_lexer": "ipython3",
   "version": "3.4.6"
  }
 },
 "nbformat": 4,
 "nbformat_minor": 1
}
