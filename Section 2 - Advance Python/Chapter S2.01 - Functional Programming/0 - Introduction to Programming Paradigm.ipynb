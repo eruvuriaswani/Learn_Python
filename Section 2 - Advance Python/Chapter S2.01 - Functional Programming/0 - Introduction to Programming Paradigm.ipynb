{
 "cells": [
  {
   "cell_type": "markdown",
   "metadata": {
    "deletable": true,
    "editable": true
   },
   "source": [
    "# Introduction to Programming Paradigms\n",
    "------------------\n",
    "\n",
    "* **Functional**: Every statement is treated as mathematical equation and `state` or `mutable data` are avoided. Its main advantage is that there aren’t any side effects, good at parallel processing because there is no state, recursion and lambda calculus.\n",
    "\n",
    "* **Imperative**: Computation is performed as a direct change to program state. This style is especially useful when manipulating data structures and produces elegant, but simple, code.\n",
    "\n",
    "* **Object-oriented**: Relies on data fields that are treated as objects and manipulated only through prescribed methods. Python doesn’t fully support this coding form because it can’t implement features such as data hiding. However, this remains a useful coding style for complex applications because it supports encapsulation and polymorphism. This coding style also favors code reuse.\n",
    "\n",
    "* **Procedural**: Tasks are treated as step-by-step iterations where common tasks are placed in functions that are called as needed. This coding style favors iteration, sequencing, selection, and modularization.\n",
    "\n"
   ]
  }
 ],
 "metadata": {
  "kernelspec": {
   "display_name": "Python 3",
   "language": "python",
   "name": "python3"
  },
  "language_info": {
   "codemirror_mode": {
    "name": "ipython",
    "version": 3
   },
   "file_extension": ".py",
   "mimetype": "text/x-python",
   "name": "python",
   "nbconvert_exporter": "python",
   "pygments_lexer": "ipython3",
   "version": "3.4.6"
  }
 },
 "nbformat": 4,
 "nbformat_minor": 2
}
