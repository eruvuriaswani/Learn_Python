{
 "cells": [
  {
   "cell_type": "markdown",
   "metadata": {},
   "source": [
    "# Introduction to Programming Paradigms\n",
    "------------------\n",
    "\n",
    "* **Functional**: Every statement is treated as mathematical equation and `state` or `mutable data` are avoided. Its main advantage is that there aren’t any side effects, good at parallel processing because there is no state, recursion and lambda calculus.\n",
    "\n",
    "* **Imperative**: Computation is performed as a direct change to program state. This style is especially useful when manipulating data structures and produces elegant, but simple, code.\n",
    "\n",
    "* **Object-oriented**: Relies on data fields that are treated as objects and manipulated only through prescribed methods. Python doesn’t fully support this coding form because it can’t implement features such as data hiding. However, this remains a useful coding style for complex applications because it supports encapsulation and polymorphism. This coding style also favors code reuse.\n",
    "\n",
    "* **Procedural**: Tasks are treated as step-by-step iterations where common tasks are placed in functions that are called as needed. This coding style favors iteration, sequencing, selection, and modularization.\n",
    "\n"
   ]
  },
  {
   "cell_type": "code",
   "execution_count": 3,
   "metadata": {},
   "outputs": [
    {
     "name": "stdout",
     "output_type": "stream",
     "text": [
      "10\n",
      "Pune Rocks\n",
      "Pune Rocks\n"
     ]
    }
   ],
   "source": [
    "a = 10\n",
    "\n",
    "def test():\n",
    "    global a\n",
    "    print(a)\n",
    "    a = \"Pune Rocks\"\n",
    "#     print(locals())\n",
    "#     print(len(globals()))\n",
    "    \n",
    "test()\n",
    "print(a)\n",
    "test()"
   ]
  }
 ],
 "metadata": {
  "kernelspec": {
   "display_name": "Python 3",
   "language": "python",
   "name": "python3"
  },
  "language_info": {
   "codemirror_mode": {
    "name": "ipython",
    "version": 2
   },
   "file_extension": ".py",
   "mimetype": "text/x-python",
   "name": "python",
   "nbconvert_exporter": "python",
   "pygments_lexer": "ipython2",
   "version": "2.7.12"
  }
 },
 "nbformat": 4,
 "nbformat_minor": 2
}
