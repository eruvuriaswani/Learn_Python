{
 "cells": [
  {
   "cell_type": "markdown",
   "metadata": {},
   "source": [
    "# Section 1 - About Functional Programming \n",
    "---\n",
    "\n",
    "\n"
   ]
  },
  {
   "cell_type": "markdown",
   "metadata": {},
   "source": [
    "## What is Functional Programming\n",
    "\n",
    "Functional programming is a programming paradigm that revolves around **pure functions**. \n",
    "A **pure function** is a function which can be represented as a mathematical expression. That means, no **side-effects** should be present, i.e. no I/O operations, no global state changes, no database interactions. \n",
    "\n",
    "<img src=\"files/PureFunction.png\" width=\"500\" alt=\"Pure Function Representation\">\n",
    "\n",
    "The output from a pure function is depended **ONLY** on its inputs. Thus, if a pure function is called with the same inputs a million times, you would get the same result every single time."
   ]
  },
  {
   "cell_type": "code",
   "execution_count": 1,
   "metadata": {},
   "outputs": [
    {
     "name": "stdout",
     "output_type": "stream",
     "text": [
      "1\n",
      "0\n",
      "12\n",
      "11\n"
     ]
    }
   ],
   "source": [
    "# not so functional function\n",
    "a = 0\n",
    "\n",
    "def global_sum(x):\n",
    "    global a\n",
    "    x += a\n",
    "    return x\n",
    "\n",
    "print(global_sum(1))\n",
    "print(a)\n",
    "a = 11\n",
    "print(global_sum(1))\n",
    "print(a)"
   ]
  },
  {
   "cell_type": "code",
   "execution_count": 4,
   "metadata": {},
   "outputs": [
    {
     "name": "stdout",
     "output_type": "stream",
     "text": [
      "1\n",
      "0\n",
      "12\n",
      "11\n"
     ]
    }
   ],
   "source": [
    "# not so functional function\n",
    "a = 0\n",
    "\n",
    "def global_sum(x):\n",
    "    global a\n",
    "    return x + a\n",
    "\n",
    "print(global_sum(x=1))\n",
    "print(a)\n",
    "a = 11\n",
    "print(global_sum(x=1))\n",
    "print(a)"
   ]
  },
  {
   "cell_type": "markdown",
   "metadata": {},
   "source": [
    "In the above example, the output of the function `global_sum` changed due to the value of `a`, thus it is unfunctional function."
   ]
  },
  {
   "cell_type": "code",
   "execution_count": 2,
   "metadata": {},
   "outputs": [
    {
     "name": "stdout",
     "output_type": "stream",
     "text": [
      "2\n",
      "4\n",
      "2\n"
     ]
    }
   ],
   "source": [
    "# a better functional function\n",
    "def better_sum(a, x):\n",
    "    return a+x\n",
    "\n",
    "num = better_sum(1, 1)\n",
    "print(num)\n",
    "num = better_sum(1, 3)\n",
    "print(num)\n",
    "num = better_sum(1, 1)\n",
    "print(num)"
   ]
  },
  {
   "cell_type": "markdown",
   "metadata": {},
   "source": [
    "and in the above example `better_sum`, the function returns always the same value for the set of input and only provided input can have any impact on the output of the function."
   ]
  },
  {
   "cell_type": "markdown",
   "metadata": {},
   "source": [
    "  ## Characteristics of functional programming\n",
    "\n",
    "- Functions are first class (objects). So, data and functions are treated as same and have access to same operations(such as passing a function to another function).\n",
    "- Recursion as primary control structure.\n",
    "- There is a focus on LISt Processing and are often used with recursion on sub-lists as a substitute for loops.\n",
    "- Avoid \"side-effects\". It excludes the almost ubiquitous pattern in imperative languages of assigning first one, then another value to the same variable to track the program state.\n",
    "- Either discourages or outright disallows statements, and instead works with the evaluation of expressions (in other words, functions plus arguments). In the pure case, one program is one expression (plus supporting definitions).\n",
    "- FP worries about what is to be computed rather than how it is to be computed.\n",
    "- Much FP utilizes \"higher order\" functions (in other words, functions that operate on functions that operate on functions)."
   ]
  },
  {
   "cell_type": "markdown",
   "metadata": {},
   "source": [
    "## Functions as First-Class citizens\n",
    "\n",
    "In functional programming, functions can be treated as objects. That is, they can assigned to a variable, can be passed as arguments or even returned from other functions."
   ]
  },
  {
   "cell_type": "markdown",
   "metadata": {},
   "source": [
    "### The lambda\n",
    "\n",
    "The simplest way to initialize a pure function in python is by using `lambda` keyword, which helps in defining the one-line function. Functions initialized with lambda can often called `anonymous functions`"
   ]
  },
  {
   "cell_type": "code",
   "execution_count": 5,
   "metadata": {},
   "outputs": [
    {
     "name": "stdout",
     "output_type": "stream",
     "text": [
      "200\n"
     ]
    }
   ],
   "source": [
    "# Example lambda keyword\n",
    "\n",
    "product_func = lambda x, y: x*y\n",
    "\n",
    "print(product_func(10, 20))"
   ]
  },
  {
   "cell_type": "markdown",
   "metadata": {},
   "source": [
    "### Functions as Objects\n",
    "\n",
    "Functions are first-class objects in Python, meaning they have attributes and can be referenced and assigned to variables."
   ]
  },
  {
   "cell_type": "code",
   "execution_count": 7,
   "metadata": {},
   "outputs": [
    {
     "name": "stdout",
     "output_type": "stream",
     "text": [
      "100\n"
     ]
    }
   ],
   "source": [
    "def square(x):\n",
    "    \"\"\"\n",
    "    This returns the square of the requested number `x`\n",
    "    \"\"\"\n",
    "    return x**2\n",
    "\n",
    "print(square(10))"
   ]
  },
  {
   "cell_type": "code",
   "execution_count": 8,
   "metadata": {},
   "outputs": [
    {
     "name": "stdout",
     "output_type": "stream",
     "text": [
      "10000\n",
      "<function square at 0x7f566c1beae8>\n",
      "<function square at 0x7f566c1beae8>\n",
      "140009157683944\n",
      "140009157683944\n"
     ]
    }
   ],
   "source": [
    "# Assignation to another variable\n",
    "mySquare = square\n",
    "print(mySquare(100))\n",
    "print(square)\n",
    "print(mySquare)\n",
    "print(id(square))\n",
    "print(id(mySquare))"
   ]
  },
  {
   "cell_type": "code",
   "execution_count": null,
   "metadata": {
    "collapsed": true
   },
   "outputs": [],
   "source": []
  },
  {
   "cell_type": "code",
   "execution_count": 9,
   "metadata": {},
   "outputs": [
    {
     "name": "stdout",
     "output_type": "stream",
     "text": [
      "******************************\n",
      "['__annotations__', '__call__', '__class__', '__closure__', '__code__', '__defaults__', '__delattr__', '__dict__', '__dir__', '__doc__', '__eq__', '__format__', '__ge__', '__get__', '__getattribute__', '__globals__', '__gt__', '__hash__', '__init__', '__kwdefaults__', '__le__', '__lt__', '__module__', '__name__', '__ne__', '__new__', '__qualname__', '__reduce__', '__reduce_ex__', '__repr__', '__setattr__', '__sizeof__', '__str__', '__subclasshook__']\n",
      "******************************\n",
      "square\n",
      "******************************\n",
      "square\n",
      "******************************\n",
      "\n",
      "    This returns the square of the requested number `x`\n",
      "    \n"
     ]
    }
   ],
   "source": [
    "# attributes present\n",
    "print(\"*\"*30)\n",
    "print(dir(square))\n",
    "print(\"*\"*30)\n",
    "print(mySquare.__name__)\n",
    "print(\"*\"*30)\n",
    "print(square.__name__)\n",
    "print(\"*\"*30)\n",
    "print(square.__doc__)"
   ]
  },
  {
   "cell_type": "markdown",
   "metadata": {},
   "source": [
    "### higher-order function\n",
    "\n",
    "Python also supports higher-order functions, meaning that functions can accept other functions as arguments and return functions to the caller."
   ]
  },
  {
   "cell_type": "code",
   "execution_count": 3,
   "metadata": {},
   "outputs": [
    {
     "name": "stdout",
     "output_type": "stream",
     "text": [
      "256\n"
     ]
    }
   ],
   "source": [
    "print(square(square(square(2))))"
   ]
  },
  {
   "cell_type": "code",
   "execution_count": 10,
   "metadata": {},
   "outputs": [
    {
     "name": "stdout",
     "output_type": "stream",
     "text": [
      "13\n"
     ]
    }
   ],
   "source": [
    "product_func = lambda x, y: x*y\n",
    "\n",
    "sum_func = lambda F, m: lambda x, y: F(x, y)+m\n",
    "\n",
    "print(sum_func(product_func, 5)(2, 4)) "
   ]
  },
  {
   "cell_type": "markdown",
   "metadata": {},
   "source": [
    "`13=2*4+5\n",
    "F -> product_func\n",
    "m => 5\n",
    "x -> 2\n",
    "y -> 4\n",
    "2*4+5 = 8+5 = 13`"
   ]
  },
  {
   "cell_type": "markdown",
   "metadata": {},
   "source": [
    "In the above example higher-order function that takes two inputs- A function `F(x)` and a multiplier `m`."
   ]
  },
  {
   "cell_type": "markdown",
   "metadata": {},
   "source": [
    "### Nested Functions\n",
    "\n",
    "In Python, Function(s) can also be defined within the scope of another function. If this type of function definition is used the inner function is only in scope inside the outer function, so it is most often useful when the inner function is being returned (moving it to the outer scope) or when it is being passed into another function.\n",
    "\n",
    "Notice that in the below example, a new instance of the function `inner()` is created on each call to `outer()`. That is because it is defined during the execution of `outer()`. The creation of the second instance has no impact on the first."
   ]
  },
  {
   "cell_type": "code",
   "execution_count": 11,
   "metadata": {},
   "outputs": [
    {
     "name": "stdout",
     "output_type": "stream",
     "text": [
      "~\n",
      "20\n",
      "********************\n",
      "<function outer.<locals>.inner at 0x7f566c1be950>\n",
      "2000\n",
      "~\n",
      "20\n",
      "<function outer.<locals>.inner at 0x7f566c1bef28>\n",
      "2000\n"
     ]
    }
   ],
   "source": [
    "def outer():\n",
    "    \"\"\"\n",
    "    Outer function \n",
    "    \"\"\"\n",
    "    if 'a' in locals():\n",
    "        a +=10\n",
    "    else:\n",
    "        print(\"~\"),\n",
    "        a = 20\n",
    "    def inner(x):\n",
    "        \"\"\"\n",
    "        inner function\n",
    "        \"\"\"\n",
    "        return(x*x*a)\n",
    "    print(a)\n",
    "    return inner\n",
    "\n",
    "o = outer()\n",
    "print(\"*\"*20)\n",
    "print(o)\n",
    "print(o(10))\n",
    "\n",
    "b = outer()\n",
    "print(b)\n",
    "print(b(10))"
   ]
  },
  {
   "cell_type": "code",
   "execution_count": 14,
   "metadata": {},
   "outputs": [
    {
     "name": "stdout",
     "output_type": "stream",
     "text": [
      "10\n",
      "********************\n",
      "<function outer.<locals>.inner at 0x7f566c1be378>\n",
      "1000\n",
      "20\n",
      "<function outer.<locals>.inner at 0x7f566c1bec80>\n",
      "2000\n"
     ]
    }
   ],
   "source": [
    "def outer(a):\n",
    "    \"\"\"\n",
    "    Outer function \n",
    "    \"\"\"\n",
    "    y = 0\n",
    "    def inner(x):\n",
    "        \"\"\"\n",
    "        inner function\n",
    "        \"\"\"\n",
    "        y = x*x*a \n",
    "        return(y)\n",
    "    print(a)\n",
    "    return inner\n",
    "\n",
    "o = outer(10)\n",
    "print(\"*\"*20)\n",
    "print(o)\n",
    "print(o(10))\n",
    "\n",
    "b = outer(20)\n",
    "print(b)\n",
    "print(b(10))"
   ]
  },
  {
   "cell_type": "code",
   "execution_count": 27,
   "metadata": {},
   "outputs": [
    {
     "name": "stdout",
     "output_type": "stream",
     "text": [
      "10\n",
      "20\n",
      "********************\n",
      "<function outer.<locals>.inner at 0x7f566c1be9d8>\n",
      "1\n",
      "y =1000\n",
      "********************\n",
      "<function outer.<locals>.inner at 0x7f566c1bed90>\n",
      "1\n",
      "y =2000\n"
     ]
    }
   ],
   "source": [
    "def outer(a):\n",
    "    \"\"\"\n",
    "    Outer function \n",
    "    \"\"\"\n",
    "    y = 1\n",
    "    def inner(x):\n",
    "        \"\"\"\n",
    "        inner function\n",
    "        \"\"\"\n",
    "        nonlocal y\n",
    "        print(y)\n",
    "        y = x*x*a \n",
    "        return(\"y =\" + str(y))\n",
    "    print(a)\n",
    "    return inner\n",
    "\n",
    "o = outer(10)\n",
    "b = outer(20)\n",
    "print(\"*\"*20)\n",
    "print(o)\n",
    "print(o(10))\n",
    "print(\"*\"*20)\n",
    "print(b)\n",
    "print(b(10))"
   ]
  },
  {
   "cell_type": "markdown",
   "metadata": {},
   "source": [
    "## Inner / Nested Functions - When to use \n",
    "\n",
    "### Encapsulation\n",
    "You use inner functions to protect them from anything happening outside of the function, meaning that they are hidden from the global scope."
   ]
  },
  {
   "cell_type": "code",
   "execution_count": 45,
   "metadata": {},
   "outputs": [
    {
     "name": "stdout",
     "output_type": "stream",
     "text": [
      "[10, 11]\n"
     ]
    }
   ],
   "source": [
    "# Encapsulation\n",
    "\n",
    "def increment(current):\n",
    "    def inner_increment(x):  # hidden from outer code\n",
    "        return x + 1\n",
    "    next_number = inner_increment(current)\n",
    "    return [current, next_number]\n",
    "\n",
    "print(increment(10))"
   ]
  },
  {
   "cell_type": "code",
   "execution_count": null,
   "metadata": {
    "collapsed": true
   },
   "outputs": [],
   "source": []
  },
  {
   "cell_type": "code",
   "execution_count": 11,
   "metadata": {},
   "outputs": [
    {
     "ename": "SyntaxError",
     "evalue": "invalid syntax (<ipython-input-11-4c5edce7660a>, line 17)",
     "output_type": "error",
     "traceback": [
      "\u001b[0;36m  File \u001b[0;32m\"<ipython-input-11-4c5edce7660a>\"\u001b[0;36m, line \u001b[0;32m17\u001b[0m\n\u001b[0;31m    sdd = [ key, value [for key, value in k] for(k in keyval) ]\u001b[0m\n\u001b[0m                          ^\u001b[0m\n\u001b[0;31mSyntaxError\u001b[0m\u001b[0;31m:\u001b[0m invalid syntax\n"
     ]
    }
   ],
   "source": [
    "### NOT WORKING\n",
    "\n",
    "def update(str_val):\n",
    "    def updating(ori_str, key, value):\n",
    "        token = \"$\"\n",
    "        if key in ori_str:\n",
    "            ori_str = ori_str.replace(token+key, value)\n",
    "        return ori_str\n",
    "    \n",
    "    keyval = [{\"test1\": \"val_test\", \"t1\" : \"val_1\"}, {\"test2\": \"val_test2\", \"t2\" : \"val_2\"}]\n",
    "\n",
    "    keyval1 = [{\"test1\": \"val_test\", \"t1\" : \"val_1\"}, {\"test2\": \"val_test2\", \"t2\" : \"val_2\"}]\n",
    "    ori_str = \"This is a $test1 and $test2, $t1 and $t2\"\n",
    "    \n",
    "#     for k in keyval:\n",
    "#         for key, value in k.items():\n",
    "#             ori_str = updateing(ori_str, key, value)\n",
    "    \n",
    "    sdd = [ key, value [for key, value in k] for(k in keyval) ]\n",
    "    \n",
    "    print(ori_str)\n",
    "    \n",
    "update(\"D\")"
   ]
  },
  {
   "cell_type": "code",
   "execution_count": null,
   "metadata": {
    "collapsed": true
   },
   "outputs": [],
   "source": []
  },
  {
   "cell_type": "code",
   "execution_count": 18,
   "metadata": {},
   "outputs": [
    {
     "data": {
      "text/plain": [
       "[('a', 10), ('b', 20), ('p', 10), ('u', 100)]"
      ]
     },
     "execution_count": 18,
     "metadata": {},
     "output_type": "execute_result"
    }
   ],
   "source": [
    "ld = [{'a': 10, 'b': 20}, {'p': 10, 'u': 100}]\n",
    "[kv for d in ld for kv in d.items()]"
   ]
  },
  {
   "cell_type": "code",
   "execution_count": 10,
   "metadata": {},
   "outputs": [
    {
     "name": "stdout",
     "output_type": "stream",
     "text": [
      "This is a $TEST1 and $test2, $t1 and $t2\n",
      "This is a $test1 and $test2, $t1 and $t2\n"
     ]
    }
   ],
   "source": [
    "ori_str = \"This is a $test;1 and $test2, $t1 and $t2\"\n",
    "print(ori_str.replace(\"test1\", \"TEST1\"))\n",
    "print(ori_str)"
   ]
  },
  {
   "cell_type": "markdown",
   "metadata": {},
   "source": [
    "### Following DRY (Don't Repeat Yourself)\n",
    "\n",
    "This type can be used if you have a section of code base in function is repeated in numerous places. For example, you might write a function which processes a file, and you want to accept either an open file object or a file name:"
   ]
  },
  {
   "cell_type": "code",
   "execution_count": 51,
   "metadata": {},
   "outputs": [
    {
     "name": "stdout",
     "output_type": "stream",
     "text": [
      "test\n",
      "test3\n",
      "t33\n"
     ]
    },
    {
     "ename": "FileNotFoundError",
     "evalue": "[Errno 2] No such file or directory: 'test.txt'",
     "output_type": "error",
     "traceback": [
      "\u001b[0;31m---------------------------------------------------------------------------\u001b[0m",
      "\u001b[0;31mFileNotFoundError\u001b[0m                         Traceback (most recent call last)",
      "\u001b[0;32m<ipython-input-51-6cab43fac967>\u001b[0m in \u001b[0;36m<module>\u001b[0;34m()\u001b[0m\n\u001b[1;32m     14\u001b[0m \u001b[0mprocess\u001b[0m\u001b[0;34m(\u001b[0m\u001b[0;34m[\u001b[0m\u001b[0;34m\"test\"\u001b[0m\u001b[0;34m,\u001b[0m \u001b[0;34m\"test3\"\u001b[0m\u001b[0;34m,\u001b[0m \u001b[0;34m\"t33\"\u001b[0m\u001b[0;34m]\u001b[0m\u001b[0;34m)\u001b[0m\u001b[0;34m\u001b[0m\u001b[0m\n\u001b[1;32m     15\u001b[0m \u001b[0;34m\u001b[0m\u001b[0m\n\u001b[0;32m---> 16\u001b[0;31m \u001b[0mprocess\u001b[0m\u001b[0;34m(\u001b[0m\u001b[0;34m\"test.txt\"\u001b[0m\u001b[0;34m)\u001b[0m\u001b[0;34m\u001b[0m\u001b[0m\n\u001b[0m",
      "\u001b[0;32m<ipython-input-51-6cab43fac967>\u001b[0m in \u001b[0;36mprocess\u001b[0;34m(file_name)\u001b[0m\n\u001b[1;32m      7\u001b[0m \u001b[0;34m\u001b[0m\u001b[0m\n\u001b[1;32m      8\u001b[0m     \u001b[0;32mif\u001b[0m \u001b[0misinstance\u001b[0m\u001b[0;34m(\u001b[0m\u001b[0mfile_name\u001b[0m\u001b[0;34m,\u001b[0m \u001b[0mstr\u001b[0m\u001b[0;34m)\u001b[0m\u001b[0;34m:\u001b[0m\u001b[0;34m\u001b[0m\u001b[0m\n\u001b[0;32m----> 9\u001b[0;31m         \u001b[0;32mwith\u001b[0m \u001b[0mopen\u001b[0m\u001b[0;34m(\u001b[0m\u001b[0mfile_name\u001b[0m\u001b[0;34m,\u001b[0m \u001b[0;34m'r'\u001b[0m\u001b[0;34m)\u001b[0m \u001b[0;32mas\u001b[0m \u001b[0mf\u001b[0m\u001b[0;34m:\u001b[0m\u001b[0;34m\u001b[0m\u001b[0m\n\u001b[0m\u001b[1;32m     10\u001b[0m             \u001b[0mdo_stuff\u001b[0m\u001b[0;34m(\u001b[0m\u001b[0mf\u001b[0m\u001b[0;34m)\u001b[0m\u001b[0;34m\u001b[0m\u001b[0m\n\u001b[1;32m     11\u001b[0m     \u001b[0;32melse\u001b[0m\u001b[0;34m:\u001b[0m\u001b[0;34m\u001b[0m\u001b[0m\n",
      "\u001b[0;31mFileNotFoundError\u001b[0m: [Errno 2] No such file or directory: 'test.txt'"
     ]
    }
   ],
   "source": [
    "# Keepin’ it DRY\n",
    "\n",
    "def process(file_name):\n",
    "    def do_stuff(file_process):\n",
    "        for line in file_process:\n",
    "            print(line)\n",
    "\n",
    "    if isinstance(file_name, str):\n",
    "        with open(file_name, 'r') as f:\n",
    "            do_stuff(f)\n",
    "    else:\n",
    "        do_stuff(file_name)\n",
    "        \n",
    "process([\"test\", \"test3\", \"t33\"])\n",
    "        \n",
    "process(\"test.txt\")"
   ]
  },
  {
   "cell_type": "code",
   "execution_count": null,
   "metadata": {},
   "outputs": [],
   "source": []
  },
  {
   "cell_type": "markdown",
   "metadata": {
    "collapsed": true
   },
   "source": [
    "or have similar logic which can be replaced by a function, such as mathematical functions, or code base which can be clubed by using some parameters.  "
   ]
  },
  {
   "cell_type": "code",
   "execution_count": 52,
   "metadata": {},
   "outputs": [
    {
     "name": "stdout",
     "output_type": "stream",
     "text": [
      "4\n"
     ]
    }
   ],
   "source": [
    "def square(n):\n",
    "    return n**2\n",
    "\n",
    "def cube(n):\n",
    "    return n**3\n",
    "\n",
    "print(square(2))"
   ]
  },
  {
   "cell_type": "code",
   "execution_count": 53,
   "metadata": {
    "collapsed": true
   },
   "outputs": [],
   "source": [
    "def sqr(a, b):\n",
    "    return a**b"
   ]
  },
  {
   "cell_type": "code",
   "execution_count": 24,
   "metadata": {},
   "outputs": [
    {
     "name": "stdout",
     "output_type": "stream",
     "text": [
      "TESTTESTTEST\n",
      "XSSSS\n",
      "Ja,  Venky\n",
      "True\n"
     ]
    }
   ],
   "source": [
    "def test():\n",
    "    print(\"TESTTESTTEST\")\n",
    "    def yes(name):\n",
    "        print(\"Ja, \", name)\n",
    "        return True\n",
    "    return yes\n",
    "\n",
    "d = test()\n",
    "print(\"XSSSS\")\n",
    "print(d(\"Venky\"))"
   ]
  },
  {
   "cell_type": "code",
   "execution_count": 55,
   "metadata": {},
   "outputs": [
    {
     "name": "stdout",
     "output_type": "stream",
     "text": [
      "<function power.<locals>.subfunc at 0x7f566c199730>\n",
      "<function power.<locals>.subfunc at 0x7f566c1999d8>\n",
      "25\n",
      "\n",
      "729\n",
      "729\n"
     ]
    }
   ],
   "source": [
    "def power(exp):\n",
    "    def subfunc(a):\n",
    "        return a**exp\n",
    "    return subfunc\n",
    "\n",
    "square = power(2)\n",
    "hexa = power(6)\n",
    "\n",
    "print(square)\n",
    "print(hexa)\n",
    "\n",
    "print(square(5)) # 5**2\n",
    "print()\n",
    "print(hexa(3)) # 3**6\n",
    "print(power(6)(3))\n",
    "# subfunc(3) where exp = 6\n",
    "# SQuare \n",
    "\n",
    "# exp -> 2 \n",
    "# Square(5) \n",
    "# a -> 5 \n",
    "# 5**2\n",
    "# 25"
   ]
  },
  {
   "cell_type": "code",
   "execution_count": null,
   "metadata": {
    "collapsed": true
   },
   "outputs": [],
   "source": []
  },
  {
   "cell_type": "code",
   "execution_count": null,
   "metadata": {
    "collapsed": true
   },
   "outputs": [],
   "source": []
  },
  {
   "cell_type": "code",
   "execution_count": null,
   "metadata": {
    "collapsed": true
   },
   "outputs": [],
   "source": []
  },
  {
   "cell_type": "markdown",
   "metadata": {},
   "source": [
    "#### Closures & Factory Functions <sup>1</sup>\n",
    "\n",
    "They are techniques for implementing lexically scoped name binding with first-class functions. It is a record, storing a function together with an environment. a mapping associating each free variable of the function (variables that are used locally, but defined in an enclosing scope) with the value or reference to which the name was bound when the closure was created.\n",
    "\n",
    "A closure—unlike a plain function—allows the function to access those captured variables through the closure's copies of their values or references, even when the function is invoked outside their scope."
   ]
  },
  {
   "cell_type": "code",
   "execution_count": 12,
   "metadata": {},
   "outputs": [
    {
     "name": "stdout",
     "output_type": "stream",
     "text": [
      "<function f.<locals>.g at 0x000001ECFA3A3268> <function h.<locals>.<lambda> at 0x000001ECFA3A3598>\n",
      "6 6\n",
      "6 6\n"
     ]
    }
   ],
   "source": [
    "def f(x):\n",
    "    def g(y):\n",
    "        return x + y\n",
    "    return g\n",
    "\n",
    "def h(x):\n",
    "    return lambda y: x + y\n",
    "\n",
    "a = f(1)\n",
    "b = h(1)\n",
    "print(a, b)\n",
    "print(a(5), b(5))\n",
    "print(f(1)(5), h(1)(5))"
   ]
  },
  {
   "cell_type": "markdown",
   "metadata": {},
   "source": [
    "both a and b are closures—or rather, variables with a closure as value—in both cases produced by returning a nested function with a free variable from an enclosing function, so that the free variable binds to the parameter x of the enclosing function. However, in the first case the nested function has a name, g, while in the second case the nested function is anonymous. The closures need not be assigned to a variable, and can be used directly, as in the last lines—the original name (if any) used in defining them is irrelevant. This usage may be deemed an \"anonymous closure\".\n",
    "\n",
    "**1: Copied from** : \"https://en.wikipedia.org/wiki/Closure_(computer_programming)\""
   ]
  },
  {
   "cell_type": "code",
   "execution_count": 25,
   "metadata": {},
   "outputs": [
    {
     "name": "stdout",
     "output_type": "stream",
     "text": [
      "22\n",
      "22\n"
     ]
    }
   ],
   "source": [
    "def make_adder(x):\n",
    "    def add(y):\n",
    "        return x + y\n",
    "    return add\n",
    "\n",
    "plus10 = make_adder(10)\n",
    "print(plus10(12))  # make_adder(10).add(12)\n",
    "print(make_adder(10)(12))"
   ]
  },
  {
   "cell_type": "markdown",
   "metadata": {},
   "source": [
    "Closures can avoid the use of global values and provides some form of data hiding. It can also provide an object oriented solution to the problem.\n",
    "\n",
    "When there are few methods (one method in most cases) to be implemented in a class, closures can provide an alternate and more elegant solutions. But when the number of attributes and methods get larger, better implement a class."
   ]
  },
  {
   "cell_type": "code",
   "execution_count": null,
   "metadata": {
    "collapsed": true
   },
   "outputs": [],
   "source": []
  },
  {
   "cell_type": "markdown",
   "metadata": {},
   "source": [
    "### Comprehensions\n",
    "\n",
    "\n",
    "Using comprehensions is often a way both to make code more compact and to shift our focus from the \"how\" to the \"what\". It is an expression that uses the same keywords as loop and conditional blocks, but inverts their order to focus on the data rather than on the procedure. \n",
    "\n",
    "Simply changing the form of expression can often make a surprisingly large difference in how we reason about code and how easy it is to understand. The ternary operator also performs a similar restructuring of our focus, using the same keywords in a different order."
   ]
  },
  {
   "cell_type": "markdown",
   "metadata": {},
   "source": [
    "####  List Comprehensions\n",
    "\n",
    "A way to create a new list from existing list based on defined logic"
   ]
  },
  {
   "cell_type": "markdown",
   "metadata": {},
   "source": [
    "* Unconditional Compreshensions "
   ]
  },
  {
   "cell_type": "code",
   "execution_count": 6,
   "metadata": {},
   "outputs": [
    {
     "name": "stdout",
     "output_type": "stream",
     "text": [
      "[2, 4, 6, 8, 10]\n"
     ]
    }
   ],
   "source": [
    "# Original\n",
    "doubled_numbers = []\n",
    "for n in range(1,6):\n",
    "    doubled_numbers.append(n*2)\n",
    "\n",
    "print(doubled_numbers)"
   ]
  },
  {
   "cell_type": "code",
   "execution_count": 27,
   "metadata": {},
   "outputs": [
    {
     "name": "stdout",
     "output_type": "stream",
     "text": [
      "[2, 6, 10, 14, 18, 22]\n"
     ]
    }
   ],
   "source": [
    "#list compreshensions\n",
    "doubled_numbers = [n * 2 for n in range(1,12,2)] # 1 ,3, 5, 7, 9, 11\n",
    "print(doubled_numbers)"
   ]
  },
  {
   "cell_type": "markdown",
   "metadata": {},
   "source": [
    "* Conditional Compreshensions "
   ]
  },
  {
   "cell_type": "code",
   "execution_count": 30,
   "metadata": {},
   "outputs": [
    {
     "name": "stdout",
     "output_type": "stream",
     "text": [
      "[2, 6, 10, 14, 18, 22]\n"
     ]
    }
   ],
   "source": [
    "doubled_odds = []\n",
    "\n",
    "for n in range(1,12):\n",
    "    if n % 2 == 1:\n",
    "        doubled_odds.append(n * 2)\n",
    "print(doubled_odds)"
   ]
  },
  {
   "cell_type": "code",
   "execution_count": null,
   "metadata": {
    "collapsed": true
   },
   "outputs": [],
   "source": []
  },
  {
   "cell_type": "code",
   "execution_count": 32,
   "metadata": {},
   "outputs": [
    {
     "name": "stdout",
     "output_type": "stream",
     "text": [
      "[2, 6, 10, 14, 18, 22]\n"
     ]
    }
   ],
   "source": [
    "doubled_odds = [n * 2 for n in range(1,12) if n% 2 == 1]\n",
    "\n",
    "print(doubled_odds)"
   ]
  },
  {
   "cell_type": "markdown",
   "metadata": {},
   "source": [
    "** !!!! Tip !!!! ** \n",
    "\n",
    "* Copy the variable assignment for our new empty list (line 3)\n",
    "* Copy the expression that we’ve been append-ing into this new list (line 6)\n",
    "* Copy the for loop line, excluding the final : (line 4)\n",
    "* Copy the if statement line, also without the : (line 5)\n"
   ]
  },
  {
   "cell_type": "code",
   "execution_count": 36,
   "metadata": {},
   "outputs": [
    {
     "name": "stdout",
     "output_type": "stream",
     "text": [
      "[6, 10, 14, 18]\n"
     ]
    }
   ],
   "source": [
    "# FROM\n",
    "numbers = range(2,10)\n",
    "\n",
    "doubled_odds = []\n",
    "for n in numbers:\n",
    "    if n % 2 == 1:\n",
    "        doubled_odds.append(n * 2)\n",
    "print(doubled_odds)"
   ]
  },
  {
   "cell_type": "code",
   "execution_count": 34,
   "metadata": {},
   "outputs": [
    {
     "name": "stdout",
     "output_type": "stream",
     "text": [
      "[6, 10, 14, 18]\n"
     ]
    }
   ],
   "source": [
    "num = [n*2 for n in range(2,10) if n%2==1]\n",
    "\n",
    "print(num)\n",
    "\n"
   ]
  },
  {
   "cell_type": "code",
   "execution_count": 18,
   "metadata": {
    "collapsed": true
   },
   "outputs": [],
   "source": [
    "# TO\n",
    "numbers = range(2,10)\n",
    "\n",
    "doubled_odds = [n * 2 for n in numbers if n % 2 == 1]"
   ]
  },
  {
   "cell_type": "markdown",
   "metadata": {},
   "source": [
    "### Nested Loops"
   ]
  },
  {
   "cell_type": "code",
   "execution_count": 33,
   "metadata": {},
   "outputs": [
    {
     "name": "stdout",
     "output_type": "stream",
     "text": [
      "[1, 2, 3, 4, 5, 6, 7, 8, 9, 10]\n"
     ]
    }
   ],
   "source": []
  },
  {
   "cell_type": "code",
   "execution_count": 40,
   "metadata": {},
   "outputs": [
    {
     "name": "stdout",
     "output_type": "stream",
     "text": [
      "['odd', 'even', 'odd', 'even', 'odd', 'even', 'odd', 'even', 'odd', 'even', 'Zero']\n"
     ]
    }
   ],
   "source": [
    "l = [1, 2, 3, 4, 5, 6, 7, 8, 9, 10, 0]\n",
    "\n",
    "lst = []\n",
    "for v in l:\n",
    "    if v == 0 :\n",
    "        lst.append ('Zero')\n",
    "    else:\n",
    "        if v % 2 == 0:\n",
    "            lst.append  ('even')\n",
    "        else:\n",
    "            lst.append  ('odd')\n",
    "            \n",
    "print(lst)"
   ]
  },
  {
   "cell_type": "code",
   "execution_count": 45,
   "metadata": {},
   "outputs": [
    {
     "name": "stdout",
     "output_type": "stream",
     "text": [
      "['odd', 'even', 'odd', 'even', 'odd', 'even', 'odd', 'even', 'odd', 'even', 'zero']\n"
     ]
    }
   ],
   "source": [
    "lst = [\"zero\" if v == 0 else \"even\" if v%2 == 0 else \"odd\" for v in l]\n",
    "print(lst)"
   ]
  },
  {
   "cell_type": "code",
   "execution_count": null,
   "metadata": {},
   "outputs": [],
   "source": []
  },
  {
   "cell_type": "code",
   "execution_count": 35,
   "metadata": {},
   "outputs": [
    {
     "data": {
      "text/plain": [
       "['yes', 'no', 'idle', 'idle', 'idle', 'idle', 'idle', 'idle', 'idle', 'idle']"
      ]
     },
     "execution_count": 35,
     "metadata": {},
     "output_type": "execute_result"
    }
   ],
   "source": [
    "['yes' if v == 1 else 'no' if v == 2 else 'idle' for v in l]"
   ]
  },
  {
   "cell_type": "code",
   "execution_count": null,
   "metadata": {},
   "outputs": [],
   "source": []
  },
  {
   "cell_type": "code",
   "execution_count": 27,
   "metadata": {},
   "outputs": [
    {
     "name": "stdout",
     "output_type": "stream",
     "text": [
      "[[1, 2, [3, 4]], [5, 6], 7]\n"
     ]
    }
   ],
   "source": [
    "# def flatten_list_new(lst, result=None):\n",
    "#     \"\"\"Flattens a nested list\n",
    "#         >>> flatten_list([ [1, 2, [3, 4] ], [5, 6], 7])\n",
    "#         [1, 2, 3, 4, 5, 6, 7]\n",
    "#     \"\"\"\n",
    "# #     if result is None:\n",
    "# #         result = []\n",
    "# #     else:\n",
    "#     result = [x if not isinstance(x, list) else flatten_list_new(x, list) for x in lst]\n",
    "# #     result = [ x  if not isinstance(x, list) else isinstance(x, list) for x in lst ]\n",
    "# #     result = [x for x in a if not isinstance(x, list) else isinstance(x, list)]\n",
    "# #     for x in a:\n",
    "# #         if isinstance(x, list):\n",
    "# #             flatten_list(x, result)\n",
    "# #         else:\n",
    "# #             result.append(x)\n",
    "\n",
    "#     return result\n",
    "# lst = [ [1, 2, [3, 4] ], [5, 6], 7]\n",
    "\n",
    "# print(flatten_list_new(lst))"
   ]
  },
  {
   "cell_type": "code",
   "execution_count": null,
   "metadata": {
    "collapsed": true
   },
   "outputs": [],
   "source": []
  },
  {
   "cell_type": "code",
   "execution_count": 52,
   "metadata": {},
   "outputs": [
    {
     "name": "stdout",
     "output_type": "stream",
     "text": [
      "237\n",
      "Wall time: 819 ms\n"
     ]
    }
   ],
   "source": [
    "%%time\n",
    "import os\n",
    "\n",
    "htmlFiles = []\n",
    "\n",
    "for d in os.walk(r\"C:\\apps\\PortableGit\"):\n",
    "    for f in d[2]:\n",
    "        if f.endswith(\".html\"):\n",
    "            htmlFiles.append(os.path.join(d[0], f))\n",
    "        \n",
    "print(len(htmlFiles))"
   ]
  },
  {
   "cell_type": "code",
   "execution_count": 51,
   "metadata": {},
   "outputs": [
    {
     "name": "stdout",
     "output_type": "stream",
     "text": [
      "237\n",
      "Wall time: 762 ms\n"
     ]
    }
   ],
   "source": [
    "%%time\n",
    "\n",
    "import os\n",
    "\n",
    "htmlFiles = [os.path.join(d[0], f) \n",
    "                for d in os.walk(r\"C:\\apps\\PortableGit\")\n",
    "                     for f in d[2] if f.endswith(\".html\")]\n",
    "\n",
    "print(len(htmlFiles))"
   ]
  },
  {
   "cell_type": "code",
   "execution_count": 6,
   "metadata": {},
   "outputs": [
    {
     "name": "stdout",
     "output_type": "stream",
     "text": [
      "1\n",
      "Wall time: 641 ms\n"
     ]
    }
   ],
   "source": [
    "%%time\n",
    "restFiles = []\n",
    "\n",
    "for d in os.walk(r\"C:\\apps\\PortableGit\"):\n",
    "    if \"etc\" in d[0]:\n",
    "        for f in d[2]:\n",
    "            if f.endswith(\".conf\"):\n",
    "                restFiles.append(os.path.join(d[0], f))\n",
    "print(len(restFiles))"
   ]
  },
  {
   "cell_type": "code",
   "execution_count": 23,
   "metadata": {},
   "outputs": [
    {
     "name": "stdout",
     "output_type": "stream",
     "text": [
      "1\n"
     ]
    }
   ],
   "source": [
    "restFiles = [os.path.join(d[0], f) \n",
    "                 for d in os.walk(r\"C:\\apps\\PortableGit\") \n",
    "                     if \"etc\" in d[0]\n",
    "                         for f in d[2] \n",
    "                             if f.endswith(\".conf\")]\n",
    "print(len(restFiles))"
   ]
  },
  {
   "cell_type": "code",
   "execution_count": 54,
   "metadata": {},
   "outputs": [
    {
     "name": "stdout",
     "output_type": "stream",
     "text": [
      "[[1, 0, 0], [0, 1, 0], [0, 0, 1]]\n",
      "Wall time: 0 ns\n"
     ]
    }
   ],
   "source": [
    "%%time\n",
    "\n",
    "matrix = []\n",
    "for row_idx in range(0, 3):\n",
    "    itmList = []\n",
    "    for item_idx in range(0, 3):\n",
    "        if item_idx == row_idx:\n",
    "            itmList.append(1)\n",
    "        else:\n",
    "            itmList.append(0)\n",
    "    matrix.append(itmList)\n",
    "print(matrix)"
   ]
  },
  {
   "cell_type": "code",
   "execution_count": 31,
   "metadata": {},
   "outputs": [
    {
     "name": "stdout",
     "output_type": "stream",
     "text": [
      "[[1, 0, 0], [0, 1, 0], [0, 0, 1]]\n"
     ]
    }
   ],
   "source": [
    "matrix = [ [ 1 if item_idx == row_idx \n",
    "               else 0 for item_idx in range(0, 3)] \n",
    "          for row_idx in range(0, 3) ]\n",
    "print(matrix)"
   ]
  },
  {
   "cell_type": "code",
   "execution_count": 62,
   "metadata": {},
   "outputs": [
    {
     "name": "stdout",
     "output_type": "stream",
     "text": [
      "[1, 2, 34, 4, 5]\n",
      "[1, 2, 34, 4, 5, 2]\n"
     ]
    }
   ],
   "source": [
    "lst = [1,2,34,4,5]\n",
    "print(lst)\n",
    "lst.append(2)\n",
    "print(lst)"
   ]
  },
  {
   "cell_type": "code",
   "execution_count": 64,
   "metadata": {},
   "outputs": [
    {
     "name": "stdout",
     "output_type": "stream",
     "text": [
      "[1, 2, 34, 4, 5, 2, 2, 2]\n",
      "{1, 2, 34, 4, 5}\n"
     ]
    }
   ],
   "source": [
    "\n",
    "lst.append(2)\n",
    "print(lst)\n",
    "l = set(lst)\n",
    "print(l)"
   ]
  },
  {
   "cell_type": "markdown",
   "metadata": {},
   "source": [
    "### Set Comprehensions\n",
    "\n",
    "Set comprehensions allow sets to be constructed using the same principles as list comprehensions, the only difference is that resulting sequence is a set and **\"{}\"** are used instead of **\"[]\"**."
   ]
  },
  {
   "cell_type": "code",
   "execution_count": 71,
   "metadata": {},
   "outputs": [
    {
     "name": "stdout",
     "output_type": "stream",
     "text": [
      "['Aalok', 'Manish', 'Aalok', 'Manish', 'Gupta', 'Johri', 'Mayank']\n",
      "{'Johri', 'Manish', 'Mayank', 'Aalok', 'Gupta'}\n"
     ]
    }
   ],
   "source": [
    "names = [ 'aaLok', 'Manish', 'aalOk', 'Manish', 'Gupta', 'Johri', 'Mayank' ]\n",
    "\n",
    "new_names1 = [name[0].upper() + name[1:].lower() for name in names if len(name) > 1 ]\n",
    "new_names = {name[0].upper() + name[1:].lower() for name in names if len(name) > 1 }\n",
    "print(new_names1)\n",
    "print(new_names)"
   ]
  },
  {
   "cell_type": "code",
   "execution_count": null,
   "metadata": {
    "collapsed": true
   },
   "outputs": [],
   "source": []
  },
  {
   "cell_type": "markdown",
   "metadata": {},
   "source": [
    "### Dictionary Comprehensions"
   ]
  },
  {
   "cell_type": "code",
   "execution_count": 76,
   "metadata": {},
   "outputs": [
    {
     "name": "stdout",
     "output_type": "stream",
     "text": [
      "{'a': 17, 'b': 34, 'z': 202}\n"
     ]
    }
   ],
   "source": [
    "original = {'a':10, 'b': 34, 'A': 7, 'Z':3, \"z\": 199}\n",
    "\n",
    "mcase_frequency = { k.lower() : original.get(k.lower(), 0) + original.get(k.upper(), 0) for k in original.keys() }\n",
    "print(mcase_frequency)"
   ]
  },
  {
   "cell_type": "code",
   "execution_count": 86,
   "metadata": {},
   "outputs": [
    {
     "name": "stdout",
     "output_type": "stream",
     "text": [
      "{10: 'c', 34: 'b', 7: 'A', 3: 'Z', 199: 'z'}\n"
     ]
    }
   ],
   "source": [
    "original = {'a':10, 'b': 34, 'A': 7, 'Z':3, \"z\": 199, 'c': 10}\n",
    "flipped = {value: key for key, value in original.items()}\n",
    "print(flipped)"
   ]
  },
  {
   "cell_type": "code",
   "execution_count": 92,
   "metadata": {},
   "outputs": [
    {
     "name": "stdout",
     "output_type": "stream",
     "text": [
      "{10: 'a', 34: 'b', 7: 'A', 3: 'Z', 199: 'z'}\n"
     ]
    }
   ],
   "source": [
    "original = {'a':10, 'b': 34, 'A': 7, 'Z':3, \"z\": 199, 'c': 10}\n",
    "newdict = {}\n",
    "for key, value in original.items():\n",
    "#     print(ori)\n",
    "    if (value not in newdict):\n",
    "        newdict[value] = key\n",
    "print(newdict)"
   ]
  },
  {
   "cell_type": "code",
   "execution_count": 97,
   "metadata": {},
   "outputs": [
    {
     "name": "stdout",
     "output_type": "stream",
     "text": [
      "{10: 'c', 34: 'b', 7: 'A', 3: 'Z', 199: 'z'}\n"
     ]
    }
   ],
   "source": [
    "newdict = {value: key for key, value in original.items() if (value not in newdict)}\n",
    "print(newdict)"
   ]
  },
  {
   "cell_type": "code",
   "execution_count": 84,
   "metadata": {},
   "outputs": [
    {
     "name": "stdout",
     "output_type": "stream",
     "text": [
      "{'a': 10, 'b': 20, 'c': 20}\n",
      "{'a': 100, 'b': 20, 'c': 20}\n"
     ]
    }
   ],
   "source": [
    "x = {\"a\": 10, \"b\": 20, \"c\": 20}\n",
    "\n",
    "print(x)\n",
    "x[\"a\"] = 100\n",
    "\n",
    "print(x)"
   ]
  },
  {
   "cell_type": "markdown",
   "metadata": {},
   "source": [
    "This map doesn’t take a named function. It takes an anonymous, inlined function defined with lambda. The parameters of the lambda are defined to the left of the colon. The function body is defined to the right of the colon. The result of running the function body is (implicitly) returned.\n",
    "\n",
    "The unfunctional code below takes a list of real names and appends them with randomly assigned code names."
   ]
  },
  {
   "cell_type": "code",
   "execution_count": 88,
   "metadata": {},
   "outputs": [
    {
     "name": "stdout",
     "output_type": "stream",
     "text": [
      "{'Mayank': 'Mr. Normal', 'Manish': 'The Big Boss', 'Aalok': 'Mr. God', 'Roshan Musheer': 'Mr. Cool'}\n"
     ]
    }
   ],
   "source": [
    "import random\n",
    "\n",
    "names_dict = {}\n",
    "names = [\"Mayank\", \"Manish\", \"Aalok\", \"Roshan Musheer\"]\n",
    "code_names = ['Mr. Normal', 'Mr. God', 'Mr. Cool', 'The Big Boss']\n",
    "\n",
    "random.shuffle(code_names)\n",
    "\n",
    "for i in range(len(names)):\n",
    "    names_dict[names[i]] = code_names[i] \n",
    "        \n",
    "print(names_dict)"
   ]
  },
  {
   "cell_type": "code",
   "execution_count": 9,
   "metadata": {},
   "outputs": [
    {
     "name": "stdout",
     "output_type": "stream",
     "text": [
      "{'Mayank': 'Mr. God', 'Manish': 'Mr. Normal', 'Aalok': 'The Big Boss', 'Roshan Musheer': 'Mr. Cool'}\n"
     ]
    }
   ],
   "source": [
    "import random\n",
    "\n",
    "names_dict = {}\n",
    "names = [\"Mayank\", \"Manish\", \"Aalok\", \"Roshan Musheer\"]\n",
    "code_names = ['Mr. Normal', 'Mr. God', 'Mr. Cool', 'The Big Boss']\n",
    "\n",
    "random.shuffle(code_names)\n",
    "names_dict = dict(zip(names, code_names))\n",
    "\n",
    "print(names_dict)"
   ]
  },
  {
   "cell_type": "code",
   "execution_count": null,
   "metadata": {
    "collapsed": true
   },
   "outputs": [],
   "source": []
  },
  {
   "cell_type": "markdown",
   "metadata": {},
   "source": [
    "### Generator Comprehension\n",
    "\n",
    "They are simply a generator expression with a parenthesis \"()\" around it. Otherwise, the syntax and the way of working is like list comprehension, but a generator comprehension returns a generator instead of a list. "
   ]
  },
  {
   "cell_type": "code",
   "execution_count": 34,
   "metadata": {},
   "outputs": [
    {
     "name": "stdout",
     "output_type": "stream",
     "text": [
      "<generator object <genexpr> at 0x0000029F7563E2B0>\n",
      "[0, 1, 4, 9, 16, 25, 36, 49, 64, 81, 100, 121, 144, 169, 196, 225, 256, 289, 324, 361]\n"
     ]
    }
   ],
   "source": [
    "x = (x**2 for x in range(20))\n",
    "print(x)\n",
    "print(list(x))"
   ]
  },
  {
   "cell_type": "code",
   "execution_count": 32,
   "metadata": {},
   "outputs": [
    {
     "name": "stdout",
     "output_type": "stream",
     "text": [
      "5.0\n"
     ]
    }
   ],
   "source": [
    "itm = 10\n",
    "print(itm / 2)"
   ]
  },
  {
   "cell_type": "markdown",
   "metadata": {},
   "source": [
    "#### Summary\n",
    "\n",
    "When struggling to write a comprehension, don’t panic. Start with a for loop first and copy-paste your way into a comprehension.\n",
    "\n",
    "Any for loop that looks like this:"
   ]
  },
  {
   "cell_type": "code",
   "execution_count": 31,
   "metadata": {},
   "outputs": [
    {
     "name": "stdout",
     "output_type": "stream",
     "text": [
      "[2, 8, 14]\n"
     ]
    }
   ],
   "source": [
    "def condition_based_on(itm):\n",
    "    return itm % 2 == 0\n",
    "\n",
    "old_things = range(2,20, 3)\n",
    "new_things = []\n",
    "for ITEM in old_things:\n",
    "    if condition_based_on(ITEM):\n",
    "        new_things.append( ITEM)\n",
    "print(new_things)"
   ]
  },
  {
   "cell_type": "markdown",
   "metadata": {},
   "source": [
    "Can be rewritten into a list comprehension like this:"
   ]
  },
  {
   "cell_type": "code",
   "execution_count": 32,
   "metadata": {},
   "outputs": [
    {
     "name": "stdout",
     "output_type": "stream",
     "text": [
      "[2, 8, 14]\n"
     ]
    }
   ],
   "source": [
    "new_things = [ITEM for ITEM in old_things if condition_based_on(ITEM)]\n",
    "print(new_things)"
   ]
  },
  {
   "cell_type": "markdown",
   "metadata": {},
   "source": [
    "**NOTE**\n",
    "\n",
    "If you can nudge a for loop until it looks like the ones above, you can rewrite it as a list comprehension."
   ]
  },
  {
   "cell_type": "markdown",
   "metadata": {},
   "source": []
  },
  {
   "cell_type": "code",
   "execution_count": null,
   "metadata": {
    "collapsed": true
   },
   "outputs": [],
   "source": []
  },
  {
   "cell_type": "markdown",
   "metadata": {},
   "source": [
    "### Recursion\n",
    "\n",
    "In Functional programming iteration such as `while` or `for` statements are avoided. Also it does not have the provision of state-updates. \n",
    "In FP recursion is used to overcome iterations, since any iterative code can be converted to recursive code as shown in the below examples."
   ]
  },
  {
   "cell_type": "code",
   "execution_count": 33,
   "metadata": {},
   "outputs": [
    {
     "name": "stdout",
     "output_type": "stream",
     "text": [
      "1 => 1\n",
      "2 => 2\n",
      "3 => 3\n",
      "4 => 5\n",
      "5 => 8\n"
     ]
    }
   ],
   "source": [
    "def fib(n):\n",
    "    \n",
    "    # the first two values\n",
    "    l = [1, 1]\n",
    "    \n",
    "    # Calculating the others\n",
    "    for i in range(2, n + 1):\n",
    "        l.append(l[i -1] + l[i - 2])\n",
    "        \n",
    "    return l[n]\n",
    "\n",
    "# Show Fibonacci from 1 to 5\n",
    "for i in [1, 2, 3, 4, 5]:\n",
    "    print (i, '=>', fib(i))"
   ]
  },
  {
   "cell_type": "code",
   "execution_count": 34,
   "metadata": {},
   "outputs": [
    {
     "name": "stdout",
     "output_type": "stream",
     "text": [
      "1 => 1\n",
      "2 => 2\n",
      "3 => 3\n",
      "4 => 5\n",
      "5 => 8\n"
     ]
    }
   ],
   "source": [
    "def fib(n):\n",
    "    if n > 1:\n",
    "        return fib(n - 1) + fib(n - 2)\n",
    "    else:\n",
    "        return 1\n",
    "\n",
    "# Show Fibonacci from 1 to 5\n",
    "for i in range(1,6):\n",
    "    print (i, '=>', fib(i))"
   ]
  },
  {
   "cell_type": "markdown",
   "metadata": {},
   "source": [
    "or, using `lambda`"
   ]
  },
  {
   "cell_type": "code",
   "execution_count": 35,
   "metadata": {},
   "outputs": [
    {
     "name": "stdout",
     "output_type": "stream",
     "text": [
      "55\n"
     ]
    }
   ],
   "source": [
    "fibonacci = (lambda x, x_1=1, x_2=0:\n",
    "         x_2 if x == 0\n",
    "         else fibonacci(x - 1, x_1 + x_2, x_1))\n",
    "\n",
    "print(fibonacci(10))"
   ]
  },
  {
   "cell_type": "code",
   "execution_count": null,
   "metadata": {
    "collapsed": true
   },
   "outputs": [],
   "source": []
  },
  {
   "cell_type": "markdown",
   "metadata": {},
   "source": [
    "### map, reduce and filter\n",
    "\n",
    "These are three functions which facilitate a functional approach to programming. `map`, `reduce` and `filter` are three higher-order functions that appear in all pure functional languages including Python. They are often are used in functional code to make it more elegant."
   ]
  },
  {
   "cell_type": "markdown",
   "metadata": {},
   "source": [
    "#### Map\n",
    "\n",
    "\n",
    "It basically provides kind of parallelism by calling the requested function over all elements in a list/array or in other words, \n",
    "Map applies a function to all the items in the given list and returns a new list.\n",
    "\n",
    "It takes a function and a collection of items as parameters and makes a new, empty collection, runs the function on each item in the original collection and inserts each return value into the new collection. It then returns the updated collection.\n",
    "\n",
    "This is a simple map that takes a list of names and returns a list of the lengths of those names:"
   ]
  },
  {
   "cell_type": "code",
   "execution_count": 56,
   "metadata": {},
   "outputs": [
    {
     "name": "stdout",
     "output_type": "stream",
     "text": [
      "[6, 5, 6, 5]\n"
     ]
    }
   ],
   "source": [
    "names = [ \"Manish\", \"Aalok\", \"Mayank\",\"Durga\"]\n",
    "lst = []\n",
    "\n",
    "for name in names:\n",
    "    lst.append(len(name))\n",
    "    \n",
    "print(lst)"
   ]
  },
  {
   "cell_type": "code",
   "execution_count": 10,
   "metadata": {},
   "outputs": [
    {
     "name": "stdout",
     "output_type": "stream",
     "text": [
      "(6, 5, 6, 5)\n",
      "[36, 25, 36, 25]\n"
     ]
    }
   ],
   "source": [
    "names =  (\"Manish\", \"Aalok\", \"Mayank\",\"Durga\")\n",
    "\n",
    "lst = tuple(map(len, names))\n",
    "print(lst)\n",
    "\n",
    "# This is a map that squares every number in the passed collection:\n",
    "power = map(lambda x: x*x, lst)\n",
    "print(list(power))"
   ]
  },
  {
   "cell_type": "code",
   "execution_count": 11,
   "metadata": {},
   "outputs": [
    {
     "data": {
      "text/plain": [
       "[1024, 177147, 16777216]"
      ]
     },
     "execution_count": 11,
     "metadata": {},
     "output_type": "execute_result"
    }
   ],
   "source": [
    "list(map(pow,[2, 3, 4], [10, 11, 12]))"
   ]
  },
  {
   "cell_type": "code",
   "execution_count": 72,
   "metadata": {},
   "outputs": [
    {
     "name": "stdout",
     "output_type": "stream",
     "text": [
      "{'Mayank': 'Mr. Cool', 'Manish': 'Mr. God', 'Aalok': 'The Big Boss', 'Roshan Musheer': 'Mr. Normal'}\n"
     ]
    }
   ],
   "source": [
    "import random\n",
    "\n",
    "names_dict = {}\n",
    "names = [\"Mayank\", \"Manish\", \"Aalok\", \"Roshan Musheer\"]\n",
    "code_names = ['Mr. Normal', 'Mr. God', 'Mr. Cool', 'The Big Boss']\n",
    "\n",
    "for i in range(len(names)):\n",
    "    name = random.choice(code_names)\n",
    "    while name in names_dict.values():\n",
    "        name = random.choice(code_names)\n",
    "    names_dict[names[i]] = name \n",
    "        \n",
    "print(names_dict)"
   ]
  },
  {
   "cell_type": "markdown",
   "metadata": {},
   "source": [
    "This can be rewritten as a lamba:"
   ]
  },
  {
   "cell_type": "code",
   "execution_count": 99,
   "metadata": {},
   "outputs": [
    {
     "name": "stdout",
     "output_type": "stream",
     "text": [
      "{'Mayank': 'Mr. God', 'Manish': 'Mr. Cool', 'Aalok': 'Mr. Normal', 'Roshan Musheer': 'The Big Boss'}\n"
     ]
    }
   ],
   "source": [
    "import random\n",
    "\n",
    "names = [\"Mayank\", \"Manish\", \"Aalok\", \"Roshan Musheer\"]\n",
    "code_names = ['Mr. Normal', 'Mr. God', 'Mr. Cool', 'The Big Boss']\n",
    "random.shuffle(code_names)\n",
    "\n",
    "a_dict = lambda: {k: v for k, v in zip(names, code_names)}\n",
    "print(a_dict())"
   ]
  },
  {
   "cell_type": "code",
   "execution_count": 100,
   "metadata": {
    "collapsed": true
   },
   "outputs": [],
   "source": [
    "# Excercise -> Try the above one using map, if possible"
   ]
  },
  {
   "cell_type": "code",
   "execution_count": 98,
   "metadata": {},
   "outputs": [
    {
     "name": "stdout",
     "output_type": "stream",
     "text": [
      "[1, 32, 16384, 10077696]\n"
     ]
    }
   ],
   "source": [
    "def dictMap(f, xs) :\n",
    "    return dict((f(i), i) for i in xs)\n",
    "lst = [1,2,4,6]\n",
    "lst2 = [3,5, 7,9]\n",
    "print(list(map(pow, lst, lst2)))\n"
   ]
  },
  {
   "cell_type": "code",
   "execution_count": 41,
   "metadata": {},
   "outputs": [
    {
     "name": "stdout",
     "output_type": "stream",
     "text": [
      "[97.7, 98.60000000000001, 99.5, 102.2]\n"
     ]
    }
   ],
   "source": [
    "def fahrenheit(T):\n",
    "    return ((float(9)/5)*T + 32)\n",
    "\n",
    "temp = (36.5, 37, 37.5,39)\n",
    "\n",
    "F = map(fahrenheit, temp)\n",
    "print(list(F))"
   ]
  },
  {
   "cell_type": "markdown",
   "metadata": {},
   "source": [
    "#### Reduce\n",
    "\n",
    "Reduce takes a function and a collection of items. It returns a value that is created by combining the items. This is a simple reduce. It returns the sum of all the items in the collection."
   ]
  },
  {
   "cell_type": "code",
   "execution_count": 59,
   "metadata": {},
   "outputs": [
    {
     "name": "stdout",
     "output_type": "stream",
     "text": [
      "120\n",
      "25\n"
     ]
    }
   ],
   "source": [
    "from functools import reduce\n",
    "\n",
    "product = reduce(lambda a, x: a * x, range(1, 6))\n",
    "\n",
    "print(product) # (((1 * 2 )* 3 )* 4) * 5\n",
    "print(reduce(lambda a, x: a + x, range(1, 6), 10))"
   ]
  },
  {
   "cell_type": "markdown",
   "metadata": {},
   "source": [
    "In the above example, `x` is the current iterated item and `a` is the accumulator. \n",
    "It is the value returned by the execution of the lambda on the previous item. reduce() walks through the items. For each one, it runs the lambda on the current a and x and returns the result as the a of the next iteration.\n",
    "\n",
    "What is a in the first iteration? There is no previous iteration result for it to pass along. reduce() uses the first item in the collection for a in the first iteration and starts iterating at the second item. That is, the first x is the second item.\n",
    "\n",
    "This code counts how often the word 'Sam' appears in a list of strings:"
   ]
  },
  {
   "cell_type": "code",
   "execution_count": 13,
   "metadata": {},
   "outputs": [
    {
     "name": "stdout",
     "output_type": "stream",
     "text": [
      "6\n"
     ]
    }
   ],
   "source": [
    "sentences = ['Copy the variable assignment for our new empty list'\n",
    "             'Copy the expression that we’ve been append-ing into this new list'\n",
    "             'Copy the for loop line, excluding the final'\n",
    "             'Copy the if statement line, also without the']\n",
    "\n",
    "sam_count = 0\n",
    "for sentence in sentences:\n",
    "    sam_count += sentence.count('the')\n",
    "\n",
    "print(sam_count)"
   ]
  },
  {
   "cell_type": "code",
   "execution_count": 15,
   "metadata": {},
   "outputs": [
    {
     "name": "stdout",
     "output_type": "stream",
     "text": [
      "Help on built-in function reduce in module _functools:\n",
      "\n",
      "reduce(...)\n",
      "    reduce(function, sequence[, initial]) -> value\n",
      "    \n",
      "    Apply a function of two arguments cumulatively to the items of a sequence,\n",
      "    from left to right, so as to reduce the sequence to a single value.\n",
      "    For example, reduce(lambda x, y: x+y, [1, 2, 3, 4, 5]) calculates\n",
      "    ((((1+2)+3)+4)+5).  If initial is present, it is placed before the items\n",
      "    of the sequence in the calculation, and serves as a default when the\n",
      "    sequence is empty.\n",
      "\n"
     ]
    }
   ],
   "source": [
    "help(reduce)\n"
   ]
  },
  {
   "cell_type": "code",
   "execution_count": 60,
   "metadata": {},
   "outputs": [
    {
     "name": "stdout",
     "output_type": "stream",
     "text": [
      "6\n"
     ]
    }
   ],
   "source": []
  },
  {
   "cell_type": "code",
   "execution_count": 63,
   "metadata": {},
   "outputs": [
    {
     "ename": "AttributeError",
     "evalue": "'int' object has no attribute 'count'",
     "output_type": "error",
     "traceback": [
      "\u001b[0;31m---------------------------------------------------------------------------\u001b[0m",
      "\u001b[0;31mAttributeError\u001b[0m                            Traceback (most recent call last)",
      "\u001b[0;32m<ipython-input-63-47b9b62f4d47>\u001b[0m in \u001b[0;36m<module>\u001b[0;34m()\u001b[0m\n\u001b[1;32m     11\u001b[0m              'Copy the if statement line, also without the']\n\u001b[1;32m     12\u001b[0m \u001b[0;34m\u001b[0m\u001b[0m\n\u001b[0;32m---> 13\u001b[0;31m sam_count = reduce(countme( a),\n\u001b[0m\u001b[1;32m     14\u001b[0m                    sentences, 0)\n\u001b[1;32m     15\u001b[0m \u001b[0mprint\u001b[0m\u001b[0;34m(\u001b[0m\u001b[0msam_count\u001b[0m\u001b[0;34m)\u001b[0m\u001b[0;34m\u001b[0m\u001b[0m\n",
      "\u001b[0;32m<ipython-input-63-47b9b62f4d47>\u001b[0m in \u001b[0;36mcountme\u001b[0;34m(x)\u001b[0m\n\u001b[1;32m      4\u001b[0m \u001b[0;34m\u001b[0m\u001b[0m\n\u001b[1;32m      5\u001b[0m \u001b[0;32mdef\u001b[0m \u001b[0mcountme\u001b[0m\u001b[0;34m(\u001b[0m\u001b[0mx\u001b[0m\u001b[0;34m)\u001b[0m\u001b[0;34m:\u001b[0m\u001b[0;34m\u001b[0m\u001b[0m\n\u001b[0;32m----> 6\u001b[0;31m     \u001b[0;32mreturn\u001b[0m \u001b[0mx\u001b[0m\u001b[0;34m.\u001b[0m\u001b[0mcount\u001b[0m\u001b[0;34m(\u001b[0m\u001b[0;34m'the'\u001b[0m\u001b[0;34m)\u001b[0m\u001b[0;34m\u001b[0m\u001b[0m\n\u001b[0m\u001b[1;32m      7\u001b[0m \u001b[0;34m\u001b[0m\u001b[0m\n\u001b[1;32m      8\u001b[0m sentences = ['Copy the variable assignment for our new empty list'\n",
      "\u001b[0;31mAttributeError\u001b[0m: 'int' object has no attribute 'count'"
     ]
    }
   ],
   "source": [
    "# This is the same code written as a reduce:\n",
    "from functools import reduce\n",
    "\n",
    "\n",
    "def countme(x):\n",
    "    return x.count('the')\n",
    "    \n",
    "sentences = ['Copy the variable assignment for our new empty list'\n",
    "             'Copy the expression that we’ve been append-ing into this new list'\n",
    "             'Copy the for loop line, excluding the final'\n",
    "             'Copy the if statement line, also without the']\n",
    "\n",
    "sam_count = reduce(countme( a),\n",
    "                   sentences, 0)\n",
    "print(sam_count)"
   ]
  },
  {
   "cell_type": "markdown",
   "metadata": {},
   "source": [
    "**NOTE:**\n",
    "\n",
    "How does this code come up with its initial a? The starting point for the number of incidences of 'Sam' cannot be 'Mary read a story to Sam and Isla.' The initial accumulator is specified with the third argument to reduce(). This allows the use of a value of a different type from the items in the collection."
   ]
  },
  {
   "cell_type": "markdown",
   "metadata": {},
   "source": [
    "#### Benefits map and reduce \n",
    "\n",
    "* they are often one-liners.\n",
    "* the important parts of the iteration - the collection, the operation and the return value - are always in the same places in every map and reduce.\n",
    "* the code in a loop may affect variables defined before it or code that runs after it. By convention, maps and reduces are functional.\n",
    "* map and reduce are elemental operations. Every time a person reads a for loop, they have to work through the logic line by line. There are few structural regularities they can use to create a scaffolding on which to hang their understanding of the code. In contrast, map and reduce are at once building blocks that can be combined into complex algorithms, and elements that the code reader can instantly understand and abstract in their mind. “Ah, this code is transforming each item in this collection. It’s throwing some of the transformations away. It’s combining the remainder into a single output.”\n",
    "* map and reduce have many friends that provide useful, tweaked versions of their basic behaviour. For example: filter, all, any and find."
   ]
  },
  {
   "cell_type": "code",
   "execution_count": null,
   "metadata": {
    "collapsed": true
   },
   "outputs": [],
   "source": []
  },
  {
   "cell_type": "markdown",
   "metadata": {},
   "source": [
    "### Filtering\n",
    "\n",
    "The function `filter(function, list)` offers an elegant way to filter out all the elements of a list, for which the function function returns True.\n",
    "\n",
    "The function `filter(f,l`) needs a function `f` as its first argument. `f` returns a Boolean value, i.e. either True or False. This function will be applied to every element of the list `l`. Only if f returns True will the element of the list be included in the result list. "
   ]
  },
  {
   "cell_type": "code",
   "execution_count": 140,
   "metadata": {},
   "outputs": [
    {
     "name": "stdout",
     "output_type": "stream",
     "text": [
      "[1, 1, 3, 5, 13, 21, 55]\n",
      "[0, 2, 8, 34]\n"
     ]
    }
   ],
   "source": [
    "fib = [0,1,1,2,3,5,8,13,21,34,55]\n",
    "\n",
    "result = filter(lambda x: x % 2 != 0, fib)\n",
    "print(list(result))\n",
    "\n",
    "result = filter(lambda x: x % 2 == 0, fib)\n",
    "print(list(result))"
   ]
  },
  {
   "cell_type": "code",
   "execution_count": 142,
   "metadata": {},
   "outputs": [
    {
     "name": "stdout",
     "output_type": "stream",
     "text": [
      "[0, 2, 8, 34]\n"
     ]
    }
   ],
   "source": [
    "result = filter(lambda x: x % 2 == 0, fib)\n",
    "print(list(result))"
   ]
  },
  {
   "cell_type": "code",
   "execution_count": null,
   "metadata": {
    "collapsed": true
   },
   "outputs": [],
   "source": []
  },
  {
   "cell_type": "code",
   "execution_count": 107,
   "metadata": {},
   "outputs": [
    {
     "name": "stdout",
     "output_type": "stream",
     "text": [
      "2\n"
     ]
    }
   ],
   "source": [
    "apis = [{'name': 'UpdateUser', 'type': 'POST', \"body\": \"{'name': '$name'}\"},\n",
    "    {'name': 'addUser', 'type': 'POST', \"body\": \"{name : '$name'}\"},\n",
    "    {'name': 'listUsers', 'type': 'GET'}]\n",
    "\n",
    "posts = 0\n",
    "for api in apis:\n",
    "    if 'type' in api and api['type'] == 'POST':\n",
    "        posts += 1\n",
    "\n",
    "print(posts)"
   ]
  },
  {
   "cell_type": "code",
   "execution_count": 124,
   "metadata": {},
   "outputs": [
    {
     "name": "stdout",
     "output_type": "stream",
     "text": [
      "2\n"
     ]
    }
   ],
   "source": [
    "posts = 0\n",
    "c = []\n",
    "\n",
    "c = filter(lambda x:'type' in x and  x['type'] == 'POST', apis)\n",
    "print(len(list(c)))"
   ]
  },
  {
   "cell_type": "code",
   "execution_count": 125,
   "metadata": {},
   "outputs": [
    {
     "ename": "TypeError",
     "evalue": "object of type 'map' has no len()",
     "output_type": "error",
     "traceback": [
      "\u001b[0;31m---------------------------------------------------------------------------\u001b[0m",
      "\u001b[0;31mTypeError\u001b[0m                                 Traceback (most recent call last)",
      "\u001b[0;32m<ipython-input-125-ba6b5a3b64ff>\u001b[0m in \u001b[0;36m<module>\u001b[0;34m()\u001b[0m\n\u001b[1;32m      6\u001b[0m               filter(lambda x: 'height' in x, people))\n\u001b[1;32m      7\u001b[0m \u001b[1;33m\u001b[0m\u001b[0m\n\u001b[0;32m----> 8\u001b[0;31m \u001b[1;32mif\u001b[0m \u001b[0mlen\u001b[0m\u001b[1;33m(\u001b[0m\u001b[0mheights\u001b[0m\u001b[1;33m)\u001b[0m \u001b[1;33m>\u001b[0m \u001b[1;36m0\u001b[0m\u001b[1;33m:\u001b[0m\u001b[1;33m\u001b[0m\u001b[0m\n\u001b[0m\u001b[1;32m      9\u001b[0m     \u001b[1;32mfrom\u001b[0m \u001b[0moperator\u001b[0m \u001b[1;32mimport\u001b[0m \u001b[0madd\u001b[0m\u001b[1;33m\u001b[0m\u001b[0m\n\u001b[1;32m     10\u001b[0m     \u001b[0maverage_height\u001b[0m \u001b[1;33m=\u001b[0m \u001b[0mreduce\u001b[0m\u001b[1;33m(\u001b[0m\u001b[0madd\u001b[0m\u001b[1;33m,\u001b[0m \u001b[0mheights\u001b[0m\u001b[1;33m)\u001b[0m \u001b[1;33m/\u001b[0m \u001b[0mlen\u001b[0m\u001b[1;33m(\u001b[0m\u001b[0mheights\u001b[0m\u001b[1;33m)\u001b[0m\u001b[1;33m\u001b[0m\u001b[0m\n",
      "\u001b[0;31mTypeError\u001b[0m: object of type 'map' has no len()"
     ]
    }
   ],
   "source": [
    "people = [{'name': 'Mary', 'height': 160},\n",
    "          {'name': 'Isla', 'height': 80},\n",
    "          {'name': 'Sam'}]\n",
    "\n",
    "heights = map(lambda x: x['height'],\n",
    "              filter(lambda x: 'height' in x, people))\n",
    "\n",
    "if len(heights) > 0:\n",
    "    from operator import add\n",
    "    average_height = reduce(add, heights) / len(heights)"
   ]
  },
  {
   "cell_type": "markdown",
   "metadata": {},
   "source": [
    "## functools\n",
    "----\n",
    "\n",
    "The functools module is for higher-order functions: functions that act on or return other functions. In general, any callable object can be treated as a function for the purposes of this module.\n",
    "\n",
    "Common functions in functools are as follows\n",
    "\n",
    "* partial\n",
    "* reduce\n"
   ]
  },
  {
   "cell_type": "markdown",
   "metadata": {},
   "source": [
    "### partial\n",
    "\n",
    "functools.partial does the follows:\n",
    "\n",
    "* Makes a new version of a function with one or more arguments already filled in.\n",
    "* New version of a function documents itself."
   ]
  },
  {
   "cell_type": "code",
   "execution_count": 47,
   "metadata": {
    "collapsed": true
   },
   "outputs": [],
   "source": [
    "def power(base, exponent):\n",
    "    return base ** exponent"
   ]
  },
  {
   "cell_type": "code",
   "execution_count": 48,
   "metadata": {
    "collapsed": true
   },
   "outputs": [],
   "source": [
    "def square(base):\n",
    "    return power(base, 2)\n",
    "\n",
    "def cube(base):\n",
    "    return power(base, 3)"
   ]
  },
  {
   "cell_type": "markdown",
   "metadata": {},
   "source": [
    "Now lets see the magic of partial"
   ]
  },
  {
   "cell_type": "code",
   "execution_count": 68,
   "metadata": {},
   "outputs": [
    {
     "name": "stdout",
     "output_type": "stream",
     "text": [
      "4\n",
      "8\n",
      "16\n",
      "512\n"
     ]
    }
   ],
   "source": [
    "from functools import partial\n",
    "\n",
    "square = partial(power, exponent=2)\n",
    "cube = partial(power, exponent=3)\n",
    "\n",
    "print(square(2))\n",
    "print(cube(2))\n",
    "\n",
    "print(square(2, exponent=4))\n",
    "print(cube(2, exponent=9))"
   ]
  },
  {
   "cell_type": "code",
   "execution_count": 73,
   "metadata": {},
   "outputs": [
    {
     "name": "stdout",
     "output_type": "stream",
     "text": [
      "8\n",
      "12\n"
     ]
    }
   ],
   "source": [
    "from functools import partial\n",
    "\n",
    "def multiply(x,y):\n",
    "        return x * y\n",
    "\n",
    "# create a new function that multiplies by 2\n",
    "db2 = partial(multiply,2)\n",
    "print(db2(4))\n",
    "db4 = partial(multiply, 4)\n",
    "print(db4(3))"
   ]
  },
  {
   "cell_type": "code",
   "execution_count": 83,
   "metadata": {},
   "outputs": [
    {
     "name": "stdout",
     "output_type": "stream",
     "text": [
      "3\n",
      "40\n"
     ]
    }
   ],
   "source": [
    "from functools import partial\n",
    " \n",
    "#----------------------------------------------------------------------\n",
    "def add(x, y):\n",
    "    \"\"\"\"\"\"\n",
    "    return x + y\n",
    " \n",
    "#----------------------------------------------------------------------\n",
    "def multiply(x, y):\n",
    "    \"\"\"\"\"\"\n",
    "    return x * y\n",
    " \n",
    "#----------------------------------------------------------------------\n",
    "def run(func):\n",
    "    \"\"\"\"\"\"\n",
    "    print (func())\n",
    " \n",
    "#----------------------------------------------------------------------\n",
    "def main():\n",
    "    \"\"\"\"\"\"\n",
    "    a1 = partial(add, 1, 2)\n",
    "    m1 = partial(multiply, 5, 8)\n",
    "    run(a1)\n",
    "    run(m1)\n",
    " \n",
    "if __name__ == \"__main__\":\n",
    "    main()"
   ]
  },
  {
   "cell_type": "code",
   "execution_count": null,
   "metadata": {
    "collapsed": true
   },
   "outputs": [],
   "source": []
  },
  {
   "cell_type": "code",
   "execution_count": 101,
   "metadata": {},
   "outputs": [
    {
     "name": "stdout",
     "output_type": "stream",
     "text": [
      "wrapper\n",
      "\n",
      "        A wrapping function\n",
      "        \n",
      "The result of 1+1 is 2\n"
     ]
    }
   ],
   "source": [
    "def another_function(func):\n",
    "    \"\"\"\n",
    "    A function that accepts another function\n",
    "    \"\"\"\n",
    " \n",
    "    def wrapper():\n",
    "        \"\"\"\n",
    "        A wrapping function\n",
    "        \"\"\"\n",
    "        val = \"The result of %s is %s\" % (func(),\n",
    "                                          eval(func())\n",
    "                                          )\n",
    "        return val\n",
    "    return wrapper\n",
    " \n",
    "#----------------------------------------------------------------------\n",
    "@another_function\n",
    "def a_function():\n",
    "    \"\"\"A pretty useless function\"\"\"\n",
    "    return \"1+1\"\n",
    " \n",
    "#----------------------------------------------------------------------\n",
    "if __name__ == \"__main__\":\n",
    "    print (a_function.__name__)\n",
    "    print (a_function.__doc__)\n",
    "    print(a_function())"
   ]
  },
  {
   "cell_type": "code",
   "execution_count": 81,
   "metadata": {},
   "outputs": [
    {
     "name": "stdout",
     "output_type": "stream",
     "text": [
      "a_function\n",
      "A pretty useless function\n",
      "The result of 1+1 is 2\n"
     ]
    }
   ],
   "source": [
    "from functools import wraps\n",
    " \n",
    "#----------------------------------------------------------------------\n",
    "def another_function(func):\n",
    "    \"\"\"\n",
    "    A function that accepts another function\n",
    "    \"\"\"\n",
    " \n",
    "    @wraps(func)\n",
    "    def wrapper():\n",
    "        \"\"\"\n",
    "        A wrapping function\n",
    "        \"\"\"\n",
    "        val = \"The result of %s is %s\" % (func(),\n",
    "                                          eval(func())\n",
    "                                          )\n",
    "        return val\n",
    "    return wrapper\n",
    " \n",
    "#----------------------------------------------------------------------\n",
    "@another_function\n",
    "def a_function():\n",
    "    \"\"\"A pretty useless function\"\"\"\n",
    "    return \"1+1\"\n",
    " \n",
    "#----------------------------------------------------------------------\n",
    "if __name__ == \"__main__\":\n",
    "    #a_function()\n",
    "    print (a_function.__name__)\n",
    "    print (a_function.__doc__)\n",
    "    print(a_function())"
   ]
  },
  {
   "cell_type": "markdown",
   "metadata": {},
   "source": [
    "Here we import wraps from the functools module and use it as a decorator for the nested wrapper function inside of another_function to map the __name__ and __doc__ to the wrapper function"
   ]
  },
  {
   "cell_type": "markdown",
   "metadata": {},
   "source": [
    "#### update_wrapper\n",
    "\n",
    "The partial object does not have __name__ or __doc__ attributes by default, and without those attributes decorated functions are more difficult to debug. Using update_wrapper(), copies or adds attributes from the original function to the partial object."
   ]
  },
  {
   "cell_type": "code",
   "execution_count": 67,
   "metadata": {},
   "outputs": [
    {
     "name": "stdout",
     "output_type": "stream",
     "text": [
      "myfunc1:\n",
      "\tobject: <function myfunc1 at 0x000001ECFB445A60>\n",
      "\t__name__:\n",
      "myfunc1\n",
      "\t__doc__ None\n",
      "~~~~~~~~~~~~~~~~~~~~\n",
      "myfunc:\n",
      "\tobject: <function myfunc at 0x000001ECFB445EA0>\n",
      "\t__name__:\n",
      "myfunc\n",
      "\t__doc__ 'Docstring for myfunc().'\n",
      "++++++++++++++++++++\n",
      "raw wrapper:\n",
      "\tobject: functools.partial(<function myfunc at 0x000001ECFB445EA0>, b=4)\n",
      "\t__name__:\n",
      "(no __name__)\n",
      "\t__doc__ 'partial(func, *args, **keywords) - new function with partial application\\n    of the given arguments and keywords.\\n'\n",
      "^^^^^^^^^^^^^^^^^^^^\n",
      "Updating wrapper:\n",
      "\tassign: ('__module__', '__name__', '__qualname__', '__doc__', '__annotations__')\n",
      "\tupdate: ('__dict__',)\n",
      "********************\n",
      "updated wrapper:\n",
      "\tobject: functools.partial(<function myfunc at 0x000001ECFB445EA0>, b=4)\n",
      "\t__name__:\n",
      "myfunc\n",
      "\t__doc__ 'Docstring for myfunc().'\n"
     ]
    }
   ],
   "source": [
    "import functools\n",
    "\n",
    "\n",
    "def myfunc1(a, b=2):\n",
    "    print ('\\tcalled myfunc1 with:', (a, b))\n",
    "    return\n",
    "\n",
    "def myfunc(a, b=2):\n",
    "    \"\"\"Docstring for myfunc().\"\"\"\n",
    "    print ('\\tcalled myfunc with:', (a, b))\n",
    "    return\n",
    "\n",
    "def show_details(name, f):\n",
    "    \"\"\"Show details of a callable object.\"\"\"\n",
    "    print ('%s:' % name)\n",
    "    print ('\\tobject:', f)\n",
    "    print ('\\t__name__:',) \n",
    "    try:\n",
    "        print (f.__name__)\n",
    "    except AttributeError:\n",
    "        print ('(no __name__)')\n",
    "    print ('\\t__doc__', repr(f.__doc__))\n",
    "    print\n",
    "    return\n",
    "show_details('myfunc1', myfunc1)\n",
    "print(\"~\"*20)\n",
    "show_details('myfunc', myfunc)\n",
    "\n",
    "p1 = functools.partial(myfunc, b=4)\n",
    "print(\"+\"*20)\n",
    "show_details('raw wrapper', p1)\n",
    "print(\"^\"*20)\n",
    "print ('Updating wrapper:')\n",
    "print ('\\tassign:', functools.WRAPPER_ASSIGNMENTS)\n",
    "print ('\\tupdate:', functools.WRAPPER_UPDATES)\n",
    "print(\"*\"*20)\n",
    "\n",
    "functools.update_wrapper(p1, myfunc)\n",
    "show_details('updated wrapper', p1)"
   ]
  },
  {
   "cell_type": "code",
   "execution_count": null,
   "metadata": {
    "collapsed": true
   },
   "outputs": [],
   "source": []
  },
  {
   "cell_type": "markdown",
   "metadata": {
    "collapsed": true
   },
   "source": [
    " "
   ]
  },
  {
   "cell_type": "markdown",
   "metadata": {},
   "source": [
    "\n",
    "- Avoid state\n",
    "- Immutable data\n",
    "- First-class functions\n",
    "- Higher-order functions\n",
    "- Pure functions\n",
    "- Recursion, tail recursion\n",
    "- Iterators, sequences, lazy evaluation, pattern matching, monads, etc."
   ]
  }
 ],
 "metadata": {
  "kernelspec": {
   "display_name": "Python 3",
   "language": "python",
   "name": "python3"
  },
  "language_info": {
   "codemirror_mode": {
    "name": "ipython",
    "version": 3
   },
   "file_extension": ".py",
   "mimetype": "text/x-python",
   "name": "python",
   "nbconvert_exporter": "python",
   "pygments_lexer": "ipython3",
   "version": "3.4.6"
  }
 },
 "nbformat": 4,
 "nbformat_minor": 2
}
