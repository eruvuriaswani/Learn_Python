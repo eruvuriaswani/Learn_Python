{
 "cells": [
  {
   "cell_type": "markdown",
   "metadata": {},
   "source": [
    "# 1. Working with xml : reading"
   ]
  },
  {
   "cell_type": "markdown",
   "metadata": {},
   "source": [
    "## 1.1 Introduction"
   ]
  },
  {
   "cell_type": "markdown",
   "metadata": {},
   "source": [
    "Extensible Markup Language (XML) is a simple, very flexible text format derived from SGML (ISO 8879). Originally designed to meet the challenges of large-scale electronic publishing, XML is also playing an increasingly important role in the exchange of a wide variety of data on the Web and elsewhere.\n",
    "\n",
    "It has been defined at https://www.w3.org/XML/. \n",
    "\n",
    "Several schema systems exist to aid in the definition of XML-based languages, while programmers have developed many application programming interfaces (APIs) to aid the processing of XML data."
   ]
  },
  {
   "cell_type": "markdown",
   "metadata": {},
   "source": [
    "![XML, source of our everyday](images/XML.SVG)"
   ]
  },
  {
   "cell_type": "markdown",
   "metadata": {},
   "source": [
    "## 1.2 Parsing XML with Python"
   ]
  },
  {
   "cell_type": "markdown",
   "metadata": {},
   "source": [
    "As for querying the web, Python has many libraries for playing with xml. You will most likely encounter the following during your Pythonic journey :\n",
    "\n",
    "- **lxml**, which we will use for this course. A clean, quite fast, strict library for dealing with xml resources. It's the most accepted library for this kind of request. If IBM writes [tutorials for it](http://www.ibm.com/developerworks/library/x-hiperfparse/), it should be good. It supports xpath and xslt.\n",
    "- **BeautifulSoup**. Flexible, average speed. The good thing is if your xml markup is messed up, it will try to correct it. It's perfect for dealing with web scrapped data in HTML formats. For clean xml, it might be too slow.\n",
    "- **xml** : the native integration in Python. Fast, clean but no good sides such as xpath and xslt.\n",
    "- Read about others on the Python [official wiki](https://wiki.python.org/moin/PythonXml)\n"
   ]
  },
  {
   "cell_type": "markdown",
   "metadata": {},
   "source": [
    "Based on my experience, lxml will meet most of your needs when dealing with clean data. Clean is the key word here : do not expect lxml to play well with bad html or bad xml. It will just throw errors at you until you give up or fix it by hand.\n",
    "\n",
    "We can import lxml.etree the same way we imported requests earlier."
   ]
  },
  {
   "cell_type": "code",
   "execution_count": 2,
   "metadata": {
    "collapsed": true
   },
   "outputs": [],
   "source": [
    "from lxml import etree"
   ]
  },
  {
   "cell_type": "markdown",
   "metadata": {},
   "source": [
    "## 1.3 From file to XML object"
   ]
  },
  {
   "cell_type": "markdown",
   "metadata": {},
   "source": [
    "Opening an xml file is actually quite simple : you open it and you parse it. Who would have guessed ?"
   ]
  },
  {
   "cell_type": "code",
   "execution_count": 3,
   "metadata": {},
   "outputs": [
    {
     "name": "stdout",
     "output_type": "stream",
     "text": [
      "<lxml.etree._ElementTree object at 0x0000028E3B5A76C8>\n"
     ]
    }
   ],
   "source": [
    "# We open our file\n",
    "with open(\"data/books.xml\") as file:\n",
    "    # We use the etree.parse property\n",
    "    parsed = etree.parse(file)\n",
    "# We print the object\n",
    "print(parsed)"
   ]
  },
  {
   "cell_type": "markdown",
   "metadata": {},
   "source": [
    "As you can see, we obtained an instance of type lxml.etree.\\_ElementTree. It means the xml markup has been transformed into something Python understands.\n",
    "\n",
    "The *parse* function of *etree* does not take many arguments. One way to customize its behaviour is to give it a home configured or homemade xml parser : "
   ]
  },
  {
   "cell_type": "code",
   "execution_count": 4,
   "metadata": {},
   "outputs": [
    {
     "name": "stdout",
     "output_type": "stream",
     "text": [
      "<lxml.etree._ElementTree object at 0x0000028E3B68DC48>\n"
     ]
    }
   ],
   "source": [
    "# We initiate a new parser from etree, asking it to remove nodes of text which are empty\n",
    "parser = etree.XMLParser(remove_blank_text=True)\n",
    "# We open the file\n",
    "with open(\"data/books.xml\") as file:\n",
    "    # And we parse using the new parser\n",
    "    parsed = etree.parse(file, parser)\n",
    "# We print the object\n",
    "print(parsed)\n",
    "# We open the file"
   ]
  },
  {
   "cell_type": "markdown",
   "metadata": {},
   "source": [
    "From the [documentation](http://lxml.de/parsing.html#parser-options) of the XMLParser function, here are some arguments that might be useful for you :\n",
    "\n",
    "- *attribute_defaults* : Use DTD (if available) to add the default attributes\n",
    "- *dtd_validation* : Validate against DTD while parsing\n",
    "- *load_dtd* : Load and parse the DTD while parsing\n",
    "- *ns_clean* : Clean up redundant namespace declarations\n",
    "- *recover* : Try to fix ill-formed xml\n",
    "- *remove_blank_text* : Removes blank text nodes\n",
    "- *resolve_entities* : Replace entities by their value (Default : on)\n",
    "\n",
    "You can then create a new parser according to its standards or clean namespace attribute. In this context, *ns_clean* would transform\n",
    "\n",
    "\n",
    "`<root xmlns:a=\"xmlns1\" xmlns:b=\"xmlns2\"><tag xmlns:c=\"xmlns3\" /><tag xmlns:a=\"xmlns1\" /><tag /></root>`\n",
    "\n",
    "into\n",
    "\n",
    "`<root xmlns:a=\"xmlns1\" xmlns:b=\"xmlns2\"><tag xmlns:c=\"xmlns3\" /><tag/><tag /></root>`"
   ]
  },
  {
   "cell_type": "markdown",
   "metadata": {},
   "source": [
    "### 1.3.1 From string to XML object"
   ]
  },
  {
   "cell_type": "markdown",
   "metadata": {},
   "source": [
    "lxml parses strings in the same way that it parses files. The syntax differs, but is quite simple :"
   ]
  },
  {
   "cell_type": "code",
   "execution_count": 5,
   "metadata": {},
   "outputs": [
    {
     "name": "stdout",
     "output_type": "stream",
     "text": [
      "<Element root at 0x28e3b6aed88>\n"
     ]
    }
   ],
   "source": [
    "xml = '<root xmlns:a=\"xmlns1\" xmlns:b=\"xmlns2\"><tag xmlns:c=\"xmlns3\" /><tag xmlns:a=\"xmlns1\" /><tag /></root>'\n",
    "parsed = etree.fromstring(xml)\n",
    "print(parsed)"
   ]
  },
  {
   "cell_type": "markdown",
   "metadata": {},
   "source": [
    "**DIY**\n",
    "\n",
    "Can you parse a xml document made of one tag \"humanities\" with two children \"field\" named \"classics\" and \"history\"? "
   ]
  },
  {
   "cell_type": "code",
   "execution_count": 8,
   "metadata": {
    "collapsed": true
   },
   "outputs": [],
   "source": [
    "# Put your code here"
   ]
  },
  {
   "cell_type": "markdown",
   "metadata": {},
   "source": [
    "### 1.3.2 Errors and understanding them"
   ]
  },
  {
   "cell_type": "markdown",
   "metadata": {},
   "source": [
    "Previouly, we have said that lxml was quite strict about xml validity. Let's see an example :"
   ]
  },
  {
   "cell_type": "code",
   "execution_count": 6,
   "metadata": {},
   "outputs": [
    {
     "data": {
      "text/plain": [
       "<Element fileDesc at 0x28e3b6aea88>"
      ]
     },
     "execution_count": 6,
     "metadata": {},
     "output_type": "execute_result"
    }
   ],
   "source": [
    "xml = \"\"\"\n",
    "<fileDesc>\n",
    "    <titleStmt>\n",
    "        <title>Aeneid</title>\n",
    "        <title type=\"sub\">Machine readable text</title>\n",
    "        <author n=\"Verg.\">P. Vergilius Maro</author>\n",
    "        <editor role=\"editor\" n=\"Greenough\">J. B. Greenough</editor>\n",
    "    </titleStmt>\n",
    "    <extent>about 505Kb</extent>\n",
    "    <!-- &Perseus.publish;-->\n",
    "    <sourceDesc>\n",
    "        <biblStruct>\n",
    "            <monogr>\n",
    "                <author>Vergil</author>\n",
    "                <title>Bucolics, Aeneid, and Georgics Of Vergil</title>\n",
    "                <editor role=\"editor\">J. B. Greenough</editor>\n",
    "                <imprint>\n",
    "                    <pubPlace>Boston</pubPlace>\n",
    "                    <publisher>Ginn &amp; Co.</publisher>\n",
    "                    <date>1900</date>\n",
    "                </imprint>\n",
    "            </monogr>\n",
    "        </biblStruct>\n",
    "    </sourceDesc>\n",
    "</fileDesc>\"\"\"\n",
    "\n",
    "etree.fromstring(xml)"
   ]
  },
  {
   "cell_type": "markdown",
   "metadata": {},
   "source": [
    "What error did we raise trying to parse this XML ? We got an *XMLSyntaxError*. It can happen for various reasons, including when entities cannot be parsed. Can you try to find another way to raise an XMLSyntaxError ?"
   ]
  },
  {
   "cell_type": "code",
   "execution_count": 14,
   "metadata": {},
   "outputs": [
    {
     "data": {
      "text/plain": [
       "<Element start at 0x28af480e988>"
      ]
     },
     "execution_count": 14,
     "metadata": {},
     "output_type": "execute_result"
    }
   ],
   "source": [
    "#Write your xml in xml variable\n",
    "# invalid\n",
    "xml = \"\"\"\n",
    "\"\"\"\n",
    "# \n",
    "xml2 = \"\"\"\n",
    "<start>this is a text</start>\n",
    "\"\"\"\n",
    "#\n",
    "xml3 = \"\"\"\n",
    "<start attr=\"test\"/>\n",
    "\"\"\"\n",
    "etree.fromstring(xml3)"
   ]
  },
  {
   "cell_type": "markdown",
   "metadata": {},
   "source": [
    "As you can see, errors are detailed enough so you can correct your own XML, at least manually."
   ]
  },
  {
   "cell_type": "markdown",
   "metadata": {},
   "source": [
    "### 1.3.3 Node properties and methods"
   ]
  },
  {
   "cell_type": "markdown",
   "metadata": {},
   "source": [
    "*Quick explanation* : Methods and properties are something special in Python and other programming languages. Unlike traditional functions (`len()`) and keys of dictionaries (`a[\"b\"]`), they are part of something bigger.\n",
    "\n",
    "**Methods** : Ever seen something such as `a.method()` ? Yes, you did with `.split()`, `.join()`, etc. Functions following a variable with a dot are called methods because they are an extension of the variable type. *eh* `split()` and `join()` are extensions of string objects, and they use their value as argument.\n",
    "\n",
    "**Properties or Attributes** : Such as dictionary keys, properties are indexed values of an object, but instead of using the syntax made of square brackets, you just put the name of the key after a dot : `a.property`"
   ]
  },
  {
   "cell_type": "markdown",
   "metadata": {},
   "source": [
    "**Warning : namespaces** : In lxml, namespaces are expressed using the Clark notation. This mean that, if a namespace defines a node, this node will be named using the following syntax \"`{namespace}tagname`. Here is an example :"
   ]
  },
  {
   "cell_type": "code",
   "execution_count": 7,
   "metadata": {},
   "outputs": [
    {
     "name": "stdout",
     "output_type": "stream",
     "text": [
      "<Element root at 0x28e3b6b4848>\n",
      "<Element {http://localhost}root at 0x28e3b6b4848>\n"
     ]
    }
   ],
   "source": [
    "# With no namespace\n",
    "print(etree.fromstring(\"<root />\"))\n",
    "# With namespace\n",
    "print(etree.fromstring(\"<root xmlns='http://localhost' />\"))"
   ]
  },
  {
   "cell_type": "markdown",
   "metadata": {},
   "source": [
    "You can do plenty of things using lxml and access properties or methods of nodes, here is an overview of reading functionalities offered by lxml :"
   ]
  },
  {
   "cell_type": "markdown",
   "metadata": {},
   "source": [
    "![Cheatsheet](images/CheatsheetElement.svg)"
   ]
  },
  {
   "cell_type": "markdown",
   "metadata": {},
   "source": [
    "Let's see what that means in real life :"
   ]
  },
  {
   "cell_type": "code",
   "execution_count": 10,
   "metadata": {},
   "outputs": [
    {
     "name": "stdout",
     "output_type": "stream",
     "text": [
      "<Element root at 0x28e3b6aed88>\n"
     ]
    }
   ],
   "source": [
    "# First, we will need some xml\n",
    "xml = \"\"\"\n",
    "<div type=\"Book\" n=\"1\">\n",
    "    <l n=\"1\">Arma virumque cano, Troiae qui primus ab oris</l>\n",
    "    <tei:l n=\"2\" xmlns:tei=\"http://www.tei-c.org/ns/1.0\">Italiam, fato profugus, Laviniaque venit</tei:l>\n",
    "    <l n=\"3\">litora, multum ille et terris iactatus et alto</l>\n",
    "    <l n=\"4\">vi superum saevae memorem Iunonis ob iram;</l>\n",
    "    <l n=\"5\">multa quoque et bello passus, dum conderet urbem,</l>\n",
    "    <l n=\"6\">inferretque deos Latio, genus unde Latinum,</l>\n",
    "    <l n=\"7\">Albanique patres, atque altae moenia Romae.</l>\n",
    "</div>\n",
    "\"\"\"\n",
    "div = etree.fromstring(xml)\n",
    "print(parsed)"
   ]
  },
  {
   "cell_type": "markdown",
   "metadata": {},
   "source": [
    "If we want to retrieve the attributes of our div, we can do as follow :"
   ]
  },
  {
   "cell_type": "code",
   "execution_count": 12,
   "metadata": {},
   "outputs": [
    {
     "name": "stdout",
     "output_type": "stream",
     "text": [
      "Book\n",
      "1\n",
      "{'type': 'Book', 'n': '1'}\n",
      "{'type': 'Book', 'n': '1'}\n",
      "[('type', 'Book'), ('n', '1')]\n"
     ]
    }
   ],
   "source": [
    "type_div = div.get(\"type\")\n",
    "print(type_div)\n",
    "print(div.get(\"n\"))\n",
    "\n",
    "# If we want a dictionary of attributes\n",
    "print(div.attrib)\n",
    "attributes_div = dict(div.attrib)\n",
    "print(attributes_div)\n",
    "# Of if we want a list\n",
    "list_attributes_div = div.items()\n",
    "print(list_attributes_div)"
   ]
  },
  {
   "cell_type": "markdown",
   "metadata": {},
   "source": [
    "Great ! We accessed our first information using lxml ! Now, how about getting somewhere other than the root tag ? To do so, there are two ways :\n",
    "\n",
    "- getchildren() will returns a list of children tags, such as div.\n",
    "- list(div) will transform div in a list of children.\n",
    "\n",
    "Both syntaxes return the same results, so it's up to you to decide which one you prefer. "
   ]
  },
  {
   "cell_type": "code",
   "execution_count": 13,
   "metadata": {},
   "outputs": [
    {
     "name": "stdout",
     "output_type": "stream",
     "text": [
      "[<Element l at 0x28e3b6b24c8>, <Element {http://www.tei-c.org/ns/1.0}l at 0x28e3b6b2348>, <Element l at 0x28e3b6b2548>, <Element l at 0x28e3b6b2588>, <Element l at 0x28e3b6b2608>, <Element l at 0x28e3b6b2688>, <Element l at 0x28e3b6b26c8>]\n",
      "<Element l at 0x28e3b6b24c8>\n"
     ]
    }
   ],
   "source": [
    "children = div.getchildren()\n",
    "print(children)\n",
    "line_1 = children[0] # Because it's a list we can access children through index\n",
    "print(line_1)"
   ]
  },
  {
   "cell_type": "markdown",
   "metadata": {},
   "source": [
    "Now that we have access to our children, we can have access to their text :"
   ]
  },
  {
   "cell_type": "code",
   "execution_count": 14,
   "metadata": {},
   "outputs": [
    {
     "name": "stdout",
     "output_type": "stream",
     "text": [
      "Arma virumque cano, Troiae qui primus ab oris\n"
     ]
    }
   ],
   "source": [
    "print(line_1.text)"
   ]
  },
  {
   "cell_type": "markdown",
   "metadata": {},
   "source": [
    "Ok, we are now able to get some stuff done. Remember the namespace naming ? Sometimes it's useful to retrieve namespaces and their prefix :"
   ]
  },
  {
   "cell_type": "code",
   "execution_count": 16,
   "metadata": {},
   "outputs": [
    {
     "name": "stdout",
     "output_type": "stream",
     "text": [
      "{'tei': 'http://www.tei-c.org/ns/1.0'}\n",
      "tei\n",
      "{http://www.tei-c.org/ns/1.0}l\n"
     ]
    }
   ],
   "source": [
    "#   <tei:l n=\"2\" xmlns:tei=\"http://www.tei-c.org/ns/1.0\">Italiam, fato profugus, Laviniaque venit</tei:l>\n",
    "line_2 = children[1]\n",
    "print(line_2.nsmap)\n",
    "print(line_2.prefix)\n",
    "print(line_2.tag)"
   ]
  },
  {
   "cell_type": "markdown",
   "metadata": {},
   "source": [
    "**What you've learned** :\n",
    "\n",
    "- How to parse a xml file or a string representing xml through `etree.parse()` and `etree.fromstring()`\n",
    "- How to configure the way xml is parsed with `etree.XMLParser()`\n",
    "- What is an attribute and a method\n",
    "- Properties and methods of a node\n",
    "- XMLParseError handling\n",
    "- Clark's notation for namespaces and tags.\n",
    "\n",
    "----"
   ]
  },
  {
   "cell_type": "markdown",
   "metadata": {},
   "source": [
    "## 1.4 \\. XPath and XSLT with lxml"
   ]
  },
  {
   "cell_type": "markdown",
   "metadata": {},
   "source": [
    "---"
   ]
  },
  {
   "cell_type": "markdown",
   "metadata": {},
   "source": [
    "### 1.4.1 XPath"
   ]
  },
  {
   "cell_type": "markdown",
   "metadata": {},
   "source": [
    "XPath is a powerful tool for traversing an xml tree. XML is made of nodes such as tags, comments, texts. These nodes have attributes that can be used to identify them. For example, with the following xml :\n",
    "\n",
    "> `<div><l n=\"1\"><p>Text</p> followed</l><l n=\"2\">by line two</div>`\n",
    "\n",
    "the node p will be accessible by `/div/l[@n=\"1\"]/p`. LXML has great support for complex XPath, which makes it the best friend of Humanists dealing with xml :"
   ]
  },
  {
   "cell_type": "code",
   "execution_count": 23,
   "metadata": {},
   "outputs": [
    {
     "name": "stdout",
     "output_type": "stream",
     "text": [
      "<Element div at 0x28e3b6aed48>\n",
      "--------------------\n",
      "<Element l at 0x28e3b68dc88>\n",
      "<Element l at 0x28e3b6ae408>\n",
      "--------------------\n",
      "['1', '2']\n",
      "False\n"
     ]
    }
   ],
   "source": [
    "# We generate some xml and parse it\n",
    "\n",
    "## TODO \n",
    "xml = \"\"\"<div>\n",
    "            <l n=\"1\">\n",
    "                <p>Text</p> \n",
    "                <p>new p</p>\n",
    "                followed\n",
    "                <test>\n",
    "                    <p>p3</p>\n",
    "                </test>\n",
    "            </l>\n",
    "            <l n=\"2\">\n",
    "                by line two\n",
    "            </l>\n",
    "            <p>test</p>\n",
    "            <p><l n=\"3\"> line 3</l></p>\n",
    "        </div>\"\"\"\n",
    "div = etree.fromstring(xml)\n",
    "print(div)\n",
    "# When doing an xpath, the results will be a list\n",
    "print(\"-\"*20)\n",
    "ps = div.xpath(\"/div/l\")\n",
    "for p in ps:\n",
    "    print(p)\n",
    "print(\"-\"*20)\n",
    "# print(ps)\n",
    "print([value.values()[0] for value in ps])\n",
    "print(ps[0].text == \"Text\")"
   ]
  },
  {
   "cell_type": "markdown",
   "metadata": {},
   "source": [
    "As you can see, the xpath returns a list. This behaviour is intended, since an xpath can retrieve more than one item :"
   ]
  },
  {
   "cell_type": "code",
   "execution_count": 32,
   "metadata": {},
   "outputs": [
    {
     "name": "stdout",
     "output_type": "stream",
     "text": [
      "[<Element l at 0x28af4804808>, <Element l at 0x28af4843608>, <Element l at 0x28af48434c8>]\n"
     ]
    }
   ],
   "source": [
    "print(div.xpath(\"//l\"))"
   ]
  },
  {
   "cell_type": "markdown",
   "metadata": {},
   "source": [
    "You see ? The xpath `//l` returns two elements, just like python does in a list. Now, let's apply some xpath to the children and see what happens :"
   ]
  },
  {
   "cell_type": "code",
   "execution_count": 24,
   "metadata": {},
   "outputs": [
    {
     "name": "stdout",
     "output_type": "stream",
     "text": [
      "1\n",
      "[<Element p at 0x28e3b6ae948>, <Element p at 0x28e3b68dec8>]\n",
      "[<Element p at 0x28e3b6ae948>, <Element p at 0x28e3b68dec8>]\n",
      "[<Element p at 0x28e3b6ae948>, <Element p at 0x28e3b68dec8>, <Element p at 0x28e3b6b2f48>]\n",
      "[<Element p at 0x28e3b6ae948>, <Element p at 0x28e3b68dec8>, <Element p at 0x28e3b6b2f48>, <Element p at 0x28e3b6b2d48>, <Element p at 0x28e3b6b21c8>]\n"
     ]
    }
   ],
   "source": [
    "# We assign our first line to a variable\n",
    "line_1 = div.xpath(\"//l\")[0]\n",
    "#print(dir(line_1))\n",
    "print(line_1.attrib['n'])\n",
    "\n",
    "# We look for p\n",
    "print(line_1.xpath(\"p\")) # This works\n",
    "print(line_1.xpath(\"./p\")) # This works too\n",
    "\n",
    "print(line_1.xpath(\".//p\")) # This still works \n",
    "\n",
    "print(line_1.xpath(\"//p\")) # entire doc\n"
   ]
  },
  {
   "cell_type": "markdown",
   "metadata": {},
   "source": [
    "As you can see, you can do xpath from any node in lxml. One important thing though : xpath `//tagname` *will return to the root* if you do not add a dot in front of it such as **`.`**`//tagname`. This is really important to remember, because most xpath resolvers do not behave this way."
   ]
  },
  {
   "cell_type": "markdown",
   "metadata": {},
   "source": [
    "Another point to kepe in mind : if you write your xpath incorrectly, Python will raise an *XPathEvalError * error"
   ]
  },
  {
   "cell_type": "code",
   "execution_count": 22,
   "metadata": {},
   "outputs": [
    {
     "ename": "NameError",
     "evalue": "name 'root' is not defined",
     "output_type": "error",
     "traceback": [
      "\u001b[1;31m---------------------------------------------------------------------------\u001b[0m",
      "\u001b[1;31mNameError\u001b[0m                                 Traceback (most recent call last)",
      "\u001b[1;32m<ipython-input-22-71f4dbcd4ccf>\u001b[0m in \u001b[0;36m<module>\u001b[1;34m()\u001b[0m\n\u001b[1;32m----> 1\u001b[1;33m \u001b[0mroot\u001b[0m\u001b[1;33m.\u001b[0m\u001b[0mxpath\u001b[0m\u001b[1;33m(\u001b[0m\u001b[1;34m\"wrong:xpath:never:works\"\u001b[0m\u001b[1;33m)\u001b[0m\u001b[1;33m\u001b[0m\u001b[0m\n\u001b[0m",
      "\u001b[1;31mNameError\u001b[0m: name 'root' is not defined"
     ]
    }
   ],
   "source": [
    "root.xpath(\"wrong:xpath:never:works\")"
   ]
  },
  {
   "cell_type": "markdown",
   "metadata": {},
   "source": [
    "**Xpath with namespaces and prefix**\n",
    "\n",
    "As you've seen, lxml use Clark's naming convention for expressing namespaces. This is extremely important regarding xpath, because you will be able to retrieve a node using it under certain conditions :"
   ]
  },
  {
   "cell_type": "code",
   "execution_count": 53,
   "metadata": {},
   "outputs": [
    {
     "name": "stdout",
     "output_type": "stream",
     "text": [
      "['Text', 'Other text', 'Other text']\n"
     ]
    }
   ],
   "source": [
    "# We create a valid xml object\n",
    "xml = \"\"\"<root>\n",
    "<tag xmlns=\"http://localhost\">Text</tag>\n",
    "<tei:tag xmlns:tei=\"http://www.tei-c.org/ns/1.0\">Other text</tei:tag>\n",
    "<teiTwo:tag xmlns:teiTwo=\"http://www.tei-c.org/ns/2.0\">Other text</teiTwo:tag>\n",
    "</root>\"\"\"\n",
    "root = etree.fromstring(xml)\n",
    "# We register every namespaces in a dictionary using prefix as keys :\n",
    "ns = {\n",
    "    \"local\" : \"http://localhost\", # Even if this namespace had no prefix, we can register one for it\n",
    "    \"tei\" : \"http://www.tei-c.org/ns/1.0\",\n",
    "    \"two\": \"http://www.tei-c.org/ns/2.0\"\n",
    "}\n",
    "\n",
    "print([d.text for namespace in ns \n",
    "       for d in root.xpath(\"//{namespace}:tag\".format(namespace=namespace), \n",
    "                           namespaces=ns) ])"
   ]
  },
  {
   "cell_type": "markdown",
   "metadata": {},
   "source": [
    "**What you have learned** :\n",
    "\n",
    "- Each node and xml document has an `.xpath()` method which takes as its first parameter xpath\n",
    "- Method `xpath()` always returns a list, even for a single result\n",
    "- Method `xpath()` will return to the root when you don't prefix your `//` with a dot.\n",
    "- An incorrect XPath will issue a `XPathEvalError`\n",
    "- Method `xpath()` accepts a `namespaces` argument : you should enter a dictionary where keys are prefixes and values namespaces\n",
    "- Unlike `findall()`, `xpath()` does not accept Clark's notation"
   ]
  },
  {
   "cell_type": "markdown",
   "metadata": {},
   "source": [
    "### 1.4.2 XSLT"
   ]
  },
  {
   "cell_type": "markdown",
   "metadata": {},
   "source": [
    "XSLT stands for *Extensible Stylesheet Language Transformations*. It's an xml-based language made for transforming xml documents to xml or other formats such as LaTeX and HTML. XSLT is really powerful when dealing with similarly formated data. It's far easier to transform 100 documents with the exact same structure via XSLT than in Python or any other language.\n",
    "\n",
    "While Python is great at dealing with weird transformations of xml, the presence of XSLT in Python allows you to create production chains without leaving your favorite IDE.\n",
    "\n",
    "To do some XSL, lxml needs two things : first, an xml document representing the xsl that will be parsed and entered into the function `etree.XSLT()`, and second, a document to transform."
   ]
  },
  {
   "cell_type": "code",
   "execution_count": 27,
   "metadata": {},
   "outputs": [
    {
     "name": "stdout",
     "output_type": "stream",
     "text": [
      "<?xml version=\"1.0\"?>\n",
      "<fields>\n",
      "    <name>History</name>\n",
      "    <name>Classics</name>\n",
      "    <name>French</name>\n",
      "    <name>German</name>\n",
      "</fields>\n",
      "\n"
     ]
    }
   ],
   "source": [
    "# Here is an xml containing an xsl: for each text node of an xml file in the xpath /humanities/field,\n",
    "#     this will return a node <name> with the text inside\n",
    "xslt_root = etree.fromstring(\"\"\"\n",
    "<xsl:stylesheet version=\"1.0\" xmlns:xsl=\"http://www.w3.org/1999/XSL/Transform\">\n",
    "    <xsl:template match=\"/\">\n",
    "        <fields><xsl:apply-templates /></fields>\n",
    "    </xsl:template>\n",
    "    <xsl:template match=\"/humanities/field\">\n",
    "        <name><xsl:value-of select=\"./text()\" /></name>\n",
    "    </xsl:template>\n",
    "</xsl:stylesheet>\"\"\")\n",
    "# We transform our document to an xsl \n",
    "xslt = etree.XSLT(xslt_root)\n",
    "\n",
    "# We create some xml we need to change \n",
    "xml = \"\"\"<humanities>\n",
    "    <field>History</field>\n",
    "    <field>Classics</field>\n",
    "    <field>French</field>\n",
    "    <field>German</field>\n",
    "</humanities>\"\"\"\n",
    "parsed_xml = etree.fromstring(xml)\n",
    "# And now we process our xml :\n",
    "transformed = xslt(parsed_xml)\n",
    "print(transformed)"
   ]
  },
  {
   "cell_type": "markdown",
   "metadata": {},
   "source": [
    "Did you see what happened ? We used `xslt(xml)`. `etree.XSLT()` transforms a xsl document into a function, which then takes one parameter (in this case an xml document). But can you figure out what this returns ? Let's ask Python :"
   ]
  },
  {
   "cell_type": "code",
   "execution_count": 28,
   "metadata": {},
   "outputs": [
    {
     "name": "stdout",
     "output_type": "stream",
     "text": [
      "<class 'lxml.etree._XSLTResultTree'>\n",
      "<class 'lxml.etree._Element'>\n"
     ]
    }
   ],
   "source": [
    "print(type(transformed))\n",
    "print(type(parsed_xml))"
   ]
  },
  {
   "cell_type": "markdown",
   "metadata": {},
   "source": [
    "The result is not of the same type of element we usually have, even though it does share most of its methods and attributes :"
   ]
  },
  {
   "cell_type": "code",
   "execution_count": 29,
   "metadata": {},
   "outputs": [
    {
     "name": "stdout",
     "output_type": "stream",
     "text": [
      "[<Element name at 0x262a25c9688>, <Element name at 0x262a25bdfc8>, <Element name at 0x262a25bddc8>, <Element name at 0x262a25bde88>]\n"
     ]
    }
   ],
   "source": [
    "print(transformed.xpath(\"//name\"))"
   ]
  },
  {
   "cell_type": "markdown",
   "metadata": {},
   "source": [
    "And has something more : you can change its type to string !"
   ]
  },
  {
   "cell_type": "code",
   "execution_count": 30,
   "metadata": {},
   "outputs": [
    {
     "name": "stdout",
     "output_type": "stream",
     "text": [
      "<?xml version=\"1.0\"?>\n",
      "<fields>\n",
      "    <name>History</name>\n",
      "    <name>Classics</name>\n",
      "    <name>French</name>\n",
      "    <name>German</name>\n",
      "</fields>\n",
      "\n"
     ]
    }
   ],
   "source": [
    "string_result = str(transformed)\n",
    "print(string_result)"
   ]
  },
  {
   "cell_type": "markdown",
   "metadata": {},
   "source": [
    "XSLT is more complex than just inputing xml. You can do XSLT using parameters as well. In this case, your parameters will be accessibles as a named argument to the generated function. If your XSL has a `name` xsl-param, the function given back by `etree.XSLT` will have a `name` argument :"
   ]
  },
  {
   "cell_type": "code",
   "execution_count": 31,
   "metadata": {},
   "outputs": [
    {
     "name": "stdout",
     "output_type": "stream",
     "text": [
      "<?xml version=\"1.0\"?>\n",
      "<fields n=\"Humanities\"><name>History</name><name>Classics</name><name>French</name><name>German</name></fields>\n",
      "\n",
      "<?xml version=\"1.0\"?>\n",
      "<fields n=\"Humanities\"><name>History</name><name>Classics</name><name>French</name><name>German</name></fields>\n",
      "\n"
     ]
    }
   ],
   "source": [
    "# Here is an xml containing an xsl: for each text node of an xml file in the xpath /humanities/field,\n",
    "#     this will return a node <name> with the text inside\n",
    "xslt_root = etree.fromstring(\"\"\"\n",
    "<xsl:stylesheet version=\"1.0\" xmlns:xsl=\"http://www.w3.org/1999/XSL/Transform\">\n",
    "    <xsl:param name=\"n\" />\n",
    "    <xsl:template match=\"/humanities\">\n",
    "        <fields>\n",
    "            <xsl:attribute name=\"n\">\n",
    "                <xsl:value-of select=\"$n\"/>\n",
    "            </xsl:attribute>\n",
    "            <xsl:apply-templates select=\"field\"/>\n",
    "        </fields>\n",
    "    </xsl:template>\n",
    "    <xsl:template match=\"/humanities/field\">\n",
    "        <name><xsl:value-of select=\"./text()\" /></name>\n",
    "    </xsl:template>\n",
    "</xsl:stylesheet>\"\"\")\n",
    "# We transform our document to an xsl \n",
    "xslt = etree.XSLT(xslt_root)\n",
    "\n",
    "# We create some xml we need to change \n",
    "xml = \"\"\"<humanities>\n",
    "    <category>Humanities</category>\n",
    "    <field>History</field>\n",
    "    <field>Classics</field>\n",
    "    <field>French</field>\n",
    "    <field>German</field>\n",
    "</humanities>\"\"\"\n",
    "parsed_xml = etree.fromstring(xml)\n",
    "# And now we process our xml :\n",
    "transformed = xslt(parsed_xml, n=\"'Humanities'\") # Note that for a string, we encapsulate it within single quotes\n",
    "print(transformed)\n",
    "\n",
    "# Be aware that you can use xpath as a value for the argument, though it can be rather complex sometimes\n",
    "transformed = xslt(parsed_xml, n=etree.XPath(\"//category/text()\"))\n",
    "print(transformed)"
   ]
  },
  {
   "cell_type": "markdown",
   "metadata": {},
   "source": [
    "# 2. Using ElementTree"
   ]
  },
  {
   "cell_type": "markdown",
   "metadata": {},
   "source": [
    "----"
   ]
  },
  {
   "cell_type": "code",
   "execution_count": 25,
   "metadata": {},
   "outputs": [
    {
     "name": "stdout",
     "output_type": "stream",
     "text": [
      "<xml.etree.ElementTree.ElementTree object at 0x0000028E3B6CD0B8>\n"
     ]
    }
   ],
   "source": [
    "from xml.etree import ElementTree\n",
    "\n",
    "with open('data/books.xml', 'rt') as f:\n",
    "    tree = ElementTree.parse(f)\n",
    "\n",
    "print(tree)"
   ]
  },
  {
   "cell_type": "markdown",
   "metadata": {},
   "source": [
    "## 2.1 Traversing the Parsed Tree"
   ]
  },
  {
   "cell_type": "markdown",
   "metadata": {},
   "source": [
    "To visit all of the children in order, use iter() to create a generator that iterates over the ElementTree instance."
   ]
  },
  {
   "cell_type": "code",
   "execution_count": 31,
   "metadata": {},
   "outputs": [
    {
     "name": "stdout",
     "output_type": "stream",
     "text": [
      "<class 'xml.etree.ElementTree.ElementTree'>\n",
      "catalog {}\n",
      "-----\n",
      "book {'id': 'bk101'}\n",
      "-----\n",
      "author {}\n",
      "-----\n",
      "title {}\n",
      "-----\n",
      "genre {}\n",
      "-----\n",
      "book {'part': '2'}\n",
      "-----\n",
      "price {}\n",
      "-----\n",
      "publish_date {}\n",
      "-----\n",
      "description {}\n",
      "-----\n",
      "book {'id': 'bk102'}\n",
      "-----\n",
      "author {}\n",
      "-----\n",
      "title {}\n",
      "-----\n",
      "genre {}\n",
      "-----\n",
      "price {}\n",
      "-----\n",
      "publish_date {}\n",
      "-----\n",
      "description {}\n",
      "-----\n",
      "book {'id': 'bk103'}\n",
      "-----\n",
      "author {}\n",
      "-----\n",
      "title {}\n",
      "-----\n",
      "genre {}\n",
      "-----\n",
      "price {}\n",
      "-----\n",
      "publish_date {}\n",
      "-----\n",
      "description {}\n",
      "-----\n",
      "book {'id': 'bk104'}\n",
      "-----\n",
      "author {}\n",
      "-----\n",
      "title {}\n",
      "-----\n",
      "genre {}\n",
      "-----\n",
      "price {}\n",
      "-----\n",
      "publish_date {}\n",
      "-----\n",
      "description {}\n",
      "-----\n",
      "book {'id': 'bk105'}\n",
      "-----\n",
      "author {}\n",
      "-----\n",
      "title {}\n",
      "-----\n",
      "genre {}\n",
      "-----\n",
      "price {}\n",
      "-----\n",
      "publish_date {}\n",
      "-----\n",
      "description {}\n",
      "-----\n",
      "book {'id': 'bk106'}\n",
      "-----\n",
      "author {}\n",
      "-----\n",
      "title {}\n",
      "-----\n",
      "genre {}\n",
      "-----\n",
      "price {}\n",
      "-----\n",
      "publish_date {}\n",
      "-----\n",
      "description {}\n",
      "-----\n",
      "book {'id': 'bk107'}\n",
      "-----\n",
      "author {}\n",
      "-----\n",
      "title {}\n",
      "-----\n",
      "genre {}\n",
      "-----\n",
      "price {}\n",
      "-----\n",
      "publish_date {}\n",
      "-----\n",
      "description {}\n",
      "-----\n",
      "book {'id': 'bk108'}\n",
      "-----\n",
      "author {}\n",
      "-----\n",
      "title {}\n",
      "-----\n",
      "genre {}\n",
      "-----\n",
      "price {}\n",
      "-----\n",
      "publish_date {}\n",
      "-----\n",
      "description {}\n",
      "-----\n",
      "book {'id': 'bk109'}\n",
      "-----\n",
      "author {}\n",
      "-----\n",
      "title {}\n",
      "-----\n",
      "genre {}\n",
      "-----\n",
      "price {}\n",
      "-----\n",
      "publish_date {}\n",
      "-----\n",
      "description {}\n",
      "-----\n",
      "book {'id': 'bk110'}\n",
      "-----\n",
      "author {}\n",
      "-----\n",
      "title {}\n",
      "-----\n",
      "genre {}\n",
      "-----\n",
      "price {}\n",
      "-----\n",
      "publish_date {}\n",
      "-----\n",
      "description {}\n",
      "-----\n",
      "book {'id': 'bk111'}\n",
      "-----\n",
      "author {}\n",
      "-----\n",
      "title {}\n",
      "-----\n",
      "genre {}\n",
      "-----\n",
      "price {}\n",
      "-----\n",
      "publish_date {}\n",
      "-----\n",
      "description {}\n",
      "-----\n",
      "book {'id': 'bk112'}\n",
      "-----\n",
      "author {}\n",
      "-----\n",
      "title {}\n",
      "-----\n",
      "genre {}\n",
      "-----\n",
      "price {}\n",
      "-----\n",
      "publish_date {}\n",
      "-----\n",
      "description {}\n",
      "-----\n"
     ]
    }
   ],
   "source": [
    "from xml.etree import ElementTree\n",
    "\n",
    "with open('data/books.xml', 'r') as f:\n",
    "    tree = ElementTree.parse(f)\n",
    "\n",
    "# print(dir(tree))\n",
    "\n",
    "for node in tree.iter():\n",
    "    print (node.tag, node.attrib)\n",
    "    print(\"-----\")"
   ]
  },
  {
   "cell_type": "code",
   "execution_count": 29,
   "metadata": {},
   "outputs": [
    {
     "ename": "TypeError",
     "evalue": "'ElementTree' object is not iterable",
     "output_type": "error",
     "traceback": [
      "\u001b[1;31m---------------------------------------------------------------------------\u001b[0m",
      "\u001b[1;31mTypeError\u001b[0m                                 Traceback (most recent call last)",
      "\u001b[1;32m<ipython-input-29-cc71414d1244>\u001b[0m in \u001b[0;36m<module>\u001b[1;34m()\u001b[0m\n\u001b[0;32m      6\u001b[0m \u001b[1;31m# print(dir(tree))\u001b[0m\u001b[1;33m\u001b[0m\u001b[1;33m\u001b[0m\u001b[0m\n\u001b[0;32m      7\u001b[0m \u001b[1;33m\u001b[0m\u001b[0m\n\u001b[1;32m----> 8\u001b[1;33m \u001b[1;32mfor\u001b[0m \u001b[0mnode\u001b[0m \u001b[1;32min\u001b[0m \u001b[0mtree\u001b[0m\u001b[1;33m:\u001b[0m\u001b[1;33m\u001b[0m\u001b[0m\n\u001b[0m\u001b[0;32m      9\u001b[0m     \u001b[0mprint\u001b[0m \u001b[1;33m(\u001b[0m\u001b[0mnode\u001b[0m\u001b[1;33m.\u001b[0m\u001b[0mtag\u001b[0m\u001b[1;33m,\u001b[0m \u001b[0mnode\u001b[0m\u001b[1;33m.\u001b[0m\u001b[0mattrib\u001b[0m\u001b[1;33m)\u001b[0m\u001b[1;33m\u001b[0m\u001b[0m\n\u001b[0;32m     10\u001b[0m     \u001b[0mprint\u001b[0m\u001b[1;33m(\u001b[0m\u001b[1;34m\"-----\"\u001b[0m\u001b[1;33m)\u001b[0m\u001b[1;33m\u001b[0m\u001b[0m\n",
      "\u001b[1;31mTypeError\u001b[0m: 'ElementTree' object is not iterable"
     ]
    }
   ],
   "source": [
    "# from xml.etree import ElementTree\n",
    "\n",
    "# with open('data/books.xml', 'r') as f:\n",
    "#     tree = ElementTree.parse(f)\n",
    "\n",
    "# # print(dir(tree))\n",
    "\n",
    "# for node in tree.iter():\n",
    "#     print (node.tag, node.attrib)\n",
    "#     print(\"-----\")"
   ]
  },
  {
   "cell_type": "code",
   "execution_count": 33,
   "metadata": {},
   "outputs": [
    {
     "name": "stdout",
     "output_type": "stream",
     "text": [
      "18\n",
      "Science and Tech\n",
      "\tAPM: Future Tense :: http://www.publicradio.org/columns/futuretense/podcast.xml\n",
      "\tEngines Of Our Ingenuity Podcast :: http://www.npr.org/rss/podcast.php?id=510030\n",
      "\tScience & the City :: http://www.nyas.org/Podcasts/Atom.axd\n",
      "Books and Fiction\n",
      "\tPodiobooker :: http://feeds.feedburner.com/podiobooks\n",
      "\tThe Drabblecast :: http://web.me.com/normsherman/Site/Podcast/rss.xml\n",
      "\ttor.com / category / tordotstories :: http://www.tor.com/rss/category/TorDotStories\n",
      "Computers and Programming\n",
      "\tMacBreak Weekly :: http://leo.am/podcasts/mbw\n",
      "\tFLOSS Weekly :: http://leo.am/podcasts/floss\n",
      "\tCore Intuition :: http://www.coreint.org/podcast.xml\n",
      "Python\n",
      "\tPyCon Podcast :: http://advocacy.python.org/podcasts/pycon.rss\n",
      "\tA Little Bit of Python :: http://advocacy.python.org/podcasts/littlebit.rss\n",
      "\tDjango Dose Everything Feed :: http://djangodose.com/everything/feed/\n",
      "Miscelaneous\n",
      "\tdhellmann's CastSampler Feed :: http://www.castsampler.com/cast/feed/rss/dhellmann/\n"
     ]
    }
   ],
   "source": [
    "### To print only the groups of names and feed URLs for the podcasts, \n",
    "# leaving out of all of the data in the header section by iterating \n",
    "# over only the outline nodes and print the text and xmlUrl attributes.\n",
    "\n",
    "from xml.etree import ElementTree\n",
    "\n",
    "with open('data/podcasts.opml', 'rt') as f:\n",
    "    tree = ElementTree.parse(f)\n",
    "\n",
    "print(len( list(tree.iter('outline'))))\n",
    "for node in tree.iter('outline'):\n",
    "    name = node.attrib.get('text')\n",
    "    url = node.attrib.get('xmlUrl')\n",
    "    if name and url:\n",
    "        print ('\\t%s :: %s' % (name, url))\n",
    "    else:\n",
    "        print (name)"
   ]
  },
  {
   "cell_type": "markdown",
   "metadata": {},
   "source": [
    "### 2.1.1 Finding Nodes in a Document¶"
   ]
  },
  {
   "cell_type": "markdown",
   "metadata": {},
   "source": [
    "Walking the entire tree like this searching for relevant nodes can be error prone. The example above had to look at each outline node to determine if it was a group (nodes with only a text attribute) or podcast (with both text and xmlUrl). To produce a simple list of the podcast feed URLs, without names or groups, for a podcast downloader application, the logic could be simplified using findall() to look for nodes with more descriptive search characteristics.\n",
    "\n",
    "As a first pass at converting the above example, we can construct an XPath argument to look for all outline nodes."
   ]
  },
  {
   "cell_type": "code",
   "execution_count": 50,
   "metadata": {},
   "outputs": [
    {
     "name": "stdout",
     "output_type": "stream",
     "text": [
      "Science and Tech\n",
      "http://www.publicradio.org/columns/futuretense/podcast.xml\n",
      "http://www.npr.org/rss/podcast.php?id=510030\n",
      "http://www.nyas.org/Podcasts/Atom.axd\n",
      "Books and Fiction\n",
      "http://feeds.feedburner.com/podiobooks\n",
      "http://web.me.com/normsherman/Site/Podcast/rss.xml\n",
      "http://www.tor.com/rss/category/TorDotStories\n",
      "Computers and Programming\n",
      "http://leo.am/podcasts/mbw\n",
      "http://leo.am/podcasts/floss\n",
      "http://www.coreint.org/podcast.xml\n",
      "Python\n",
      "http://advocacy.python.org/podcasts/pycon.rss\n",
      "http://advocacy.python.org/podcasts/littlebit.rss\n",
      "http://djangodose.com/everything/feed/\n",
      "Miscelaneous\n",
      "http://www.castsampler.com/cast/feed/rss/dhellmann/\n"
     ]
    }
   ],
   "source": [
    "for node in tree.findall('.//outline'):\n",
    "    url = node.attrib.get('xmlUrl')\n",
    "    if url:\n",
    "        print( url)\n",
    "    else:\n",
    "        print(node.attrib.get(\"text\"))"
   ]
  },
  {
   "cell_type": "code",
   "execution_count": 53,
   "metadata": {},
   "outputs": [
    {
     "name": "stdout",
     "output_type": "stream",
     "text": [
      "['__class__', '__delattr__', '__dict__', '__dir__', '__doc__', '__eq__', '__format__', '__ge__', '__getattribute__', '__gt__', '__hash__', '__init__', '__le__', '__lt__', '__module__', '__ne__', '__new__', '__reduce__', '__reduce_ex__', '__repr__', '__setattr__', '__sizeof__', '__str__', '__subclasshook__', '__weakref__', '_root', '_setroot', 'find', 'findall', 'findtext', 'getiterator', 'getroot', 'iter', 'iterfind', 'parse', 'write', 'write_c14n']\n",
      "<bound method ElementTree.getroot of <xml.etree.ElementTree.ElementTree object at 0x0000028AF4878320>>\n"
     ]
    }
   ],
   "source": [
    "print(dir(tree))\n",
    "print(tree.getroot)"
   ]
  },
  {
   "cell_type": "markdown",
   "metadata": {},
   "source": [
    "Another version can take advantage of the fact that the outline nodes are only nested two levels deep. Changing the search path to .//outline/outline mean the loop will process only the second level of outline nodes."
   ]
  },
  {
   "cell_type": "code",
   "execution_count": 54,
   "metadata": {},
   "outputs": [
    {
     "name": "stdout",
     "output_type": "stream",
     "text": [
      "http://www.publicradio.org/columns/futuretense/podcast.xml\n",
      "http://www.npr.org/rss/podcast.php?id=510030\n",
      "http://www.nyas.org/Podcasts/Atom.axd\n",
      "http://feeds.feedburner.com/podiobooks\n",
      "http://web.me.com/normsherman/Site/Podcast/rss.xml\n",
      "http://www.tor.com/rss/category/TorDotStories\n",
      "http://leo.am/podcasts/mbw\n",
      "http://leo.am/podcasts/floss\n",
      "http://www.coreint.org/podcast.xml\n",
      "http://advocacy.python.org/podcasts/pycon.rss\n",
      "http://advocacy.python.org/podcasts/littlebit.rss\n",
      "http://djangodose.com/everything/feed/\n",
      "http://www.castsampler.com/cast/feed/rss/dhellmann/\n"
     ]
    }
   ],
   "source": [
    "for node in tree.findall('.//outline/outline'):\n",
    "    url = node.attrib.get('xmlUrl')\n",
    "    print (url)"
   ]
  },
  {
   "cell_type": "markdown",
   "metadata": {},
   "source": [
    "### 2.1.2 Parsed Node Attributes"
   ]
  },
  {
   "cell_type": "markdown",
   "metadata": {},
   "source": [
    "The items returned by findall() and iter() are Element objects, each representing a node in the XML parse tree. Each Element has attributes for accessing data pulled out of the XML. This can be illustrated with a somewhat more contrived example input file, data.xml:"
   ]
  },
  {
   "cell_type": "code",
   "execution_count": 37,
   "metadata": {},
   "outputs": [
    {
     "name": "stdout",
     "output_type": "stream",
     "text": [
      "with_attributes\n",
      "  foo  = \"bar\"\n",
      "  name = \"value\"\n",
      "  testtest = \"thisis atest\"\n"
     ]
    }
   ],
   "source": [
    "from xml.etree import ElementTree\n",
    "\n",
    "with open('data/data.xml', 'rt') as f:\n",
    "    tree = ElementTree.parse(f)\n",
    "\n",
    "node = tree.find('./with_attributes')\n",
    "print (node.tag)\n",
    "\n",
    "for name, value in sorted(node.attrib.items()):\n",
    "    print ('  %-4s = \"%s\"' % (name, value))"
   ]
  },
  {
   "cell_type": "code",
   "execution_count": 38,
   "metadata": {},
   "outputs": [
    {
     "name": "stdout",
     "output_type": "stream",
     "text": [
      "child\n",
      "  child node text: This child contains text.\n",
      "  and tail text  : \n",
      "  \n",
      "child_with_tail\n",
      "  child node text: This child has regular text.\n",
      "  and tail text  : And \"tail\" text.\n",
      "  \n"
     ]
    }
   ],
   "source": [
    "for path in [ './child', './child_with_tail' ]:\n",
    "    node = tree.find(path)\n",
    "    print(node.tag)\n",
    "    print ('  child node text:', node.text)\n",
    "    print ('  and tail text  :', node.tail)"
   ]
  },
  {
   "cell_type": "markdown",
   "metadata": {},
   "source": [
    "### 2.1.3 Parsing Strings"
   ]
  },
  {
   "cell_type": "markdown",
   "metadata": {},
   "source": [
    "To work with smaller bits of XML text, especially string literals as might be embedded in the source of a program, use XML() and the string containing the XML to be parsed as the only argument."
   ]
  },
  {
   "cell_type": "code",
   "execution_count": 50,
   "metadata": {},
   "outputs": [
    {
     "name": "stdout",
     "output_type": "stream",
     "text": [
      "parsed = <Element 'root' at 0x00000262A2604228>\n",
      "group\n",
      "group\n"
     ]
    }
   ],
   "source": [
    "from xml.etree.ElementTree import XML\n",
    "\n",
    "parsed = XML('''\n",
    "<root>\n",
    "  <group>\n",
    "    <child id=\"a\">This is child \"a\".</child>\n",
    "    <child id=\"b\">This is child \"b\".</child>\n",
    "  </group>\n",
    "  <group>\n",
    "    <child id=\"c\">This is child \"c\".</child>\n",
    "  </group>\n",
    "</root>\n",
    "''')\n",
    "\n",
    "print ('parsed =', parsed)\n",
    "\n",
    "for elem in parsed:\n",
    "    print (elem.tag)\n",
    "    if elem.text is not None and elem.text.strip():\n",
    "        print ('  text: \"%s\"' % elem.text)\n",
    "    if elem.tail is not None and elem.tail.strip():\n",
    "        print ('  tail: \"%s\"' % elem.tail)\n",
    "    for name, value in sorted(elem.attrib.items()):\n",
    "        print('  %-4s = \"%s\"' % (name, value))\n",
    "    print"
   ]
  },
  {
   "cell_type": "code",
   "execution_count": 55,
   "metadata": {},
   "outputs": [
    {
     "name": "stdout",
     "output_type": "stream",
     "text": [
      "<Element 'top' at 0x000001C332EE3CC8>\n"
     ]
    }
   ],
   "source": [
    "from xml.etree.ElementTree import Element, tostring\n",
    "\n",
    "top = Element('top')\n",
    "\n",
    "children = [\n",
    "    Element('child', num=str(i))\n",
    "    for i in range(3)\n",
    "]\n",
    "\n",
    "top.extend(children)\n",
    "\n",
    "print(top)"
   ]
  }
 ],
 "metadata": {
  "anaconda-cloud": {},
  "kernelspec": {
   "display_name": "Python 3",
   "language": "python",
   "name": "python3"
  },
  "language_info": {
   "codemirror_mode": {
    "name": "ipython",
    "version": 3
   },
   "file_extension": ".py",
   "mimetype": "text/x-python",
   "name": "python",
   "nbconvert_exporter": "python",
   "pygments_lexer": "ipython3",
   "version": "3.4.6"
  }
 },
 "nbformat": 4,
 "nbformat_minor": 1
}
