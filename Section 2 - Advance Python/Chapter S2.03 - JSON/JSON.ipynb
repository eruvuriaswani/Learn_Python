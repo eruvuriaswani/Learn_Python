{
 "cells": [
  {
   "cell_type": "markdown",
   "metadata": {},
   "source": [
    "# JSON\n",
    "\n",
    "The json library can parse JSON from either strings or files. The library parses JSON into a Python dictionary or list. It can also convert Python dictionaries or lists into JSON strings.\n",
    "\n",
    "## Parsing JSON\n",
    "Take the following string containing JSON data:"
   ]
  },
  {
   "cell_type": "code",
   "execution_count": 2,
   "metadata": {},
   "outputs": [
    {
     "name": "stdout",
     "output_type": "stream",
     "text": [
      "<class 'str'>\n",
      "{'last_name': 'Rossum', 'first_name': 'Guido'}\n",
      "<class 'dict'>\n"
     ]
    }
   ],
   "source": [
    "import json\n",
    "\n",
    "json_string = '{\"first_name\": \"Guido\", \"last_name\":\"Rossum\"}'\n",
    "\n",
    "print(type(json_string))\n",
    "parsed_json = json.loads(json_string)\n",
    "print(parsed_json)\n",
    "print(type(parsed_json))"
   ]
  },
  {
   "cell_type": "code",
   "execution_count": 8,
   "metadata": {},
   "outputs": [
    {
     "name": "stdout",
     "output_type": "stream",
     "text": [
      "Guido Rossum\n"
     ]
    }
   ],
   "source": [
    "print(parsed_json['first_name'], parsed_json['last_name'])"
   ]
  },
  {
   "cell_type": "code",
   "execution_count": 14,
   "metadata": {},
   "outputs": [
    {
     "name": "stdout",
     "output_type": "stream",
     "text": [
      "<class 'str'>\n",
      "[{'first_name': 'Guido', 'last_name': 'Rossum'}, {'first_name': 'Venky', 'last_name': 'kumar'}]\n",
      "<class 'list'>\n"
     ]
    }
   ],
   "source": [
    "json_string = '''[{\"first_name\": \"Guido\", \"last_name\":\"Rossum\"}, \n",
    "                  {\"first_name\": \"Venky\", \"last_name\":\"kumar\"}]'''\n",
    "\n",
    "print(type(json_string))\n",
    "parsed_json = json.loads(json_string)\n",
    "print(parsed_json)\n",
    "print(type(parsed_json))"
   ]
  },
  {
   "cell_type": "code",
   "execution_count": 17,
   "metadata": {},
   "outputs": [
    {
     "name": "stdout",
     "output_type": "stream",
     "text": [
      "{'results': [{'user': {'gender': 'male', 'name': {'title': 'mr', 'first': 'ernest', 'last': 'coleman'}, 'location': {'street': '6735 greenhaven ln', 'city': 'sunnyvale', 'state': 'connecticut', 'zip': '33332'}, 'email': 'ernest.coleman20@example.com', 'username': 'yellowdog409', 'password': 'ledzep', 'salt': '7iDblTIm', 'md5': '3c9871f954d86c58d3f49b98a7fb60c3', 'sha1': 'd6cb9b8abb27f9718ee9185b2cde298665a177b5', 'sha256': '4fdb19e71c66c91f27f5208cc2a59ca8833ed9b72c549f11ea6a881ffde23c65', 'registered': '1315463131', 'dob': '468664323', 'phone': '(348)-196-2669', 'cell': '(757)-671-8341', 'SSN': '641-99-7751', 'picture': {'large': 'http://api.randomuser.me/portraits/men/72.jpg', 'medium': 'http://api.randomuser.me/portraits/med/men/44.jpg', 'thumbnail': 'http://api.randomuser.me/portraits/thumb/men/47.jpg'}, 'version': '0.6', 'nationality': 'US'}, 'seed': '369a24e79c2f8676'}]}\n",
      "<class 'dict'>\n"
     ]
    }
   ],
   "source": [
    "with open(\"random.json\") as f:\n",
    "    parsed_json = json.loads(f.read())\n",
    "    print(parsed_json)\n",
    "    print(type(parsed_json))"
   ]
  },
  {
   "cell_type": "markdown",
   "metadata": {},
   "source": [
    "## Updated example"
   ]
  },
  {
   "cell_type": "code",
   "execution_count": 3,
   "metadata": {},
   "outputs": [
    {
     "name": "stdout",
     "output_type": "stream",
     "text": [
      "{\"second_name\": \"Rossum\", \"titles\": [\"BDFL\", \"Developer\"], \"first_name\": \"Guido\"}\n",
      "<class 'str'>\n"
     ]
    }
   ],
   "source": [
    "d = {\n",
    "    'first_name': 'Guido',\n",
    "    'second_name': 'Rossum',\n",
    "    'titles': ['BDFL', 'Developer'],\n",
    "}\n",
    "\n",
    "data = json.dumps(d)\n",
    "print(data)\n",
    "print(type(data))"
   ]
  },
  {
   "cell_type": "code",
   "execution_count": 13,
   "metadata": {},
   "outputs": [
    {
     "name": "stdout",
     "output_type": "stream",
     "text": [
      "[\"mayank\", \"Venky\", \"Prashant Bhandarkar\"]\n",
      "<class 'str'>\n"
     ]
    }
   ],
   "source": [
    "d = [\"mayank\", \"Venky\", \"Prashant Bhandarkar\"]\n",
    "\n",
    "data = json.dumps(d)\n",
    "print(data)\n",
    "print(type(data))"
   ]
  },
  {
   "cell_type": "markdown",
   "metadata": {},
   "source": [
    "## Examples"
   ]
  },
  {
   "cell_type": "code",
   "execution_count": 5,
   "metadata": {},
   "outputs": [
    {
     "name": "stdout",
     "output_type": "stream",
     "text": [
      "{\"102\": {\"Roll_no\": 8, \"class\": \"V\", \"Name\": \"David\"}, \"103\": {\"Roll_no\": 12, \"class\": \"V\", \"Name\": \"Samiya\"}, \"101\": {\"Roll_no\": 7, \"class\": \"V\", \"Name\": \"Rohit\"}}\n"
     ]
    }
   ],
   "source": [
    "### \n",
    "import json  \n",
    "student = {\"101\":{\"class\":'V', \"Name\":'Rohit',  \"Roll_no\":7},  \n",
    "           \"102\":{\"class\":'V', \"Name\":'David',  \"Roll_no\":8},  \n",
    "           \"103\":{\"class\":'V', \"Name\":'Samiya', \"Roll_no\":12}}  \n",
    "print(json.dumps(student)) "
   ]
  },
  {
   "cell_type": "code",
   "execution_count": 13,
   "metadata": {},
   "outputs": [
    {
     "name": "stdout",
     "output_type": "stream",
     "text": [
      "{\"101\": {\"Name\": \"Rohit\", \"Roll_no\": 7, \"class\": \"V\"}, \"102\": {\"Name\": \"David\", \"Roll_no\": 8, \"class\": \"V\"}, \"103\": {\"Name\": \"Samiya\", \"Roll_no\": 12, \"class\": \"V\"}}\n"
     ]
    }
   ],
   "source": [
    "import json  \n",
    "student = {\"101\":{\"class\":'V', \"Name\":'Rohit',  \"Roll_no\":7},  \n",
    "           \"102\":{\"class\":'V', \"Name\":'David',  \"Roll_no\":8},  \n",
    "           \"103\":{\"class\":'V', \"Name\":'Samiya', \"Roll_no\":12}}  \n",
    "print(json.dumps(student, sort_keys=True)); "
   ]
  },
  {
   "cell_type": "code",
   "execution_count": 14,
   "metadata": {},
   "outputs": [
    {
     "name": "stdout",
     "output_type": "stream",
     "text": [
      "[\"Red\", \"Black\", \"White\"]\n"
     ]
    }
   ],
   "source": [
    "import json  \n",
    "tup1 = 'Red', 'Black', 'White';  \n",
    "print(json.dumps(tup1));"
   ]
  },
  {
   "cell_type": "code",
   "execution_count": 15,
   "metadata": {},
   "outputs": [
    {
     "name": "stdout",
     "output_type": "stream",
     "text": [
      "[5, 12, 13, 14]\n"
     ]
    }
   ],
   "source": [
    "import json  \n",
    "list1 = [5, 12, 13, 14];  \n",
    "print(json.dumps(list1));"
   ]
  },
  {
   "cell_type": "code",
   "execution_count": 16,
   "metadata": {},
   "outputs": [
    {
     "name": "stdout",
     "output_type": "stream",
     "text": [
      "\"Python and JSON\"\n"
     ]
    }
   ],
   "source": [
    "import json  \n",
    "string1 = 'Python and JSON';  \n",
    "print(json.dumps(string1));"
   ]
  },
  {
   "cell_type": "code",
   "execution_count": 17,
   "metadata": {},
   "outputs": [
    {
     "name": "stdout",
     "output_type": "stream",
     "text": [
      "true\n"
     ]
    }
   ],
   "source": [
    "import json  \n",
    "x = True;  \n",
    "print(json.dumps(x));  "
   ]
  },
  {
   "cell_type": "code",
   "execution_count": 18,
   "metadata": {},
   "outputs": [
    {
     "name": "stdout",
     "output_type": "stream",
     "text": [
      "{'101': {'class': 'V', 'Name': 'Rohit', 'Roll_no': 7}, '102': {'class': 'V', 'Name': 'David', 'Roll_no': 8}, '103': {'class': 'V', 'Name': 'Samiya', 'Roll_n': 12}}\n"
     ]
    }
   ],
   "source": [
    "import json  \n",
    "json_data = '{\"103\": {\"class\": \"V\", \"Name\": \"Samiya\", \"Roll_n\": 12}, \"102\": {\"class\": \"V\", \"Name\": \"David\", \"Roll_no\": 8}, \"101\": {\"class\": \"V\", \"Name\": \"Rohit\", \"Roll_no\": 7}}';  \n",
    "print(json.loads(json_data));\n"
   ]
  },
  {
   "cell_type": "code",
   "execution_count": null,
   "metadata": {
    "collapsed": true
   },
   "outputs": [],
   "source": []
  }
 ],
 "metadata": {
  "kernelspec": {
   "display_name": "Python 3",
   "language": "python",
   "name": "python3"
  },
  "language_info": {
   "codemirror_mode": {
    "name": "ipython",
    "version": 3
   },
   "file_extension": ".py",
   "mimetype": "text/x-python",
   "name": "python",
   "nbconvert_exporter": "python",
   "pygments_lexer": "ipython3",
   "version": "3.4.6"
  }
 },
 "nbformat": 4,
 "nbformat_minor": 1
}
