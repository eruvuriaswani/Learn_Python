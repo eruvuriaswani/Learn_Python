{
 "cells": [
  {
   "cell_type": "markdown",
   "metadata": {},
   "source": [
    "# Databases\n",
    "----\n",
    "\n",
    "There are many ways one can access \n"
   ]
  },
  {
   "cell_type": "markdown",
   "metadata": {},
   "source": [
    "## DB-API\n",
    "---\n",
    "The Python Database API (DB-API) defines a standard interface for Python database access modules. It’s documented in PEP 249 https://www.python.org/dev/peps/pep-0249/. Nearly all Python database modules such as sqlite3, psycopg and mysql-python conform to this interface.\n",
    "\n",
    "### Example"
   ]
  },
  {
   "cell_type": "code",
   "execution_count": 1,
   "metadata": {},
   "outputs": [
    {
     "name": "stdout",
     "output_type": "stream",
     "text": [
      "<class 'list'>\n",
      "Mayank Johri was born in 1976-7-10\n",
      "Subhas Chandra Bose was born in January 23, 1897\n",
      "Bhagat Singh was born in September 28, 1907\n"
     ]
    }
   ],
   "source": [
    "# -*- coding: utf-8 -*-\n",
    "\"\"\"\n",
    "Created on Mon Aug 15 07:37:10 2016\n",
    "\n",
    "@author: mayank johri\n",
    "\"\"\"\n",
    "\n",
    "try:\n",
    "    from sqlite3 import dbapi2 as sqlite\n",
    "except ImportError:\n",
    "    from pysqlite2 import dbapi2 as sqlite\n",
    "import os \n",
    "DB_FILE = 'db/comment.sqlite3'\n",
    "    \n",
    "def createDB():\n",
    "    if os.path.exists(DB_FILE):\n",
    "        os.remove(DB_FILE)    \n",
    "    db_conn = sqlite.connect(DB_FILE)\n",
    "        \n",
    "    db_curs = db_conn.cursor()\n",
    "    db_curs.execute(\"\"\"CREATE TABLE people (\n",
    "                    id INTEGER PRIMARY KEY, first_name VARCHAR(20),\n",
    "                    last_name VARCHAR(30), date_of_birth DATE)\"\"\")\n",
    "    \n",
    "    db_curs.execute(\"\"\"INSERT INTO people (first_name, last_name, date_of_birth)\n",
    "                         VALUES ('Mayank', 'Johri', '1976-7-10')\"\"\")\n",
    "    db_curs.close()\n",
    "    return db_conn\n",
    "\n",
    "def getData(db_conn):\n",
    "    db_cur = db_conn.cursor()\n",
    "    sql = \"select first_name, last_name, date_of_birth from people\"\n",
    "    db_cur.execute(sql)\n",
    "    data = db_cur.fetchall()\n",
    "    db_cur.close()\n",
    "    return data\n",
    "\n",
    "def getAllData(db_conn):\n",
    "    db_cur = db_conn.cursor()\n",
    "    sql = \"select first_name, last_name, date_of_birth from people\"\n",
    "    db_cur.execute(sql)\n",
    "    data = db_cur.fetchall()\n",
    "    db_cur.close()\n",
    "    return data\n",
    "    \n",
    "\n",
    "def setUser(db_conn, first_name, last_name, date_of_birth):\n",
    "    stmt = \"\"\"INSERT INTO people (first_name, \n",
    "                                  last_name, \n",
    "                                  date_of_birth) VALUES (?,?,?)\"\"\"\n",
    "    db_cur = db_conn.cursor()\n",
    "    db_cur.execute(stmt, (first_name, last_name, date_of_birth))\n",
    "    \n",
    "def rollback(db_conn):\n",
    "    pass\n",
    "\n",
    "def commit(db_conn):\n",
    "    db_conn.commit()\n",
    "    \n",
    "if __name__ == \"__main__\":\n",
    "    db_conn = None\n",
    "    try:\n",
    "      db_conn = createDB()\n",
    "      setUser(db_conn, \"Subhas\", \"Chandra Bose\", \"January 23, 1897\")\n",
    "      setUser(db_conn, \"Bhagat\", \"Singh\", \"September 28, 1907\")      \n",
    "      data = getAllData(db_conn)\n",
    "      print(type(data))\n",
    "      for d in data:\n",
    "          print(\"{0} {1} was born in {2}\".format(d[0], d[1], d[2]))\n",
    "    except:\n",
    "      rollback(db_conn)\n",
    "      raise \n",
    "    else:\n",
    "      commit(db_conn)\n",
    "    finally:\n",
    "        if db_conn != None:\n",
    "            db_conn.close()"
   ]
  },
  {
   "cell_type": "code",
   "execution_count": 2,
   "metadata": {
    "collapsed": true
   },
   "outputs": [],
   "source": [
    "try:\n",
    "    from sqlite3 import dbapi2 as sqlite\n",
    "except ImportError:\n",
    "    from pysqlite2 import dbapi2 as sqlite\n",
    "\n",
    "DB_FILE = 'db/comment.sqlite3'\n",
    "\n"
   ]
  },
  {
   "cell_type": "markdown",
   "metadata": {},
   "source": [
    "## SQLAlchemy\n",
    "---\n",
    "SQLAlchemy is a commonly used database toolkit. Unlike many database libraries it not only provides an ORM (Object-relational mapping) layer but also a generalized API for writing database-agnostic code without SQL.\n",
    "> $ pip install sqlalchemy\n",
    "\n",
    "### Example"
   ]
  },
  {
   "cell_type": "code",
   "execution_count": 2,
   "metadata": {},
   "outputs": [
    {
     "name": "stdout",
     "output_type": "stream",
     "text": [
      "2017-08-11 20:07:47,688 INFO sqlalchemy.engine.base.Engine SELECT CAST('test plain returns' AS VARCHAR(60)) AS anon_1\n",
      "2017-08-11 20:07:47,689 INFO sqlalchemy.engine.base.Engine ()\n",
      "2017-08-11 20:07:47,691 INFO sqlalchemy.engine.base.Engine SELECT CAST('test unicode returns' AS VARCHAR(60)) AS anon_1\n",
      "2017-08-11 20:07:47,692 INFO sqlalchemy.engine.base.Engine ()\n",
      "2017-08-11 20:07:47,695 INFO sqlalchemy.engine.base.Engine PRAGMA table_info(\"users\")\n",
      "2017-08-11 20:07:47,697 INFO sqlalchemy.engine.base.Engine ()\n",
      "<User(name='Meenu', fullname='Meenakshi Johri', password='meenuInIndia')>\n",
      "Ued_user.id\n",
      "2017-08-11 20:07:47,704 INFO sqlalchemy.engine.base.Engine BEGIN (implicit)\n",
      "2017-08-11 20:07:47,709 INFO sqlalchemy.engine.base.Engine INSERT INTO users (name, fullname, password) VALUES (?, ?, ?)\n",
      "2017-08-11 20:07:47,710 INFO sqlalchemy.engine.base.Engine ('Meenu', 'Meenakshi Johri', 'meenuInIndia')\n",
      "2017-08-11 20:07:47,713 INFO sqlalchemy.engine.base.Engine INSERT INTO users (name, fullname, password) VALUES (?, ?, ?)\n",
      "2017-08-11 20:07:47,714 INFO sqlalchemy.engine.base.Engine ('GV', 'GV', 'gv@ibm')\n",
      "3\n",
      "2017-08-11 20:07:47,718 INFO sqlalchemy.engine.base.Engine COMMIT\n",
      "2017-08-11 20:07:47,823 INFO sqlalchemy.engine.base.Engine BEGIN (implicit)\n",
      "2017-08-11 20:07:47,825 INFO sqlalchemy.engine.base.Engine SELECT users.id AS users_id, users.name AS users_name, users.fullname AS users_fullname, users.password AS users_password \n",
      "FROM users \n",
      "WHERE users.id = ?\n",
      "2017-08-11 20:07:47,826 INFO sqlalchemy.engine.base.Engine (3,)\n",
      "2017-08-11 20:07:47,832 INFO sqlalchemy.engine.base.Engine DELETE FROM users WHERE users.id = ?\n",
      "2017-08-11 20:07:47,833 INFO sqlalchemy.engine.base.Engine (3,)\n",
      "2017-08-11 20:07:47,835 INFO sqlalchemy.engine.base.Engine COMMIT\n"
     ]
    }
   ],
   "source": [
    "from sqlalchemy import create_engine, ForeignKey\n",
    "from sqlalchemy import Column, Date, Integer, String\n",
    "from sqlalchemy.ext.declarative import declarative_base\n",
    "\n",
    "# engine.dispose()\n",
    "engine = create_engine('sqlite:///userlist.db', echo=True)\n",
    "Base = declarative_base()\n",
    "\n",
    "\n",
    "class User(Base):\n",
    "    __tablename__ = 'users'\n",
    "\n",
    "    id = Column(Integer, primary_key=True)\n",
    "    name = Column(String)\n",
    "    fullname = Column(String)\n",
    "    password = Column(String)\n",
    "\n",
    "    def __repr__(self):\n",
    "        return \"<User(name='%s', fullname='%s', password='%s')>\" % (self.name, self.fullname, self.password)\n",
    "\n",
    "\n",
    "Base.metadata.create_all(engine)\n",
    "\n",
    "from sqlalchemy.orm import sessionmaker\n",
    "Session = sessionmaker(bind=engine)\n",
    "session = Session()\n",
    "\n",
    "session_dec = Session()\n",
    "\n",
    "ed_user = User(name='Meenu', fullname='Meenakshi Johri', password='meenuInIndia')\n",
    "print(ed_user)\n",
    "session.add(ed_user)\n",
    "print(\"Ued_user.id\")\n",
    "session.add(User(name='GV',fullname='GV', password='gv@ibm'))\n",
    "session.flush()\n",
    "print(ed_user.id)\n",
    "\n",
    "#Now let’s commit the changes:\n",
    "session.commit()\n",
    "\n",
    "# #SQLAlchemy sends the COMMIT statement that permanently commits the flushed changes and ends the transaction.\n",
    "\n",
    "# # Delete\n",
    "# #To delete the test_page object from the database you would use:\n",
    "session.delete(ed_user)\n",
    "session.flush()\n",
    "# #At this point you can either commit the transaction or do a rollback. Let’s do a rollback this time:\n",
    "session.commit()\n",
    "session.close()\n",
    "engine.dispose()"
   ]
  },
  {
   "cell_type": "code",
   "execution_count": 5,
   "metadata": {},
   "outputs": [],
   "source": [
    "# from sqlalchemy import create_engine, ForeignKey\n",
    "# from sqlalchemy import Column, Date, Integer, String\n",
    "# from sqlalchemy.ext.declarative import declarative_base\n",
    "# from sqlalchemy.orm import relationship\n",
    "\n",
    "# # engine.dispose()\n",
    "# engine = create_engine('sqlite:///userlist.db', echo=True)\n",
    "# Base = declarative_base()\n",
    "\n",
    "\n",
    "# class User(Base):\n",
    "#     __tablename__ = 'users'\n",
    "\n",
    "#     id = Column(Integer, primary_key=True)\n",
    "#     name = Column(String)\n",
    "    \n",
    "#     def __repr__(self):\n",
    "#         return \"<User(name='%s', fullname='%s', password='%s')>\" % (self.name, self.fullname, self.password)\n",
    "\n",
    "    \n",
    "# class Address(Base):\n",
    "#     __tablename__ = 'address'\n",
    "    \n",
    "#     address_id = Column(Integer, primary_key=True)\n",
    "#     house_name = Column(String)\n",
    "#     house_no = Column(String)\n",
    "#     city = Column(String)\n",
    "#     user_id = Column(Integer, ForeignKey('User.id'))\n",
    "\n",
    "\n",
    "# Base.metadata.create_all(engine)"
   ]
  },
  {
   "cell_type": "code",
   "execution_count": null,
   "metadata": {},
   "outputs": [],
   "source": [
    "# from sqlalchemy.orm import sessionmaker\n",
    "# Session = sessionmaker(bind=engine)\n",
    "# session = Session()\n",
    "\n",
    "# session_dec = Session()\n",
    "\n",
    "# ed_user = User(name='Meenu', fullname='Meenakshi Johri', password='meenuInIndia')\n",
    "# # ed_user.address = Address(house_no=\"20\", house_name=\"Raj Ghar\", city= \"Jaipur\")\n",
    "\n",
    "# session.commit()\n",
    "# session.close()\n",
    "# engine.dispose()"
   ]
  },
  {
   "cell_type": "code",
   "execution_count": null,
   "metadata": {
    "collapsed": true
   },
   "outputs": [],
   "source": []
  },
  {
   "cell_type": "markdown",
   "metadata": {},
   "source": [
    "## Records\n",
    "\n",
    "Records is minimalist SQL library, designed for sending raw SQL queries to various databases. Data can be used programmatically, or exported to a number of useful data formats.\n",
    "\n",
    "> $ pip install records\n",
    "\n",
    "Also included is a command-line tool for exporting SQL data."
   ]
  },
  {
   "cell_type": "code",
   "execution_count": 9,
   "metadata": {},
   "outputs": [
    {
     "name": "stdout",
     "output_type": "stream",
     "text": [
      "key,fname,lname,email\r\n",
      "1204253136,melissa,hughes,melissa.hughes80@example.com\r\n",
      "1269157646,brennan,henry,brennan.henry46@example.com\r\n",
      "930355634,enrique,holland,enrique.holland66@example.com\r\n",
      "\n"
     ]
    }
   ],
   "source": [
    "import json # https://docs.python.org/3/library/json.html\n",
    "import requests # https://github.com/kennethreitz/requests\n",
    "import records # https://github.com/kennethreitz/records\n",
    "\n",
    "# randomuser.me generates random 'user' data (name, email, addr, phone number, etc)\n",
    "r = requests.get('http://api.randomuser.me/0.6/?nat=us&results=3')\n",
    "j = r.json()['results']\n",
    "\n",
    "# Valid SQLite URL forms are:\n",
    "#   sqlite:///:memory: (or, sqlite://)\n",
    "#   sqlite:///relative/path/to/file.db\n",
    "#   sqlite:////absolute/path/to/file.db\n",
    "\n",
    "# records will create this db on disk if 'users.db' doesn't exist already\n",
    "db = records.Database('sqlite:///users.db')\n",
    "\n",
    "db.query('DROP TABLE IF EXISTS persons')\n",
    "db.query('CREATE TABLE persons (key int PRIMARY KEY, fname text, lname text, email text)')\n",
    "\n",
    "for rec in j:\n",
    "    user = rec['user']\n",
    "    name = user['name']\n",
    "\n",
    "    key = user['registered']\n",
    "    fname = name['first']\n",
    "    lname = name['last']\n",
    "    email = user['email']\n",
    "    db.query('INSERT INTO persons (key, fname, lname, email) VALUES(:key, :fname, :lname, :email)',\n",
    "            key=key, fname=fname, lname=lname, email=email)\n",
    "\n",
    "rows = db.query('SELECT * FROM persons')\n",
    "print(rows.export('csv'))"
   ]
  },
  {
   "cell_type": "code",
   "execution_count": null,
   "metadata": {
    "collapsed": true
   },
   "outputs": [],
   "source": []
  },
  {
   "cell_type": "markdown",
   "metadata": {},
   "source": [
    "## SQLObject\n",
    "--------\n",
    "SQLObject is yet another ORM. It supports a wide variety of databases: Common database systems MySQL, Postgres and SQLite and more exotic systems like SAP DB, SyBase and MSSQL.\n",
    "\n",
    "SQLObject is a popular Object Relational Manager for providing an object interface to your database, with tables as classes, rows as instances, and columns as attributes.\n",
    "\n",
    "SQLObject includes a Python-object-based query language that makes SQL more abstract, and provides substantial database independence for applications."
   ]
  },
  {
   "cell_type": "code",
   "execution_count": null,
   "metadata": {},
   "outputs": [],
   "source": [
    "import sqlobject\n",
    "from sqlobject.sqlite import builder\n",
    "conn = builder()('sqlobject_demo.db')\n",
    "\n",
    " \n",
    "class PhoneNumber(sqlobject.SQLObject):\n",
    "    _connection = conn\n",
    "    number = sqlobject.StringCol(length=14, unique=True)\n",
    "    owner = sqlobject.StringCol(length=255)\n",
    "    lastCall = sqlobject.DateTimeCol(default=None)\n",
    "    \n",
    "PhoneNumber.createTable(ifNotExists=True)\n",
    "\n",
    "myPhone = PhoneNumber(number='(415) 555-1212', \n",
    "                      owner='Leonard Richardson')\n"
   ]
  },
  {
   "cell_type": "code",
   "execution_count": null,
   "metadata": {},
   "outputs": [],
   "source": [
    "# Running code with partial information will result in error \n",
    "duplicatePhone = PhoneNumber(number=\"(415) 555-1212\")"
   ]
  },
  {
   "cell_type": "code",
   "execution_count": null,
   "metadata": {},
   "outputs": [],
   "source": [
    "duplicatePhone = PhoneNumber(number=\"(415) 555-1212\")"
   ]
  },
  {
   "cell_type": "code",
   "execution_count": null,
   "metadata": {
    "collapsed": true
   },
   "outputs": [],
   "source": []
  },
  {
   "cell_type": "markdown",
   "metadata": {},
   "source": [
    "### Defining relationships among tables\n",
    "\n",
    "SQLObject lets you define relationships among tables as foreign keys"
   ]
  },
  {
   "cell_type": "code",
   "execution_count": null,
   "metadata": {
    "collapsed": true
   },
   "outputs": [],
   "source": [
    "import sqlobject\n",
    "from sqlobject.sqlite import builder\n",
    "conn = builder()('sqlobject_demo_relationships.db')\n",
    " \n",
    " \n",
    "class PhoneNumber(sqlobject.SQLObject):\n",
    "    _connection = conn\n",
    "    number = sqlobject.StringCol(length=14, unique=True)\n",
    "    owner = sqlobject.ForeignKey('Person')\n",
    "    lastCall = sqlobject.DateTimeCol(default=None)\n",
    " \n",
    " \n",
    "class Person(sqlobject.SQLObject):\n",
    "    _idName='fooID'\n",
    "    _connection = conn\n",
    "    name = sqlobject.StringCol(length=255)\n",
    "    #The SQLObject-defined name for the \"owner\" field of PhoneNumber\n",
    "    #is \"owner_id\" since it's a reference to another table's primary\n",
    "    #key.\n",
    "    numbers = sqlobject.MultipleJoin('PhoneNumber', joinColumn='owner_id')\n",
    "Person.createTable(ifNotExists=True)\n",
    "PhoneNumber.createTable(ifNotExists=True)\n"
   ]
  },
  {
   "cell_type": "code",
   "execution_count": null,
   "metadata": {},
   "outputs": [],
   "source": [
    "person = Person(name='Vinay')\n",
    "p = PhoneNumber(number=\"2222\", owner=person)"
   ]
  }
 ],
 "metadata": {
  "anaconda-cloud": {},
  "kernelspec": {
   "display_name": "Python 3",
   "language": "python",
   "name": "python3"
  },
  "language_info": {
   "codemirror_mode": {
    "name": "ipython",
    "version": 3
   },
   "file_extension": ".py",
   "mimetype": "text/x-python",
   "name": "python",
   "nbconvert_exporter": "python",
   "pygments_lexer": "ipython3",
   "version": "3.4.6"
  }
 },
 "nbformat": 4,
 "nbformat_minor": 1
}
