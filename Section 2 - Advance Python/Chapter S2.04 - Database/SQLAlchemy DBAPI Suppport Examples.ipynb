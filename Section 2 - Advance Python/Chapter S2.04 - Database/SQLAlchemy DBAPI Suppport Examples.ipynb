{
 "cells": [
  {
   "cell_type": "markdown",
   "metadata": {},
   "source": [
    "# SQLAlchemy DBAPI Suppport Examples: Code Samples"
   ]
  },
  {
   "cell_type": "markdown",
   "metadata": {},
   "source": [
    "Most of the below code is copied/inspired from https://www.pythonsheets.com/notes/python-sqlalchemy.html"
   ]
  },
  {
   "cell_type": "markdown",
   "metadata": {},
   "source": [
    "## Sqlalchemy Support DBAPI - PEP249"
   ]
  },
  {
   "cell_type": "code",
   "execution_count": 9,
   "metadata": {
    "collapsed": true
   },
   "outputs": [],
   "source": [
    "def create_db():\n",
    "    import os \n",
    "\n",
    "    DB_FILE = \"db.sqlite\"\n",
    "    if os.path.exists(DB_FILE):\n",
    "        os.remove(DB_FILE)\n",
    "    db_uri = \"sqlite:///\" + DB_FILE\n",
    "    return create_engine(db_uri)"
   ]
  },
  {
   "cell_type": "code",
   "execution_count": 10,
   "metadata": {},
   "outputs": [
    {
     "name": "stdout",
     "output_type": "stream",
     "text": [
      "(1, u'raw1')\n",
      "[]\n"
     ]
    }
   ],
   "source": [
    "from sqlalchemy import create_engine\n",
    "\n",
    "engine = create_db()\n",
    "# DBAPI - PEP249\n",
    "# create table\n",
    "engine.execute('CREATE TABLE \"EX1\" ('\n",
    "               'id INTEGER NOT NULL,'\n",
    "               'name VARCHAR, '\n",
    "               'PRIMARY KEY (id));')\n",
    "# insert a raw\n",
    "engine.execute('INSERT INTO \"EX1\" '\n",
    "               '(id, name) '\n",
    "               'VALUES (1,\"raw1\")')\n",
    "\n",
    "# select *\n",
    "result = engine.execute('SELECT * FROM '\n",
    "                        '\"EX1\"')\n",
    "for _r in result:\n",
    "    print(_r)\n",
    "\n",
    "# delete *\n",
    "engine.execute('DELETE from \"EX1\" where id=1;')\n",
    "result = engine.execute('SELECT * FROM \"EX1\"')\n",
    "print (result.fetchall())"
   ]
  },
  {
   "cell_type": "markdown",
   "metadata": {},
   "source": [
    "## Metadata - Generating Database Schema"
   ]
  },
  {
   "cell_type": "code",
   "execution_count": 6,
   "metadata": {},
   "outputs": [
    {
     "name": "stdout",
     "output_type": "stream",
     "text": [
      "('Table: ', 'Example')\n"
     ]
    }
   ],
   "source": [
    "from sqlalchemy import create_engine\n",
    "from sqlalchemy import MetaData\n",
    "from sqlalchemy import Table\n",
    "from sqlalchemy import Column\n",
    "from sqlalchemy import Integer, String\n",
    "\n",
    "engine = create_db()\n",
    "\n",
    "# Create a metadata instance\n",
    "metadata = MetaData(engine)\n",
    "# Declare a table\n",
    "table = Table('Example',metadata,\n",
    "              Column('id',Integer, primary_key=True),\n",
    "              Column('name',String))\n",
    "# Create all tables\n",
    "metadata.create_all()\n",
    "for _t in metadata.tables:\n",
    "    print (\"Table: \", _t)"
   ]
  },
  {
   "cell_type": "markdown",
   "metadata": {},
   "source": [
    "## Inspect - Get Database Information"
   ]
  },
  {
   "cell_type": "code",
   "execution_count": 8,
   "metadata": {},
   "outputs": [
    {
     "name": "stdout",
     "output_type": "stream",
     "text": [
      "[u'EX1', u'Example']\n",
      "[{'primary_key': 1, 'nullable': False, 'default': None, 'autoincrement': 'auto', 'type': INTEGER(), 'name': u'id'}, {'primary_key': 0, 'nullable': True, 'default': None, 'autoincrement': 'auto', 'type': VARCHAR(), 'name': u'name'}]\n"
     ]
    }
   ],
   "source": [
    "from sqlalchemy import create_engine\n",
    "from sqlalchemy import inspect\n",
    "\n",
    "engine = create_db()\n",
    "\n",
    "inspector = inspect(engine)\n",
    "\n",
    "# Get table information\n",
    "print inspector.get_table_names()\n",
    "\n",
    "# Get column information\n",
    "print inspector.get_columns('EX1')"
   ]
  },
  {
   "cell_type": "markdown",
   "metadata": {},
   "source": [
    "## Reflection - Loading Table from Existing Database"
   ]
  },
  {
   "cell_type": "code",
   "execution_count": 10,
   "metadata": {},
   "outputs": [
    {
     "name": "stdout",
     "output_type": "stream",
     "text": [
      "immutabledict({})\n",
      "immutabledict({u'Example': Table('Example', MetaData(bind=None), Column('id', INTEGER(), table=<Example>, primary_key=True, nullable=False), Column('name', VARCHAR(), table=<Example>), schema=None), u'EX1': Table('EX1', MetaData(bind=None), Column('id', INTEGER(), table=<EX1>, primary_key=True, nullable=False), Column('name', VARCHAR(), table=<EX1>), schema=None)})\n"
     ]
    }
   ],
   "source": [
    "from sqlalchemy import create_engine\n",
    "from sqlalchemy import MetaData\n",
    "from sqlalchemy import Table\n",
    "\n",
    "engine = create_db()\n",
    "\n",
    "# Create a MetaData instance\n",
    "metadata = MetaData()\n",
    "print metadata.tables\n",
    "\n",
    "# reflect db schema to MetaData\n",
    "metadata.reflect(bind=engine)\n",
    "print metadata.tables"
   ]
  },
  {
   "cell_type": "markdown",
   "metadata": {},
   "source": [
    "## Create all Tables Store in “MetaData”"
   ]
  },
  {
   "cell_type": "code",
   "execution_count": 12,
   "metadata": {
    "collapsed": true
   },
   "outputs": [],
   "source": [
    "from sqlalchemy import create_engine\n",
    "from sqlalchemy import MetaData\n",
    "from sqlalchemy import Table\n",
    "from sqlalchemy import Column\n",
    "from sqlalchemy import Integer, String\n",
    "\n",
    "engine = create_db()\n",
    "meta = MetaData(engine)\n",
    "\n",
    "# Register t1, t2 to metadata\n",
    "t1 = Table('EX1', meta,\n",
    "           Column('id',Integer, primary_key=True),\n",
    "           Column('name',String))\n",
    "\n",
    "t2 = Table('EX2', meta,\n",
    "           Column('id',Integer, primary_key=True),\n",
    "           Column('val',Integer))\n",
    "# Create all tables in meta\n",
    "meta.create_all()"
   ]
  },
  {
   "cell_type": "markdown",
   "metadata": {},
   "source": [
    "## Create Specific Table"
   ]
  },
  {
   "cell_type": "code",
   "execution_count": 11,
   "metadata": {},
   "outputs": [],
   "source": [
    "from sqlalchemy import create_engine\n",
    "from sqlalchemy import MetaData\n",
    "from sqlalchemy import Table\n",
    "from sqlalchemy import Column\n",
    "from sqlalchemy import Integer, String\n",
    "\n",
    "engine = create_db()\n",
    "\n",
    "meta = MetaData(engine)\n",
    "t1 = Table('Table_1', meta,\n",
    "           Column('id', Integer, primary_key=True),\n",
    "           Column('name',String))\n",
    "t2 = Table('Table_2', meta,\n",
    "           Column('id', Integer, primary_key=True),\n",
    "           Column('val',Integer))\n",
    "t1.create()"
   ]
  },
  {
   "cell_type": "code",
   "execution_count": null,
   "metadata": {
    "collapsed": true
   },
   "outputs": [],
   "source": []
  },
  {
   "cell_type": "markdown",
   "metadata": {},
   "source": [
    "## Drop a Table"
   ]
  },
  {
   "cell_type": "code",
   "execution_count": 12,
   "metadata": {},
   "outputs": [
    {
     "name": "stdout",
     "output_type": "stream",
     "text": [
      "True\n",
      "False\n"
     ]
    }
   ],
   "source": [
    "from sqlalchemy import create_engine\n",
    "from sqlalchemy import MetaData\n",
    "from sqlalchemy import inspect\n",
    "from sqlalchemy import Table\n",
    "from sqlalchemy import Column, Integer, String\n",
    "from sqlalchemy.engine.url import URL\n",
    "\n",
    "engine = create_db()\n",
    "m = MetaData()\n",
    "table = Table('Test', m,\n",
    "              Column('id', Integer, primary_key=True),\n",
    "              Column('key', String, nullable=True),\n",
    "              Column('val', String))\n",
    "\n",
    "table.create(engine)\n",
    "inspector = inspect(engine)\n",
    "print ('Test' in inspector.get_table_names())\n",
    "\n",
    "table.drop(engine)\n",
    "inspector = inspect(engine)\n",
    "print ('Test' in inspector.get_table_names())"
   ]
  },
  {
   "cell_type": "markdown",
   "metadata": {},
   "source": [
    "## SQL Expression Language"
   ]
  },
  {
   "cell_type": "code",
   "execution_count": 18,
   "metadata": {},
   "outputs": [
    {
     "name": "stdout",
     "output_type": "stream",
     "text": [
      "<sqlalchemy.sql.elements.BinaryExpression object at 0x7f766c0eb790>\n",
      "example.l_name = :l_name_1\n",
      "<sqlalchemy.sql.elements.BinaryExpression object at 0x7f766c0eb790>\n",
      "<sqlalchemy.sql.elements.BinaryExpression object at 0x7f766c0eb8d0>\n",
      "example.id > :id_1 OR example.id < :id_2\n",
      "example.id > :id_1 OR example.id < :id_2\n",
      "example.l_name IS NULL\n",
      "example.l_name IS NULL\n",
      "example.id + :id_1\n",
      "example.l_name || :l_name_1\n",
      "example.l_name IN (:l_name_1, :l_name_2)\n"
     ]
    }
   ],
   "source": [
    "# Think Column as \"ColumnElement\"\n",
    "# Implement via overwrite special function\n",
    "from sqlalchemy import MetaData\n",
    "from sqlalchemy import Table\n",
    "from sqlalchemy import Column\n",
    "from sqlalchemy import Integer, String\n",
    "from sqlalchemy import or_\n",
    "\n",
    "meta = MetaData()\n",
    "table = Table('example', meta,\n",
    "              Column('id', Integer, primary_key=True),\n",
    "              Column('l_name', String),\n",
    "              Column('f_name', String))\n",
    "# sql expression binary object\n",
    "print repr(table.c.l_name == 'ed')\n",
    "# exhbit sql expression\n",
    "print str(table.c.l_name == 'ed')\n",
    "\n",
    "print repr(table.c.f_name != 'ed')\n",
    "\n",
    "# comparison operator\n",
    "print repr(table.c.id > 3)\n",
    "\n",
    "# or expression\n",
    "print (table.c.id > 5) | (table.c.id < 2)\n",
    "# Equal to\n",
    "print or_(table.c.id > 5, table.c.id < 2)\n",
    "\n",
    "# compare to None produce IS NULL\n",
    "print (table.c.l_name == None)\n",
    "# Equal to\n",
    "print (table.c.l_name.is_(None))\n",
    "\n",
    "# + means \"addition\"\n",
    "print (table.c.id + 5)\n",
    "# or means \"string concatenation\"\n",
    "print (table.c.l_name + \"some name\")\n",
    "\n",
    "# in expression\n",
    "print (table.c.l_name.in_(['a','b']))"
   ]
  },
  {
   "cell_type": "markdown",
   "metadata": {
    "collapsed": true
   },
   "source": [
    "## insert() - Create an “INSERT” Statement"
   ]
  },
  {
   "cell_type": "code",
   "execution_count": 21,
   "metadata": {},
   "outputs": [
    {
     "data": {
      "text/plain": [
       "<sqlalchemy.engine.result.ResultProxy at 0x7ff176de8dd0>"
      ]
     },
     "execution_count": 21,
     "metadata": {},
     "output_type": "execute_result"
    }
   ],
   "source": [
    "from sqlalchemy import create_engine\n",
    "from sqlalchemy import MetaData\n",
    "from sqlalchemy import Table\n",
    "from sqlalchemy import Column\n",
    "from sqlalchemy import Integer\n",
    "from sqlalchemy import String\n",
    "\n",
    "engine = create_db()\n",
    "\n",
    "# create table\n",
    "meta = MetaData(engine)\n",
    "table = Table('user', meta,\n",
    "   Column('id', Integer, primary_key=True),\n",
    "   Column('l_name', String),\n",
    "   Column('f_name', String))\n",
    "meta.create_all()\n",
    "\n",
    "# insert data via insert() construct\n",
    "ins = table.insert().values(\n",
    "      l_name='Hello',\n",
    "      f_name='World')\n",
    "conn = engine.connect()\n",
    "conn.execute(ins)\n",
    "\n",
    "# insert multiple data\n",
    "conn.execute(table.insert(),[\n",
    "   {'l_name':'Hi','f_name':'bob'},\n",
    "   {'l_name':'yo','f_name':'alice'}])"
   ]
  },
  {
   "cell_type": "markdown",
   "metadata": {},
   "source": [
    "## Delete Rows from Table"
   ]
  },
  {
   "cell_type": "code",
   "execution_count": 20,
   "metadata": {},
   "outputs": [
    {
     "ename": "KeyError",
     "evalue": "'user'",
     "output_type": "error",
     "traceback": [
      "\u001b[0;31m---------------------------------------------------------------------------\u001b[0m",
      "\u001b[0;31mKeyError\u001b[0m                                  Traceback (most recent call last)",
      "\u001b[0;32m<ipython-input-20-a9593c1a0e78>\u001b[0m in \u001b[0;36m<module>\u001b[0;34m()\u001b[0m\n\u001b[1;32m      6\u001b[0m \u001b[0;34m\u001b[0m\u001b[0m\n\u001b[1;32m      7\u001b[0m \u001b[0mmeta\u001b[0m \u001b[0;34m=\u001b[0m \u001b[0mMetaData\u001b[0m\u001b[0;34m(\u001b[0m\u001b[0mengine\u001b[0m\u001b[0;34m)\u001b[0m\u001b[0;34m\u001b[0m\u001b[0m\n\u001b[0;32m----> 8\u001b[0;31m \u001b[0muser_t\u001b[0m \u001b[0;34m=\u001b[0m \u001b[0mmeta\u001b[0m\u001b[0;34m.\u001b[0m\u001b[0mtables\u001b[0m\u001b[0;34m[\u001b[0m\u001b[0;34m'user'\u001b[0m\u001b[0;34m]\u001b[0m\u001b[0;34m\u001b[0m\u001b[0m\n\u001b[0m\u001b[1;32m      9\u001b[0m \u001b[0;34m\u001b[0m\u001b[0m\n\u001b[1;32m     10\u001b[0m \u001b[0;31m# select * from user_t\u001b[0m\u001b[0;34m\u001b[0m\u001b[0;34m\u001b[0m\u001b[0m\n",
      "\u001b[0;31mKeyError\u001b[0m: 'user'"
     ]
    }
   ],
   "source": [
    "from sqlalchemy import create_engine\n",
    "from sqlalchemy import MetaData\n",
    "\n",
    "# engine = create_db()\n",
    "conn = engine.connect()\n",
    "\n",
    "meta = MetaData(engine)\n",
    "user_t = meta.tables['user']\n",
    "\n",
    "# select * from user_t\n",
    "sel_st = user_t.select()\n",
    "res = conn.execute(sel_st)\n",
    "for _row in res: print (_row)\n",
    "\n",
    "# delete l_name == 'Hello'\n",
    "del_st = user_t.delete().where(\n",
    "      user_t.c.l_name == 'Hello')\n",
    "print '----- delete -----'\n",
    "res = conn.execute(del_st)\n",
    "\n",
    "# check rows has been delete\n",
    "sel_st = user_t.select()\n",
    "res = conn.execute(sel_st)\n",
    "for _row in res: print (_row)"
   ]
  }
 ],
 "metadata": {
  "kernelspec": {
   "display_name": "Python 3",
   "language": "python",
   "name": "python3"
  },
  "language_info": {
   "codemirror_mode": {
    "name": "ipython",
    "version": 2
   },
   "file_extension": ".py",
   "mimetype": "text/x-python",
   "name": "python",
   "nbconvert_exporter": "python",
   "pygments_lexer": "ipython2",
   "version": "2.7.12"
  }
 },
 "nbformat": 4,
 "nbformat_minor": 2
}
