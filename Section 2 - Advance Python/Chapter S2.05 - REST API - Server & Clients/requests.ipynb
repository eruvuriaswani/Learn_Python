{
 "cells": [
  {
   "cell_type": "code",
   "execution_count": 3,
   "metadata": {
    "collapsed": true
   },
   "outputs": [],
   "source": [
    "import requests"
   ]
  },
  {
   "cell_type": "code",
   "execution_count": 2,
   "metadata": {
    "collapsed": true
   },
   "outputs": [],
   "source": [
    "endpoint = 'https://raw.githubusercontent.com/rickiepark/python-tutorial/master/tutorial-4/sample.json'\n",
    "r = requests.get(endpoint)"
   ]
  },
  {
   "cell_type": "code",
   "execution_count": 3,
   "metadata": {},
   "outputs": [
    {
     "data": {
      "text/plain": [
       "200"
      ]
     },
     "execution_count": 3,
     "metadata": {},
     "output_type": "execute_result"
    }
   ],
   "source": [
    "r.status_code"
   ]
  },
  {
   "cell_type": "code",
   "execution_count": 4,
   "metadata": {},
   "outputs": [
    {
     "data": {
      "text/plain": [
       "{'X-GitHub-Request-Id': 'B91F1230:31A5:90A3E48:584602D9', 'Access-Control-Allow-Origin': '*', 'X-Cache-Hits': '0', 'X-Cache': 'MISS', 'X-XSS-Protection': '1; mode=block', 'Content-Length': '285', 'Content-Security-Policy': \"default-src 'none'; style-src 'unsafe-inline'\", 'Expires': 'Tue, 06 Dec 2016 00:19:17 GMT', 'Via': '1.1 varnish', 'X-Geo-Block-List': '', 'Content-Encoding': 'gzip', 'X-Timer': 'S1480983257.371604,VS0,VE109', 'X-Served-By': 'cache-lcy1131-LCY', 'X-Content-Type-Options': 'nosniff', 'Connection': 'keep-alive', 'Vary': 'Authorization,Accept-Encoding', 'Cache-Control': 'max-age=300', 'Date': 'Tue, 06 Dec 2016 00:14:17 GMT', 'X-Frame-Options': 'deny', 'X-Fastly-Request-ID': '17ffdded10a3213e895e2dd2112fb72f4ae2ac49', 'Strict-Transport-Security': 'max-age=31536000', 'Content-Type': 'text/plain; charset=utf-8', 'Accept-Ranges': 'bytes', 'ETag': '\"d2ca30f0a367151e8325dce8f425b35cb93be8d9\"', 'Source-Age': '0'}"
      ]
     },
     "execution_count": 4,
     "metadata": {},
     "output_type": "execute_result"
    }
   ],
   "source": [
    "r.headers"
   ]
  },
  {
   "cell_type": "code",
   "execution_count": 5,
   "metadata": {},
   "outputs": [
    {
     "data": {
      "text/plain": [
       "'{\\n  \"data\": [{\\n    \"type\": \"articles\",\\n    \"id\": \"1\",\\n    \"attributes\": {\\n      \"title\": \"JSON API paints my bikeshed!\",\\n      \"body\": \"The shortest article. Ever.\",\\n      \"created\": \"2015-05-22T14:56:29.000Z\",\\n      \"updated\": \"2015-05-22T14:56:28.000Z\"\\n    },\\n    \"relationships\": {\\n      \"author\": {\\n        \"data\": {\"id\": \"42\", \"type\": \"people\"}\\n      }\\n    }\\n  }],\\n  \"included\": [\\n    {\\n      \"type\": \"people\",\\n      \"id\": \"42\",\\n      \"attributes\": {\\n        \"name\": \"John\",\\n        \"age\": 80,\\n        \"gender\": \"male\"\\n      }\\n    }\\n  ]\\n}'"
      ]
     },
     "execution_count": 5,
     "metadata": {},
     "output_type": "execute_result"
    }
   ],
   "source": [
    "r.text"
   ]
  },
  {
   "cell_type": "code",
   "execution_count": 6,
   "metadata": {},
   "outputs": [
    {
     "name": "stdout",
     "output_type": "stream",
     "text": [
      "<class 'dict'>\n"
     ]
    },
    {
     "data": {
      "text/plain": [
       "{'data': [{'attributes': {'body': 'The shortest article. Ever.',\n",
       "    'created': '2015-05-22T14:56:29.000Z',\n",
       "    'title': 'JSON API paints my bikeshed!',\n",
       "    'updated': '2015-05-22T14:56:28.000Z'},\n",
       "   'id': '1',\n",
       "   'relationships': {'author': {'data': {'id': '42', 'type': 'people'}}},\n",
       "   'type': 'articles'}],\n",
       " 'included': [{'attributes': {'age': 80, 'gender': 'male', 'name': 'John'},\n",
       "   'id': '42',\n",
       "   'type': 'people'}]}"
      ]
     },
     "execution_count": 6,
     "metadata": {},
     "output_type": "execute_result"
    }
   ],
   "source": [
    "obj = r.json()\n",
    "print(obj.__class__)\n",
    "obj"
   ]
  },
  {
   "cell_type": "code",
   "execution_count": 7,
   "metadata": {
    "collapsed": true
   },
   "outputs": [],
   "source": [
    "r = requests.post(endpoint, data={'key':'value'})"
   ]
  },
  {
   "cell_type": "code",
   "execution_count": 8,
   "metadata": {
    "collapsed": true
   },
   "outputs": [],
   "source": [
    "r = requests.get(endpoint, params={'key1': 'value1', 'key2': 'value2'})"
   ]
  },
  {
   "cell_type": "code",
   "execution_count": 9,
   "metadata": {},
   "outputs": [
    {
     "data": {
      "text/plain": [
       "'https://raw.githubusercontent.com/rickiepark/python-tutorial/master/tutorial-4/sample.json?key2=value2&key1=value1'"
      ]
     },
     "execution_count": 9,
     "metadata": {},
     "output_type": "execute_result"
    }
   ],
   "source": [
    "r.url"
   ]
  },
  {
   "cell_type": "code",
   "execution_count": 10,
   "metadata": {
    "collapsed": true
   },
   "outputs": [],
   "source": [
    "r = requests.get(endpoint, headers={'user-agent': 'my-app/0.0.1'})"
   ]
  },
  {
   "cell_type": "code",
   "execution_count": 4,
   "metadata": {
    "collapsed": true
   },
   "outputs": [],
   "source": [
    "r = requests.get('https://github.com', timeout=5)"
   ]
  },
  {
   "cell_type": "code",
   "execution_count": 5,
   "metadata": {},
   "outputs": [
    {
     "data": {
      "text/plain": [
       "<RequestsCookieJar[Cookie(version=0, name='logged_in', value='no', port=None, port_specified=False, domain='.github.com', domain_specified=True, domain_initial_dot=True, path='/', path_specified=True, secure=True, expires=2124987075, discard=False, comment=None, comment_url=None, rest={'HttpOnly': None}, rfc2109=False), Cookie(version=0, name='_gh_sess', value='eyJzZXNzaW9uX2lkIjoiZGZlNjNlYTY1OWFmZDQxOGZlNjQ2YjI5NjkwNzNiNWIiLCJfY3NyZl90b2tlbiI6ImlNTUs0TVhiRW9DS0V2b3Nod3VZNjhUVjdPbklpUkZBODhiTWRsS01kcW89In0%3D--3263256a585f7e6f69bc00c8343973405e2c1cb5', port=None, port_specified=False, domain='github.com', domain_specified=False, domain_initial_dot=False, path='/', path_specified=True, secure=True, expires=None, discard=True, comment=None, comment_url=None, rest={'HttpOnly': None}, rfc2109=False)]>"
      ]
     },
     "execution_count": 5,
     "metadata": {},
     "output_type": "execute_result"
    }
   ],
   "source": [
    "r.cookies"
   ]
  },
  {
   "cell_type": "code",
   "execution_count": 6,
   "metadata": {},
   "outputs": [
    {
     "data": {
      "text/plain": [
       "requests.cookies.RequestsCookieJar"
      ]
     },
     "execution_count": 6,
     "metadata": {},
     "output_type": "execute_result"
    }
   ],
   "source": [
    "r.cookies.__class__"
   ]
  },
  {
   "cell_type": "code",
   "execution_count": 9,
   "metadata": {},
   "outputs": [
    {
     "data": {
      "text/plain": [
       "'eyJzZXNzaW9uX2lkIjoiZGZlNjNlYTY1OWFmZDQxOGZlNjQ2YjI5NjkwNzNiNWIiLCJfY3NyZl90b2tlbiI6ImlNTUs0TVhiRW9DS0V2b3Nod3VZNjhUVjdPbklpUkZBODhiTWRsS01kcW89In0%3D--3263256a585f7e6f69bc00c8343973405e2c1cb5'"
      ]
     },
     "execution_count": 9,
     "metadata": {},
     "output_type": "execute_result"
    }
   ],
   "source": [
    "r.cookies['_gh_sess']"
   ]
  },
  {
   "cell_type": "code",
   "execution_count": 8,
   "metadata": {},
   "outputs": [
    {
     "data": {
      "text/plain": [
       "{'_gh_sess': 'eyJzZXNzaW9uX2lkIjoiZGZlNjNlYTY1OWFmZDQxOGZlNjQ2YjI5NjkwNzNiNWIiLCJfY3NyZl90b2tlbiI6ImlNTUs0TVhiRW9DS0V2b3Nod3VZNjhUVjdPbklpUkZBODhiTWRsS01kcW89In0%3D--3263256a585f7e6f69bc00c8343973405e2c1cb5',\n",
       " 'logged_in': 'no'}"
      ]
     },
     "execution_count": 8,
     "metadata": {},
     "output_type": "execute_result"
    }
   ],
   "source": [
    "r.cookies.get_dict()"
   ]
  },
  {
   "cell_type": "code",
   "execution_count": null,
   "metadata": {
    "collapsed": true
   },
   "outputs": [],
   "source": []
  },
  {
   "cell_type": "code",
   "execution_count": null,
   "metadata": {
    "collapsed": true
   },
   "outputs": [],
   "source": []
  }
 ],
 "metadata": {
  "kernelspec": {
   "display_name": "Python 3",
   "language": "python",
   "name": "python3"
  },
  "language_info": {
   "codemirror_mode": {
    "name": "ipython",
    "version": 2
   },
   "file_extension": ".py",
   "mimetype": "text/x-python",
   "name": "python",
   "nbconvert_exporter": "python",
   "pygments_lexer": "ipython2",
   "version": "2.7.12"
  }
 },
 "nbformat": 4,
 "nbformat_minor": 1
}
