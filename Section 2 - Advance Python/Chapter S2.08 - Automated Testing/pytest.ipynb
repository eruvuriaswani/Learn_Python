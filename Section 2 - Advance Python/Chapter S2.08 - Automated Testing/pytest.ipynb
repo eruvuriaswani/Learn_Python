{
 "cells": [
  {
   "cell_type": "markdown",
   "metadata": {},
   "source": [
    "# pytest"
   ]
  },
  {
   "cell_type": "markdown",
   "metadata": {},
   "source": [
    "The pytest framework makes it easy to write small tests, yet scales to support complex functional testing for applications and libraries.\n"
   ]
  },
  {
   "cell_type": "code",
   "execution_count": 3,
   "metadata": {
    "collapsed": true
   },
   "outputs": [],
   "source": [
    "# content of test_sample.py\n",
    "def inc(x):\n",
    "    return x + 1\n",
    "\n",
    "def test_answer():\n",
    "    assert inc(3) == 5"
   ]
  },
  {
   "cell_type": "markdown",
   "metadata": {},
   "source": [
    "## Benefits "
   ]
  },
  {
   "cell_type": "markdown",
   "metadata": {},
   "source": [
    "- Allows for compact test suites\n",
    "> The idioms that pytest first introduced brought a change in the Python community because they made it possible for test suites to be written in a very compact style, or at least far more compact than was ever possible before.\n",
    "> Pytest basically introduced the concept that Python tests should be plain Python functions instead of forcing developers to include their tests inside large test classes.\n",
    "\n",
    "- Minimal boilerplate\n",
    "> Tests written with pytest need very little boilerplate code, which makes them easy to write and understand.\n",
    "\n",
    "- Tests parametrization\n",
    "> You can parametrize any test and cover all uses of a unit without code duplication.\n",
    "\n",
    "- Very pretty and useful failure information\n",
    "> Pytest rewrites your test so that it can store all intermediate values that can lead to failing assert and provides you with very pretty explanation about what has been asserted and what have failed.\n",
    "\n",
    "- Fixtures are simple and easy to use\n",
    "> A fixture is just a function that returns a value and to use a fixture you just have to add an argument to your test function. You can also use a fixture from another fixture in the same manner, so it's easy to make them modular.\n",
    "You can also parametrize fixture and every test that uses it will run with all values of parameters, no test rewrite needed. If your test uses several fixtures, all parameters' combinations will be covered.\n",
    "\n",
    "- Pdb just works\n",
    "> Pytest `**automagically**` (and safely) disables output capturing when you're entering pdb, so you don't have to redirect debugger to other console or bear huge amount of unneeded output from other tests.\n",
    "\n",
    "- Test discovery by file-path\n",
    "\n",
    "- Over 150 plugins \n",
    "> more than 150 plugins to customise py.test such as pytest-BDD and pytest-konira for writing tests for Behaviour Driven Testing"
   ]
  },
  {
   "cell_type": "markdown",
   "metadata": {},
   "source": [
    "## Issues "
   ]
  },
  {
   "cell_type": "markdown",
   "metadata": {},
   "source": [
    "- Compatibility Issues\n",
    "> The fact that pytest uses it's own special routines to write tests means that you are trading convenience for compatibility. In other words, writing tests for pytest means that you are tying yourself to only pytest and the only way to use another testing framework is to rewrite most of the code."
   ]
  },
  {
   "cell_type": "markdown",
   "metadata": {},
   "source": [
    "## Salient Features"
   ]
  },
  {
   "cell_type": "markdown",
   "metadata": {},
   "source": [
    "- Pytest Fixtures\n",
    "- Introspect agent\n",
    "- Test parametrization\n",
    "- Pytest Markers (Custom and inbuilt)\n",
    "- Plugins"
   ]
  },
  {
   "cell_type": "markdown",
   "metadata": {},
   "source": [
    "## Usage "
   ]
  },
  {
   "cell_type": "markdown",
   "metadata": {},
   "source": [
    "pytest can be called using any of the below methods\n",
    "\n",
    "```\n",
    "python -m pytest test_file.py\n",
    "py.test test_file.py\n",
    "pytest test_folder \n",
    "pytest test_file.py\n",
    "```"
   ]
  },
  {
   "cell_type": "markdown",
   "metadata": {},
   "source": [
    "### Python Fixtures"
   ]
  },
  {
   "cell_type": "markdown",
   "metadata": {},
   "source": [
    "Fixture is one of the most important concept in pytest. They have taken the concept of setup and teardown to next level by adding many customization such as \n",
    "- Function level selection\n",
    "- Module based selection\n",
    "\n",
    "Also, they can be used to provide baseline on which tests can be repeatedly executed reliably. \n",
    "\n",
    "- Fixtures have explicit names and are activated by declaring them in test functions, modules, classes or whole projects\n",
    "- Fixtures are modular, and each fixture triggers a fixture function which can use other fixtures\n",
    "- You can choose to parametrize fixtures and tests according to configuration and component options, or to re-use fixtures across class, module or whole test session scopes"
   ]
  },
  {
   "cell_type": "markdown",
   "metadata": {},
   "source": [
    "Any method can be marked as fixture by adding `@pytest.fixture` gecorator to it."
   ]
  },
  {
   "cell_type": "code",
   "execution_count": 5,
   "metadata": {
    "collapsed": true
   },
   "outputs": [],
   "source": [
    "import pytest\n",
    "\n",
    "@pytest.fixture()\n",
    "def my_fixture():\n",
    "    print (\"This is a fixture\")\n",
    "    \n",
    "def test_my_fixture(my_fixture):\n",
    "    print (\"I'm the test\")\n"
   ]
  },
  {
   "cell_type": "code",
   "execution_count": null,
   "metadata": {
    "collapsed": true
   },
   "outputs": [],
   "source": []
  },
  {
   "cell_type": "code",
   "execution_count": 4,
   "metadata": {
    "collapsed": true
   },
   "outputs": [],
   "source": [
    "#pyfixture_1.py\n",
    "import pytest\n",
    "import pytest\n",
    "\n",
    "@pytest.fixture()\n",
    "def my_fixture():\n",
    "    print (\"This is a fixture\")\n",
    "    \n",
    "def test_my_fixture(my_fixture):\n",
    "    print (\"I'm the test\")\n",
    "\n",
    "\n",
    "@pytest.fixture\n",
    "def tester(request):\n",
    "    \"\"\"Create tester object\"\"\"\n",
    "    print(request.param)\n",
    "    return MyTester(request.param)\n",
    "\n",
    "\n",
    "class TestIt:\n",
    "    @pytest.mark.parametrize('tester', [['var1', 'var2']], indirect=True)\n",
    "    def test_tc1(self, tester):\n",
    "       tester.dothis()\n",
    "       assert 1"
   ]
  },
  {
   "cell_type": "code",
   "execution_count": null,
   "metadata": {
    "collapsed": true
   },
   "outputs": [],
   "source": []
  },
  {
   "cell_type": "code",
   "execution_count": null,
   "metadata": {
    "collapsed": true
   },
   "outputs": [],
   "source": []
  },
  {
   "cell_type": "code",
   "execution_count": null,
   "metadata": {
    "collapsed": true
   },
   "outputs": [],
   "source": []
  },
  {
   "cell_type": "markdown",
   "metadata": {},
   "source": [
    "## Specifying tests / selecting tests"
   ]
  },
  {
   "cell_type": "markdown",
   "metadata": {},
   "source": [
    "```\n",
    "pytest test_mod.py   # run tests in module\n",
    "pytest somepath      # run all tests below somepath\n",
    "pytest -k stringexpr # only run tests with names that match the\n",
    "                      # \"string expression\", e.g. \"MyClass and not method\"\n",
    "                      # will select TestMyClass.test_something\n",
    "                      # but not TestMyClass.test_method_simple\n",
    "pytest test_mod.py::test_func  # only run tests that match the \"node ID\",\n",
    "                                # e.g. \"test_mod.py::test_func\" will select\n",
    "                                # only test_func in test_mod.py\n",
    "pytest test_mod.py::TestClass::test_method  # run a single method in\n",
    "                                             # a single class\n",
    "\n",
    "```"
   ]
  },
  {
   "cell_type": "markdown",
   "metadata": {},
   "source": [
    "## Running multiple tests"
   ]
  },
  {
   "cell_type": "markdown",
   "metadata": {},
   "source": [
    "pytest will run all files in the current directory and its subdirectories of the form test_*.py or *_test.py. More generally, it follows standard test discovery rules."
   ]
  },
  {
   "cell_type": "markdown",
   "metadata": {},
   "source": [
    "> pytest somepath  "
   ]
  },
  {
   "cell_type": "markdown",
   "metadata": {},
   "source": [
    "## Asserting that a certain exception is raised"
   ]
  },
  {
   "cell_type": "code",
   "execution_count": 8,
   "metadata": {
    "collapsed": true
   },
   "outputs": [],
   "source": [
    "# content of test_sysexit.py\n",
    "import pytest\n",
    "def f():\n",
    "    raise SystemExit(1)\n",
    "\n",
    "def test_mytest():\n",
    "    with pytest.raises(SystemExit):\n",
    "        f()"
   ]
  },
  {
   "cell_type": "markdown",
   "metadata": {},
   "source": [
    "## Grouping multiple tests in a class"
   ]
  },
  {
   "cell_type": "code",
   "execution_count": 10,
   "metadata": {
    "collapsed": true
   },
   "outputs": [],
   "source": [
    "class TestClass:\n",
    "    def test_one(self):\n",
    "        x = \"this\"\n",
    "        assert 'h' in x\n",
    "\n",
    "    def test_two(self):\n",
    "        x = \"hello\"\n",
    "        assert hasattr(x, 'check')"
   ]
  },
  {
   "cell_type": "markdown",
   "metadata": {},
   "source": [
    "## Good Integration Practices"
   ]
  },
  {
   "cell_type": "markdown",
   "metadata": {},
   "source": [
    "### Conventions for Python test discovery"
   ]
  },
  {
   "cell_type": "markdown",
   "metadata": {},
   "source": [
    "pytest implements the following standard test discovery:\n",
    "\n",
    "- If no arguments are specified then collection starts from testpaths (if configured) or the current directory. Alternatively, command line arguments can be used in any combination of directories, file names or node ids.\n",
    "- Recurse into directories, unless they match norecursedirs.\n",
    "- In those directories, search for test_*.py or *_test.py files, imported by their test package name.\n",
    "- From those files, collect test items:\n",
    "    - test_ prefixed test functions or methods outside of class\n",
    "    - test_ prefixed test functions or methods inside Test prefixed test classes (without an __init__ method)\n",
    "    \n",
    "For examples of how to customize your test discovery Changing standard (Python) test discovery.\n",
    "\n",
    "Within Python modules, pytest also discovers tests using the standard unittest.TestCase subclassing technique."
   ]
  },
  {
   "cell_type": "markdown",
   "metadata": {},
   "source": [
    "### Choosing a test layout / import rules"
   ]
  },
  {
   "cell_type": "markdown",
   "metadata": {},
   "source": [
    "pytest supports two common test layouts:"
   ]
  },
  {
   "cell_type": "markdown",
   "metadata": {
    "collapsed": true
   },
   "source": [
    "#### Tests outside application code"
   ]
  },
  {
   "cell_type": "markdown",
   "metadata": {},
   "source": [
    "Putting tests into an extra directory outside your actual application code might be useful if you have many functional tests or for other reasons want to keep tests separate from actual application code (often a good idea):\n",
    "\n",
    "```\n",
    "setup.py\n",
    "mypkg/\n",
    "    __init__.py\n",
    "    app.py\n",
    "    view.py\n",
    "tests/\n",
    "    test_app.py\n",
    "    test_view.py\n",
    "    ...```"
   ]
  },
  {
   "cell_type": "markdown",
   "metadata": {},
   "source": [
    "If you need to have test modules with the same name, you might add __init__.py files to your tests folder and subfolders, changing them to packages:\n",
    "```\n",
    "setup.py\n",
    "mypkg/\n",
    "    ...\n",
    "tests/\n",
    "    __init__.py\n",
    "    foo/\n",
    "        __init__.py\n",
    "        test_view.py\n",
    "    bar/\n",
    "        __init__.py\n",
    "        test_view.py```"
   ]
  },
  {
   "cell_type": "markdown",
   "metadata": {},
   "source": [
    "In this situation, it is strongly suggested to use a src layout where application root package resides in a sub-directory of your root:\n",
    "```\n",
    "setup.py\n",
    "src/\n",
    "    mypkg/\n",
    "        __init__.py\n",
    "        app.py\n",
    "        view.py\n",
    "tests/\n",
    "    __init__.py\n",
    "    foo/\n",
    "        __init__.py\n",
    "        test_view.py\n",
    "    bar/\n",
    "        __init__.py\n",
    "        test_view.py\n",
    "```"
   ]
  },
  {
   "cell_type": "markdown",
   "metadata": {},
   "source": [
    "#### Tests as part of application code\n",
    "\n",
    "Inlining test directories into your application package is useful if you have direct relation between tests and application modules and want to distribute them along with your application:\n",
    "```\n",
    "setup.py\n",
    "mypkg/\n",
    "    __init__.py\n",
    "    app.py\n",
    "    view.py\n",
    "    test/\n",
    "        __init__.py\n",
    "        test_app.py\n",
    "        test_view.py\n",
    "        ...\n",
    "```\n"
   ]
  },
  {
   "cell_type": "markdown",
   "metadata": {},
   "source": [
    "In this scheme, it is easy to your run tests using the --pyargs option:\n",
    "\n",
    "```pytest --pyargs mypkg```\n",
    "\n",
    "pytest will discover where mypkg is installed and collect tests from there.\n",
    "\n",
    "Note that this layout also works in conjunction with the src layout mentioned in the previous section."
   ]
  },
  {
   "cell_type": "code",
   "execution_count": null,
   "metadata": {
    "collapsed": true
   },
   "outputs": [],
   "source": []
  },
  {
   "cell_type": "code",
   "execution_count": null,
   "metadata": {
    "collapsed": true
   },
   "outputs": [],
   "source": []
  },
  {
   "cell_type": "markdown",
   "metadata": {
    "collapsed": true
   },
   "source": [
    "## Calling pytest from Python code"
   ]
  },
  {
   "cell_type": "markdown",
   "metadata": {},
   "source": [
    "You can invoke pytest from Python code directly:"
   ]
  },
  {
   "cell_type": "code",
   "execution_count": null,
   "metadata": {
    "collapsed": true
   },
   "outputs": [],
   "source": [
    "pytest.main()"
   ]
  },
  {
   "cell_type": "markdown",
   "metadata": {},
   "source": [
    "this acts as if you would call “pytest” from the command line. It will not raise SystemExit but return the exitcode instead. You can pass in options and arguments:"
   ]
  },
  {
   "cell_type": "code",
   "execution_count": null,
   "metadata": {
    "collapsed": true
   },
   "outputs": [],
   "source": [
    "pytest.main(['-x', 'mytestdir'])"
   ]
  }
 ],
 "metadata": {
  "kernelspec": {
   "display_name": "Python 3",
   "language": "python",
   "name": "python3"
  },
  "language_info": {
   "codemirror_mode": {
    "name": "ipython",
    "version": 2
   },
   "file_extension": ".py",
   "mimetype": "text/x-python",
   "name": "python",
   "nbconvert_exporter": "python",
   "pygments_lexer": "ipython2",
   "version": "2.7.12"
  }
 },
 "nbformat": 4,
 "nbformat_minor": 2
}
