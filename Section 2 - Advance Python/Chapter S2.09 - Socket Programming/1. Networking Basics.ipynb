{
 "cells": [
  {
   "cell_type": "markdown",
   "metadata": {
    "deletable": true,
    "editable": true
   },
   "source": [
    "# Networking Basics \n",
    "---"
   ]
  },
  {
   "cell_type": "markdown",
   "metadata": {
    "deletable": true,
    "editable": true
   },
   "source": [
    "## What is Networking?"
   ]
  },
  {
   "cell_type": "markdown",
   "metadata": {
    "deletable": true,
    "editable": true
   },
   "source": [
    "Networking is the practice of connecting multiple computing devices (such as computers {desktops, laptops and severs}, printers, data devices {NFS Servers}, sensors {remote sensing devices, GPS} etc) together in order to share resources.\n",
    "\n",
    "Two endpoints are minimum, to create a network, as shown in the diagram below."
   ]
  },
  {
   "cell_type": "markdown",
   "metadata": {
    "collapsed": true,
    "deletable": true,
    "editable": true,
    "format": "row"
   },
   "source": [
    "<img src=\"files/BasicNetwork_1.svgz\" alt=\"BasicNetwork_1.png\" style=\"width: 400px;\"/>"
   ]
  },
  {
   "cell_type": "markdown",
   "metadata": {
    "deletable": true,
    "editable": true
   },
   "source": [
    "In the above diagram D1 & D2 are networked devices and red arrow is the networking medium. Multiple methods are used to create network such as cables, satellites, radio waves, infrared beams etc."
   ]
  },
  {
   "cell_type": "markdown",
   "metadata": {
    "deletable": true,
    "editable": true
   },
   "source": [
    "## Network Types"
   ]
  },
  {
   "cell_type": "markdown",
   "metadata": {
    "deletable": true,
    "editable": true
   },
   "source": [
    "There are many types of networks available, most commonly employed networks are LAN, MAN & WAN.\n",
    "\n",
    "* Local Area Network (LAN): These networks are used to connect devices over relatively short distances, such as within a building, school, or home. LAN's generally employ Ethernet cables or WIFI as a means of connecting the various devices within the network.\n",
    "\n",
    "* Metropolitan Area Networks (MANs): These networks cover larger areas than LANs but smaller areas than WANs. These MANs generally span a city and are owned and operated by a government or corporations.\n",
    "\n",
    "* Wide Area Network (WAN): These networks are used to connect devices over much larger distances than LANs. A WAN is established by using routers to connect various LANs and are generally not owned by a single person or organization. Internet is one such massive WAN which covers the entire planet & satellites."
   ]
  }
 ],
 "metadata": {
  "kernelspec": {
   "display_name": "Python 3",
   "language": "python",
   "name": "python3"
  },
  "language_info": {
   "codemirror_mode": {
    "name": "ipython",
    "version": 3
   },
   "file_extension": ".py",
   "mimetype": "text/x-python",
   "name": "python",
   "nbconvert_exporter": "python",
   "pygments_lexer": "ipython3",
   "version": "3.4.6"
  }
 },
 "nbformat": 4,
 "nbformat_minor": 2
}
