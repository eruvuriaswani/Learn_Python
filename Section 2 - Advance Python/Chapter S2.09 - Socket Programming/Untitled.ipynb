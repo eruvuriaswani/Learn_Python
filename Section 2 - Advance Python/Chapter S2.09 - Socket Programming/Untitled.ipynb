{
 "cells": [
  {
   "cell_type": "markdown",
   "metadata": {},
   "source": [
    "# 2. Socket Programming in Python \n",
    "---"
   ]
  },
  {
   "cell_type": "markdown",
   "metadata": {},
   "source": [
    "Python provides support for both connection-oriented and connectionless protocols using low level sockets.\n",
    "\n",
    "It also has libraries that provide higher-level access to specific application-level network protocols, such as FTP, HTTP & EMAIL etc."
   ]
  },
  {
   "cell_type": "markdown",
   "metadata": {},
   "source": [
    "## What is Sockets?\n",
    "-----"
   ]
  },
  {
   "cell_type": "markdown",
   "metadata": {},
   "source": [
    "Sockets are the endpoints of a bidirectional communications channel. Sockets may communicate within a process, between processes on the same machine, or between processes on different continents.\n",
    "\n",
    "Sockets may be implemented over a number of different channel types: Unix domain sockets, TCP, UDP, and so on. The socket library provides specific classes for handling the common transports as well as a generic interface for handling the rest."
   ]
  },
  {
   "cell_type": "markdown",
   "metadata": {},
   "source": [
    "### The socket Module"
   ]
  },
  {
   "cell_type": "markdown",
   "metadata": {},
   "source": [
    "To create a socket, you must use the socket.socket() function available in socket module, which has the general syntax −"
   ]
  },
  {
   "cell_type": "markdown",
   "metadata": {},
   "source": [
    "```python\n",
    "s = socket.socket (socket_family, socket_type, protocol=0)\n",
    "```"
   ]
  },
  {
   "cell_type": "markdown",
   "metadata": {},
   "source": [
    "socket_family: This is either AF_UNIX or AF_INET"
   ]
  },
  {
   "cell_type": "markdown",
   "metadata": {},
   "source": [
    "socket_type: This is either SOCK_STREAM or SOCK_DGRAM."
   ]
  },
  {
   "cell_type": "markdown",
   "metadata": {},
   "source": [
    "#### Server Socket Methods"
   ]
  },
  {
   "cell_type": "markdown",
   "metadata": {},
   "source": [
    "| Method | Description |\n",
    "|--------|-------------|\n",
    "| s.bind() |\tThis method binds address (hostname, port number pair) to socket.| \n",
    "| s.listen()\t| This method sets up and start TCP listener.| \n",
    "| s.accept()| \tThis passively accept TCP client connection, waiting until connection arrives (blocking).| "
   ]
  },
  {
   "cell_type": "markdown",
   "metadata": {},
   "source": [
    "#### Client Socket Methods"
   ]
  },
  {
   "cell_type": "markdown",
   "metadata": {},
   "source": [
    "|Method\t    | Description |\n",
    "|-----------|-------------|\n",
    "|s.connect() |\tThis method actively initiates TCP server connection. |"
   ]
  },
  {
   "cell_type": "markdown",
   "metadata": {},
   "source": [
    "#### General Socket Methods"
   ]
  },
  {
   "cell_type": "markdown",
   "metadata": {},
   "source": [
    "| Method\t| Description| \n",
    "|-----------|------------|\n",
    "| s.recv()\t| This method receives TCP message| \n",
    "| s.send()\t| This method transmits TCP message| \n",
    "| s.recvfrom()\t| This method receives UDP message| \n",
    "| s.sendto()\t| This method transmits UDP message| \n",
    "| s.close()\t| This method closes socket| \n",
    "| socket.gethostname()\t| Returns the hostname.| "
   ]
  }
 ],
 "metadata": {
  "kernelspec": {
   "display_name": "Python 3",
   "language": "python",
   "name": "python3"
  },
  "language_info": {
   "codemirror_mode": {
    "name": "ipython",
    "version": 3
   },
   "file_extension": ".py",
   "mimetype": "text/x-python",
   "name": "python",
   "nbconvert_exporter": "python",
   "pygments_lexer": "ipython3",
   "version": "3.4.6"
  }
 },
 "nbformat": 4,
 "nbformat_minor": 2
}
