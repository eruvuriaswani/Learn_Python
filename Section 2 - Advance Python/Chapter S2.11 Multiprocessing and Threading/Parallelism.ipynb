{
 "cells": [
  {
   "cell_type": "markdown",
   "metadata": {},
   "source": [
    "## Introducing: Map"
   ]
  },
  {
   "cell_type": "markdown",
   "metadata": {},
   "source": [
    "Map can be used to easily achieve parallelism and we have already covered it in functional programming. For those who have not read it; It is a function which maps another function over a sequence\n",
    "\n",
    "It basically provides kind of parallelism by calling the requested function over all elements in a list/array or in other words, Map applies a function to all the items in the given list and returns a new list.\n",
    "\n",
    "It takes a function and a collection of items as parameters and makes a new, empty collection, runs the function on each item in the original collection and inserts each return value into the new collection. It then returns the updated collection.\n",
    "\n",
    "This is a simple map that takes a list of names and returns a list of the lengths of those names"
   ]
  },
  {
   "cell_type": "code",
   "execution_count": 1,
   "metadata": {},
   "outputs": [
    {
     "name": "stdout",
     "output_type": "stream",
     "text": [
      "(6, 5, 6, 5)\n",
      "[36, 25, 36, 25]\n"
     ]
    }
   ],
   "source": [
    "names =  (\"Manish\", \"Aalok\", \"Mayank\",\"Durga\")\n",
    "\n",
    "lst = tuple(map(len, names))\n",
    "print(lst)\n",
    "\n",
    "# This is a map that squares every number in the passed collection:\n",
    "power = map(lambda x: x*x, lst)\n",
    "print(list(power))"
   ]
  },
  {
   "cell_type": "markdown",
   "metadata": {},
   "source": [
    "## Multiprocessing"
   ]
  },
  {
   "cell_type": "code",
   "execution_count": 3,
   "metadata": {
    "collapsed": true
   },
   "outputs": [],
   "source": [
    "from multiprocessing import Pool\n",
    "from multiprocessing.dummy import Pool as ThreadPool \n",
    "\n",
    "# Initialize the pool, uses \n",
    "pool = ThreadPool() "
   ]
  },
  {
   "cell_type": "code",
   "execution_count": 13,
   "metadata": {},
   "outputs": [
    {
     "data": {
      "text/plain": [
       "4"
      ]
     },
     "execution_count": 13,
     "metadata": {},
     "output_type": "execute_result"
    }
   ],
   "source": [
    "import multiprocessing\n",
    "multiprocessing.cpu_count()"
   ]
  },
  {
   "cell_type": "code",
   "execution_count": 4,
   "metadata": {
    "collapsed": true
   },
   "outputs": [],
   "source": [
    "# Sets the pool size to 4, \n",
    "# Play around the value till you get the most optimised value\n",
    "# in this case ThreadPool() is equivalent to ThreadPool(4)\n",
    "pool = ThreadPool(4)"
   ]
  },
  {
   "cell_type": "code",
   "execution_count": 20,
   "metadata": {},
   "outputs": [
    {
     "name": "stdout",
     "output_type": "stream",
     "text": [
      "[<http.client.HTTPResponse object at 0x000001C2650459E8>, <http.client.HTTPResponse object at 0x000001C26400B748>, <http.client.HTTPResponse object at 0x000001C26404EF60>, <http.client.HTTPResponse object at 0x000001C26404EC50>, <http.client.HTTPResponse object at 0x000001C26403A6A0>, <http.client.HTTPResponse object at 0x000001C263DBA400>, <http.client.HTTPResponse object at 0x000001C264057C50>, <http.client.HTTPResponse object at 0x000001C264057BA8>, <http.client.HTTPResponse object at 0x000001C26400B588>, <http.client.HTTPResponse object at 0x000001C264057780>, <http.client.HTTPResponse object at 0x000001C265061048>, <http.client.HTTPResponse object at 0x000001C26504A358>, <http.client.HTTPResponse object at 0x000001C26504A7B8>]\n"
     ]
    }
   ],
   "source": [
    "from urllib.request import urlopen\n",
    "from multiprocessing.dummy import Pool as ThreadPool \n",
    "\n",
    "urls = [\n",
    "  'http://www.python.org', \n",
    "  'http://www.python.org/about/',\n",
    "  'http://www.onlamp.com/pub/a/python/2003/04/17/metaclasses.html',\n",
    "  'http://www.python.org/doc/',\n",
    "  'http://www.python.org/download/',\n",
    "  'http://www.python.org/getit/',\n",
    "  'http://www.python.org/community/',\n",
    "  'https://wiki.python.org/moin/',\n",
    "  'http://planet.python.org/',\n",
    "  'https://wiki.python.org/moin/LocalUserGroups',\n",
    "  'http://www.python.org/psf/',\n",
    "  'http://docs.python.org/devguide/',\n",
    "  'http://www.python.org/community/awards/'\n",
    "  ]\n",
    "\n",
    "# Make the Pool of workers\n",
    "pool = ThreadPool(10) \n",
    "# Open the urls in their own threads\n",
    "# and return the results\n",
    "results = pool.map(urlopen, urls)\n",
    "#close the pool and wait for the work to finish \n",
    "pool.close() \n",
    "pool.join() \n",
    "print(results)"
   ]
  },
  {
   "cell_type": "markdown",
   "metadata": {},
   "source": [
    "### Communication between the processes"
   ]
  },
  {
   "cell_type": "markdown",
   "metadata": {},
   "source": [
    "Running a computation in multiple processes requires some communication between these processes. One of the nice aspects of multiprocessing in Python is that most of the time you do not need to know how this communication is handled: it just works. However, it is useful to understand the basics of this mechanism in order to figure out how to solve two kinds of problems: unexpected errors, and bad performance.\n",
    "\n",
    "Communication between processes takes the form of streams of bytes that travel through specific communication channels. To send an object from one process to another, Python has to convert it to a stream of bytes, and assemble the object back at the receiving end. Python's mechanism for doing these conversions was originally designed for storing objects in files and is implemented in the pickle module. Every argument that is passed to a Python function running in another process is pickled and then unpickled. The result of the function undergoes the same process on its way back.\n",
    "\n",
    "There are two things you need to know about pickle in the context of multiprocessing. First, most objects can be pickled but some cannot. Second, pickling and unpickling take time and can sometimes add considerable overhead to your multiprocessing.\n",
    "\n",
    "The objects that cannot be pickled come in two varieties: those for which pickling does not make sense, and those for which it has simply not been implemented. A good example for the first category is file objects. The second category contains mainly object types defined in extension modules whose authors didn't implement pickling. If you use an old release of NumPy, you may discover that its array-aware functions are not picklable, making it impossible to use such a function directly as a task in multiprocessing. For Python's built-in objects, there is one important restriction that is due to the implementation details of pickle: functions and classes can only be pickled if they are defined at the top level of a module. This means, for example, that if you define a function inside another function, you cannot pickle it and thus not pass it to a multiprocessing task.\n",
    "\n",
    "The performance implications of pickling are rather obvious: you should try to pass as few arguments as possible to your tasks, and make sure you pass no more data than you really need to. For example, rather than passing a huge list and the index of the item that your taks is supposed to process, you should pass only that item."
   ]
  },
  {
   "cell_type": "markdown",
   "metadata": {},
   "source": [
    "### Key Points"
   ]
  },
  {
   "cell_type": "markdown",
   "metadata": {},
   "source": [
    "- CPU multi-processing is a parallel programming technique that can harness the power of modern computers to help you perform more tasks more quickly.\n",
    "- The Python multiprocessing library allows you to create a pool of workers to carry out tasks in parallel\n",
    "- Tasks are easy to describe using Python functions\n",
    "- Care needs to be taken when executing code in parallel environments to avoid strange program behavior and wrong computations\n",
    "- You can combine results from individual tasks allowing each worker to share in the computational load\n",
    "- It is important to use profiling before optimizing computer programs\n",
    "- Metrics such as speedup and efficiency aid in evaluating the performance and utility of parallel programs"
   ]
  },
  {
   "cell_type": "markdown",
   "metadata": {},
   "source": [
    "*** Original Document: https://philipwfowler.github.io/2015-01-13-oxford/intermediate/python/04-multiprocessing.html ***"
   ]
  },
  {
   "cell_type": "markdown",
   "metadata": {},
   "source": [
    "## Threading Vs Parallelism"
   ]
  },
  {
   "cell_type": "markdown",
   "metadata": {},
   "source": [
    "The threading module uses threads, the multiprocessing module uses processes. The difference is that threads run in the same memory space, while processes have separate memory. This makes it a bit harder to share objects between processes with multiprocessing. Since threads use the same memory, precautions have to be taken or two threads will write to the same memory at the same time. This is what the global interpreter lock is for.\n",
    "\n",
    "Spawning processes is a bit slower than spawning threads. Once they are running, there is not much difference."
   ]
  },
  {
   "cell_type": "markdown",
   "metadata": {},
   "source": [
    "### Pros"
   ]
  },
  {
   "cell_type": "markdown",
   "metadata": {},
   "source": [
    "| Threading                                                                      | Parallelism                                                                                                                                |\n",
    "|--------------------------------------------------------------------------------|--------------------------------------------------------------------------------------------------------------------------------------------|\n",
    "| Lightweight - low memory footprint                                             | Separate memory space                                                                                                                      |\n",
    "| Shared memory - makes access to state from another context easier              | Code is usually straightforward                                                                                                            |\n",
    "| Allows you to easily make responsive UIs                                       | Takes advantage of multiple CPUs & cores                                                                                                   |\n",
    "| cPython C extension modules that properly release the GIL will run in parallel | Avoids GIL limitations for cPython                                                                                                         |\n",
    "| Great option for I/O-bound applications                                        | Eliminates most needs for synchronization primitives unless if you use shared memory (instead, it's more of a communication model for IPC) |\n",
    "|                                                                                | Child processes are interruptible/killable                                                                                                 |\n",
    "|                                                                                | Python multiprocessing module includes useful abstractions with an interface much like threading.Thread                                    |\n",
    "|                                                                                | A must with cPython for CPU-bound processing                                                                                               |"
   ]
  },
  {
   "cell_type": "markdown",
   "metadata": {},
   "source": [
    "### Cons"
   ]
  },
  {
   "cell_type": "markdown",
   "metadata": {},
   "source": [
    "| Threading                                                                                                                                                                                            | Parallelism                                                                                      |\n",
    "|------------------------------------------------------------------------------------------------------------------------------------------------------------------------------------------------------|--------------------------------------------------------------------------------------------------|\n",
    "| cPython - subject to the GIL                                                                                                                                                                         | IPC a little more complicated with more overhead (communication model vs. shared memory/objects) |\n",
    "| Not interruptible/killable                                                                                                                                                                           | Larger memory footprint                                                                          |\n",
    "| If not following a command queue/message pump model (using the Queue module), then manual use of synchronization primitives become a necessity (decisions are needed for the granularity of locking) |                                                                                                  |\n",
    "| Code is usually harder to understand and to get right - the potential for race conditions increases dramatically                                                                                     |                                                                                                  |"
   ]
  }
 ],
 "metadata": {
  "kernelspec": {
   "display_name": "Python 3",
   "language": "python",
   "name": "python3"
  },
  "language_info": {
   "codemirror_mode": {
    "name": "ipython",
    "version": 2
   },
   "file_extension": ".py",
   "mimetype": "text/x-python",
   "name": "python",
   "nbconvert_exporter": "python",
   "pygments_lexer": "ipython2",
   "version": "2.7.12"
  }
 },
 "nbformat": 4,
 "nbformat_minor": 2
}
