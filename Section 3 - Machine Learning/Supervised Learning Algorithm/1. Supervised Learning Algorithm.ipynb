{
 "cells": [
  {
   "cell_type": "markdown",
   "metadata": {},
   "source": [
    "# 1. Supervised Learning Algorithm"
   ]
  },
  {
   "cell_type": "markdown",
   "metadata": {},
   "source": [
    "## 1.1 Introduction"
   ]
  },
  {
   "cell_type": "markdown",
   "metadata": {},
   "source": [
    "Supervised learning is concluding a requirement using labeled training data. The training data consist of training examples using which the model is trainied. \n",
    "\n",
    "In supervised learning, every example consisting of an input object (typically a vector) and a desired output value (also called the supervisory signal). It analyzes the training set data and produces an inferred function, which can be used for mapping new examples. \n",
    "\n",
    "An optimal scenario will allow for the algorithm to correctly determine the class labels for unseen instances. This requires the learning algorithm to generalize from the training data to unseen situations in a \"reasonable\" way."
   ]
  },
  {
   "cell_type": "markdown",
   "metadata": {},
   "source": [
    "A large number of supervised learning algorithms are available in the market, each specific for a specific problem in mind thus they have their strengths and weaknesses. \n",
    "\n",
    "We can not use a single learning algorithm to solve all our supervised learning problems. "
   ]
  },
  {
   "cell_type": "markdown",
   "metadata": {},
   "source": [
    "## 1.2 Regression Analysis"
   ]
  },
  {
   "cell_type": "markdown",
   "metadata": {},
   "source": [
    "It is a form of predictive modelling technique which investigates the relationship between a dependent and independent variable(s). \n",
    "\n",
    "This technique can be used for \n",
    "\n",
    "- forecasting, \n",
    "- time series modelling\n",
    "- finding the causal effect relationship.\n",
    "\n",
    "Regression analysis is an important tool for modelling and analyzing data. Here, curve or line are used to analyse the features of the provided data points, in such a manner that the differences between the distances of data points from the curve or line is minimized."
   ]
  },
  {
   "cell_type": "markdown",
   "metadata": {},
   "source": [
    "Major Algorithms for regression analysis are as follows "
   ]
  },
  {
   "cell_type": "markdown",
   "metadata": {},
   "source": [
    "- Linear Regression\n",
    "- Logistic Regression\n",
    "- Polynomial Regression\n",
    "- Stepwise Regression\n",
    "- Ridge Regression\n",
    "- Lasso Regression\n",
    "- ElasticNet Regression"
   ]
  },
  {
   "cell_type": "markdown",
   "metadata": {},
   "source": [
    "## 1.3 Classification"
   ]
  }
 ],
 "metadata": {
  "kernelspec": {
   "display_name": "Python 3",
   "language": "python",
   "name": "python3"
  },
  "language_info": {
   "codemirror_mode": {
    "name": "ipython",
    "version": 3
   },
   "file_extension": ".py",
   "mimetype": "text/x-python",
   "name": "python",
   "nbconvert_exporter": "python",
   "pygments_lexer": "ipython3",
   "version": "3.6.0"
  }
 },
 "nbformat": 4,
 "nbformat_minor": 2
}
